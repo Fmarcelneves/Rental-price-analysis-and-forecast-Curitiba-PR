{
  "nbformat": 4,
  "nbformat_minor": 0,
  "metadata": {
    "colab": {
      "name": "Data_collection_Curitiba_rent_January_2021.ipynb",
      "provenance": [],
      "collapsed_sections": [],
      "toc_visible": true,
      "authorship_tag": "ABX9TyNKC9/oGcCLuhyMjQPtnOCV",
      "include_colab_link": true
    },
    "kernelspec": {
      "name": "python3",
      "display_name": "Python 3"
    }
  },
  "cells": [
    {
      "cell_type": "markdown",
      "metadata": {
        "id": "view-in-github",
        "colab_type": "text"
      },
      "source": [
        "<a href=\"https://colab.research.google.com/github/fmarcelneves/Rental-price-analysis-and-forecast-Curitiba-PR/blob/main/Data_collection_Curitiba_rent_January_2021.ipynb\" target=\"_parent\"><img src=\"https://colab.research.google.com/assets/colab-badge.svg\" alt=\"Open In Colab\"/></a>"
      ]
    },
    {
      "cell_type": "markdown",
      "metadata": {
        "id": "YsIzk6rPIkG4"
      },
      "source": [
        "## Importing packages "
      ]
    },
    {
      "cell_type": "code",
      "metadata": {
        "id": "33yrKcPpzZr9"
      },
      "source": [
        "#import packages\n",
        "import requests\n",
        "from bs4 import BeautifulSoup\n",
        "import re\n",
        "import pandas as pd\n",
        "import numpy as np\n",
        "from time import sleep"
      ],
      "execution_count": null,
      "outputs": []
    },
    {
      "cell_type": "markdown",
      "metadata": {
        "id": "x6xwHqsDJMvf"
      },
      "source": [
        "## Preparing data extraction"
      ]
    },
    {
      "cell_type": "markdown",
      "metadata": {
        "id": "MxoYfajEIomH"
      },
      "source": [
        "Selecting neighborhoods and pages to extract data "
      ]
    },
    {
      "cell_type": "code",
      "metadata": {
        "id": "KzHW8SJ0vrgZ"
      },
      "source": [
        "# first 6 pages from the website\n",
        "paginas = ['']#'_Desde_49', '_Desde_97', '_Desde_145', '_Desde_193', '_Desde_241']\n",
        "bairros = ['Abranches', 'Ahu', 'Alto-Boqueirao', 'Alto-da-Gloria', 'Alto-da-Rua-XV', 'Atuba', \n",
        "           'Bacacheri', 'Bairro-Alto', 'Batel', 'Bigorrilho', 'Bom-Retiro', 'Boqueirao', 'Butiatuvinha',\n",
        "           'Cabral', 'Cachoeira', 'Cajuru', 'Campina-do-Siqueira', 'Campo-Comprido', 'Campo-de-Santana', 'Capao-Raso', 'Capao-da-Imbuia',\n",
        "           'Cascatinha','Centro', 'Centro-Civico', 'Champagnat', 'Cidade-Industrial', 'Cristo-Rei', 'Fanny', 'Fazendinha',\n",
        "           'Guabirotuba', 'Guaira', 'Hauer', 'Hugo-Lange', 'Jardim-Botanico', 'Jardim-das-Americas', 'Jardim-Social', 'Juveve',\n",
        "           'Lindoia', 'Merces', 'Mossungue', 'Novo-Mundo', 'Orleans', 'Parolin', 'Pilarzinho', 'Pinheirinho', 'Portao', 'Prado-Velho',\n",
        "           'Reboucas', 'Santa-Candida', 'Santa-Felicidade', 'Santa-Quiteria', 'Santo-Inacio', 'Seminario', 'Sao-Lourenco', 'Sao-Braz', 'Sao-Francisco', 'Sitio-Cercado',\n",
        "           'Taruma', 'Tatuquara', 'Tingui', 'Uberaba', 'Umbara', 'Vila-Izabel', 'Vista-Alegre', 'Xaxim', 'Agua-Verde']"
      ],
      "execution_count": null,
      "outputs": []
    },
    {
      "cell_type": "markdown",
      "metadata": {
        "id": "znx64-cvIuTf"
      },
      "source": [
        "Creating function to extract data "
      ]
    },
    {
      "cell_type": "code",
      "metadata": {
        "id": "iTRvvBLBTsf9"
      },
      "source": [
        "def coleta_dados(url, bairro):\n",
        "  conteudo = requests.get(url).content\n",
        "  sopa = BeautifulSoup(conteudo)\n",
        "\n",
        "  lista_precos = []\n",
        "  lista_areas_quartos = []\n",
        "  lista_quartos = []\n",
        "  lista_dimensoes = []\n",
        "  lista_bairros = []\n",
        "\n",
        "  re_quartos = '(.) quarto|quartos'\n",
        "  re_dimensoes = '(.*) m²'\n",
        "\n",
        "  precos = sopa.find_all('span', class_='price-tag-fraction')\n",
        "  dimensoes_e_quartos = sopa.find_all('ul', class_='ui-search-card-attributes ui-search-item__group__element')\n",
        "\n",
        "  for elemento in precos:\n",
        "     preco = re.findall('<span class=\"price-tag-fraction\">(.*)</span>', str(elemento))\n",
        "     lista_precos.append(float(preco[0].replace('.','')))\n",
        "\n",
        "  for elemento in dimensoes_e_quartos:\n",
        "      lista_areas_quartos.append(elemento.text)\n",
        "\n",
        "  for elemento in lista_areas_quartos:\n",
        "    quarto = re.findall(re_quartos, str(elemento))\n",
        "    dimensao = re.findall(re_dimensoes, str(elemento))\n",
        "\n",
        "    if quarto == []:\n",
        "      quarto = np.nan\n",
        "    else:\n",
        "      quarto = quarto[0]\n",
        "\n",
        "    if dimensao == []:\n",
        "      dimensao = np.nan\n",
        "    else:\n",
        "      dimensao = dimensao[0]\n",
        " \n",
        "      lista_quartos.append(quarto)\n",
        "      lista_dimensoes.append(dimensao)\n",
        "      lista_bairros.append(bairro)\n",
        "\n",
        "  series_bairros = pd.Series(lista_bairros, name = 'bairro')\n",
        "  series_precos = pd.Series(lista_precos, name = 'precos')\n",
        "  series_quartos = pd.Series(lista_quartos, name = 'quartos')\n",
        "  series_dimensoes = pd.Series(lista_dimensoes, name = 'dimensao')\n",
        "\n",
        "  dados = {'bairro': series_bairros,\n",
        "           'precos': series_precos,\n",
        "           'quartos': series_quartos,\n",
        "           'areas': series_dimensoes}\n",
        "\n",
        "  df = pd.DataFrame(dados)\n",
        "  return df"
      ],
      "execution_count": null,
      "outputs": []
    },
    {
      "cell_type": "markdown",
      "metadata": {
        "id": "hevf2mnsIat4"
      },
      "source": [
        "## Apartment rent code "
      ]
    },
    {
      "cell_type": "code",
      "metadata": {
        "id": "4Hzu0aXKx0sl",
        "colab": {
          "base_uri": "https://localhost:8080/"
        },
        "outputId": "38eb00b2-b305-4bec-db4f-15446cf93f38"
      },
      "source": [
        "lista_dfs = []\n",
        "\n",
        "for bairro in bairros:\n",
        "  for pagina in paginas:\n",
        "    url = f'https://imoveis.mercadolivre.com.br/apartamentos/aluguel/parana/curitiba/{bairro}/{pagina}'\n",
        "    print('Coletando dados de', url)\n",
        "    df = coleta_dados(url, bairro)\n",
        "    lista_dfs.append(df)\n",
        "    sleep(2)\n",
        "print('Dados coletados!')"
      ],
      "execution_count": null,
      "outputs": [
        {
          "output_type": "stream",
          "text": [
            "Coletando dados de https://imoveis.mercadolivre.com.br/apartamentos/aluguel/parana/curitiba/Abranches/\n",
            "Coletando dados de https://imoveis.mercadolivre.com.br/apartamentos/aluguel/parana/curitiba/Ahu/\n",
            "Coletando dados de https://imoveis.mercadolivre.com.br/apartamentos/aluguel/parana/curitiba/Alto-Boqueirao/\n",
            "Coletando dados de https://imoveis.mercadolivre.com.br/apartamentos/aluguel/parana/curitiba/Alto-da-Gloria/\n",
            "Coletando dados de https://imoveis.mercadolivre.com.br/apartamentos/aluguel/parana/curitiba/Alto-da-Rua-XV/\n",
            "Coletando dados de https://imoveis.mercadolivre.com.br/apartamentos/aluguel/parana/curitiba/Atuba/\n",
            "Coletando dados de https://imoveis.mercadolivre.com.br/apartamentos/aluguel/parana/curitiba/Bacacheri/\n",
            "Coletando dados de https://imoveis.mercadolivre.com.br/apartamentos/aluguel/parana/curitiba/Bairro-Alto/\n",
            "Coletando dados de https://imoveis.mercadolivre.com.br/apartamentos/aluguel/parana/curitiba/Batel/\n",
            "Coletando dados de https://imoveis.mercadolivre.com.br/apartamentos/aluguel/parana/curitiba/Bigorrilho/\n",
            "Coletando dados de https://imoveis.mercadolivre.com.br/apartamentos/aluguel/parana/curitiba/Bom-Retiro/\n",
            "Coletando dados de https://imoveis.mercadolivre.com.br/apartamentos/aluguel/parana/curitiba/Boqueirao/\n",
            "Coletando dados de https://imoveis.mercadolivre.com.br/apartamentos/aluguel/parana/curitiba/Butiatuvinha/\n"
          ],
          "name": "stdout"
        },
        {
          "output_type": "stream",
          "text": [
            "/usr/local/lib/python3.6/dist-packages/ipykernel_launcher.py:42: DeprecationWarning: The default dtype for empty Series will be 'object' instead of 'float64' in a future version. Specify a dtype explicitly to silence this warning.\n",
            "/usr/local/lib/python3.6/dist-packages/ipykernel_launcher.py:43: DeprecationWarning: The default dtype for empty Series will be 'object' instead of 'float64' in a future version. Specify a dtype explicitly to silence this warning.\n",
            "/usr/local/lib/python3.6/dist-packages/ipykernel_launcher.py:44: DeprecationWarning: The default dtype for empty Series will be 'object' instead of 'float64' in a future version. Specify a dtype explicitly to silence this warning.\n",
            "/usr/local/lib/python3.6/dist-packages/ipykernel_launcher.py:45: DeprecationWarning: The default dtype for empty Series will be 'object' instead of 'float64' in a future version. Specify a dtype explicitly to silence this warning.\n"
          ],
          "name": "stderr"
        },
        {
          "output_type": "stream",
          "text": [
            "Coletando dados de https://imoveis.mercadolivre.com.br/apartamentos/aluguel/parana/curitiba/Cabral/\n",
            "Coletando dados de https://imoveis.mercadolivre.com.br/apartamentos/aluguel/parana/curitiba/Cachoeira/\n",
            "Coletando dados de https://imoveis.mercadolivre.com.br/apartamentos/aluguel/parana/curitiba/Cajuru/\n",
            "Coletando dados de https://imoveis.mercadolivre.com.br/apartamentos/aluguel/parana/curitiba/Campina-do-Siqueira/\n",
            "Coletando dados de https://imoveis.mercadolivre.com.br/apartamentos/aluguel/parana/curitiba/Campo-Comprido/\n",
            "Coletando dados de https://imoveis.mercadolivre.com.br/apartamentos/aluguel/parana/curitiba/Campo-de-Santana/\n",
            "Coletando dados de https://imoveis.mercadolivre.com.br/apartamentos/aluguel/parana/curitiba/Capao-Raso/\n",
            "Coletando dados de https://imoveis.mercadolivre.com.br/apartamentos/aluguel/parana/curitiba/Capao-da-Imbuia/\n",
            "Coletando dados de https://imoveis.mercadolivre.com.br/apartamentos/aluguel/parana/curitiba/Cascatinha/\n",
            "Coletando dados de https://imoveis.mercadolivre.com.br/apartamentos/aluguel/parana/curitiba/Centro/\n",
            "Coletando dados de https://imoveis.mercadolivre.com.br/apartamentos/aluguel/parana/curitiba/Centro-Civico/\n",
            "Coletando dados de https://imoveis.mercadolivre.com.br/apartamentos/aluguel/parana/curitiba/Champagnat/\n",
            "Coletando dados de https://imoveis.mercadolivre.com.br/apartamentos/aluguel/parana/curitiba/Cidade-Industrial/\n",
            "Coletando dados de https://imoveis.mercadolivre.com.br/apartamentos/aluguel/parana/curitiba/Cristo-Rei/\n",
            "Coletando dados de https://imoveis.mercadolivre.com.br/apartamentos/aluguel/parana/curitiba/Fanny/\n",
            "Coletando dados de https://imoveis.mercadolivre.com.br/apartamentos/aluguel/parana/curitiba/Fazendinha/\n",
            "Coletando dados de https://imoveis.mercadolivre.com.br/apartamentos/aluguel/parana/curitiba/Guabirotuba/\n",
            "Coletando dados de https://imoveis.mercadolivre.com.br/apartamentos/aluguel/parana/curitiba/Guaira/\n",
            "Coletando dados de https://imoveis.mercadolivre.com.br/apartamentos/aluguel/parana/curitiba/Hauer/\n",
            "Coletando dados de https://imoveis.mercadolivre.com.br/apartamentos/aluguel/parana/curitiba/Hugo-Lange/\n",
            "Coletando dados de https://imoveis.mercadolivre.com.br/apartamentos/aluguel/parana/curitiba/Jardim-Botanico/\n",
            "Coletando dados de https://imoveis.mercadolivre.com.br/apartamentos/aluguel/parana/curitiba/Jardim-das-Americas/\n",
            "Coletando dados de https://imoveis.mercadolivre.com.br/apartamentos/aluguel/parana/curitiba/Jardim-Social/\n",
            "Coletando dados de https://imoveis.mercadolivre.com.br/apartamentos/aluguel/parana/curitiba/Juveve/\n",
            "Coletando dados de https://imoveis.mercadolivre.com.br/apartamentos/aluguel/parana/curitiba/Lindoia/\n",
            "Coletando dados de https://imoveis.mercadolivre.com.br/apartamentos/aluguel/parana/curitiba/Merces/\n",
            "Coletando dados de https://imoveis.mercadolivre.com.br/apartamentos/aluguel/parana/curitiba/Mossungue/\n",
            "Coletando dados de https://imoveis.mercadolivre.com.br/apartamentos/aluguel/parana/curitiba/Novo-Mundo/\n",
            "Coletando dados de https://imoveis.mercadolivre.com.br/apartamentos/aluguel/parana/curitiba/Orleans/\n",
            "Coletando dados de https://imoveis.mercadolivre.com.br/apartamentos/aluguel/parana/curitiba/Parolin/\n",
            "Coletando dados de https://imoveis.mercadolivre.com.br/apartamentos/aluguel/parana/curitiba/Pilarzinho/\n",
            "Coletando dados de https://imoveis.mercadolivre.com.br/apartamentos/aluguel/parana/curitiba/Pinheirinho/\n",
            "Coletando dados de https://imoveis.mercadolivre.com.br/apartamentos/aluguel/parana/curitiba/Portao/\n",
            "Coletando dados de https://imoveis.mercadolivre.com.br/apartamentos/aluguel/parana/curitiba/Prado-Velho/\n",
            "Coletando dados de https://imoveis.mercadolivre.com.br/apartamentos/aluguel/parana/curitiba/Reboucas/\n",
            "Coletando dados de https://imoveis.mercadolivre.com.br/apartamentos/aluguel/parana/curitiba/Santa-Candida/\n",
            "Coletando dados de https://imoveis.mercadolivre.com.br/apartamentos/aluguel/parana/curitiba/Santa-Felicidade/\n",
            "Coletando dados de https://imoveis.mercadolivre.com.br/apartamentos/aluguel/parana/curitiba/Santa-Quiteria/\n",
            "Coletando dados de https://imoveis.mercadolivre.com.br/apartamentos/aluguel/parana/curitiba/Santo-Inacio/\n",
            "Coletando dados de https://imoveis.mercadolivre.com.br/apartamentos/aluguel/parana/curitiba/Seminario/\n",
            "Coletando dados de https://imoveis.mercadolivre.com.br/apartamentos/aluguel/parana/curitiba/Sao-Lourenco/\n",
            "Coletando dados de https://imoveis.mercadolivre.com.br/apartamentos/aluguel/parana/curitiba/Sao-Braz/\n",
            "Coletando dados de https://imoveis.mercadolivre.com.br/apartamentos/aluguel/parana/curitiba/Sao-Francisco/\n",
            "Coletando dados de https://imoveis.mercadolivre.com.br/apartamentos/aluguel/parana/curitiba/Sitio-Cercado/\n",
            "Coletando dados de https://imoveis.mercadolivre.com.br/apartamentos/aluguel/parana/curitiba/Taruma/\n",
            "Coletando dados de https://imoveis.mercadolivre.com.br/apartamentos/aluguel/parana/curitiba/Tatuquara/\n",
            "Coletando dados de https://imoveis.mercadolivre.com.br/apartamentos/aluguel/parana/curitiba/Tingui/\n",
            "Coletando dados de https://imoveis.mercadolivre.com.br/apartamentos/aluguel/parana/curitiba/Uberaba/\n",
            "Coletando dados de https://imoveis.mercadolivre.com.br/apartamentos/aluguel/parana/curitiba/Umbara/\n",
            "Coletando dados de https://imoveis.mercadolivre.com.br/apartamentos/aluguel/parana/curitiba/Vila-Izabel/\n",
            "Coletando dados de https://imoveis.mercadolivre.com.br/apartamentos/aluguel/parana/curitiba/Vista-Alegre/\n",
            "Coletando dados de https://imoveis.mercadolivre.com.br/apartamentos/aluguel/parana/curitiba/Xaxim/\n",
            "Coletando dados de https://imoveis.mercadolivre.com.br/apartamentos/aluguel/parana/curitiba/Agua-Verde/\n",
            "Dados coletados!\n"
          ],
          "name": "stdout"
        }
      ]
    },
    {
      "cell_type": "code",
      "metadata": {
        "id": "3dZA3AW4NABC"
      },
      "source": [
        "dfa_ml = pd.concat(lista_dfs)"
      ],
      "execution_count": null,
      "outputs": []
    },
    {
      "cell_type": "code",
      "metadata": {
        "colab": {
          "base_uri": "https://localhost:8080/",
          "height": 419
        },
        "id": "TMJuuvD9Jo3a",
        "outputId": "3ccc1249-f029-4fec-cc4b-c3d026f79d7e"
      },
      "source": [
        "dfa_ml"
      ],
      "execution_count": null,
      "outputs": [
        {
          "output_type": "execute_result",
          "data": {
            "text/html": [
              "<div>\n",
              "<style scoped>\n",
              "    .dataframe tbody tr th:only-of-type {\n",
              "        vertical-align: middle;\n",
              "    }\n",
              "\n",
              "    .dataframe tbody tr th {\n",
              "        vertical-align: top;\n",
              "    }\n",
              "\n",
              "    .dataframe thead th {\n",
              "        text-align: right;\n",
              "    }\n",
              "</style>\n",
              "<table border=\"1\" class=\"dataframe\">\n",
              "  <thead>\n",
              "    <tr style=\"text-align: right;\">\n",
              "      <th></th>\n",
              "      <th>bairro</th>\n",
              "      <th>precos</th>\n",
              "      <th>quartos</th>\n",
              "      <th>areas</th>\n",
              "    </tr>\n",
              "  </thead>\n",
              "  <tbody>\n",
              "    <tr>\n",
              "      <th>0</th>\n",
              "      <td>Abranches</td>\n",
              "      <td>2500.0</td>\n",
              "      <td>2</td>\n",
              "      <td>80</td>\n",
              "    </tr>\n",
              "    <tr>\n",
              "      <th>1</th>\n",
              "      <td>Abranches</td>\n",
              "      <td>2100.0</td>\n",
              "      <td>2</td>\n",
              "      <td>65</td>\n",
              "    </tr>\n",
              "    <tr>\n",
              "      <th>2</th>\n",
              "      <td>Abranches</td>\n",
              "      <td>2500.0</td>\n",
              "      <td>2</td>\n",
              "      <td>80</td>\n",
              "    </tr>\n",
              "    <tr>\n",
              "      <th>3</th>\n",
              "      <td>Abranches</td>\n",
              "      <td>2100.0</td>\n",
              "      <td>2</td>\n",
              "      <td>65</td>\n",
              "    </tr>\n",
              "    <tr>\n",
              "      <th>4</th>\n",
              "      <td>Abranches</td>\n",
              "      <td>600.0</td>\n",
              "      <td>1</td>\n",
              "      <td>35</td>\n",
              "    </tr>\n",
              "    <tr>\n",
              "      <th>...</th>\n",
              "      <td>...</td>\n",
              "      <td>...</td>\n",
              "      <td>...</td>\n",
              "      <td>...</td>\n",
              "    </tr>\n",
              "    <tr>\n",
              "      <th>43</th>\n",
              "      <td>Agua-Verde</td>\n",
              "      <td>1500.0</td>\n",
              "      <td>1</td>\n",
              "      <td>46</td>\n",
              "    </tr>\n",
              "    <tr>\n",
              "      <th>44</th>\n",
              "      <td>Agua-Verde</td>\n",
              "      <td>1200.0</td>\n",
              "      <td>1</td>\n",
              "      <td>29</td>\n",
              "    </tr>\n",
              "    <tr>\n",
              "      <th>45</th>\n",
              "      <td>Agua-Verde</td>\n",
              "      <td>1230.0</td>\n",
              "      <td>1</td>\n",
              "      <td>31</td>\n",
              "    </tr>\n",
              "    <tr>\n",
              "      <th>46</th>\n",
              "      <td>Agua-Verde</td>\n",
              "      <td>1500.0</td>\n",
              "      <td>1</td>\n",
              "      <td>30</td>\n",
              "    </tr>\n",
              "    <tr>\n",
              "      <th>47</th>\n",
              "      <td>Agua-Verde</td>\n",
              "      <td>2400.0</td>\n",
              "      <td>4</td>\n",
              "      <td>175</td>\n",
              "    </tr>\n",
              "  </tbody>\n",
              "</table>\n",
              "<p>916 rows × 4 columns</p>\n",
              "</div>"
            ],
            "text/plain": [
              "        bairro  precos quartos areas\n",
              "0    Abranches  2500.0       2    80\n",
              "1    Abranches  2100.0       2    65\n",
              "2    Abranches  2500.0       2    80\n",
              "3    Abranches  2100.0       2    65\n",
              "4    Abranches   600.0       1    35\n",
              "..         ...     ...     ...   ...\n",
              "43  Agua-Verde  1500.0       1    46\n",
              "44  Agua-Verde  1200.0       1    29\n",
              "45  Agua-Verde  1230.0       1    31\n",
              "46  Agua-Verde  1500.0       1    30\n",
              "47  Agua-Verde  2400.0       4   175\n",
              "\n",
              "[916 rows x 4 columns]"
            ]
          },
          "metadata": {
            "tags": []
          },
          "execution_count": 72
        }
      ]
    },
    {
      "cell_type": "markdown",
      "metadata": {
        "id": "XEJNTweWI0bX"
      },
      "source": [
        "Saving extracted data "
      ]
    },
    {
      "cell_type": "code",
      "metadata": {
        "id": "8bx9g9VqTSF9"
      },
      "source": [
        "dfa_ml.to_csv('dados_mercado_livre_ap_curitiba.csv', index=False)"
      ],
      "execution_count": null,
      "outputs": []
    },
    {
      "cell_type": "markdown",
      "metadata": {
        "id": "f8kUMZ91I_WP"
      },
      "source": [
        "Reading extracted data "
      ]
    },
    {
      "cell_type": "code",
      "metadata": {
        "id": "bQBiESjWTnba"
      },
      "source": [
        "da_ml = pd.read_csv('dados_mercado_livre_ap_curitiba.csv')"
      ],
      "execution_count": null,
      "outputs": []
    },
    {
      "cell_type": "code",
      "metadata": {
        "id": "02qtD9Ipakkw"
      },
      "source": [
        "da_ml.replace(',','', regex=True,inplace=True)\n",
        "da_ml['areas'] = da_ml['areas'].astype(float)"
      ],
      "execution_count": null,
      "outputs": []
    },
    {
      "cell_type": "code",
      "metadata": {
        "id": "qI6zkPQwYgQl",
        "colab": {
          "base_uri": "https://localhost:8080/",
          "height": 111
        },
        "outputId": "062bf17e-0393-4b55-ba47-184b0c7732d6"
      },
      "source": [
        "da_ml.describe().T"
      ],
      "execution_count": null,
      "outputs": [
        {
          "output_type": "execute_result",
          "data": {
            "text/html": [
              "<div>\n",
              "<style scoped>\n",
              "    .dataframe tbody tr th:only-of-type {\n",
              "        vertical-align: middle;\n",
              "    }\n",
              "\n",
              "    .dataframe tbody tr th {\n",
              "        vertical-align: top;\n",
              "    }\n",
              "\n",
              "    .dataframe thead th {\n",
              "        text-align: right;\n",
              "    }\n",
              "</style>\n",
              "<table border=\"1\" class=\"dataframe\">\n",
              "  <thead>\n",
              "    <tr style=\"text-align: right;\">\n",
              "      <th></th>\n",
              "      <th>count</th>\n",
              "      <th>mean</th>\n",
              "      <th>std</th>\n",
              "      <th>min</th>\n",
              "      <th>25%</th>\n",
              "      <th>50%</th>\n",
              "      <th>75%</th>\n",
              "      <th>max</th>\n",
              "    </tr>\n",
              "  </thead>\n",
              "  <tbody>\n",
              "    <tr>\n",
              "      <th>precos</th>\n",
              "      <td>916.0</td>\n",
              "      <td>4217.021834</td>\n",
              "      <td>28083.151086</td>\n",
              "      <td>2.0</td>\n",
              "      <td>900.0</td>\n",
              "      <td>1200.0</td>\n",
              "      <td>1900.0</td>\n",
              "      <td>530000.0</td>\n",
              "    </tr>\n",
              "    <tr>\n",
              "      <th>quartos</th>\n",
              "      <td>890.0</td>\n",
              "      <td>2.044944</td>\n",
              "      <td>0.976785</td>\n",
              "      <td>1.0</td>\n",
              "      <td>1.0</td>\n",
              "      <td>2.0</td>\n",
              "      <td>3.0</td>\n",
              "      <td>8.0</td>\n",
              "    </tr>\n",
              "  </tbody>\n",
              "</table>\n",
              "</div>"
            ],
            "text/plain": [
              "         count         mean           std  min    25%     50%     75%       max\n",
              "precos   916.0  4217.021834  28083.151086  2.0  900.0  1200.0  1900.0  530000.0\n",
              "quartos  890.0     2.044944      0.976785  1.0    1.0     2.0     3.0       8.0"
            ]
          },
          "metadata": {
            "tags": []
          },
          "execution_count": 75
        }
      ]
    },
    {
      "cell_type": "code",
      "metadata": {
        "id": "U46kjpLjaeIy",
        "colab": {
          "base_uri": "https://localhost:8080/"
        },
        "outputId": "b9aae16c-baff-49cd-8ca2-9731a233cfa9"
      },
      "source": [
        "da_ml.info()"
      ],
      "execution_count": null,
      "outputs": [
        {
          "output_type": "stream",
          "text": [
            "<class 'pandas.core.frame.DataFrame'>\n",
            "RangeIndex: 916 entries, 0 to 915\n",
            "Data columns (total 4 columns):\n",
            " #   Column   Non-Null Count  Dtype  \n",
            "---  ------   --------------  -----  \n",
            " 0   bairro   907 non-null    object \n",
            " 1   precos   916 non-null    float64\n",
            " 2   quartos  890 non-null    float64\n",
            " 3   areas    907 non-null    object \n",
            "dtypes: float64(2), object(2)\n",
            "memory usage: 28.8+ KB\n"
          ],
          "name": "stdout"
        }
      ]
    },
    {
      "cell_type": "code",
      "metadata": {
        "id": "Z96rhoqFF3vQ",
        "colab": {
          "base_uri": "https://localhost:8080/"
        },
        "outputId": "67937e3c-ee89-4766-cb2e-1bce7d6cd775"
      },
      "source": [
        "da_ml.isnull().sum()"
      ],
      "execution_count": null,
      "outputs": [
        {
          "output_type": "execute_result",
          "data": {
            "text/plain": [
              "bairro      9\n",
              "precos      0\n",
              "quartos    26\n",
              "areas       9\n",
              "dtype: int64"
            ]
          },
          "metadata": {
            "tags": []
          },
          "execution_count": 79
        }
      ]
    },
    {
      "cell_type": "code",
      "metadata": {
        "id": "Z-Ar5NC6Nj6_",
        "colab": {
          "base_uri": "https://localhost:8080/"
        },
        "outputId": "c03bff70-7e21-4413-97bd-9371641c3475"
      },
      "source": [
        "da_ml['bairro'].value_counts()"
      ],
      "execution_count": null,
      "outputs": [
        {
          "output_type": "execute_result",
          "data": {
            "text/plain": [
              "Agua-Verde          48\n",
              "Bigorrilho          48\n",
              "Centro              48\n",
              "Reboucas            47\n",
              "Cristo-Rei          45\n",
              "                    ..\n",
              "Tatuquara            2\n",
              "Parolin              1\n",
              "Bom-Retiro           1\n",
              "Campo-de-Santana     1\n",
              "Cachoeira            1\n",
              "Name: bairro, Length: 62, dtype: int64"
            ]
          },
          "metadata": {
            "tags": []
          },
          "execution_count": 80
        }
      ]
    },
    {
      "cell_type": "markdown",
      "metadata": {
        "id": "xBYizEc5INv4"
      },
      "source": [
        "## House rent code"
      ]
    },
    {
      "cell_type": "code",
      "metadata": {
        "id": "dtdANM7IejO1",
        "colab": {
          "base_uri": "https://localhost:8080/"
        },
        "outputId": "81adc6d9-c388-4b1b-f95a-6ceb49bee5aa"
      },
      "source": [
        "lista_dfs = []\n",
        "\n",
        "for bairro in bairros:\n",
        "  for pagina in paginas:\n",
        "    url = f'https://imoveis.mercadolivre.com.br/casas/aluguel/parana/curitiba/{bairro}/{pagina}'\n",
        "    print('Coletando dados de', url)\n",
        "    df = coleta_dados(url, bairro)\n",
        "    lista_dfs.append(df)\n",
        "    sleep(2)\n",
        "print('Dados coletados!')"
      ],
      "execution_count": null,
      "outputs": [
        {
          "output_type": "stream",
          "text": [
            "Coletando dados de https://imoveis.mercadolivre.com.br/casas/aluguel/parana/curitiba/Abranches/\n",
            "Coletando dados de https://imoveis.mercadolivre.com.br/casas/aluguel/parana/curitiba/Ahu/\n",
            "Coletando dados de https://imoveis.mercadolivre.com.br/casas/aluguel/parana/curitiba/Alto-Boqueirao/\n",
            "Coletando dados de https://imoveis.mercadolivre.com.br/casas/aluguel/parana/curitiba/Alto-da-Gloria/\n",
            "Coletando dados de https://imoveis.mercadolivre.com.br/casas/aluguel/parana/curitiba/Alto-da-Rua-XV/\n",
            "Coletando dados de https://imoveis.mercadolivre.com.br/casas/aluguel/parana/curitiba/Atuba/\n",
            "Coletando dados de https://imoveis.mercadolivre.com.br/casas/aluguel/parana/curitiba/Bacacheri/\n",
            "Coletando dados de https://imoveis.mercadolivre.com.br/casas/aluguel/parana/curitiba/Bairro-Alto/\n",
            "Coletando dados de https://imoveis.mercadolivre.com.br/casas/aluguel/parana/curitiba/Batel/\n",
            "Coletando dados de https://imoveis.mercadolivre.com.br/casas/aluguel/parana/curitiba/Bigorrilho/\n",
            "Coletando dados de https://imoveis.mercadolivre.com.br/casas/aluguel/parana/curitiba/Bom-Retiro/\n",
            "Coletando dados de https://imoveis.mercadolivre.com.br/casas/aluguel/parana/curitiba/Boqueirao/\n",
            "Coletando dados de https://imoveis.mercadolivre.com.br/casas/aluguel/parana/curitiba/Butiatuvinha/\n",
            "Coletando dados de https://imoveis.mercadolivre.com.br/casas/aluguel/parana/curitiba/Cabral/\n",
            "Coletando dados de https://imoveis.mercadolivre.com.br/casas/aluguel/parana/curitiba/Cachoeira/\n"
          ],
          "name": "stdout"
        },
        {
          "output_type": "stream",
          "text": [
            "/usr/local/lib/python3.6/dist-packages/ipykernel_launcher.py:42: DeprecationWarning: The default dtype for empty Series will be 'object' instead of 'float64' in a future version. Specify a dtype explicitly to silence this warning.\n",
            "/usr/local/lib/python3.6/dist-packages/ipykernel_launcher.py:43: DeprecationWarning: The default dtype for empty Series will be 'object' instead of 'float64' in a future version. Specify a dtype explicitly to silence this warning.\n",
            "/usr/local/lib/python3.6/dist-packages/ipykernel_launcher.py:44: DeprecationWarning: The default dtype for empty Series will be 'object' instead of 'float64' in a future version. Specify a dtype explicitly to silence this warning.\n",
            "/usr/local/lib/python3.6/dist-packages/ipykernel_launcher.py:45: DeprecationWarning: The default dtype for empty Series will be 'object' instead of 'float64' in a future version. Specify a dtype explicitly to silence this warning.\n"
          ],
          "name": "stderr"
        },
        {
          "output_type": "stream",
          "text": [
            "Coletando dados de https://imoveis.mercadolivre.com.br/casas/aluguel/parana/curitiba/Cajuru/\n",
            "Coletando dados de https://imoveis.mercadolivre.com.br/casas/aluguel/parana/curitiba/Campina-do-Siqueira/\n",
            "Coletando dados de https://imoveis.mercadolivre.com.br/casas/aluguel/parana/curitiba/Campo-Comprido/\n",
            "Coletando dados de https://imoveis.mercadolivre.com.br/casas/aluguel/parana/curitiba/Campo-de-Santana/\n",
            "Coletando dados de https://imoveis.mercadolivre.com.br/casas/aluguel/parana/curitiba/Capao-Raso/\n",
            "Coletando dados de https://imoveis.mercadolivre.com.br/casas/aluguel/parana/curitiba/Capao-da-Imbuia/\n",
            "Coletando dados de https://imoveis.mercadolivre.com.br/casas/aluguel/parana/curitiba/Cascatinha/\n",
            "Coletando dados de https://imoveis.mercadolivre.com.br/casas/aluguel/parana/curitiba/Centro/\n",
            "Coletando dados de https://imoveis.mercadolivre.com.br/casas/aluguel/parana/curitiba/Centro-Civico/\n",
            "Coletando dados de https://imoveis.mercadolivre.com.br/casas/aluguel/parana/curitiba/Champagnat/\n",
            "Coletando dados de https://imoveis.mercadolivre.com.br/casas/aluguel/parana/curitiba/Cidade-Industrial/\n",
            "Coletando dados de https://imoveis.mercadolivre.com.br/casas/aluguel/parana/curitiba/Cristo-Rei/\n",
            "Coletando dados de https://imoveis.mercadolivre.com.br/casas/aluguel/parana/curitiba/Fanny/\n",
            "Coletando dados de https://imoveis.mercadolivre.com.br/casas/aluguel/parana/curitiba/Fazendinha/\n",
            "Coletando dados de https://imoveis.mercadolivre.com.br/casas/aluguel/parana/curitiba/Guabirotuba/\n",
            "Coletando dados de https://imoveis.mercadolivre.com.br/casas/aluguel/parana/curitiba/Guaira/\n",
            "Coletando dados de https://imoveis.mercadolivre.com.br/casas/aluguel/parana/curitiba/Hauer/\n",
            "Coletando dados de https://imoveis.mercadolivre.com.br/casas/aluguel/parana/curitiba/Hugo-Lange/\n",
            "Coletando dados de https://imoveis.mercadolivre.com.br/casas/aluguel/parana/curitiba/Jardim-Botanico/\n",
            "Coletando dados de https://imoveis.mercadolivre.com.br/casas/aluguel/parana/curitiba/Jardim-das-Americas/\n",
            "Coletando dados de https://imoveis.mercadolivre.com.br/casas/aluguel/parana/curitiba/Jardim-Social/\n",
            "Coletando dados de https://imoveis.mercadolivre.com.br/casas/aluguel/parana/curitiba/Juveve/\n",
            "Coletando dados de https://imoveis.mercadolivre.com.br/casas/aluguel/parana/curitiba/Lindoia/\n",
            "Coletando dados de https://imoveis.mercadolivre.com.br/casas/aluguel/parana/curitiba/Merces/\n",
            "Coletando dados de https://imoveis.mercadolivre.com.br/casas/aluguel/parana/curitiba/Mossungue/\n",
            "Coletando dados de https://imoveis.mercadolivre.com.br/casas/aluguel/parana/curitiba/Novo-Mundo/\n",
            "Coletando dados de https://imoveis.mercadolivre.com.br/casas/aluguel/parana/curitiba/Orleans/\n",
            "Coletando dados de https://imoveis.mercadolivre.com.br/casas/aluguel/parana/curitiba/Parolin/\n",
            "Coletando dados de https://imoveis.mercadolivre.com.br/casas/aluguel/parana/curitiba/Pilarzinho/\n",
            "Coletando dados de https://imoveis.mercadolivre.com.br/casas/aluguel/parana/curitiba/Pinheirinho/\n",
            "Coletando dados de https://imoveis.mercadolivre.com.br/casas/aluguel/parana/curitiba/Portao/\n",
            "Coletando dados de https://imoveis.mercadolivre.com.br/casas/aluguel/parana/curitiba/Prado-Velho/\n",
            "Coletando dados de https://imoveis.mercadolivre.com.br/casas/aluguel/parana/curitiba/Reboucas/\n",
            "Coletando dados de https://imoveis.mercadolivre.com.br/casas/aluguel/parana/curitiba/Santa-Candida/\n",
            "Coletando dados de https://imoveis.mercadolivre.com.br/casas/aluguel/parana/curitiba/Santa-Felicidade/\n",
            "Coletando dados de https://imoveis.mercadolivre.com.br/casas/aluguel/parana/curitiba/Santa-Quiteria/\n",
            "Coletando dados de https://imoveis.mercadolivre.com.br/casas/aluguel/parana/curitiba/Santo-Inacio/\n",
            "Coletando dados de https://imoveis.mercadolivre.com.br/casas/aluguel/parana/curitiba/Seminario/\n",
            "Coletando dados de https://imoveis.mercadolivre.com.br/casas/aluguel/parana/curitiba/Sao-Lourenco/\n",
            "Coletando dados de https://imoveis.mercadolivre.com.br/casas/aluguel/parana/curitiba/Sao-Braz/\n",
            "Coletando dados de https://imoveis.mercadolivre.com.br/casas/aluguel/parana/curitiba/Sao-Francisco/\n",
            "Coletando dados de https://imoveis.mercadolivre.com.br/casas/aluguel/parana/curitiba/Sitio-Cercado/\n",
            "Coletando dados de https://imoveis.mercadolivre.com.br/casas/aluguel/parana/curitiba/Taruma/\n",
            "Coletando dados de https://imoveis.mercadolivre.com.br/casas/aluguel/parana/curitiba/Tatuquara/\n",
            "Coletando dados de https://imoveis.mercadolivre.com.br/casas/aluguel/parana/curitiba/Tingui/\n",
            "Coletando dados de https://imoveis.mercadolivre.com.br/casas/aluguel/parana/curitiba/Uberaba/\n",
            "Coletando dados de https://imoveis.mercadolivre.com.br/casas/aluguel/parana/curitiba/Umbara/\n",
            "Coletando dados de https://imoveis.mercadolivre.com.br/casas/aluguel/parana/curitiba/Vila-Izabel/\n",
            "Coletando dados de https://imoveis.mercadolivre.com.br/casas/aluguel/parana/curitiba/Vista-Alegre/\n",
            "Coletando dados de https://imoveis.mercadolivre.com.br/casas/aluguel/parana/curitiba/Xaxim/\n",
            "Coletando dados de https://imoveis.mercadolivre.com.br/casas/aluguel/parana/curitiba/Agua-Verde/\n",
            "Dados coletados!\n"
          ],
          "name": "stdout"
        }
      ]
    },
    {
      "cell_type": "code",
      "metadata": {
        "id": "6rkFT8L-e73L"
      },
      "source": [
        "dfc_ml = pd.concat(lista_dfs)"
      ],
      "execution_count": null,
      "outputs": []
    },
    {
      "cell_type": "code",
      "metadata": {
        "id": "Lnnvea_ZfJUn",
        "colab": {
          "base_uri": "https://localhost:8080/",
          "height": 419
        },
        "outputId": "f5b6f38d-fdf5-4e6f-9060-00991a7730a6"
      },
      "source": [
        "dfc_ml"
      ],
      "execution_count": null,
      "outputs": [
        {
          "output_type": "execute_result",
          "data": {
            "text/html": [
              "<div>\n",
              "<style scoped>\n",
              "    .dataframe tbody tr th:only-of-type {\n",
              "        vertical-align: middle;\n",
              "    }\n",
              "\n",
              "    .dataframe tbody tr th {\n",
              "        vertical-align: top;\n",
              "    }\n",
              "\n",
              "    .dataframe thead th {\n",
              "        text-align: right;\n",
              "    }\n",
              "</style>\n",
              "<table border=\"1\" class=\"dataframe\">\n",
              "  <thead>\n",
              "    <tr style=\"text-align: right;\">\n",
              "      <th></th>\n",
              "      <th>bairro</th>\n",
              "      <th>precos</th>\n",
              "      <th>quartos</th>\n",
              "      <th>areas</th>\n",
              "    </tr>\n",
              "  </thead>\n",
              "  <tbody>\n",
              "    <tr>\n",
              "      <th>0</th>\n",
              "      <td>Abranches</td>\n",
              "      <td>850.0</td>\n",
              "      <td>2</td>\n",
              "      <td>65</td>\n",
              "    </tr>\n",
              "    <tr>\n",
              "      <th>1</th>\n",
              "      <td>Abranches</td>\n",
              "      <td>950.0</td>\n",
              "      <td>2</td>\n",
              "      <td>60</td>\n",
              "    </tr>\n",
              "    <tr>\n",
              "      <th>2</th>\n",
              "      <td>Abranches</td>\n",
              "      <td>12000.0</td>\n",
              "      <td>3</td>\n",
              "      <td>268</td>\n",
              "    </tr>\n",
              "    <tr>\n",
              "      <th>3</th>\n",
              "      <td>Abranches</td>\n",
              "      <td>8900.0</td>\n",
              "      <td>3</td>\n",
              "      <td>500</td>\n",
              "    </tr>\n",
              "    <tr>\n",
              "      <th>0</th>\n",
              "      <td>Ahu</td>\n",
              "      <td>3500.0</td>\n",
              "      <td>NaN</td>\n",
              "      <td>277</td>\n",
              "    </tr>\n",
              "    <tr>\n",
              "      <th>...</th>\n",
              "      <td>...</td>\n",
              "      <td>...</td>\n",
              "      <td>...</td>\n",
              "      <td>...</td>\n",
              "    </tr>\n",
              "    <tr>\n",
              "      <th>6</th>\n",
              "      <td>Agua-Verde</td>\n",
              "      <td>8000.0</td>\n",
              "      <td>1</td>\n",
              "      <td>300</td>\n",
              "    </tr>\n",
              "    <tr>\n",
              "      <th>7</th>\n",
              "      <td>Agua-Verde</td>\n",
              "      <td>2800.0</td>\n",
              "      <td>NaN</td>\n",
              "      <td>253</td>\n",
              "    </tr>\n",
              "    <tr>\n",
              "      <th>8</th>\n",
              "      <td>Agua-Verde</td>\n",
              "      <td>2500.0</td>\n",
              "      <td>NaN</td>\n",
              "      <td>218</td>\n",
              "    </tr>\n",
              "    <tr>\n",
              "      <th>9</th>\n",
              "      <td>Agua-Verde</td>\n",
              "      <td>2800.0</td>\n",
              "      <td>4</td>\n",
              "      <td>253</td>\n",
              "    </tr>\n",
              "    <tr>\n",
              "      <th>10</th>\n",
              "      <td>Agua-Verde</td>\n",
              "      <td>14500.0</td>\n",
              "      <td>NaN</td>\n",
              "      <td>449</td>\n",
              "    </tr>\n",
              "  </tbody>\n",
              "</table>\n",
              "<p>274 rows × 4 columns</p>\n",
              "</div>"
            ],
            "text/plain": [
              "        bairro   precos quartos areas\n",
              "0    Abranches    850.0       2    65\n",
              "1    Abranches    950.0       2    60\n",
              "2    Abranches  12000.0       3   268\n",
              "3    Abranches   8900.0       3   500\n",
              "0          Ahu   3500.0     NaN   277\n",
              "..         ...      ...     ...   ...\n",
              "6   Agua-Verde   8000.0       1   300\n",
              "7   Agua-Verde   2800.0     NaN   253\n",
              "8   Agua-Verde   2500.0     NaN   218\n",
              "9   Agua-Verde   2800.0       4   253\n",
              "10  Agua-Verde  14500.0     NaN   449\n",
              "\n",
              "[274 rows x 4 columns]"
            ]
          },
          "metadata": {
            "tags": []
          },
          "execution_count": 83
        }
      ]
    },
    {
      "cell_type": "code",
      "metadata": {
        "id": "cd2LyB4qfJUp",
        "colab": {
          "base_uri": "https://localhost:8080/",
          "height": 297
        },
        "outputId": "9b4065b2-bf76-4aa7-fe74-cdde83fa5223"
      },
      "source": [
        "dfc_ml.describe()"
      ],
      "execution_count": null,
      "outputs": [
        {
          "output_type": "execute_result",
          "data": {
            "text/html": [
              "<div>\n",
              "<style scoped>\n",
              "    .dataframe tbody tr th:only-of-type {\n",
              "        vertical-align: middle;\n",
              "    }\n",
              "\n",
              "    .dataframe tbody tr th {\n",
              "        vertical-align: top;\n",
              "    }\n",
              "\n",
              "    .dataframe thead th {\n",
              "        text-align: right;\n",
              "    }\n",
              "</style>\n",
              "<table border=\"1\" class=\"dataframe\">\n",
              "  <thead>\n",
              "    <tr style=\"text-align: right;\">\n",
              "      <th></th>\n",
              "      <th>precos</th>\n",
              "    </tr>\n",
              "  </thead>\n",
              "  <tbody>\n",
              "    <tr>\n",
              "      <th>count</th>\n",
              "      <td>274.000000</td>\n",
              "    </tr>\n",
              "    <tr>\n",
              "      <th>mean</th>\n",
              "      <td>4727.295620</td>\n",
              "    </tr>\n",
              "    <tr>\n",
              "      <th>std</th>\n",
              "      <td>4793.968149</td>\n",
              "    </tr>\n",
              "    <tr>\n",
              "      <th>min</th>\n",
              "      <td>450.000000</td>\n",
              "    </tr>\n",
              "    <tr>\n",
              "      <th>25%</th>\n",
              "      <td>1612.500000</td>\n",
              "    </tr>\n",
              "    <tr>\n",
              "      <th>50%</th>\n",
              "      <td>3050.000000</td>\n",
              "    </tr>\n",
              "    <tr>\n",
              "      <th>75%</th>\n",
              "      <td>6000.000000</td>\n",
              "    </tr>\n",
              "    <tr>\n",
              "      <th>max</th>\n",
              "      <td>45000.000000</td>\n",
              "    </tr>\n",
              "  </tbody>\n",
              "</table>\n",
              "</div>"
            ],
            "text/plain": [
              "             precos\n",
              "count    274.000000\n",
              "mean    4727.295620\n",
              "std     4793.968149\n",
              "min      450.000000\n",
              "25%     1612.500000\n",
              "50%     3050.000000\n",
              "75%     6000.000000\n",
              "max    45000.000000"
            ]
          },
          "metadata": {
            "tags": []
          },
          "execution_count": 84
        }
      ]
    },
    {
      "cell_type": "markdown",
      "metadata": {
        "id": "u-xcbHbmJbEG"
      },
      "source": [
        "Saving data "
      ]
    },
    {
      "cell_type": "code",
      "metadata": {
        "id": "br0Nf7lffJUp"
      },
      "source": [
        "dfc_ml.to_csv('dados_mercado_livre_casas_curitiba.csv', index=False)"
      ],
      "execution_count": null,
      "outputs": []
    },
    {
      "cell_type": "markdown",
      "metadata": {
        "id": "gQsHt2xRJa33"
      },
      "source": [
        "Reading extracted data "
      ]
    },
    {
      "cell_type": "code",
      "metadata": {
        "id": "SJUHxF9jfJUq"
      },
      "source": [
        "dc_ml = pd.read_csv('dados_mercado_livre_casas_curitiba.csv')"
      ],
      "execution_count": null,
      "outputs": []
    },
    {
      "cell_type": "code",
      "metadata": {
        "id": "72BmQiEBfJUq",
        "colab": {
          "base_uri": "https://localhost:8080/",
          "height": 111
        },
        "outputId": "d7a5e46b-a29b-423f-a533-7cdb3eb1d3d5"
      },
      "source": [
        "dc_ml.describe().T"
      ],
      "execution_count": null,
      "outputs": [
        {
          "output_type": "execute_result",
          "data": {
            "text/html": [
              "<div>\n",
              "<style scoped>\n",
              "    .dataframe tbody tr th:only-of-type {\n",
              "        vertical-align: middle;\n",
              "    }\n",
              "\n",
              "    .dataframe tbody tr th {\n",
              "        vertical-align: top;\n",
              "    }\n",
              "\n",
              "    .dataframe thead th {\n",
              "        text-align: right;\n",
              "    }\n",
              "</style>\n",
              "<table border=\"1\" class=\"dataframe\">\n",
              "  <thead>\n",
              "    <tr style=\"text-align: right;\">\n",
              "      <th></th>\n",
              "      <th>count</th>\n",
              "      <th>mean</th>\n",
              "      <th>std</th>\n",
              "      <th>min</th>\n",
              "      <th>25%</th>\n",
              "      <th>50%</th>\n",
              "      <th>75%</th>\n",
              "      <th>max</th>\n",
              "    </tr>\n",
              "  </thead>\n",
              "  <tbody>\n",
              "    <tr>\n",
              "      <th>precos</th>\n",
              "      <td>274.0</td>\n",
              "      <td>4727.295620</td>\n",
              "      <td>4793.968149</td>\n",
              "      <td>450.0</td>\n",
              "      <td>1612.5</td>\n",
              "      <td>3050.0</td>\n",
              "      <td>6000.0</td>\n",
              "      <td>45000.0</td>\n",
              "    </tr>\n",
              "    <tr>\n",
              "      <th>quartos</th>\n",
              "      <td>183.0</td>\n",
              "      <td>3.131148</td>\n",
              "      <td>1.331884</td>\n",
              "      <td>0.0</td>\n",
              "      <td>2.0</td>\n",
              "      <td>3.0</td>\n",
              "      <td>4.0</td>\n",
              "      <td>8.0</td>\n",
              "    </tr>\n",
              "  </tbody>\n",
              "</table>\n",
              "</div>"
            ],
            "text/plain": [
              "         count         mean          std  ...     50%     75%      max\n",
              "precos   274.0  4727.295620  4793.968149  ...  3050.0  6000.0  45000.0\n",
              "quartos  183.0     3.131148     1.331884  ...     3.0     4.0      8.0\n",
              "\n",
              "[2 rows x 8 columns]"
            ]
          },
          "metadata": {
            "tags": []
          },
          "execution_count": 87
        }
      ]
    },
    {
      "cell_type": "code",
      "metadata": {
        "id": "u1s-4Zy7fJUq",
        "colab": {
          "base_uri": "https://localhost:8080/"
        },
        "outputId": "41fc3559-ac86-42b3-f945-f3fb46f93bff"
      },
      "source": [
        "dc_ml.info()"
      ],
      "execution_count": null,
      "outputs": [
        {
          "output_type": "stream",
          "text": [
            "<class 'pandas.core.frame.DataFrame'>\n",
            "RangeIndex: 274 entries, 0 to 273\n",
            "Data columns (total 4 columns):\n",
            " #   Column   Non-Null Count  Dtype  \n",
            "---  ------   --------------  -----  \n",
            " 0   bairro   273 non-null    object \n",
            " 1   precos   274 non-null    float64\n",
            " 2   quartos  183 non-null    float64\n",
            " 3   areas    273 non-null    object \n",
            "dtypes: float64(2), object(2)\n",
            "memory usage: 8.7+ KB\n"
          ],
          "name": "stdout"
        }
      ]
    },
    {
      "cell_type": "code",
      "metadata": {
        "id": "zqeFOTv6fJUr"
      },
      "source": [
        "dc_ml.replace(',','', regex=True,inplace=True)\n",
        "dc_ml['areas'] = da_ml['areas'].astype(float)"
      ],
      "execution_count": null,
      "outputs": []
    },
    {
      "cell_type": "code",
      "metadata": {
        "id": "RQAUvSEDfJUr",
        "colab": {
          "base_uri": "https://localhost:8080/"
        },
        "outputId": "222240f7-6288-4804-8c2c-f37a71a844eb"
      },
      "source": [
        "dc_ml.info()"
      ],
      "execution_count": null,
      "outputs": [
        {
          "output_type": "stream",
          "text": [
            "<class 'pandas.core.frame.DataFrame'>\n",
            "RangeIndex: 274 entries, 0 to 273\n",
            "Data columns (total 4 columns):\n",
            " #   Column   Non-Null Count  Dtype  \n",
            "---  ------   --------------  -----  \n",
            " 0   bairro   273 non-null    object \n",
            " 1   precos   274 non-null    float64\n",
            " 2   quartos  183 non-null    float64\n",
            " 3   areas    272 non-null    float64\n",
            "dtypes: float64(3), object(1)\n",
            "memory usage: 8.7+ KB\n"
          ],
          "name": "stdout"
        }
      ]
    },
    {
      "cell_type": "code",
      "metadata": {
        "id": "C2toCjaUfJUr",
        "colab": {
          "base_uri": "https://localhost:8080/"
        },
        "outputId": "98b62ceb-e932-427b-c1b9-e194ce5d4713"
      },
      "source": [
        "dc_ml.isnull().sum()"
      ],
      "execution_count": null,
      "outputs": [
        {
          "output_type": "execute_result",
          "data": {
            "text/plain": [
              "bairro      1\n",
              "precos      0\n",
              "quartos    91\n",
              "areas       2\n",
              "dtype: int64"
            ]
          },
          "metadata": {
            "tags": []
          },
          "execution_count": 91
        }
      ]
    },
    {
      "cell_type": "code",
      "metadata": {
        "id": "1DBZ4b1wfJUr",
        "colab": {
          "base_uri": "https://localhost:8080/"
        },
        "outputId": "5dd9fb44-c20b-4a2c-a250-273cbec2cee1"
      },
      "source": [
        "dc_ml['bairro'].value_counts()"
      ],
      "execution_count": null,
      "outputs": [
        {
          "output_type": "execute_result",
          "data": {
            "text/plain": [
              "Boqueirao          24\n",
              "Bom-Retiro         12\n",
              "Agua-Verde         11\n",
              "Merces             11\n",
              "Uberaba            11\n",
              "                   ..\n",
              "Capao-da-Imbuia     1\n",
              "Seminario           1\n",
              "Guaira              1\n",
              "Butiatuvinha        1\n",
              "Cascatinha          1\n",
              "Name: bairro, Length: 62, dtype: int64"
            ]
          },
          "metadata": {
            "tags": []
          },
          "execution_count": 92
        }
      ]
    }
  ]
}