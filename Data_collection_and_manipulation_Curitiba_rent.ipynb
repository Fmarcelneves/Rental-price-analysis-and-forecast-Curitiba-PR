{
  "nbformat": 4,
  "nbformat_minor": 0,
  "metadata": {
    "colab": {
      "name": "Data_collection_Curitiba_rent.ipynb",
      "provenance": [],
      "collapsed_sections": [],
      "authorship_tag": "ABX9TyMuXBORHHPoGsG6Y5+vxl9E",
      "include_colab_link": true
    },
    "kernelspec": {
      "name": "python3",
      "display_name": "Python 3"
    }
  },
  "cells": [
    {
      "cell_type": "markdown",
      "metadata": {
        "id": "view-in-github",
        "colab_type": "text"
      },
      "source": [
        "<a href=\"https://colab.research.google.com/github/Fmarcelneves/Rental-price-analysis-and-forecast-Curitiba-PR/blob/main/Data_collection_Curitiba_rent.ipynb\" target=\"_parent\"><img src=\"https://colab.research.google.com/assets/colab-badge.svg\" alt=\"Open In Colab\"/></a>"
      ]
    },
    {
      "cell_type": "code",
      "metadata": {
        "id": "33yrKcPpzZr9"
      },
      "source": [
        "#import packages\n",
        "import requests\n",
        "from bs4 import BeautifulSoup\n",
        "import re\n",
        "import pandas as pd\n",
        "import numpy as np\n",
        "from time import sleep"
      ],
      "execution_count": null,
      "outputs": []
    },
    {
      "cell_type": "code",
      "metadata": {
        "id": "KzHW8SJ0vrgZ"
      },
      "source": [
        "# first 6 pages from the website\n",
        "paginas = ['']#'_Desde_49', '_Desde_97', '_Desde_145', '_Desde_193', '_Desde_241']\n",
        "bairros = ['Abranches', 'Ahú', 'Alto Boqueirão', 'Alto da Glória', 'Alto da Rua XV', 'Atuba', \n",
        "           'Bacacheri', 'Bairro Alto', 'Batel', 'Bigorrilho', 'Bom Retiro', 'Boqueirão', 'Butiatuvinha',\n",
        "           'Cabral', 'Cachoeira', 'Cajurú', 'Campina do Siqueira', 'Campo Comprido', 'Campo de Santana', 'Capão Raso', 'Capão da Imbuia',\n",
        "           'Cascatinha','Centro', 'Centro Civíco', 'Champagnat', 'Cidade Industrial', 'Cristo Rei', 'Fanny', 'Fazendinha',\n",
        "           'Guabirotuba', 'Guaíra', 'Hauer', 'Hugo Lange', 'Jardim Botânico', 'Jardim das Américas', 'Jardim Social', 'Juvevê',\n",
        "           'Lindóia', 'Mercês', 'Mossunguê', 'Novo Mundo', 'Orleans', 'Parolin', 'Pilarzinho', 'Pinheirinho', 'Portão', 'Prado Velho',\n",
        "           'Rebouças', 'Santa Cândida', 'Santa Felicidade', 'Santa Quitéria', 'Santo Inácio', 'Seminário', 'São Lourenço', 'São Braz', 'São Francisco', 'Sítio Cercado',\n",
        "           'Tarumã', 'Tatuquara', 'Tingui', 'Uberaba', 'Umbará', 'Vila Izabel', 'Vista Alegre', 'Xaxim', 'Água Verde']"
      ],
      "execution_count": null,
      "outputs": []
    },
    {
      "cell_type": "code",
      "metadata": {
        "id": "8RTrZu-czgU7"
      },
      "source": [
        "def coleta_dados(url, bairro):\n",
        "  conteudo = requests.get(url).content\n",
        "  sopa = BeautifulSoup(conteudo)\n",
        "\n",
        "  lista_precos = []\n",
        "  lista_areas_quartos = []\n",
        "  lista_quartos = []\n",
        "  lista_dimensoes = []\n",
        "  lista_bairros = []\n",
        "\n",
        "  re_quartos = '(.) quarto|quartos'\n",
        "  re_dimensoes = '(.*) m²'\n",
        "\n",
        "  precos = sopa.find_all('span', class_='price-tag-fraction')\n",
        "  dimensoes_e_quartos = sopa.find_all('ul', class_='ui-search-card-attributes ui-search-item__group__element')\n",
        "\n",
        "  for elemento in precos:\n",
        "    preco = re.findall('<span class=\"price-tag-fraction\">(.*)</span>', str(elemento))\n",
        "    lista_precos.append(float(preco[0].replace('.','')))\n",
        "\n",
        "\n",
        "  for elemento in dimensoes_e_quartos:\n",
        "    lista_areas_quartos.append(elemento.text)\n",
        "\n",
        "  for elemento in lista_areas_quartos:\n",
        "    quarto = re.findall(re_quartos, str(elemento))\n",
        "    dimensao = re.findall(re_dimensoes, str(elemento))\n",
        "\n",
        "    if quarto == []:\n",
        "      quarto = np.nan\n",
        "    else:\n",
        "      quarto = quarto[0]\n",
        "    \n",
        "    if dimensao == []:\n",
        "      dimensao = np.nan\n",
        "    else:\n",
        "      dimensao = dimensao[0]\n",
        "  \n",
        "    lista_quartos.append(quarto)\n",
        "    lista_dimensoes.append(dimensao)\n",
        "    lista_bairros.append(bairro)\n",
        "\n",
        "  dados = {'bairro': lista_bairros,\n",
        "           'precos':lista_precos,\n",
        "           'quartos':lista_quartos,\n",
        "           'areas': lista_dimensoes}\n",
        "  \n",
        "  df = pd.DataFrame(dados)\n",
        "  return df"
      ],
      "execution_count": null,
      "outputs": []
    },
    {
      "cell_type": "code",
      "metadata": {
        "id": "g9R-PY6vjpwO"
      },
      "source": [
        "X = 1.230"
      ],
      "execution_count": null,
      "outputs": []
    },
    {
      "cell_type": "code",
      "metadata": {
        "id": "qq-jpmpHjuKB",
        "colab": {
          "base_uri": "https://localhost:8080/",
          "height": 34
        },
        "outputId": "5f2a1da6-08e9-400b-8bce-3a3c67fc3d42"
      },
      "source": [
        "float(X)*1000"
      ],
      "execution_count": null,
      "outputs": [
        {
          "output_type": "execute_result",
          "data": {
            "text/plain": [
              "1230.0"
            ]
          },
          "metadata": {
            "tags": []
          },
          "execution_count": 6
        }
      ]
    },
    {
      "cell_type": "code",
      "metadata": {
        "id": "4Hzu0aXKx0sl",
        "colab": {
          "base_uri": "https://localhost:8080/",
          "height": 1000
        },
        "outputId": "f6383956-9c4d-437f-b990-dc0e0f25ed7a"
      },
      "source": [
        "lista_dfs = []\n",
        "\n",
        "for bairro in bairros:\n",
        "  for pagina in paginas:\n",
        "    url = f'https://imoveis.mercadolivre.com.br/apartamentos/aluguel/parana/curitiba/{bairro}/{pagina}'\n",
        "    print('Coletando dados de', url)\n",
        "    df = coleta_dados(url, bairro)\n",
        "    lista_dfs.append(df)\n",
        "    sleep(2)\n",
        "print('Dados coletados!')"
      ],
      "execution_count": null,
      "outputs": [
        {
          "output_type": "stream",
          "text": [
            "Coletando dados de https://imoveis.mercadolivre.com.br/apartamentos/aluguel/parana/curitiba/Abranches/\n",
            "Coletando dados de https://imoveis.mercadolivre.com.br/apartamentos/aluguel/parana/curitiba/Ahú/\n",
            "Coletando dados de https://imoveis.mercadolivre.com.br/apartamentos/aluguel/parana/curitiba/Alto Boqueirão/\n",
            "Coletando dados de https://imoveis.mercadolivre.com.br/apartamentos/aluguel/parana/curitiba/Alto da Glória/\n",
            "Coletando dados de https://imoveis.mercadolivre.com.br/apartamentos/aluguel/parana/curitiba/Alto da Rua XV/\n",
            "Coletando dados de https://imoveis.mercadolivre.com.br/apartamentos/aluguel/parana/curitiba/Atuba/\n",
            "Coletando dados de https://imoveis.mercadolivre.com.br/apartamentos/aluguel/parana/curitiba/Bacacheri/\n",
            "Coletando dados de https://imoveis.mercadolivre.com.br/apartamentos/aluguel/parana/curitiba/Bairro Alto/\n",
            "Coletando dados de https://imoveis.mercadolivre.com.br/apartamentos/aluguel/parana/curitiba/Batel/\n",
            "Coletando dados de https://imoveis.mercadolivre.com.br/apartamentos/aluguel/parana/curitiba/Bigorrilho/\n",
            "Coletando dados de https://imoveis.mercadolivre.com.br/apartamentos/aluguel/parana/curitiba/Bom Retiro/\n",
            "Coletando dados de https://imoveis.mercadolivre.com.br/apartamentos/aluguel/parana/curitiba/Boqueirão/\n",
            "Coletando dados de https://imoveis.mercadolivre.com.br/apartamentos/aluguel/parana/curitiba/Butiatuvinha/\n",
            "Coletando dados de https://imoveis.mercadolivre.com.br/apartamentos/aluguel/parana/curitiba/Cabral/\n",
            "Coletando dados de https://imoveis.mercadolivre.com.br/apartamentos/aluguel/parana/curitiba/Cachoeira/\n",
            "Coletando dados de https://imoveis.mercadolivre.com.br/apartamentos/aluguel/parana/curitiba/Cajurú/\n",
            "Coletando dados de https://imoveis.mercadolivre.com.br/apartamentos/aluguel/parana/curitiba/Campina do Siqueira/\n",
            "Coletando dados de https://imoveis.mercadolivre.com.br/apartamentos/aluguel/parana/curitiba/Campo Comprido/\n",
            "Coletando dados de https://imoveis.mercadolivre.com.br/apartamentos/aluguel/parana/curitiba/Campo de Santana/\n",
            "Coletando dados de https://imoveis.mercadolivre.com.br/apartamentos/aluguel/parana/curitiba/Capão Raso/\n",
            "Coletando dados de https://imoveis.mercadolivre.com.br/apartamentos/aluguel/parana/curitiba/Capão da Imbuia/\n",
            "Coletando dados de https://imoveis.mercadolivre.com.br/apartamentos/aluguel/parana/curitiba/Cascatinha/\n",
            "Coletando dados de https://imoveis.mercadolivre.com.br/apartamentos/aluguel/parana/curitiba/Centro/\n",
            "Coletando dados de https://imoveis.mercadolivre.com.br/apartamentos/aluguel/parana/curitiba/Centro Civíco/\n",
            "Coletando dados de https://imoveis.mercadolivre.com.br/apartamentos/aluguel/parana/curitiba/Champagnat/\n",
            "Coletando dados de https://imoveis.mercadolivre.com.br/apartamentos/aluguel/parana/curitiba/Cidade Industrial/\n",
            "Coletando dados de https://imoveis.mercadolivre.com.br/apartamentos/aluguel/parana/curitiba/Cristo Rei/\n",
            "Coletando dados de https://imoveis.mercadolivre.com.br/apartamentos/aluguel/parana/curitiba/Fanny/\n",
            "Coletando dados de https://imoveis.mercadolivre.com.br/apartamentos/aluguel/parana/curitiba/Fazendinha/\n",
            "Coletando dados de https://imoveis.mercadolivre.com.br/apartamentos/aluguel/parana/curitiba/Guabirotuba/\n",
            "Coletando dados de https://imoveis.mercadolivre.com.br/apartamentos/aluguel/parana/curitiba/Guaíra/\n",
            "Coletando dados de https://imoveis.mercadolivre.com.br/apartamentos/aluguel/parana/curitiba/Hauer/\n",
            "Coletando dados de https://imoveis.mercadolivre.com.br/apartamentos/aluguel/parana/curitiba/Hugo Lange/\n",
            "Coletando dados de https://imoveis.mercadolivre.com.br/apartamentos/aluguel/parana/curitiba/Jardim Botânico/\n",
            "Coletando dados de https://imoveis.mercadolivre.com.br/apartamentos/aluguel/parana/curitiba/Jardim das Américas/\n",
            "Coletando dados de https://imoveis.mercadolivre.com.br/apartamentos/aluguel/parana/curitiba/Jardim Social/\n",
            "Coletando dados de https://imoveis.mercadolivre.com.br/apartamentos/aluguel/parana/curitiba/Juvevê/\n",
            "Coletando dados de https://imoveis.mercadolivre.com.br/apartamentos/aluguel/parana/curitiba/Lindóia/\n",
            "Coletando dados de https://imoveis.mercadolivre.com.br/apartamentos/aluguel/parana/curitiba/Mercês/\n",
            "Coletando dados de https://imoveis.mercadolivre.com.br/apartamentos/aluguel/parana/curitiba/Mossunguê/\n",
            "Coletando dados de https://imoveis.mercadolivre.com.br/apartamentos/aluguel/parana/curitiba/Novo Mundo/\n",
            "Coletando dados de https://imoveis.mercadolivre.com.br/apartamentos/aluguel/parana/curitiba/Orleans/\n",
            "Coletando dados de https://imoveis.mercadolivre.com.br/apartamentos/aluguel/parana/curitiba/Parolin/\n",
            "Coletando dados de https://imoveis.mercadolivre.com.br/apartamentos/aluguel/parana/curitiba/Pilarzinho/\n",
            "Coletando dados de https://imoveis.mercadolivre.com.br/apartamentos/aluguel/parana/curitiba/Pinheirinho/\n",
            "Coletando dados de https://imoveis.mercadolivre.com.br/apartamentos/aluguel/parana/curitiba/Portão/\n",
            "Coletando dados de https://imoveis.mercadolivre.com.br/apartamentos/aluguel/parana/curitiba/Prado Velho/\n",
            "Coletando dados de https://imoveis.mercadolivre.com.br/apartamentos/aluguel/parana/curitiba/Rebouças/\n",
            "Coletando dados de https://imoveis.mercadolivre.com.br/apartamentos/aluguel/parana/curitiba/Santa Cândida/\n",
            "Coletando dados de https://imoveis.mercadolivre.com.br/apartamentos/aluguel/parana/curitiba/Santa Felicidade/\n",
            "Coletando dados de https://imoveis.mercadolivre.com.br/apartamentos/aluguel/parana/curitiba/Santa Quitéria/\n",
            "Coletando dados de https://imoveis.mercadolivre.com.br/apartamentos/aluguel/parana/curitiba/Santo Inácio/\n",
            "Coletando dados de https://imoveis.mercadolivre.com.br/apartamentos/aluguel/parana/curitiba/Seminário/\n",
            "Coletando dados de https://imoveis.mercadolivre.com.br/apartamentos/aluguel/parana/curitiba/São Lourenço/\n",
            "Coletando dados de https://imoveis.mercadolivre.com.br/apartamentos/aluguel/parana/curitiba/São Braz/\n",
            "Coletando dados de https://imoveis.mercadolivre.com.br/apartamentos/aluguel/parana/curitiba/São Francisco/\n",
            "Coletando dados de https://imoveis.mercadolivre.com.br/apartamentos/aluguel/parana/curitiba/Sítio Cercado/\n",
            "Coletando dados de https://imoveis.mercadolivre.com.br/apartamentos/aluguel/parana/curitiba/Tarumã/\n",
            "Coletando dados de https://imoveis.mercadolivre.com.br/apartamentos/aluguel/parana/curitiba/Tatuquara/\n",
            "Coletando dados de https://imoveis.mercadolivre.com.br/apartamentos/aluguel/parana/curitiba/Tingui/\n",
            "Coletando dados de https://imoveis.mercadolivre.com.br/apartamentos/aluguel/parana/curitiba/Uberaba/\n",
            "Coletando dados de https://imoveis.mercadolivre.com.br/apartamentos/aluguel/parana/curitiba/Umbará/\n",
            "Coletando dados de https://imoveis.mercadolivre.com.br/apartamentos/aluguel/parana/curitiba/Vila Izabel/\n",
            "Coletando dados de https://imoveis.mercadolivre.com.br/apartamentos/aluguel/parana/curitiba/Vista Alegre/\n",
            "Coletando dados de https://imoveis.mercadolivre.com.br/apartamentos/aluguel/parana/curitiba/Xaxim/\n",
            "Coletando dados de https://imoveis.mercadolivre.com.br/apartamentos/aluguel/parana/curitiba/Água Verde/\n",
            "Dados coletados!\n"
          ],
          "name": "stdout"
        }
      ]
    },
    {
      "cell_type": "code",
      "metadata": {
        "id": "3dZA3AW4NABC"
      },
      "source": [
        "df_ml = pd.concat(lista_dfs)"
      ],
      "execution_count": null,
      "outputs": []
    },
    {
      "cell_type": "code",
      "metadata": {
        "id": "mqrJhQWeNBTt",
        "colab": {
          "base_uri": "https://localhost:8080/",
          "height": 402
        },
        "outputId": "52a6d26e-0034-4ccf-f376-5e020eb5de3c"
      },
      "source": [
        "df_ml"
      ],
      "execution_count": null,
      "outputs": [
        {
          "output_type": "execute_result",
          "data": {
            "text/html": [
              "<div>\n",
              "<style scoped>\n",
              "    .dataframe tbody tr th:only-of-type {\n",
              "        vertical-align: middle;\n",
              "    }\n",
              "\n",
              "    .dataframe tbody tr th {\n",
              "        vertical-align: top;\n",
              "    }\n",
              "\n",
              "    .dataframe thead th {\n",
              "        text-align: right;\n",
              "    }\n",
              "</style>\n",
              "<table border=\"1\" class=\"dataframe\">\n",
              "  <thead>\n",
              "    <tr style=\"text-align: right;\">\n",
              "      <th></th>\n",
              "      <th>bairro</th>\n",
              "      <th>precos</th>\n",
              "      <th>quartos</th>\n",
              "      <th>areas</th>\n",
              "    </tr>\n",
              "  </thead>\n",
              "  <tbody>\n",
              "    <tr>\n",
              "      <th>0</th>\n",
              "      <td>Abranches</td>\n",
              "      <td>960.0</td>\n",
              "      <td>1</td>\n",
              "      <td>50</td>\n",
              "    </tr>\n",
              "    <tr>\n",
              "      <th>1</th>\n",
              "      <td>Abranches</td>\n",
              "      <td>862.0</td>\n",
              "      <td>1</td>\n",
              "      <td>40</td>\n",
              "    </tr>\n",
              "    <tr>\n",
              "      <th>2</th>\n",
              "      <td>Abranches</td>\n",
              "      <td>855.0</td>\n",
              "      <td>1</td>\n",
              "      <td>28</td>\n",
              "    </tr>\n",
              "    <tr>\n",
              "      <th>3</th>\n",
              "      <td>Abranches</td>\n",
              "      <td>855.0</td>\n",
              "      <td>1</td>\n",
              "      <td>28</td>\n",
              "    </tr>\n",
              "    <tr>\n",
              "      <th>4</th>\n",
              "      <td>Abranches</td>\n",
              "      <td>855.0</td>\n",
              "      <td>1</td>\n",
              "      <td>28</td>\n",
              "    </tr>\n",
              "    <tr>\n",
              "      <th>...</th>\n",
              "      <td>...</td>\n",
              "      <td>...</td>\n",
              "      <td>...</td>\n",
              "      <td>...</td>\n",
              "    </tr>\n",
              "    <tr>\n",
              "      <th>13</th>\n",
              "      <td>Xaxim</td>\n",
              "      <td>750.0</td>\n",
              "      <td>1</td>\n",
              "      <td>30</td>\n",
              "    </tr>\n",
              "    <tr>\n",
              "      <th>14</th>\n",
              "      <td>Xaxim</td>\n",
              "      <td>1100.0</td>\n",
              "      <td>3</td>\n",
              "      <td>100</td>\n",
              "    </tr>\n",
              "    <tr>\n",
              "      <th>15</th>\n",
              "      <td>Xaxim</td>\n",
              "      <td>1000.0</td>\n",
              "      <td>2</td>\n",
              "      <td>67</td>\n",
              "    </tr>\n",
              "    <tr>\n",
              "      <th>16</th>\n",
              "      <td>Xaxim</td>\n",
              "      <td>1100.0</td>\n",
              "      <td>2</td>\n",
              "      <td>54</td>\n",
              "    </tr>\n",
              "    <tr>\n",
              "      <th>17</th>\n",
              "      <td>Xaxim</td>\n",
              "      <td>1300.0</td>\n",
              "      <td>3</td>\n",
              "      <td>62</td>\n",
              "    </tr>\n",
              "  </tbody>\n",
              "</table>\n",
              "<p>741 rows × 4 columns</p>\n",
              "</div>"
            ],
            "text/plain": [
              "       bairro  precos quartos areas\n",
              "0   Abranches   960.0       1    50\n",
              "1   Abranches   862.0       1    40\n",
              "2   Abranches   855.0       1    28\n",
              "3   Abranches   855.0       1    28\n",
              "4   Abranches   855.0       1    28\n",
              "..        ...     ...     ...   ...\n",
              "13      Xaxim   750.0       1    30\n",
              "14      Xaxim  1100.0       3   100\n",
              "15      Xaxim  1000.0       2    67\n",
              "16      Xaxim  1100.0       2    54\n",
              "17      Xaxim  1300.0       3    62\n",
              "\n",
              "[741 rows x 4 columns]"
            ]
          },
          "metadata": {
            "tags": []
          },
          "execution_count": 46
        }
      ]
    },
    {
      "cell_type": "code",
      "metadata": {
        "id": "8bx9g9VqTSF9"
      },
      "source": [
        "df_ml.to_csv('dados_mercado_livre_ap_curitiba.csv', index=False)"
      ],
      "execution_count": null,
      "outputs": []
    },
    {
      "cell_type": "code",
      "metadata": {
        "id": "GfQhzZiUTjSS",
        "colab": {
          "base_uri": "https://localhost:8080/",
          "height": 297
        },
        "outputId": "1a59a395-e399-4c54-adc4-12cbcbf03320"
      },
      "source": [
        "df_ml.describe()"
      ],
      "execution_count": null,
      "outputs": [
        {
          "output_type": "execute_result",
          "data": {
            "text/html": [
              "<div>\n",
              "<style scoped>\n",
              "    .dataframe tbody tr th:only-of-type {\n",
              "        vertical-align: middle;\n",
              "    }\n",
              "\n",
              "    .dataframe tbody tr th {\n",
              "        vertical-align: top;\n",
              "    }\n",
              "\n",
              "    .dataframe thead th {\n",
              "        text-align: right;\n",
              "    }\n",
              "</style>\n",
              "<table border=\"1\" class=\"dataframe\">\n",
              "  <thead>\n",
              "    <tr style=\"text-align: right;\">\n",
              "      <th></th>\n",
              "      <th>precos</th>\n",
              "    </tr>\n",
              "  </thead>\n",
              "  <tbody>\n",
              "    <tr>\n",
              "      <th>count</th>\n",
              "      <td>1043.000000</td>\n",
              "    </tr>\n",
              "    <tr>\n",
              "      <th>mean</th>\n",
              "      <td>260.193969</td>\n",
              "    </tr>\n",
              "    <tr>\n",
              "      <th>std</th>\n",
              "      <td>376.382200</td>\n",
              "    </tr>\n",
              "    <tr>\n",
              "      <th>min</th>\n",
              "      <td>1.000000</td>\n",
              "    </tr>\n",
              "    <tr>\n",
              "      <th>25%</th>\n",
              "      <td>1.300000</td>\n",
              "    </tr>\n",
              "    <tr>\n",
              "      <th>50%</th>\n",
              "      <td>2.100000</td>\n",
              "    </tr>\n",
              "    <tr>\n",
              "      <th>75%</th>\n",
              "      <td>694.500000</td>\n",
              "    </tr>\n",
              "    <tr>\n",
              "      <th>max</th>\n",
              "      <td>995.000000</td>\n",
              "    </tr>\n",
              "  </tbody>\n",
              "</table>\n",
              "</div>"
            ],
            "text/plain": [
              "            precos\n",
              "count  1043.000000\n",
              "mean    260.193969\n",
              "std     376.382200\n",
              "min       1.000000\n",
              "25%       1.300000\n",
              "50%       2.100000\n",
              "75%     694.500000\n",
              "max     995.000000"
            ]
          },
          "metadata": {
            "tags": []
          },
          "execution_count": 53
        }
      ]
    },
    {
      "cell_type": "code",
      "metadata": {
        "id": "bQBiESjWTnba"
      },
      "source": [
        "da_ml = pd.read_csv('dados_mercado_livre_ap_curitiba.csv')"
      ],
      "execution_count": null,
      "outputs": []
    },
    {
      "cell_type": "code",
      "metadata": {
        "id": "qI6zkPQwYgQl",
        "colab": {
          "base_uri": "https://localhost:8080/",
          "height": 111
        },
        "outputId": "7d1839df-0152-4540-d337-ba75260ae623"
      },
      "source": [
        "da_ml.describe().T"
      ],
      "execution_count": null,
      "outputs": [
        {
          "output_type": "execute_result",
          "data": {
            "text/html": [
              "<div>\n",
              "<style scoped>\n",
              "    .dataframe tbody tr th:only-of-type {\n",
              "        vertical-align: middle;\n",
              "    }\n",
              "\n",
              "    .dataframe tbody tr th {\n",
              "        vertical-align: top;\n",
              "    }\n",
              "\n",
              "    .dataframe thead th {\n",
              "        text-align: right;\n",
              "    }\n",
              "</style>\n",
              "<table border=\"1\" class=\"dataframe\">\n",
              "  <thead>\n",
              "    <tr style=\"text-align: right;\">\n",
              "      <th></th>\n",
              "      <th>count</th>\n",
              "      <th>mean</th>\n",
              "      <th>std</th>\n",
              "      <th>min</th>\n",
              "      <th>25%</th>\n",
              "      <th>50%</th>\n",
              "      <th>75%</th>\n",
              "      <th>max</th>\n",
              "    </tr>\n",
              "  </thead>\n",
              "  <tbody>\n",
              "    <tr>\n",
              "      <th>precos</th>\n",
              "      <td>1043.0</td>\n",
              "      <td>260.193969</td>\n",
              "      <td>376.382200</td>\n",
              "      <td>1.0</td>\n",
              "      <td>1.3</td>\n",
              "      <td>2.1</td>\n",
              "      <td>694.5</td>\n",
              "      <td>995.0</td>\n",
              "    </tr>\n",
              "    <tr>\n",
              "      <th>quartos</th>\n",
              "      <td>1038.0</td>\n",
              "      <td>2.081888</td>\n",
              "      <td>1.028072</td>\n",
              "      <td>1.0</td>\n",
              "      <td>1.0</td>\n",
              "      <td>2.0</td>\n",
              "      <td>3.0</td>\n",
              "      <td>8.0</td>\n",
              "    </tr>\n",
              "  </tbody>\n",
              "</table>\n",
              "</div>"
            ],
            "text/plain": [
              "          count        mean         std  min  25%  50%    75%    max\n",
              "precos   1043.0  260.193969  376.382200  1.0  1.3  2.1  694.5  995.0\n",
              "quartos  1038.0    2.081888    1.028072  1.0  1.0  2.0    3.0    8.0"
            ]
          },
          "metadata": {
            "tags": []
          },
          "execution_count": 55
        }
      ]
    },
    {
      "cell_type": "code",
      "metadata": {
        "id": "U46kjpLjaeIy",
        "colab": {
          "base_uri": "https://localhost:8080/",
          "height": 204
        },
        "outputId": "1aaec72b-dfb6-479f-d201-3a0dc1f56500"
      },
      "source": [
        "da_ml.info()"
      ],
      "execution_count": null,
      "outputs": [
        {
          "output_type": "stream",
          "text": [
            "<class 'pandas.core.frame.DataFrame'>\n",
            "RangeIndex: 1002 entries, 0 to 1001\n",
            "Data columns (total 4 columns):\n",
            " #   Column   Non-Null Count  Dtype  \n",
            "---  ------   --------------  -----  \n",
            " 0   bairro   1002 non-null   object \n",
            " 1   precos   1002 non-null   float64\n",
            " 2   quartos  997 non-null    float64\n",
            " 3   areas    999 non-null    object \n",
            "dtypes: float64(2), object(2)\n",
            "memory usage: 31.4+ KB\n"
          ],
          "name": "stdout"
        }
      ]
    },
    {
      "cell_type": "code",
      "metadata": {
        "id": "02qtD9Ipakkw"
      },
      "source": [
        "da_ml.replace(',','', regex=True,inplace=True)\n",
        "da_ml['areas'] = da_ml['areas'].astype(float)"
      ],
      "execution_count": null,
      "outputs": []
    },
    {
      "cell_type": "code",
      "metadata": {
        "id": "h_MxZEiKbXbS",
        "colab": {
          "base_uri": "https://localhost:8080/",
          "height": 204
        },
        "outputId": "79896b74-a60e-4c66-9c38-231cfc161551"
      },
      "source": [
        "da_ml.info()"
      ],
      "execution_count": null,
      "outputs": [
        {
          "output_type": "stream",
          "text": [
            "<class 'pandas.core.frame.DataFrame'>\n",
            "RangeIndex: 1002 entries, 0 to 1001\n",
            "Data columns (total 4 columns):\n",
            " #   Column   Non-Null Count  Dtype  \n",
            "---  ------   --------------  -----  \n",
            " 0   bairro   1002 non-null   object \n",
            " 1   precos   1002 non-null   float64\n",
            " 2   quartos  997 non-null    float64\n",
            " 3   areas    999 non-null    float64\n",
            "dtypes: float64(3), object(1)\n",
            "memory usage: 31.4+ KB\n"
          ],
          "name": "stdout"
        }
      ]
    },
    {
      "cell_type": "code",
      "metadata": {
        "id": "Z96rhoqFF3vQ",
        "colab": {
          "base_uri": "https://localhost:8080/",
          "height": 102
        },
        "outputId": "5e204203-a1c6-48e6-b314-676fd2f83e6e"
      },
      "source": [
        "da_ml.isnull().sum()"
      ],
      "execution_count": null,
      "outputs": [
        {
          "output_type": "execute_result",
          "data": {
            "text/plain": [
              "bairro     0\n",
              "precos     0\n",
              "quartos    5\n",
              "areas      3\n",
              "dtype: int64"
            ]
          },
          "metadata": {
            "tags": []
          },
          "execution_count": 27
        }
      ]
    },
    {
      "cell_type": "code",
      "metadata": {
        "id": "Z-Ar5NC6Nj6_",
        "colab": {
          "base_uri": "https://localhost:8080/",
          "height": 816
        },
        "outputId": "24d05e82-86b3-4c45-a765-d9f62df3a817"
      },
      "source": [
        "da_ml['bairro'].value_counts()"
      ],
      "execution_count": null,
      "outputs": [
        {
          "output_type": "execute_result",
          "data": {
            "text/plain": [
              "Centro                 239\n",
              "Bigorrilho              70\n",
              "Cidade Industrial       67\n",
              "Santa Quitéria          42\n",
              "Santa Cândida           42\n",
              "Cristo Rei              39\n",
              "Batel                   35\n",
              "Novo Mundo              33\n",
              "Mercês                  30\n",
              "Campo Comprido          29\n",
              "Vila Izabel             26\n",
              "Bacacheri               24\n",
              "Cabral                  23\n",
              "Juvevê                  22\n",
              "Pinheirinho             22\n",
              "Uberaba                 20\n",
              "Seminário               19\n",
              "Tingui                  18\n",
              "Bairro Alto             17\n",
              "Xaxim                   17\n",
              "Mossunguê               16\n",
              "Atuba                   14\n",
              "Fazendinha              11\n",
              "Prado Velho             11\n",
              "Hauer                   11\n",
              "Guabirotuba              9\n",
              "Vista Alegre             9\n",
              "Pilarzinho               9\n",
              "Abranches                9\n",
              "Jardim Social            8\n",
              "Alto da Rua XV           7\n",
              "Santa Felicidade         7\n",
              "Orleans                  6\n",
              "Santo Inácio             6\n",
              "Cachoeira                6\n",
              "Bom Retiro               5\n",
              "Campina do Siqueira      5\n",
              "Hugo Lange               5\n",
              "Fanny                    3\n",
              "Tatuquara                3\n",
              "Parolin                  3\n",
              "São Francisco            1\n",
              "Lindóia                  1\n",
              "Sítio Cercado            1\n",
              "São Braz                 1\n",
              "Umbará                   1\n",
              "Name: bairro, dtype: int64"
            ]
          },
          "metadata": {
            "tags": []
          },
          "execution_count": 28
        }
      ]
    }
  ]
}
