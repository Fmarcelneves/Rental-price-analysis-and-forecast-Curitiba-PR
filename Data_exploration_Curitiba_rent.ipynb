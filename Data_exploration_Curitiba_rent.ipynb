{
  "nbformat": 4,
  "nbformat_minor": 0,
  "metadata": {
    "colab": {
      "name": "Data_exploration-Curitiba_rent.ipynb",
      "provenance": [],
      "collapsed_sections": [],
      "authorship_tag": "ABX9TyNYPpwWz1iYk+bPkaTft5IV",
      "include_colab_link": true
    },
    "kernelspec": {
      "name": "python3",
      "display_name": "Python 3"
    }
  },
  "cells": [
    {
      "cell_type": "markdown",
      "metadata": {
        "id": "view-in-github",
        "colab_type": "text"
      },
      "source": [
        "<a href=\"https://colab.research.google.com/github/Fmarcelneves/Rental-price-analysis-and-forecast-Curitiba-PR/blob/main/Data_exploration_Curitiba_rent.ipynb\" target=\"_parent\"><img src=\"https://colab.research.google.com/assets/colab-badge.svg\" alt=\"Open In Colab\"/></a>"
      ]
    },
    {
      "cell_type": "code",
      "metadata": {
        "id": "RljeZbXOP9WB",
        "colab": {
          "base_uri": "https://localhost:8080/"
        },
        "outputId": "f0aa49d0-6edf-4dce-db8f-63fff033adfa"
      },
      "source": [
        "!pip install geopandas\n",
        "!pip install outlier-removal-101703289\n",
        "import pandas as pd\n",
        "import numpy as np\n",
        "import seaborn as sns\n",
        "import matplotlib.pyplot as plt\n",
        "import geopandas as gpd\n",
        "from outlier_removal.outlier import remove_outlier"
      ],
      "execution_count": null,
      "outputs": [
        {
          "output_type": "stream",
          "text": [
            "Collecting geopandas\n",
            "\u001b[?25l  Downloading https://files.pythonhosted.org/packages/f7/a4/e66aafbefcbb717813bf3a355c8c4fc3ed04ea1dd7feb2920f2f4f868921/geopandas-0.8.1-py2.py3-none-any.whl (962kB)\n",
            "\r\u001b[K     |▍                               | 10kB 18.1MB/s eta 0:00:01\r\u001b[K     |▊                               | 20kB 1.7MB/s eta 0:00:01\r\u001b[K     |█                               | 30kB 2.3MB/s eta 0:00:01\r\u001b[K     |█▍                              | 40kB 2.5MB/s eta 0:00:01\r\u001b[K     |█▊                              | 51kB 2.0MB/s eta 0:00:01\r\u001b[K     |██                              | 61kB 2.2MB/s eta 0:00:01\r\u001b[K     |██▍                             | 71kB 2.5MB/s eta 0:00:01\r\u001b[K     |██▊                             | 81kB 2.7MB/s eta 0:00:01\r\u001b[K     |███                             | 92kB 2.8MB/s eta 0:00:01\r\u001b[K     |███▍                            | 102kB 2.7MB/s eta 0:00:01\r\u001b[K     |███▊                            | 112kB 2.7MB/s eta 0:00:01\r\u001b[K     |████                            | 122kB 2.7MB/s eta 0:00:01\r\u001b[K     |████▍                           | 133kB 2.7MB/s eta 0:00:01\r\u001b[K     |████▊                           | 143kB 2.7MB/s eta 0:00:01\r\u001b[K     |█████                           | 153kB 2.7MB/s eta 0:00:01\r\u001b[K     |█████▌                          | 163kB 2.7MB/s eta 0:00:01\r\u001b[K     |█████▉                          | 174kB 2.7MB/s eta 0:00:01\r\u001b[K     |██████▏                         | 184kB 2.7MB/s eta 0:00:01\r\u001b[K     |██████▌                         | 194kB 2.7MB/s eta 0:00:01\r\u001b[K     |██████▉                         | 204kB 2.7MB/s eta 0:00:01\r\u001b[K     |███████▏                        | 215kB 2.7MB/s eta 0:00:01\r\u001b[K     |███████▌                        | 225kB 2.7MB/s eta 0:00:01\r\u001b[K     |███████▉                        | 235kB 2.7MB/s eta 0:00:01\r\u001b[K     |████████▏                       | 245kB 2.7MB/s eta 0:00:01\r\u001b[K     |████████▌                       | 256kB 2.7MB/s eta 0:00:01\r\u001b[K     |████████▉                       | 266kB 2.7MB/s eta 0:00:01\r\u001b[K     |█████████▏                      | 276kB 2.7MB/s eta 0:00:01\r\u001b[K     |█████████▌                      | 286kB 2.7MB/s eta 0:00:01\r\u001b[K     |█████████▉                      | 296kB 2.7MB/s eta 0:00:01\r\u001b[K     |██████████▏                     | 307kB 2.7MB/s eta 0:00:01\r\u001b[K     |██████████▌                     | 317kB 2.7MB/s eta 0:00:01\r\u001b[K     |███████████                     | 327kB 2.7MB/s eta 0:00:01\r\u001b[K     |███████████▎                    | 337kB 2.7MB/s eta 0:00:01\r\u001b[K     |███████████▋                    | 348kB 2.7MB/s eta 0:00:01\r\u001b[K     |████████████                    | 358kB 2.7MB/s eta 0:00:01\r\u001b[K     |████████████▎                   | 368kB 2.7MB/s eta 0:00:01\r\u001b[K     |████████████▋                   | 378kB 2.7MB/s eta 0:00:01\r\u001b[K     |█████████████                   | 389kB 2.7MB/s eta 0:00:01\r\u001b[K     |█████████████▎                  | 399kB 2.7MB/s eta 0:00:01\r\u001b[K     |█████████████▋                  | 409kB 2.7MB/s eta 0:00:01\r\u001b[K     |██████████████                  | 419kB 2.7MB/s eta 0:00:01\r\u001b[K     |██████████████▎                 | 430kB 2.7MB/s eta 0:00:01\r\u001b[K     |██████████████▋                 | 440kB 2.7MB/s eta 0:00:01\r\u001b[K     |███████████████                 | 450kB 2.7MB/s eta 0:00:01\r\u001b[K     |███████████████▎                | 460kB 2.7MB/s eta 0:00:01\r\u001b[K     |███████████████▋                | 471kB 2.7MB/s eta 0:00:01\r\u001b[K     |████████████████                | 481kB 2.7MB/s eta 0:00:01\r\u001b[K     |████████████████▍               | 491kB 2.7MB/s eta 0:00:01\r\u001b[K     |████████████████▊               | 501kB 2.7MB/s eta 0:00:01\r\u001b[K     |█████████████████               | 512kB 2.7MB/s eta 0:00:01\r\u001b[K     |█████████████████▍              | 522kB 2.7MB/s eta 0:00:01\r\u001b[K     |█████████████████▊              | 532kB 2.7MB/s eta 0:00:01\r\u001b[K     |██████████████████              | 542kB 2.7MB/s eta 0:00:01\r\u001b[K     |██████████████████▍             | 552kB 2.7MB/s eta 0:00:01\r\u001b[K     |██████████████████▊             | 563kB 2.7MB/s eta 0:00:01\r\u001b[K     |███████████████████             | 573kB 2.7MB/s eta 0:00:01\r\u001b[K     |███████████████████▍            | 583kB 2.7MB/s eta 0:00:01\r\u001b[K     |███████████████████▊            | 593kB 2.7MB/s eta 0:00:01\r\u001b[K     |████████████████████            | 604kB 2.7MB/s eta 0:00:01\r\u001b[K     |████████████████████▍           | 614kB 2.7MB/s eta 0:00:01\r\u001b[K     |████████████████████▊           | 624kB 2.7MB/s eta 0:00:01\r\u001b[K     |█████████████████████           | 634kB 2.7MB/s eta 0:00:01\r\u001b[K     |█████████████████████▍          | 645kB 2.7MB/s eta 0:00:01\r\u001b[K     |█████████████████████▉          | 655kB 2.7MB/s eta 0:00:01\r\u001b[K     |██████████████████████▏         | 665kB 2.7MB/s eta 0:00:01\r\u001b[K     |██████████████████████▌         | 675kB 2.7MB/s eta 0:00:01\r\u001b[K     |██████████████████████▉         | 686kB 2.7MB/s eta 0:00:01\r\u001b[K     |███████████████████████▏        | 696kB 2.7MB/s eta 0:00:01\r\u001b[K     |███████████████████████▌        | 706kB 2.7MB/s eta 0:00:01\r\u001b[K     |███████████████████████▉        | 716kB 2.7MB/s eta 0:00:01\r\u001b[K     |████████████████████████▏       | 727kB 2.7MB/s eta 0:00:01\r\u001b[K     |████████████████████████▌       | 737kB 2.7MB/s eta 0:00:01\r\u001b[K     |████████████████████████▉       | 747kB 2.7MB/s eta 0:00:01\r\u001b[K     |█████████████████████████▏      | 757kB 2.7MB/s eta 0:00:01\r\u001b[K     |█████████████████████████▌      | 768kB 2.7MB/s eta 0:00:01\r\u001b[K     |█████████████████████████▉      | 778kB 2.7MB/s eta 0:00:01\r\u001b[K     |██████████████████████████▏     | 788kB 2.7MB/s eta 0:00:01\r\u001b[K     |██████████████████████████▌     | 798kB 2.7MB/s eta 0:00:01\r\u001b[K     |██████████████████████████▉     | 808kB 2.7MB/s eta 0:00:01\r\u001b[K     |███████████████████████████▎    | 819kB 2.7MB/s eta 0:00:01\r\u001b[K     |███████████████████████████▋    | 829kB 2.7MB/s eta 0:00:01\r\u001b[K     |████████████████████████████    | 839kB 2.7MB/s eta 0:00:01\r\u001b[K     |████████████████████████████▎   | 849kB 2.7MB/s eta 0:00:01\r\u001b[K     |████████████████████████████▋   | 860kB 2.7MB/s eta 0:00:01\r\u001b[K     |█████████████████████████████   | 870kB 2.7MB/s eta 0:00:01\r\u001b[K     |█████████████████████████████▎  | 880kB 2.7MB/s eta 0:00:01\r\u001b[K     |█████████████████████████████▋  | 890kB 2.7MB/s eta 0:00:01\r\u001b[K     |██████████████████████████████  | 901kB 2.7MB/s eta 0:00:01\r\u001b[K     |██████████████████████████████▎ | 911kB 2.7MB/s eta 0:00:01\r\u001b[K     |██████████████████████████████▋ | 921kB 2.7MB/s eta 0:00:01\r\u001b[K     |███████████████████████████████ | 931kB 2.7MB/s eta 0:00:01\r\u001b[K     |███████████████████████████████▎| 942kB 2.7MB/s eta 0:00:01\r\u001b[K     |███████████████████████████████▋| 952kB 2.7MB/s eta 0:00:01\r\u001b[K     |████████████████████████████████| 962kB 2.7MB/s eta 0:00:01\r\u001b[K     |████████████████████████████████| 972kB 2.7MB/s \n",
            "\u001b[?25hRequirement already satisfied: shapely in /usr/local/lib/python3.6/dist-packages (from geopandas) (1.7.1)\n",
            "Requirement already satisfied: pandas>=0.23.0 in /usr/local/lib/python3.6/dist-packages (from geopandas) (1.1.4)\n",
            "Collecting pyproj>=2.2.0\n",
            "\u001b[?25l  Downloading https://files.pythonhosted.org/packages/ea/43/e66aed96a039af9e7e1b2a4b8f6c92e876c580811364957d798caaf022fd/pyproj-3.0.0-cp36-cp36m-manylinux2010_x86_64.whl (6.5MB)\n",
            "\u001b[K     |████████████████████████████████| 6.5MB 18.4MB/s \n",
            "\u001b[?25hCollecting fiona\n",
            "\u001b[?25l  Downloading https://files.pythonhosted.org/packages/36/8b/e8b2c11bed5373c8e98edb85ce891b09aa1f4210fd451d0fb3696b7695a2/Fiona-1.8.17-cp36-cp36m-manylinux1_x86_64.whl (14.8MB)\n",
            "\u001b[K     |████████████████████████████████| 14.8MB 312kB/s \n",
            "\u001b[?25hRequirement already satisfied: python-dateutil>=2.7.3 in /usr/local/lib/python3.6/dist-packages (from pandas>=0.23.0->geopandas) (2.8.1)\n",
            "Requirement already satisfied: numpy>=1.15.4 in /usr/local/lib/python3.6/dist-packages (from pandas>=0.23.0->geopandas) (1.18.5)\n",
            "Requirement already satisfied: pytz>=2017.2 in /usr/local/lib/python3.6/dist-packages (from pandas>=0.23.0->geopandas) (2018.9)\n",
            "Requirement already satisfied: certifi in /usr/local/lib/python3.6/dist-packages (from pyproj>=2.2.0->geopandas) (2020.6.20)\n",
            "Requirement already satisfied: click<8,>=4.0 in /usr/local/lib/python3.6/dist-packages (from fiona->geopandas) (7.1.2)\n",
            "Collecting cligj>=0.5\n",
            "  Downloading https://files.pythonhosted.org/packages/ba/06/e3440b1f2dc802d35f329f299ba96153e9fcbfdef75e17f4b61f79430c6a/cligj-0.7.0-py3-none-any.whl\n",
            "Collecting click-plugins>=1.0\n",
            "  Downloading https://files.pythonhosted.org/packages/e9/da/824b92d9942f4e472702488857914bdd50f73021efea15b4cad9aca8ecef/click_plugins-1.1.1-py2.py3-none-any.whl\n",
            "Collecting munch\n",
            "  Downloading https://files.pythonhosted.org/packages/cc/ab/85d8da5c9a45e072301beb37ad7f833cd344e04c817d97e0cc75681d248f/munch-2.5.0-py2.py3-none-any.whl\n",
            "Requirement already satisfied: attrs>=17 in /usr/local/lib/python3.6/dist-packages (from fiona->geopandas) (20.2.0)\n",
            "Requirement already satisfied: six>=1.7 in /usr/local/lib/python3.6/dist-packages (from fiona->geopandas) (1.15.0)\n",
            "Installing collected packages: pyproj, cligj, click-plugins, munch, fiona, geopandas\n",
            "Successfully installed click-plugins-1.1.1 cligj-0.7.0 fiona-1.8.17 geopandas-0.8.1 munch-2.5.0 pyproj-3.0.0\n",
            "Collecting outlier-removal-101703289\n",
            "  Downloading https://files.pythonhosted.org/packages/f3/f2/774e07d794e9840e6fdc6bbb3dcc055eb1dac0c241dfa4c7b22a25bc4423/outlier_removal_101703289-1.0.2-py3-none-any.whl\n",
            "Requirement already satisfied: pandas in /usr/local/lib/python3.6/dist-packages (from outlier-removal-101703289) (1.1.4)\n",
            "Requirement already satisfied: numpy in /usr/local/lib/python3.6/dist-packages (from outlier-removal-101703289) (1.18.5)\n",
            "Requirement already satisfied: pytz>=2017.2 in /usr/local/lib/python3.6/dist-packages (from pandas->outlier-removal-101703289) (2018.9)\n",
            "Requirement already satisfied: python-dateutil>=2.7.3 in /usr/local/lib/python3.6/dist-packages (from pandas->outlier-removal-101703289) (2.8.1)\n",
            "Requirement already satisfied: six>=1.5 in /usr/local/lib/python3.6/dist-packages (from python-dateutil>=2.7.3->pandas->outlier-removal-101703289) (1.15.0)\n",
            "Installing collected packages: outlier-removal-101703289\n",
            "Successfully installed outlier-removal-101703289-1.0.2\n"
          ],
          "name": "stdout"
        }
      ]
    },
    {
      "cell_type": "code",
      "metadata": {
        "id": "yLZeZlhwP9vW"
      },
      "source": [
        "url = 'https://raw.githubusercontent.com/Fmarcelneves/Rental-price-analysis-and-forecast-Curitiba-PR/main/data_mercado_livre_ap_curitiba_rent.xls'\n",
        "da_ml = pd.read_csv('dados_mercado_livre_ap_curitiba.csv')\n",
        "#da_ml = pd.read_csv('dados_mercado_livre_curitiba.csv')"
      ],
      "execution_count": null,
      "outputs": []
    },
    {
      "cell_type": "code",
      "metadata": {
        "id": "pgJBKrPjVQik",
        "colab": {
          "base_uri": "https://localhost:8080/"
        },
        "outputId": "acee5822-ab88-48e1-b7db-370b8f5ae210"
      },
      "source": [
        "da_ml = remove_outlier(da_ml)"
      ],
      "execution_count": null,
      "outputs": [
        {
          "output_type": "stream",
          "text": [
            "/usr/local/lib/python3.6/dist-packages/outlier_removal/outlier.py:24: RuntimeWarning: invalid value encountered in greater\n",
            "  return np.where((col > upper_bound) | (col < lower_bound))\n",
            "/usr/local/lib/python3.6/dist-packages/outlier_removal/outlier.py:24: RuntimeWarning: invalid value encountered in less\n",
            "  return np.where((col > upper_bound) | (col < lower_bound))\n"
          ],
          "name": "stderr"
        }
      ]
    },
    {
      "cell_type": "code",
      "metadata": {
        "id": "aHrnWGd3V2jZ"
      },
      "source": [
        "pd.options.display.float_format = \"{:.2f}\".format"
      ],
      "execution_count": null,
      "outputs": []
    },
    {
      "cell_type": "code",
      "metadata": {
        "id": "ZWgQ82_v423Z"
      },
      "source": [
        "da_ml.replace(',','.', regex=True,inplace=True)\n",
        "da_ml['areas'] = da_ml['areas'].astype(float)"
      ],
      "execution_count": null,
      "outputs": []
    },
    {
      "cell_type": "code",
      "metadata": {
        "id": "_Mx8XwqnQOzg",
        "colab": {
          "base_uri": "https://localhost:8080/",
          "height": 136
        },
        "outputId": "2ff9dd4c-6ae0-4c7d-932b-2c4eff735dd1"
      },
      "source": [
        "da_ml.describe().T"
      ],
      "execution_count": null,
      "outputs": [
        {
          "output_type": "execute_result",
          "data": {
            "text/html": [
              "<div>\n",
              "<style scoped>\n",
              "    .dataframe tbody tr th:only-of-type {\n",
              "        vertical-align: middle;\n",
              "    }\n",
              "\n",
              "    .dataframe tbody tr th {\n",
              "        vertical-align: top;\n",
              "    }\n",
              "\n",
              "    .dataframe thead th {\n",
              "        text-align: right;\n",
              "    }\n",
              "</style>\n",
              "<table border=\"1\" class=\"dataframe\">\n",
              "  <thead>\n",
              "    <tr style=\"text-align: right;\">\n",
              "      <th></th>\n",
              "      <th>count</th>\n",
              "      <th>mean</th>\n",
              "      <th>std</th>\n",
              "      <th>min</th>\n",
              "      <th>25%</th>\n",
              "      <th>50%</th>\n",
              "      <th>75%</th>\n",
              "      <th>max</th>\n",
              "    </tr>\n",
              "  </thead>\n",
              "  <tbody>\n",
              "    <tr>\n",
              "      <th>precos</th>\n",
              "      <td>649.00</td>\n",
              "      <td>1278.98</td>\n",
              "      <td>543.25</td>\n",
              "      <td>400.00</td>\n",
              "      <td>900.00</td>\n",
              "      <td>1150.00</td>\n",
              "      <td>1500.00</td>\n",
              "      <td>3100.00</td>\n",
              "    </tr>\n",
              "    <tr>\n",
              "      <th>quartos</th>\n",
              "      <td>641.00</td>\n",
              "      <td>2.03</td>\n",
              "      <td>0.80</td>\n",
              "      <td>1.00</td>\n",
              "      <td>1.00</td>\n",
              "      <td>2.00</td>\n",
              "      <td>3.00</td>\n",
              "      <td>4.00</td>\n",
              "    </tr>\n",
              "    <tr>\n",
              "      <th>areas</th>\n",
              "      <td>647.00</td>\n",
              "      <td>66.75</td>\n",
              "      <td>47.44</td>\n",
              "      <td>11.00</td>\n",
              "      <td>45.00</td>\n",
              "      <td>57.00</td>\n",
              "      <td>76.00</td>\n",
              "      <td>801.00</td>\n",
              "    </tr>\n",
              "  </tbody>\n",
              "</table>\n",
              "</div>"
            ],
            "text/plain": [
              "         count    mean    std    min    25%     50%     75%     max\n",
              "precos  649.00 1278.98 543.25 400.00 900.00 1150.00 1500.00 3100.00\n",
              "quartos 641.00    2.03   0.80   1.00   1.00    2.00    3.00    4.00\n",
              "areas   647.00   66.75  47.44  11.00  45.00   57.00   76.00  801.00"
            ]
          },
          "metadata": {
            "tags": []
          },
          "execution_count": 6
        }
      ]
    },
    {
      "cell_type": "code",
      "metadata": {
        "id": "7HZ1anQWXQrG"
      },
      "source": [
        "filtro_precos = da_ml['precos'] < 800"
      ],
      "execution_count": null,
      "outputs": []
    },
    {
      "cell_type": "code",
      "metadata": {
        "id": "b5QtEDCRT54x",
        "colab": {
          "base_uri": "https://localhost:8080/",
          "height": 201
        },
        "outputId": "0286a5cc-1d91-45bc-d012-891ba4ba0c5b"
      },
      "source": [
        "da_ml.info()"
      ],
      "execution_count": null,
      "outputs": [
        {
          "output_type": "stream",
          "text": [
            "<class 'pandas.core.frame.DataFrame'>\n",
            "Int64Index: 649 entries, 0 to 740\n",
            "Data columns (total 4 columns):\n",
            " #   Column   Non-Null Count  Dtype  \n",
            "---  ------   --------------  -----  \n",
            " 0   bairro   649 non-null    object \n",
            " 1   precos   649 non-null    float64\n",
            " 2   quartos  641 non-null    float64\n",
            " 3   areas    647 non-null    float64\n",
            "dtypes: float64(3), object(1)\n",
            "memory usage: 25.4+ KB\n"
          ],
          "name": "stdout"
        }
      ]
    },
    {
      "cell_type": "code",
      "metadata": {
        "id": "4YBP90blT9k5",
        "colab": {
          "base_uri": "https://localhost:8080/",
          "height": 100
        },
        "outputId": "95863a6d-2c9f-44c4-c18d-0ac7854cd357"
      },
      "source": [
        "da_ml.isnull().sum()"
      ],
      "execution_count": null,
      "outputs": [
        {
          "output_type": "execute_result",
          "data": {
            "text/plain": [
              "bairro     0\n",
              "precos     0\n",
              "quartos    8\n",
              "areas      2\n",
              "dtype: int64"
            ]
          },
          "metadata": {
            "tags": []
          },
          "execution_count": 12
        }
      ]
    },
    {
      "cell_type": "code",
      "metadata": {
        "id": "35nggR6xT-1F",
        "colab": {
          "base_uri": "https://localhost:8080/",
          "height": 789
        },
        "outputId": "c8ecd656-0229-4e74-957d-92edd5d00356"
      },
      "source": [
        "da_ml['bairro'].value_counts()"
      ],
      "execution_count": null,
      "outputs": [
        {
          "output_type": "execute_result",
          "data": {
            "text/plain": [
              "Cidade Industrial      46\n",
              "Centro                 46\n",
              "Bigorrilho             43\n",
              "Santa Quitéria         36\n",
              "Santa Cândida          36\n",
              "Cristo Rei             31\n",
              "Mercês                 28\n",
              "Novo Mundo             28\n",
              "Vila Izabel            25\n",
              "Pinheirinho            24\n",
              "Cabral                 23\n",
              "Juvevê                 21\n",
              "Batel                  21\n",
              "Uberaba                19\n",
              "Bacacheri              18\n",
              "Campo Comprido         17\n",
              "Bairro Alto            16\n",
              "Seminário              16\n",
              "Xaxim                  16\n",
              "Tingui                 14\n",
              "Prado Velho            13\n",
              "Abranches               9\n",
              "Fazendinha              9\n",
              "Atuba                   8\n",
              "Guabirotuba             8\n",
              "Pilarzinho              7\n",
              "Hauer                   7\n",
              "Jardim Social           7\n",
              "Alto da Rua XV          6\n",
              "Cachoeira               6\n",
              "Mossunguê               5\n",
              "Hugo Lange              4\n",
              "Bom Retiro              4\n",
              "Vista Alegre            4\n",
              "Santo Inácio            4\n",
              "Orleans                 4\n",
              "Tatuquara               3\n",
              "Santa Felicidade        3\n",
              "Parolin                 3\n",
              "Campina do Siqueira     3\n",
              "Fanny                   3\n",
              "Umbará                  2\n",
              "São Braz                1\n",
              "São Francisco           1\n",
              "Sítio Cercado           1\n",
              "Name: bairro, dtype: int64"
            ]
          },
          "metadata": {
            "tags": []
          },
          "execution_count": 13
        }
      ]
    },
    {
      "cell_type": "code",
      "metadata": {
        "id": "wJiVaIEC-VyL",
        "colab": {
          "base_uri": "https://localhost:8080/",
          "height": 1000
        },
        "outputId": "8770937a-3bda-43a9-f09d-87a98ce07257"
      },
      "source": [
        "da_ml.groupby(['bairro']).median().sort_values('precos', ascending=False)"
      ],
      "execution_count": null,
      "outputs": [
        {
          "output_type": "execute_result",
          "data": {
            "text/html": [
              "<div>\n",
              "<style scoped>\n",
              "    .dataframe tbody tr th:only-of-type {\n",
              "        vertical-align: middle;\n",
              "    }\n",
              "\n",
              "    .dataframe tbody tr th {\n",
              "        vertical-align: top;\n",
              "    }\n",
              "\n",
              "    .dataframe thead th {\n",
              "        text-align: right;\n",
              "    }\n",
              "</style>\n",
              "<table border=\"1\" class=\"dataframe\">\n",
              "  <thead>\n",
              "    <tr style=\"text-align: right;\">\n",
              "      <th></th>\n",
              "      <th>precos</th>\n",
              "      <th>quartos</th>\n",
              "      <th>areas</th>\n",
              "    </tr>\n",
              "    <tr>\n",
              "      <th>bairro</th>\n",
              "      <th></th>\n",
              "      <th></th>\n",
              "      <th></th>\n",
              "    </tr>\n",
              "  </thead>\n",
              "  <tbody>\n",
              "    <tr>\n",
              "      <th>Campina do Siqueira</th>\n",
              "      <td>2200.00</td>\n",
              "      <td>2.00</td>\n",
              "      <td>70.00</td>\n",
              "    </tr>\n",
              "    <tr>\n",
              "      <th>Mossunguê</th>\n",
              "      <td>2000.00</td>\n",
              "      <td>3.00</td>\n",
              "      <td>79.00</td>\n",
              "    </tr>\n",
              "    <tr>\n",
              "      <th>Batel</th>\n",
              "      <td>1990.00</td>\n",
              "      <td>3.00</td>\n",
              "      <td>101.00</td>\n",
              "    </tr>\n",
              "    <tr>\n",
              "      <th>Hugo Lange</th>\n",
              "      <td>1950.00</td>\n",
              "      <td>3.00</td>\n",
              "      <td>81.00</td>\n",
              "    </tr>\n",
              "    <tr>\n",
              "      <th>Bigorrilho</th>\n",
              "      <td>1850.00</td>\n",
              "      <td>2.00</td>\n",
              "      <td>98.00</td>\n",
              "    </tr>\n",
              "    <tr>\n",
              "      <th>Vila Izabel</th>\n",
              "      <td>1590.00</td>\n",
              "      <td>3.00</td>\n",
              "      <td>77.00</td>\n",
              "    </tr>\n",
              "    <tr>\n",
              "      <th>Juvevê</th>\n",
              "      <td>1550.00</td>\n",
              "      <td>2.00</td>\n",
              "      <td>55.00</td>\n",
              "    </tr>\n",
              "    <tr>\n",
              "      <th>Atuba</th>\n",
              "      <td>1412.50</td>\n",
              "      <td>2.00</td>\n",
              "      <td>51.50</td>\n",
              "    </tr>\n",
              "    <tr>\n",
              "      <th>Orleans</th>\n",
              "      <td>1400.00</td>\n",
              "      <td>2.00</td>\n",
              "      <td>50.00</td>\n",
              "    </tr>\n",
              "    <tr>\n",
              "      <th>Cabral</th>\n",
              "      <td>1400.00</td>\n",
              "      <td>2.00</td>\n",
              "      <td>78.00</td>\n",
              "    </tr>\n",
              "    <tr>\n",
              "      <th>Bom Retiro</th>\n",
              "      <td>1375.00</td>\n",
              "      <td>2.00</td>\n",
              "      <td>65.50</td>\n",
              "    </tr>\n",
              "    <tr>\n",
              "      <th>Mercês</th>\n",
              "      <td>1350.00</td>\n",
              "      <td>2.00</td>\n",
              "      <td>55.00</td>\n",
              "    </tr>\n",
              "    <tr>\n",
              "      <th>Seminário</th>\n",
              "      <td>1325.00</td>\n",
              "      <td>1.00</td>\n",
              "      <td>57.00</td>\n",
              "    </tr>\n",
              "    <tr>\n",
              "      <th>Bacacheri</th>\n",
              "      <td>1325.00</td>\n",
              "      <td>2.50</td>\n",
              "      <td>80.00</td>\n",
              "    </tr>\n",
              "    <tr>\n",
              "      <th>Cristo Rei</th>\n",
              "      <td>1300.00</td>\n",
              "      <td>1.00</td>\n",
              "      <td>54.00</td>\n",
              "    </tr>\n",
              "    <tr>\n",
              "      <th>Santo Inácio</th>\n",
              "      <td>1295.00</td>\n",
              "      <td>1.50</td>\n",
              "      <td>40.50</td>\n",
              "    </tr>\n",
              "    <tr>\n",
              "      <th>Centro</th>\n",
              "      <td>1250.00</td>\n",
              "      <td>1.00</td>\n",
              "      <td>42.00</td>\n",
              "    </tr>\n",
              "    <tr>\n",
              "      <th>Jardim Social</th>\n",
              "      <td>1200.00</td>\n",
              "      <td>3.00</td>\n",
              "      <td>74.00</td>\n",
              "    </tr>\n",
              "    <tr>\n",
              "      <th>Vista Alegre</th>\n",
              "      <td>1200.00</td>\n",
              "      <td>1.00</td>\n",
              "      <td>32.00</td>\n",
              "    </tr>\n",
              "    <tr>\n",
              "      <th>Alto da Rua XV</th>\n",
              "      <td>1167.50</td>\n",
              "      <td>2.00</td>\n",
              "      <td>61.50</td>\n",
              "    </tr>\n",
              "    <tr>\n",
              "      <th>Tingui</th>\n",
              "      <td>1150.00</td>\n",
              "      <td>2.00</td>\n",
              "      <td>58.00</td>\n",
              "    </tr>\n",
              "    <tr>\n",
              "      <th>Parolin</th>\n",
              "      <td>1090.00</td>\n",
              "      <td>3.00</td>\n",
              "      <td>95.00</td>\n",
              "    </tr>\n",
              "    <tr>\n",
              "      <th>Pilarzinho</th>\n",
              "      <td>1078.00</td>\n",
              "      <td>1.00</td>\n",
              "      <td>60.00</td>\n",
              "    </tr>\n",
              "    <tr>\n",
              "      <th>Cidade Industrial</th>\n",
              "      <td>1020.00</td>\n",
              "      <td>2.00</td>\n",
              "      <td>47.00</td>\n",
              "    </tr>\n",
              "    <tr>\n",
              "      <th>Prado Velho</th>\n",
              "      <td>1005.00</td>\n",
              "      <td>1.00</td>\n",
              "      <td>28.00</td>\n",
              "    </tr>\n",
              "    <tr>\n",
              "      <th>Campo Comprido</th>\n",
              "      <td>1000.00</td>\n",
              "      <td>2.00</td>\n",
              "      <td>54.00</td>\n",
              "    </tr>\n",
              "    <tr>\n",
              "      <th>Uberaba</th>\n",
              "      <td>990.00</td>\n",
              "      <td>2.00</td>\n",
              "      <td>59.00</td>\n",
              "    </tr>\n",
              "    <tr>\n",
              "      <th>Santa Felicidade</th>\n",
              "      <td>990.00</td>\n",
              "      <td>2.00</td>\n",
              "      <td>48.00</td>\n",
              "    </tr>\n",
              "    <tr>\n",
              "      <th>Xaxim</th>\n",
              "      <td>970.00</td>\n",
              "      <td>2.00</td>\n",
              "      <td>58.50</td>\n",
              "    </tr>\n",
              "    <tr>\n",
              "      <th>Santa Cândida</th>\n",
              "      <td>945.00</td>\n",
              "      <td>2.00</td>\n",
              "      <td>51.50</td>\n",
              "    </tr>\n",
              "    <tr>\n",
              "      <th>Santa Quitéria</th>\n",
              "      <td>945.00</td>\n",
              "      <td>2.00</td>\n",
              "      <td>51.50</td>\n",
              "    </tr>\n",
              "    <tr>\n",
              "      <th>Fanny</th>\n",
              "      <td>939.00</td>\n",
              "      <td>2.00</td>\n",
              "      <td>54.00</td>\n",
              "    </tr>\n",
              "    <tr>\n",
              "      <th>Guabirotuba</th>\n",
              "      <td>925.00</td>\n",
              "      <td>1.00</td>\n",
              "      <td>39.50</td>\n",
              "    </tr>\n",
              "    <tr>\n",
              "      <th>Novo Mundo</th>\n",
              "      <td>900.00</td>\n",
              "      <td>2.00</td>\n",
              "      <td>48.00</td>\n",
              "    </tr>\n",
              "    <tr>\n",
              "      <th>Umbará</th>\n",
              "      <td>900.00</td>\n",
              "      <td>2.00</td>\n",
              "      <td>87.50</td>\n",
              "    </tr>\n",
              "    <tr>\n",
              "      <th>Bairro Alto</th>\n",
              "      <td>899.50</td>\n",
              "      <td>2.00</td>\n",
              "      <td>64.50</td>\n",
              "    </tr>\n",
              "    <tr>\n",
              "      <th>Pinheirinho</th>\n",
              "      <td>898.50</td>\n",
              "      <td>2.00</td>\n",
              "      <td>53.00</td>\n",
              "    </tr>\n",
              "    <tr>\n",
              "      <th>Abranches</th>\n",
              "      <td>855.00</td>\n",
              "      <td>1.00</td>\n",
              "      <td>40.00</td>\n",
              "    </tr>\n",
              "    <tr>\n",
              "      <th>Hauer</th>\n",
              "      <td>850.00</td>\n",
              "      <td>2.00</td>\n",
              "      <td>63.00</td>\n",
              "    </tr>\n",
              "    <tr>\n",
              "      <th>São Braz</th>\n",
              "      <td>800.00</td>\n",
              "      <td>3.00</td>\n",
              "      <td>80.00</td>\n",
              "    </tr>\n",
              "    <tr>\n",
              "      <th>São Francisco</th>\n",
              "      <td>800.00</td>\n",
              "      <td>3.00</td>\n",
              "      <td>80.00</td>\n",
              "    </tr>\n",
              "    <tr>\n",
              "      <th>Sítio Cercado</th>\n",
              "      <td>800.00</td>\n",
              "      <td>3.00</td>\n",
              "      <td>80.00</td>\n",
              "    </tr>\n",
              "    <tr>\n",
              "      <th>Fazendinha</th>\n",
              "      <td>790.00</td>\n",
              "      <td>2.00</td>\n",
              "      <td>52.00</td>\n",
              "    </tr>\n",
              "    <tr>\n",
              "      <th>Tatuquara</th>\n",
              "      <td>700.00</td>\n",
              "      <td>2.00</td>\n",
              "      <td>47.00</td>\n",
              "    </tr>\n",
              "    <tr>\n",
              "      <th>Cachoeira</th>\n",
              "      <td>660.00</td>\n",
              "      <td>2.00</td>\n",
              "      <td>45.00</td>\n",
              "    </tr>\n",
              "  </tbody>\n",
              "</table>\n",
              "</div>"
            ],
            "text/plain": [
              "                     precos  quartos  areas\n",
              "bairro                                     \n",
              "Campina do Siqueira 2200.00     2.00  70.00\n",
              "Mossunguê           2000.00     3.00  79.00\n",
              "Batel               1990.00     3.00 101.00\n",
              "Hugo Lange          1950.00     3.00  81.00\n",
              "Bigorrilho          1850.00     2.00  98.00\n",
              "Vila Izabel         1590.00     3.00  77.00\n",
              "Juvevê              1550.00     2.00  55.00\n",
              "Atuba               1412.50     2.00  51.50\n",
              "Orleans             1400.00     2.00  50.00\n",
              "Cabral              1400.00     2.00  78.00\n",
              "Bom Retiro          1375.00     2.00  65.50\n",
              "Mercês              1350.00     2.00  55.00\n",
              "Seminário           1325.00     1.00  57.00\n",
              "Bacacheri           1325.00     2.50  80.00\n",
              "Cristo Rei          1300.00     1.00  54.00\n",
              "Santo Inácio        1295.00     1.50  40.50\n",
              "Centro              1250.00     1.00  42.00\n",
              "Jardim Social       1200.00     3.00  74.00\n",
              "Vista Alegre        1200.00     1.00  32.00\n",
              "Alto da Rua XV      1167.50     2.00  61.50\n",
              "Tingui              1150.00     2.00  58.00\n",
              "Parolin             1090.00     3.00  95.00\n",
              "Pilarzinho          1078.00     1.00  60.00\n",
              "Cidade Industrial   1020.00     2.00  47.00\n",
              "Prado Velho         1005.00     1.00  28.00\n",
              "Campo Comprido      1000.00     2.00  54.00\n",
              "Uberaba              990.00     2.00  59.00\n",
              "Santa Felicidade     990.00     2.00  48.00\n",
              "Xaxim                970.00     2.00  58.50\n",
              "Santa Cândida        945.00     2.00  51.50\n",
              "Santa Quitéria       945.00     2.00  51.50\n",
              "Fanny                939.00     2.00  54.00\n",
              "Guabirotuba          925.00     1.00  39.50\n",
              "Novo Mundo           900.00     2.00  48.00\n",
              "Umbará               900.00     2.00  87.50\n",
              "Bairro Alto          899.50     2.00  64.50\n",
              "Pinheirinho          898.50     2.00  53.00\n",
              "Abranches            855.00     1.00  40.00\n",
              "Hauer                850.00     2.00  63.00\n",
              "São Braz             800.00     3.00  80.00\n",
              "São Francisco        800.00     3.00  80.00\n",
              "Sítio Cercado        800.00     3.00  80.00\n",
              "Fazendinha           790.00     2.00  52.00\n",
              "Tatuquara            700.00     2.00  47.00\n",
              "Cachoeira            660.00     2.00  45.00"
            ]
          },
          "metadata": {
            "tags": []
          },
          "execution_count": 14
        }
      ]
    },
    {
      "cell_type": "code",
      "metadata": {
        "id": "pTcRYGJ8xSCl"
      },
      "source": [
        "da_group = da_ml.groupby(['bairro']).median().sort_values('precos', ascending=False)"
      ],
      "execution_count": null,
      "outputs": []
    },
    {
      "cell_type": "code",
      "metadata": {
        "id": "UNuD1s6y5cCP",
        "colab": {
          "base_uri": "https://localhost:8080/",
          "height": 1000
        },
        "outputId": "19c4bd52-900a-4330-f94d-077be64f027b"
      },
      "source": [
        "sns.pairplot(da_ml, hue='bairro')"
      ],
      "execution_count": null,
      "outputs": [
        {
          "output_type": "stream",
          "text": [
            "/usr/local/lib/python3.6/dist-packages/seaborn/distributions.py:305: UserWarning: Dataset has 0 variance; skipping density estimate.\n",
            "  warnings.warn(msg, UserWarning)\n",
            "/usr/local/lib/python3.6/dist-packages/seaborn/distributions.py:305: UserWarning: Dataset has 0 variance; skipping density estimate.\n",
            "  warnings.warn(msg, UserWarning)\n",
            "/usr/local/lib/python3.6/dist-packages/seaborn/distributions.py:305: UserWarning: Dataset has 0 variance; skipping density estimate.\n",
            "  warnings.warn(msg, UserWarning)\n",
            "/usr/local/lib/python3.6/dist-packages/seaborn/distributions.py:305: UserWarning: Dataset has 0 variance; skipping density estimate.\n",
            "  warnings.warn(msg, UserWarning)\n",
            "/usr/local/lib/python3.6/dist-packages/seaborn/distributions.py:305: UserWarning: Dataset has 0 variance; skipping density estimate.\n",
            "  warnings.warn(msg, UserWarning)\n",
            "/usr/local/lib/python3.6/dist-packages/seaborn/distributions.py:305: UserWarning: Dataset has 0 variance; skipping density estimate.\n",
            "  warnings.warn(msg, UserWarning)\n",
            "/usr/local/lib/python3.6/dist-packages/seaborn/distributions.py:305: UserWarning: Dataset has 0 variance; skipping density estimate.\n",
            "  warnings.warn(msg, UserWarning)\n",
            "/usr/local/lib/python3.6/dist-packages/seaborn/distributions.py:305: UserWarning: Dataset has 0 variance; skipping density estimate.\n",
            "  warnings.warn(msg, UserWarning)\n",
            "/usr/local/lib/python3.6/dist-packages/seaborn/distributions.py:305: UserWarning: Dataset has 0 variance; skipping density estimate.\n",
            "  warnings.warn(msg, UserWarning)\n",
            "/usr/local/lib/python3.6/dist-packages/seaborn/distributions.py:305: UserWarning: Dataset has 0 variance; skipping density estimate.\n",
            "  warnings.warn(msg, UserWarning)\n",
            "/usr/local/lib/python3.6/dist-packages/seaborn/distributions.py:305: UserWarning: Dataset has 0 variance; skipping density estimate.\n",
            "  warnings.warn(msg, UserWarning)\n",
            "/usr/local/lib/python3.6/dist-packages/seaborn/distributions.py:305: UserWarning: Dataset has 0 variance; skipping density estimate.\n",
            "  warnings.warn(msg, UserWarning)\n"
          ],
          "name": "stderr"
        },
        {
          "output_type": "execute_result",
          "data": {
            "text/plain": [
              "<seaborn.axisgrid.PairGrid at 0x7f8072cbb908>"
            ]
          },
          "metadata": {
            "tags": []
          },
          "execution_count": 15
        },
        {
          "output_type": "display_data",
          "data": {
            "image/png": "[encoded data removed]",
            "text/plain": [
              "<Figure size 680x540 with 12 Axes>"
            ]
          },
          "metadata": {
            "tags": [],
            "needs_background": "light"
          }
        }
      ]
    },
    {
      "cell_type": "code",
      "metadata": {
        "id": "h3dYCdjUUcy1",
        "colab": {
          "base_uri": "https://localhost:8080/",
          "height": 278
        },
        "outputId": "45de8f15-b8b6-4601-ff31-add2d64975d9"
      },
      "source": [
        "sns.boxplot(x=\"quartos\", y=\"areas\", data=da_ml, showfliers = False);"
      ],
      "execution_count": null,
      "outputs": [
        {
          "output_type": "display_data",
          "data": {
            "image/png": "[encoded data removed]",
            "text/plain": [
              "<Figure size 432x288 with 1 Axes>"
            ]
          },
          "metadata": {
            "tags": [],
            "needs_background": "light"
          }
        }
      ]
    },
    {
      "cell_type": "code",
      "metadata": {
        "id": "8G5UTx9hVN0r",
        "colab": {
          "base_uri": "https://localhost:8080/",
          "height": 300
        },
        "outputId": "4494fdb3-96cb-48d0-e5a6-6a0b8c3441a3"
      },
      "source": [
        "corrMatrix = sns.heatmap(da_ml.corr(), annot=True);\n",
        "corrMatrix.set_title('Correlation', fontsize=15)"
      ],
      "execution_count": null,
      "outputs": [
        {
          "output_type": "execute_result",
          "data": {
            "text/plain": [
              "Text(0.5, 1.0, 'Correlation')"
            ]
          },
          "metadata": {
            "tags": []
          },
          "execution_count": 17
        },
        {
          "output_type": "display_data",
          "data": {
            "image/png": "[encoded data removed]",
            "text/plain": [
              "<Figure size 432x288 with 2 Axes>"
            ]
          },
          "metadata": {
            "tags": [],
            "needs_background": "light"
          }
        }
      ]
    },
    {
      "cell_type": "code",
      "metadata": {
        "id": "K7pczwnfVm9p",
        "colab": {
          "base_uri": "https://localhost:8080/",
          "height": 440
        },
        "outputId": "1e1d6e26-b964-49b8-9b93-4d856b7c435f"
      },
      "source": [
        "sns.jointplot(x=\"areas\", y=\"precos\", data=da_ml, kind=\"hex\", color=\"r\");"
      ],
      "execution_count": null,
      "outputs": [
        {
          "output_type": "display_data",
          "data": {
            "image/png": "[encoded data removed]",
            "text/plain": [
              "<Figure size 432x432 with 3 Axes>"
            ]
          },
          "metadata": {
            "tags": [],
            "needs_background": "light"
          }
        }
      ]
    },
    {
      "cell_type": "code",
      "metadata": {
        "id": "9cJn3o9IVq_W",
        "colab": {
          "base_uri": "https://localhost:8080/",
          "height": 332
        },
        "outputId": "0be5cc66-cbc7-43ef-b00e-08840cdbb072"
      },
      "source": [
        "sns.boxplot(da_ml['areas']);"
      ],
      "execution_count": null,
      "outputs": [
        {
          "output_type": "stream",
          "text": [
            "/usr/local/lib/python3.6/dist-packages/seaborn/_decorators.py:43: FutureWarning: Pass the following variable as a keyword arg: x. From version 0.12, the only valid positional argument will be `data`, and passing other arguments without an explicit keyword will result in an error or misinterpretation.\n",
            "  FutureWarning\n"
          ],
          "name": "stderr"
        },
        {
          "output_type": "display_data",
          "data": {
            "image/png": "[encoded data removed]",
            "text/plain": [
              "<Figure size 432x288 with 1 Axes>"
            ]
          },
          "metadata": {
            "tags": [],
            "needs_background": "light"
          }
        }
      ]
    },
    {
      "cell_type": "code",
      "metadata": {
        "id": "y3JzHdA2WJhG",
        "colab": {
          "base_uri": "https://localhost:8080/",
          "height": 332
        },
        "outputId": "0fad3973-81bd-4cc5-f575-3de2aac33c5c"
      },
      "source": [
        "sns.boxplot(da_ml['precos']);"
      ],
      "execution_count": null,
      "outputs": [
        {
          "output_type": "stream",
          "text": [
            "/usr/local/lib/python3.6/dist-packages/seaborn/_decorators.py:43: FutureWarning: Pass the following variable as a keyword arg: x. From version 0.12, the only valid positional argument will be `data`, and passing other arguments without an explicit keyword will result in an error or misinterpretation.\n",
            "  FutureWarning\n"
          ],
          "name": "stderr"
        },
        {
          "output_type": "display_data",
          "data": {
            "image/png": "[encoded data removed]",
            "text/plain": [
              "<Figure size 432x288 with 1 Axes>"
            ]
          },
          "metadata": {
            "tags": [],
            "needs_background": "light"
          }
        }
      ]
    },
    {
      "cell_type": "code",
      "metadata": {
        "id": "ANmdxpJ8WLyv",
        "colab": {
          "base_uri": "https://localhost:8080/",
          "height": 332
        },
        "outputId": "4af22356-cf94-4a66-8d47-2101ad70174d"
      },
      "source": [
        "sns.boxplot(da_ml['quartos']);"
      ],
      "execution_count": null,
      "outputs": [
        {
          "output_type": "stream",
          "text": [
            "/usr/local/lib/python3.6/dist-packages/seaborn/_decorators.py:43: FutureWarning: Pass the following variable as a keyword arg: x. From version 0.12, the only valid positional argument will be `data`, and passing other arguments without an explicit keyword will result in an error or misinterpretation.\n",
            "  FutureWarning\n"
          ],
          "name": "stderr"
        },
        {
          "output_type": "display_data",
          "data": {
            "image/png": "[encoded data removed]",
            "text/plain": [
              "<Figure size 432x288 with 1 Axes>"
            ]
          },
          "metadata": {
            "tags": [],
            "needs_background": "light"
          }
        }
      ]
    },
    {
      "cell_type": "code",
      "metadata": {
        "id": "10IrEYmpxFJM",
        "colab": {
          "base_uri": "https://localhost:8080/",
          "height": 219
        },
        "outputId": "148b2202-5839-45a1-fa64-37342d356d7b"
      },
      "source": [
        "da_group.head()"
      ],
      "execution_count": null,
      "outputs": [
        {
          "output_type": "execute_result",
          "data": {
            "text/html": [
              "<div>\n",
              "<style scoped>\n",
              "    .dataframe tbody tr th:only-of-type {\n",
              "        vertical-align: middle;\n",
              "    }\n",
              "\n",
              "    .dataframe tbody tr th {\n",
              "        vertical-align: top;\n",
              "    }\n",
              "\n",
              "    .dataframe thead th {\n",
              "        text-align: right;\n",
              "    }\n",
              "</style>\n",
              "<table border=\"1\" class=\"dataframe\">\n",
              "  <thead>\n",
              "    <tr style=\"text-align: right;\">\n",
              "      <th></th>\n",
              "      <th>precos</th>\n",
              "      <th>quartos</th>\n",
              "      <th>areas</th>\n",
              "    </tr>\n",
              "    <tr>\n",
              "      <th>bairro</th>\n",
              "      <th></th>\n",
              "      <th></th>\n",
              "      <th></th>\n",
              "    </tr>\n",
              "  </thead>\n",
              "  <tbody>\n",
              "    <tr>\n",
              "      <th>Campina do Siqueira</th>\n",
              "      <td>2200.00</td>\n",
              "      <td>2.00</td>\n",
              "      <td>70.00</td>\n",
              "    </tr>\n",
              "    <tr>\n",
              "      <th>Mossunguê</th>\n",
              "      <td>2000.00</td>\n",
              "      <td>3.00</td>\n",
              "      <td>79.00</td>\n",
              "    </tr>\n",
              "    <tr>\n",
              "      <th>Batel</th>\n",
              "      <td>1990.00</td>\n",
              "      <td>3.00</td>\n",
              "      <td>101.00</td>\n",
              "    </tr>\n",
              "    <tr>\n",
              "      <th>Hugo Lange</th>\n",
              "      <td>1950.00</td>\n",
              "      <td>3.00</td>\n",
              "      <td>81.00</td>\n",
              "    </tr>\n",
              "    <tr>\n",
              "      <th>Bigorrilho</th>\n",
              "      <td>1850.00</td>\n",
              "      <td>2.00</td>\n",
              "      <td>98.00</td>\n",
              "    </tr>\n",
              "  </tbody>\n",
              "</table>\n",
              "</div>"
            ],
            "text/plain": [
              "                     precos  quartos  areas\n",
              "bairro                                     \n",
              "Campina do Siqueira 2200.00     2.00  70.00\n",
              "Mossunguê           2000.00     3.00  79.00\n",
              "Batel               1990.00     3.00 101.00\n",
              "Hugo Lange          1950.00     3.00  81.00\n",
              "Bigorrilho          1850.00     2.00  98.00"
            ]
          },
          "metadata": {
            "tags": []
          },
          "execution_count": 39
        }
      ]
    },
    {
      "cell_type": "code",
      "metadata": {
        "id": "lvrP4AycWTPn"
      },
      "source": [
        "da_price = da_group.drop('quartos', 1).drop('areas', 1).reset_index()"
      ],
      "execution_count": null,
      "outputs": []
    },
    {
      "cell_type": "code",
      "metadata": {
        "id": "NVLmL-X8zCzd",
        "colab": {
          "base_uri": "https://localhost:8080/",
          "height": 190
        },
        "outputId": "a569bb0d-7b18-4927-a4d0-347056394252"
      },
      "source": [
        "da_price.head()"
      ],
      "execution_count": null,
      "outputs": [
        {
          "output_type": "execute_result",
          "data": {
            "text/html": [
              "<div>\n",
              "<style scoped>\n",
              "    .dataframe tbody tr th:only-of-type {\n",
              "        vertical-align: middle;\n",
              "    }\n",
              "\n",
              "    .dataframe tbody tr th {\n",
              "        vertical-align: top;\n",
              "    }\n",
              "\n",
              "    .dataframe thead th {\n",
              "        text-align: right;\n",
              "    }\n",
              "</style>\n",
              "<table border=\"1\" class=\"dataframe\">\n",
              "  <thead>\n",
              "    <tr style=\"text-align: right;\">\n",
              "      <th></th>\n",
              "      <th>bairro</th>\n",
              "      <th>precos</th>\n",
              "    </tr>\n",
              "  </thead>\n",
              "  <tbody>\n",
              "    <tr>\n",
              "      <th>0</th>\n",
              "      <td>Campina do Siqueira</td>\n",
              "      <td>2200.00</td>\n",
              "    </tr>\n",
              "    <tr>\n",
              "      <th>1</th>\n",
              "      <td>Mossunguê</td>\n",
              "      <td>2000.00</td>\n",
              "    </tr>\n",
              "    <tr>\n",
              "      <th>2</th>\n",
              "      <td>Batel</td>\n",
              "      <td>1990.00</td>\n",
              "    </tr>\n",
              "    <tr>\n",
              "      <th>3</th>\n",
              "      <td>Hugo Lange</td>\n",
              "      <td>1950.00</td>\n",
              "    </tr>\n",
              "    <tr>\n",
              "      <th>4</th>\n",
              "      <td>Bigorrilho</td>\n",
              "      <td>1850.00</td>\n",
              "    </tr>\n",
              "  </tbody>\n",
              "</table>\n",
              "</div>"
            ],
            "text/plain": [
              "                bairro  precos\n",
              "0  Campina do Siqueira 2200.00\n",
              "1            Mossunguê 2000.00\n",
              "2                Batel 1990.00\n",
              "3           Hugo Lange 1950.00\n",
              "4           Bigorrilho 1850.00"
            ]
          },
          "metadata": {
            "tags": []
          },
          "execution_count": 55
        }
      ]
    },
    {
      "cell_type": "code",
      "metadata": {
        "id": "oyr3Ji4_4y9W",
        "colab": {
          "base_uri": "https://localhost:8080/",
          "height": 1000
        },
        "outputId": "23481968-c0e7-4ce8-a6f2-49ad16e98f3f"
      },
      "source": [
        "da_price"
      ],
      "execution_count": null,
      "outputs": [
        {
          "output_type": "execute_result",
          "data": {
            "text/html": [
              "<div>\n",
              "<style scoped>\n",
              "    .dataframe tbody tr th:only-of-type {\n",
              "        vertical-align: middle;\n",
              "    }\n",
              "\n",
              "    .dataframe tbody tr th {\n",
              "        vertical-align: top;\n",
              "    }\n",
              "\n",
              "    .dataframe thead th {\n",
              "        text-align: right;\n",
              "    }\n",
              "</style>\n",
              "<table border=\"1\" class=\"dataframe\">\n",
              "  <thead>\n",
              "    <tr style=\"text-align: right;\">\n",
              "      <th></th>\n",
              "      <th>bairro</th>\n",
              "      <th>precos</th>\n",
              "    </tr>\n",
              "  </thead>\n",
              "  <tbody>\n",
              "    <tr>\n",
              "      <th>0</th>\n",
              "      <td>Campina do Siqueira</td>\n",
              "      <td>2200.00</td>\n",
              "    </tr>\n",
              "    <tr>\n",
              "      <th>1</th>\n",
              "      <td>Mossunguê</td>\n",
              "      <td>2000.00</td>\n",
              "    </tr>\n",
              "    <tr>\n",
              "      <th>2</th>\n",
              "      <td>Batel</td>\n",
              "      <td>1990.00</td>\n",
              "    </tr>\n",
              "    <tr>\n",
              "      <th>3</th>\n",
              "      <td>Hugo Lange</td>\n",
              "      <td>1950.00</td>\n",
              "    </tr>\n",
              "    <tr>\n",
              "      <th>4</th>\n",
              "      <td>Bigorrilho</td>\n",
              "      <td>1850.00</td>\n",
              "    </tr>\n",
              "    <tr>\n",
              "      <th>5</th>\n",
              "      <td>Vila Izabel</td>\n",
              "      <td>1590.00</td>\n",
              "    </tr>\n",
              "    <tr>\n",
              "      <th>6</th>\n",
              "      <td>Juvevê</td>\n",
              "      <td>1550.00</td>\n",
              "    </tr>\n",
              "    <tr>\n",
              "      <th>7</th>\n",
              "      <td>Atuba</td>\n",
              "      <td>1412.50</td>\n",
              "    </tr>\n",
              "    <tr>\n",
              "      <th>8</th>\n",
              "      <td>Orleans</td>\n",
              "      <td>1400.00</td>\n",
              "    </tr>\n",
              "    <tr>\n",
              "      <th>9</th>\n",
              "      <td>Cabral</td>\n",
              "      <td>1400.00</td>\n",
              "    </tr>\n",
              "    <tr>\n",
              "      <th>10</th>\n",
              "      <td>Bom Retiro</td>\n",
              "      <td>1375.00</td>\n",
              "    </tr>\n",
              "    <tr>\n",
              "      <th>11</th>\n",
              "      <td>Mercês</td>\n",
              "      <td>1350.00</td>\n",
              "    </tr>\n",
              "    <tr>\n",
              "      <th>12</th>\n",
              "      <td>Seminário</td>\n",
              "      <td>1325.00</td>\n",
              "    </tr>\n",
              "    <tr>\n",
              "      <th>13</th>\n",
              "      <td>Bacacheri</td>\n",
              "      <td>1325.00</td>\n",
              "    </tr>\n",
              "    <tr>\n",
              "      <th>14</th>\n",
              "      <td>Cristo Rei</td>\n",
              "      <td>1300.00</td>\n",
              "    </tr>\n",
              "    <tr>\n",
              "      <th>15</th>\n",
              "      <td>Santo Inácio</td>\n",
              "      <td>1295.00</td>\n",
              "    </tr>\n",
              "    <tr>\n",
              "      <th>16</th>\n",
              "      <td>Centro</td>\n",
              "      <td>1250.00</td>\n",
              "    </tr>\n",
              "    <tr>\n",
              "      <th>17</th>\n",
              "      <td>Jardim Social</td>\n",
              "      <td>1200.00</td>\n",
              "    </tr>\n",
              "    <tr>\n",
              "      <th>18</th>\n",
              "      <td>Vista Alegre</td>\n",
              "      <td>1200.00</td>\n",
              "    </tr>\n",
              "    <tr>\n",
              "      <th>19</th>\n",
              "      <td>Alto da Rua XV</td>\n",
              "      <td>1167.50</td>\n",
              "    </tr>\n",
              "    <tr>\n",
              "      <th>20</th>\n",
              "      <td>Tingui</td>\n",
              "      <td>1150.00</td>\n",
              "    </tr>\n",
              "    <tr>\n",
              "      <th>21</th>\n",
              "      <td>Parolin</td>\n",
              "      <td>1090.00</td>\n",
              "    </tr>\n",
              "    <tr>\n",
              "      <th>22</th>\n",
              "      <td>Pilarzinho</td>\n",
              "      <td>1078.00</td>\n",
              "    </tr>\n",
              "    <tr>\n",
              "      <th>23</th>\n",
              "      <td>Cidade Industrial</td>\n",
              "      <td>1020.00</td>\n",
              "    </tr>\n",
              "    <tr>\n",
              "      <th>24</th>\n",
              "      <td>Prado Velho</td>\n",
              "      <td>1005.00</td>\n",
              "    </tr>\n",
              "    <tr>\n",
              "      <th>25</th>\n",
              "      <td>Campo Comprido</td>\n",
              "      <td>1000.00</td>\n",
              "    </tr>\n",
              "    <tr>\n",
              "      <th>26</th>\n",
              "      <td>Uberaba</td>\n",
              "      <td>990.00</td>\n",
              "    </tr>\n",
              "    <tr>\n",
              "      <th>27</th>\n",
              "      <td>Santa Felicidade</td>\n",
              "      <td>990.00</td>\n",
              "    </tr>\n",
              "    <tr>\n",
              "      <th>28</th>\n",
              "      <td>Xaxim</td>\n",
              "      <td>970.00</td>\n",
              "    </tr>\n",
              "    <tr>\n",
              "      <th>29</th>\n",
              "      <td>Santa Cândida</td>\n",
              "      <td>945.00</td>\n",
              "    </tr>\n",
              "    <tr>\n",
              "      <th>30</th>\n",
              "      <td>Santa Quitéria</td>\n",
              "      <td>945.00</td>\n",
              "    </tr>\n",
              "    <tr>\n",
              "      <th>31</th>\n",
              "      <td>Fanny</td>\n",
              "      <td>939.00</td>\n",
              "    </tr>\n",
              "    <tr>\n",
              "      <th>32</th>\n",
              "      <td>Guabirotuba</td>\n",
              "      <td>925.00</td>\n",
              "    </tr>\n",
              "    <tr>\n",
              "      <th>33</th>\n",
              "      <td>Novo Mundo</td>\n",
              "      <td>900.00</td>\n",
              "    </tr>\n",
              "    <tr>\n",
              "      <th>34</th>\n",
              "      <td>Umbará</td>\n",
              "      <td>900.00</td>\n",
              "    </tr>\n",
              "    <tr>\n",
              "      <th>35</th>\n",
              "      <td>Bairro Alto</td>\n",
              "      <td>899.50</td>\n",
              "    </tr>\n",
              "    <tr>\n",
              "      <th>36</th>\n",
              "      <td>Pinheirinho</td>\n",
              "      <td>898.50</td>\n",
              "    </tr>\n",
              "    <tr>\n",
              "      <th>37</th>\n",
              "      <td>Abranches</td>\n",
              "      <td>855.00</td>\n",
              "    </tr>\n",
              "    <tr>\n",
              "      <th>38</th>\n",
              "      <td>Hauer</td>\n",
              "      <td>850.00</td>\n",
              "    </tr>\n",
              "    <tr>\n",
              "      <th>39</th>\n",
              "      <td>São Braz</td>\n",
              "      <td>800.00</td>\n",
              "    </tr>\n",
              "    <tr>\n",
              "      <th>40</th>\n",
              "      <td>São Francisco</td>\n",
              "      <td>800.00</td>\n",
              "    </tr>\n",
              "    <tr>\n",
              "      <th>41</th>\n",
              "      <td>Sítio Cercado</td>\n",
              "      <td>800.00</td>\n",
              "    </tr>\n",
              "    <tr>\n",
              "      <th>42</th>\n",
              "      <td>Fazendinha</td>\n",
              "      <td>790.00</td>\n",
              "    </tr>\n",
              "    <tr>\n",
              "      <th>43</th>\n",
              "      <td>Tatuquara</td>\n",
              "      <td>700.00</td>\n",
              "    </tr>\n",
              "    <tr>\n",
              "      <th>44</th>\n",
              "      <td>Cachoeira</td>\n",
              "      <td>660.00</td>\n",
              "    </tr>\n",
              "  </tbody>\n",
              "</table>\n",
              "</div>"
            ],
            "text/plain": [
              "                 bairro  precos\n",
              "0   Campina do Siqueira 2200.00\n",
              "1             Mossunguê 2000.00\n",
              "2                 Batel 1990.00\n",
              "3            Hugo Lange 1950.00\n",
              "4            Bigorrilho 1850.00\n",
              "5           Vila Izabel 1590.00\n",
              "6                Juvevê 1550.00\n",
              "7                 Atuba 1412.50\n",
              "8               Orleans 1400.00\n",
              "9                Cabral 1400.00\n",
              "10           Bom Retiro 1375.00\n",
              "11               Mercês 1350.00\n",
              "12            Seminário 1325.00\n",
              "13            Bacacheri 1325.00\n",
              "14           Cristo Rei 1300.00\n",
              "15         Santo Inácio 1295.00\n",
              "16               Centro 1250.00\n",
              "17        Jardim Social 1200.00\n",
              "18         Vista Alegre 1200.00\n",
              "19       Alto da Rua XV 1167.50\n",
              "20               Tingui 1150.00\n",
              "21              Parolin 1090.00\n",
              "22           Pilarzinho 1078.00\n",
              "23    Cidade Industrial 1020.00\n",
              "24          Prado Velho 1005.00\n",
              "25       Campo Comprido 1000.00\n",
              "26              Uberaba  990.00\n",
              "27     Santa Felicidade  990.00\n",
              "28                Xaxim  970.00\n",
              "29        Santa Cândida  945.00\n",
              "30       Santa Quitéria  945.00\n",
              "31                Fanny  939.00\n",
              "32          Guabirotuba  925.00\n",
              "33           Novo Mundo  900.00\n",
              "34               Umbará  900.00\n",
              "35          Bairro Alto  899.50\n",
              "36          Pinheirinho  898.50\n",
              "37            Abranches  855.00\n",
              "38                Hauer  850.00\n",
              "39             São Braz  800.00\n",
              "40        São Francisco  800.00\n",
              "41        Sítio Cercado  800.00\n",
              "42           Fazendinha  790.00\n",
              "43            Tatuquara  700.00\n",
              "44            Cachoeira  660.00"
            ]
          },
          "metadata": {
            "tags": []
          },
          "execution_count": 58
        }
      ]
    },
    {
      "cell_type": "code",
      "metadata": {
        "id": "uXhexqI_1oQP"
      },
      "source": [
        "db = gpd.read_file('DIVISA_DE_BAIRROS.shp')"
      ],
      "execution_count": null,
      "outputs": []
    },
    {
      "cell_type": "code",
      "metadata": {
        "id": "2kTXMoK42xqX",
        "colab": {
          "base_uri": "https://localhost:8080/",
          "height": 190
        },
        "outputId": "f3f3edd7-2cae-47ba-e2e6-b6a4e62b6b97"
      },
      "source": [
        "db.head()"
      ],
      "execution_count": null,
      "outputs": [
        {
          "output_type": "execute_result",
          "data": {
            "text/html": [
              "<div>\n",
              "<style scoped>\n",
              "    .dataframe tbody tr th:only-of-type {\n",
              "        vertical-align: middle;\n",
              "    }\n",
              "\n",
              "    .dataframe tbody tr th {\n",
              "        vertical-align: top;\n",
              "    }\n",
              "\n",
              "    .dataframe thead th {\n",
              "        text-align: right;\n",
              "    }\n",
              "</style>\n",
              "<table border=\"1\" class=\"dataframe\">\n",
              "  <thead>\n",
              "    <tr style=\"text-align: right;\">\n",
              "      <th></th>\n",
              "      <th>OBJECTID</th>\n",
              "      <th>CODIGO</th>\n",
              "      <th>TIPO</th>\n",
              "      <th>NOME</th>\n",
              "      <th>FONTE</th>\n",
              "      <th>CD_REGIONA</th>\n",
              "      <th>NM_REGIONA</th>\n",
              "      <th>SHAPE_AREA</th>\n",
              "      <th>SHAPE_LEN</th>\n",
              "      <th>geometry</th>\n",
              "    </tr>\n",
              "  </thead>\n",
              "  <tbody>\n",
              "    <tr>\n",
              "      <th>0</th>\n",
              "      <td>20</td>\n",
              "      <td>9.00</td>\n",
              "      <td>DIVISA DE BAIRROS</td>\n",
              "      <td>ÁGUA VERDE</td>\n",
              "      <td>Decreto Municipal 774 / 1975</td>\n",
              "      <td>7.00</td>\n",
              "      <td>REGIONAL PORTÃO</td>\n",
              "      <td>4773046.30</td>\n",
              "      <td>9760.92</td>\n",
              "      <td>POLYGON ((673879.287 7183803.691, 673907.541 7...</td>\n",
              "    </tr>\n",
              "    <tr>\n",
              "      <th>1</th>\n",
              "      <td>22</td>\n",
              "      <td>18.00</td>\n",
              "      <td>DIVISA DE BAIRROS</td>\n",
              "      <td>JARDIM SOCIAL</td>\n",
              "      <td>Decreto Municipal 774 / 1975</td>\n",
              "      <td>1.00</td>\n",
              "      <td>REGIONAL MATRIZ</td>\n",
              "      <td>1958421.84</td>\n",
              "      <td>6055.95</td>\n",
              "      <td>POLYGON ((678071.018 7187798.489, 678071.550 7...</td>\n",
              "    </tr>\n",
              "    <tr>\n",
              "      <th>2</th>\n",
              "      <td>23</td>\n",
              "      <td>57.00</td>\n",
              "      <td>DIVISA DE BAIRROS</td>\n",
              "      <td>XAXIM</td>\n",
              "      <td>Decreto Municipal 774 / 1975</td>\n",
              "      <td>2.00</td>\n",
              "      <td>REGIONAL BOQUEIRÃO</td>\n",
              "      <td>9085390.75</td>\n",
              "      <td>13783.59</td>\n",
              "      <td>POLYGON ((674448.852 7179898.885, 674532.900 7...</td>\n",
              "    </tr>\n",
              "    <tr>\n",
              "      <th>3</th>\n",
              "      <td>5</td>\n",
              "      <td>22.00</td>\n",
              "      <td>DIVISA DE BAIRROS</td>\n",
              "      <td>JARDIM DAS AMÉRICAS</td>\n",
              "      <td>Decreto Municipal 774 / 1975</td>\n",
              "      <td>3.00</td>\n",
              "      <td>REGIONAL CAJURU</td>\n",
              "      <td>3859033.54</td>\n",
              "      <td>8818.50</td>\n",
              "      <td>POLYGON ((678209.542 7181641.525, 678107.870 7...</td>\n",
              "    </tr>\n",
              "    <tr>\n",
              "      <th>4</th>\n",
              "      <td>9</td>\n",
              "      <td>26.00</td>\n",
              "      <td>DIVISA DE BAIRROS</td>\n",
              "      <td>GUAÍRA</td>\n",
              "      <td>Decreto Municipal 774 / 1975</td>\n",
              "      <td>7.00</td>\n",
              "      <td>REGIONAL PORTÃO</td>\n",
              "      <td>2311397.49</td>\n",
              "      <td>6351.96</td>\n",
              "      <td>POLYGON ((672709.614 7181167.829, 672599.420 7...</td>\n",
              "    </tr>\n",
              "  </tbody>\n",
              "</table>\n",
              "</div>"
            ],
            "text/plain": [
              "   OBJECTID  ...                                           geometry\n",
              "0        20  ...  POLYGON ((673879.287 7183803.691, 673907.541 7...\n",
              "1        22  ...  POLYGON ((678071.018 7187798.489, 678071.550 7...\n",
              "2        23  ...  POLYGON ((674448.852 7179898.885, 674532.900 7...\n",
              "3         5  ...  POLYGON ((678209.542 7181641.525, 678107.870 7...\n",
              "4         9  ...  POLYGON ((672709.614 7181167.829, 672599.420 7...\n",
              "\n",
              "[5 rows x 10 columns]"
            ]
          },
          "metadata": {
            "tags": []
          },
          "execution_count": 34
        }
      ]
    },
    {
      "cell_type": "code",
      "metadata": {
        "id": "f2qfKgDgFoWh",
        "colab": {
          "base_uri": "https://localhost:8080/",
          "height": 218
        },
        "outputId": "d17cee56-9119-42ac-bbb8-7ca3dc013a21"
      },
      "source": [
        "merged[\"NOME\"].value_counts()"
      ],
      "execution_count": null,
      "outputs": [
        {
          "output_type": "execute_result",
          "data": {
            "text/plain": [
              "SEMINÁRIO                        1\n",
              "CIDADE INDUSTRIAL DE CURITIBA    1\n",
              "AHÚ                              1\n",
              "NOVO MUNDO                       1\n",
              "VILA IZABEL                      1\n",
              "                                ..\n",
              "BOA VISTA                        1\n",
              "CAPÃO RASO                       1\n",
              "CAMPO COMPRIDO                   1\n",
              "CENTRO                           1\n",
              "SANTA FELICIDADE                 1\n",
              "Name: NOME, Length: 75, dtype: int64"
            ]
          },
          "metadata": {
            "tags": []
          },
          "execution_count": 128
        }
      ]
    },
    {
      "cell_type": "code",
      "metadata": {
        "id": "Gv-MyMbswP7E"
      },
      "source": [
        "db['bairro'] = db['NOME'].str.capitalize()"
      ],
      "execution_count": null,
      "outputs": []
    },
    {
      "cell_type": "code",
      "metadata": {
        "id": "MMrKFBHnwp6j",
        "colab": {
          "base_uri": "https://localhost:8080/",
          "height": 190
        },
        "outputId": "d7658d59-8088-4b9b-8e60-e9e99ec1ffe0"
      },
      "source": [
        "db.head()"
      ],
      "execution_count": null,
      "outputs": [
        {
          "output_type": "execute_result",
          "data": {
            "text/html": [
              "<div>\n",
              "<style scoped>\n",
              "    .dataframe tbody tr th:only-of-type {\n",
              "        vertical-align: middle;\n",
              "    }\n",
              "\n",
              "    .dataframe tbody tr th {\n",
              "        vertical-align: top;\n",
              "    }\n",
              "\n",
              "    .dataframe thead th {\n",
              "        text-align: right;\n",
              "    }\n",
              "</style>\n",
              "<table border=\"1\" class=\"dataframe\">\n",
              "  <thead>\n",
              "    <tr style=\"text-align: right;\">\n",
              "      <th></th>\n",
              "      <th>OBJECTID</th>\n",
              "      <th>CODIGO</th>\n",
              "      <th>TIPO</th>\n",
              "      <th>NOME</th>\n",
              "      <th>FONTE</th>\n",
              "      <th>CD_REGIONA</th>\n",
              "      <th>NM_REGIONA</th>\n",
              "      <th>SHAPE_AREA</th>\n",
              "      <th>SHAPE_LEN</th>\n",
              "      <th>geometry</th>\n",
              "      <th>bairro</th>\n",
              "    </tr>\n",
              "  </thead>\n",
              "  <tbody>\n",
              "    <tr>\n",
              "      <th>0</th>\n",
              "      <td>20</td>\n",
              "      <td>9.00</td>\n",
              "      <td>DIVISA DE BAIRROS</td>\n",
              "      <td>ÁGUA VERDE</td>\n",
              "      <td>Decreto Municipal 774 / 1975</td>\n",
              "      <td>7.00</td>\n",
              "      <td>REGIONAL PORTÃO</td>\n",
              "      <td>4773046.30</td>\n",
              "      <td>9760.92</td>\n",
              "      <td>POLYGON ((673879.287 7183803.691, 673907.541 7...</td>\n",
              "      <td>Água verde</td>\n",
              "    </tr>\n",
              "    <tr>\n",
              "      <th>1</th>\n",
              "      <td>22</td>\n",
              "      <td>18.00</td>\n",
              "      <td>DIVISA DE BAIRROS</td>\n",
              "      <td>JARDIM SOCIAL</td>\n",
              "      <td>Decreto Municipal 774 / 1975</td>\n",
              "      <td>1.00</td>\n",
              "      <td>REGIONAL MATRIZ</td>\n",
              "      <td>1958421.84</td>\n",
              "      <td>6055.95</td>\n",
              "      <td>POLYGON ((678071.018 7187798.489, 678071.550 7...</td>\n",
              "      <td>Jardim social</td>\n",
              "    </tr>\n",
              "    <tr>\n",
              "      <th>2</th>\n",
              "      <td>23</td>\n",
              "      <td>57.00</td>\n",
              "      <td>DIVISA DE BAIRROS</td>\n",
              "      <td>XAXIM</td>\n",
              "      <td>Decreto Municipal 774 / 1975</td>\n",
              "      <td>2.00</td>\n",
              "      <td>REGIONAL BOQUEIRÃO</td>\n",
              "      <td>9085390.75</td>\n",
              "      <td>13783.59</td>\n",
              "      <td>POLYGON ((674448.852 7179898.885, 674532.900 7...</td>\n",
              "      <td>Xaxim</td>\n",
              "    </tr>\n",
              "    <tr>\n",
              "      <th>3</th>\n",
              "      <td>5</td>\n",
              "      <td>22.00</td>\n",
              "      <td>DIVISA DE BAIRROS</td>\n",
              "      <td>JARDIM DAS AMÉRICAS</td>\n",
              "      <td>Decreto Municipal 774 / 1975</td>\n",
              "      <td>3.00</td>\n",
              "      <td>REGIONAL CAJURU</td>\n",
              "      <td>3859033.54</td>\n",
              "      <td>8818.50</td>\n",
              "      <td>POLYGON ((678209.542 7181641.525, 678107.870 7...</td>\n",
              "      <td>Jardim das américas</td>\n",
              "    </tr>\n",
              "    <tr>\n",
              "      <th>4</th>\n",
              "      <td>9</td>\n",
              "      <td>26.00</td>\n",
              "      <td>DIVISA DE BAIRROS</td>\n",
              "      <td>GUAÍRA</td>\n",
              "      <td>Decreto Municipal 774 / 1975</td>\n",
              "      <td>7.00</td>\n",
              "      <td>REGIONAL PORTÃO</td>\n",
              "      <td>2311397.49</td>\n",
              "      <td>6351.96</td>\n",
              "      <td>POLYGON ((672709.614 7181167.829, 672599.420 7...</td>\n",
              "      <td>Guaíra</td>\n",
              "    </tr>\n",
              "  </tbody>\n",
              "</table>\n",
              "</div>"
            ],
            "text/plain": [
              "   OBJECTID  ...               bairro\n",
              "0        20  ...           Água verde\n",
              "1        22  ...        Jardim social\n",
              "2        23  ...                Xaxim\n",
              "3         5  ...  Jardim das américas\n",
              "4         9  ...               Guaíra\n",
              "\n",
              "[5 rows x 11 columns]"
            ]
          },
          "metadata": {
            "tags": []
          },
          "execution_count": 110
        }
      ]
    },
    {
      "cell_type": "code",
      "metadata": {
        "id": "YdlWmMeGzZrY"
      },
      "source": [
        "merged = db.set_index('bairro').join(da_price.set_index('bairro'))\n",
        "merged = merged.reset_index()\n",
        "#merged = merged.fillna(0)"
      ],
      "execution_count": null,
      "outputs": []
    },
    {
      "cell_type": "code",
      "metadata": {
        "id": "L4WIxGGmF_bA"
      },
      "source": [
        "merged[\"\"].value_counts()"
      ],
      "execution_count": null,
      "outputs": []
    },
    {
      "cell_type": "code",
      "metadata": {
        "id": "mUr0P1Tn79dq",
        "colab": {
          "base_uri": "https://localhost:8080/",
          "height": 392
        },
        "outputId": "8755bba7-c489-4f8f-d10f-f9cecab72421"
      },
      "source": [
        "merged"
      ],
      "execution_count": null,
      "outputs": [
        {
          "output_type": "execute_result",
          "data": {
            "text/html": [
              "<div>\n",
              "<style scoped>\n",
              "    .dataframe tbody tr th:only-of-type {\n",
              "        vertical-align: middle;\n",
              "    }\n",
              "\n",
              "    .dataframe tbody tr th {\n",
              "        vertical-align: top;\n",
              "    }\n",
              "\n",
              "    .dataframe thead th {\n",
              "        text-align: right;\n",
              "    }\n",
              "</style>\n",
              "<table border=\"1\" class=\"dataframe\">\n",
              "  <thead>\n",
              "    <tr style=\"text-align: right;\">\n",
              "      <th></th>\n",
              "      <th>bairro</th>\n",
              "      <th>OBJECTID</th>\n",
              "      <th>CODIGO</th>\n",
              "      <th>TIPO</th>\n",
              "      <th>NOME</th>\n",
              "      <th>FONTE</th>\n",
              "      <th>CD_REGIONA</th>\n",
              "      <th>NM_REGIONA</th>\n",
              "      <th>SHAPE_AREA</th>\n",
              "      <th>SHAPE_LEN</th>\n",
              "      <th>geometry</th>\n",
              "      <th>precos</th>\n",
              "    </tr>\n",
              "  </thead>\n",
              "  <tbody>\n",
              "    <tr>\n",
              "      <th>0</th>\n",
              "      <td>Água verde</td>\n",
              "      <td>20</td>\n",
              "      <td>9.00</td>\n",
              "      <td>DIVISA DE BAIRROS</td>\n",
              "      <td>ÁGUA VERDE</td>\n",
              "      <td>Decreto Municipal 774 / 1975</td>\n",
              "      <td>7.00</td>\n",
              "      <td>REGIONAL PORTÃO</td>\n",
              "      <td>4773046.30</td>\n",
              "      <td>9760.92</td>\n",
              "      <td>POLYGON ((673879.287 7183803.691, 673907.541 7...</td>\n",
              "      <td>nan</td>\n",
              "    </tr>\n",
              "    <tr>\n",
              "      <th>1</th>\n",
              "      <td>Jardim social</td>\n",
              "      <td>22</td>\n",
              "      <td>18.00</td>\n",
              "      <td>DIVISA DE BAIRROS</td>\n",
              "      <td>JARDIM SOCIAL</td>\n",
              "      <td>Decreto Municipal 774 / 1975</td>\n",
              "      <td>1.00</td>\n",
              "      <td>REGIONAL MATRIZ</td>\n",
              "      <td>1958421.84</td>\n",
              "      <td>6055.95</td>\n",
              "      <td>POLYGON ((678071.018 7187798.489, 678071.550 7...</td>\n",
              "      <td>nan</td>\n",
              "    </tr>\n",
              "    <tr>\n",
              "      <th>2</th>\n",
              "      <td>Xaxim</td>\n",
              "      <td>23</td>\n",
              "      <td>57.00</td>\n",
              "      <td>DIVISA DE BAIRROS</td>\n",
              "      <td>XAXIM</td>\n",
              "      <td>Decreto Municipal 774 / 1975</td>\n",
              "      <td>2.00</td>\n",
              "      <td>REGIONAL BOQUEIRÃO</td>\n",
              "      <td>9085390.75</td>\n",
              "      <td>13783.59</td>\n",
              "      <td>POLYGON ((674448.852 7179898.885, 674532.900 7...</td>\n",
              "      <td>970.00</td>\n",
              "    </tr>\n",
              "    <tr>\n",
              "      <th>3</th>\n",
              "      <td>Jardim das américas</td>\n",
              "      <td>5</td>\n",
              "      <td>22.00</td>\n",
              "      <td>DIVISA DE BAIRROS</td>\n",
              "      <td>JARDIM DAS AMÉRICAS</td>\n",
              "      <td>Decreto Municipal 774 / 1975</td>\n",
              "      <td>3.00</td>\n",
              "      <td>REGIONAL CAJURU</td>\n",
              "      <td>3859033.54</td>\n",
              "      <td>8818.50</td>\n",
              "      <td>POLYGON ((678209.542 7181641.525, 678107.870 7...</td>\n",
              "      <td>nan</td>\n",
              "    </tr>\n",
              "    <tr>\n",
              "      <th>4</th>\n",
              "      <td>Guaíra</td>\n",
              "      <td>9</td>\n",
              "      <td>26.00</td>\n",
              "      <td>DIVISA DE BAIRROS</td>\n",
              "      <td>GUAÍRA</td>\n",
              "      <td>Decreto Municipal 774 / 1975</td>\n",
              "      <td>7.00</td>\n",
              "      <td>REGIONAL PORTÃO</td>\n",
              "      <td>2311397.49</td>\n",
              "      <td>6351.96</td>\n",
              "      <td>POLYGON ((672709.614 7181167.829, 672599.420 7...</td>\n",
              "      <td>nan</td>\n",
              "    </tr>\n",
              "    <tr>\n",
              "      <th>...</th>\n",
              "      <td>...</td>\n",
              "      <td>...</td>\n",
              "      <td>...</td>\n",
              "      <td>...</td>\n",
              "      <td>...</td>\n",
              "      <td>...</td>\n",
              "      <td>...</td>\n",
              "      <td>...</td>\n",
              "      <td>...</td>\n",
              "      <td>...</td>\n",
              "      <td>...</td>\n",
              "      <td>...</td>\n",
              "    </tr>\n",
              "    <tr>\n",
              "      <th>70</th>\n",
              "      <td>Vista alegre</td>\n",
              "      <td>69</td>\n",
              "      <td>31.00</td>\n",
              "      <td>DIVISA DE BAIRROS</td>\n",
              "      <td>VISTA ALEGRE</td>\n",
              "      <td>Decreto Municipal 774 / 1975</td>\n",
              "      <td>5.00</td>\n",
              "      <td>REGIONAL SANTA FELICIDADE</td>\n",
              "      <td>3698848.44</td>\n",
              "      <td>10150.09</td>\n",
              "      <td>POLYGON ((670685.577 7190127.767, 670738.147 7...</td>\n",
              "      <td>nan</td>\n",
              "    </tr>\n",
              "    <tr>\n",
              "      <th>71</th>\n",
              "      <td>São braz</td>\n",
              "      <td>70</td>\n",
              "      <td>60.00</td>\n",
              "      <td>DIVISA DE BAIRROS</td>\n",
              "      <td>SÃO BRAZ</td>\n",
              "      <td>Decreto Municipal 774 / 1975</td>\n",
              "      <td>5.00</td>\n",
              "      <td>REGIONAL SANTA FELICIDADE</td>\n",
              "      <td>5060314.52</td>\n",
              "      <td>11698.61</td>\n",
              "      <td>POLYGON ((666526.702 7189297.194, 666532.818 7...</td>\n",
              "      <td>nan</td>\n",
              "    </tr>\n",
              "    <tr>\n",
              "      <th>72</th>\n",
              "      <td>São joão</td>\n",
              "      <td>71</td>\n",
              "      <td>48.00</td>\n",
              "      <td>DIVISA DE BAIRROS</td>\n",
              "      <td>SÃO JOÃO</td>\n",
              "      <td>Decreto Municipal 774 / 1975</td>\n",
              "      <td>5.00</td>\n",
              "      <td>REGIONAL SANTA FELICIDADE</td>\n",
              "      <td>3036122.13</td>\n",
              "      <td>8110.40</td>\n",
              "      <td>POLYGON ((670541.326 7191452.778, 670581.372 7...</td>\n",
              "      <td>nan</td>\n",
              "    </tr>\n",
              "    <tr>\n",
              "      <th>73</th>\n",
              "      <td>Cascatinha</td>\n",
              "      <td>74</td>\n",
              "      <td>47.00</td>\n",
              "      <td>DIVISA DE BAIRROS</td>\n",
              "      <td>CASCATINHA</td>\n",
              "      <td>Decreto Municipal 774 / 1975</td>\n",
              "      <td>5.00</td>\n",
              "      <td>REGIONAL SANTA FELICIDADE</td>\n",
              "      <td>2182141.59</td>\n",
              "      <td>8730.82</td>\n",
              "      <td>POLYGON ((670467.226 7189102.620, 670469.130 7...</td>\n",
              "      <td>nan</td>\n",
              "    </tr>\n",
              "    <tr>\n",
              "      <th>74</th>\n",
              "      <td>Santa felicidade</td>\n",
              "      <td>75</td>\n",
              "      <td>63.00</td>\n",
              "      <td>DIVISA DE BAIRROS</td>\n",
              "      <td>SANTA FELICIDADE</td>\n",
              "      <td>Decreto Municipal 774 / 1975</td>\n",
              "      <td>5.00</td>\n",
              "      <td>REGIONAL SANTA FELICIDADE</td>\n",
              "      <td>12175993.27</td>\n",
              "      <td>19182.71</td>\n",
              "      <td>POLYGON ((669164.324 7190311.103, 669198.939 7...</td>\n",
              "      <td>nan</td>\n",
              "    </tr>\n",
              "  </tbody>\n",
              "</table>\n",
              "<p>75 rows × 12 columns</p>\n",
              "</div>"
            ],
            "text/plain": [
              "                 bairro  ...  precos\n",
              "0            Água verde  ...     nan\n",
              "1         Jardim social  ...     nan\n",
              "2                 Xaxim  ...  970.00\n",
              "3   Jardim das américas  ...     nan\n",
              "4                Guaíra  ...     nan\n",
              "..                  ...  ...     ...\n",
              "70         Vista alegre  ...     nan\n",
              "71             São braz  ...     nan\n",
              "72             São joão  ...     nan\n",
              "73           Cascatinha  ...     nan\n",
              "74     Santa felicidade  ...     nan\n",
              "\n",
              "[75 rows x 12 columns]"
            ]
          },
          "metadata": {
            "tags": []
          },
          "execution_count": 112
        }
      ]
    },
    {
      "cell_type": "code",
      "metadata": {
        "id": "VpxsTB8tC9OK"
      },
      "source": [
        "merged['precos'] = merged['precos'].fillna(merged.groupby('NM_REGIONA')['precos'].transform('median'))"
      ],
      "execution_count": null,
      "outputs": []
    },
    {
      "cell_type": "code",
      "metadata": {
        "id": "rWrrfb_P5pwN",
        "colab": {
          "base_uri": "https://localhost:8080/",
          "height": 190
        },
        "outputId": "390791ed-50f1-4aa9-c2de-7d3743ab9185"
      },
      "source": [
        "merged.head()"
      ],
      "execution_count": null,
      "outputs": [
        {
          "output_type": "execute_result",
          "data": {
            "text/html": [
              "<div>\n",
              "<style scoped>\n",
              "    .dataframe tbody tr th:only-of-type {\n",
              "        vertical-align: middle;\n",
              "    }\n",
              "\n",
              "    .dataframe tbody tr th {\n",
              "        vertical-align: top;\n",
              "    }\n",
              "\n",
              "    .dataframe thead th {\n",
              "        text-align: right;\n",
              "    }\n",
              "</style>\n",
              "<table border=\"1\" class=\"dataframe\">\n",
              "  <thead>\n",
              "    <tr style=\"text-align: right;\">\n",
              "      <th></th>\n",
              "      <th>bairro</th>\n",
              "      <th>OBJECTID</th>\n",
              "      <th>CODIGO</th>\n",
              "      <th>TIPO</th>\n",
              "      <th>NOME</th>\n",
              "      <th>FONTE</th>\n",
              "      <th>CD_REGIONA</th>\n",
              "      <th>NM_REGIONA</th>\n",
              "      <th>SHAPE_AREA</th>\n",
              "      <th>SHAPE_LEN</th>\n",
              "      <th>geometry</th>\n",
              "      <th>precos</th>\n",
              "    </tr>\n",
              "  </thead>\n",
              "  <tbody>\n",
              "    <tr>\n",
              "      <th>0</th>\n",
              "      <td>Água verde</td>\n",
              "      <td>20</td>\n",
              "      <td>9.00</td>\n",
              "      <td>DIVISA DE BAIRROS</td>\n",
              "      <td>ÁGUA VERDE</td>\n",
              "      <td>Decreto Municipal 774 / 1975</td>\n",
              "      <td>7.00</td>\n",
              "      <td>REGIONAL PORTÃO</td>\n",
              "      <td>4773046.30</td>\n",
              "      <td>9760.92</td>\n",
              "      <td>POLYGON ((673879.287 7183803.691, 673907.541 7...</td>\n",
              "      <td>1068.33</td>\n",
              "    </tr>\n",
              "    <tr>\n",
              "      <th>1</th>\n",
              "      <td>Jardim social</td>\n",
              "      <td>22</td>\n",
              "      <td>18.00</td>\n",
              "      <td>DIVISA DE BAIRROS</td>\n",
              "      <td>JARDIM SOCIAL</td>\n",
              "      <td>Decreto Municipal 774 / 1975</td>\n",
              "      <td>1.00</td>\n",
              "      <td>REGIONAL MATRIZ</td>\n",
              "      <td>1958421.84</td>\n",
              "      <td>6055.95</td>\n",
              "      <td>POLYGON ((678071.018 7187798.489, 678071.550 7...</td>\n",
              "      <td>1565.00</td>\n",
              "    </tr>\n",
              "    <tr>\n",
              "      <th>2</th>\n",
              "      <td>Xaxim</td>\n",
              "      <td>23</td>\n",
              "      <td>57.00</td>\n",
              "      <td>DIVISA DE BAIRROS</td>\n",
              "      <td>XAXIM</td>\n",
              "      <td>Decreto Municipal 774 / 1975</td>\n",
              "      <td>2.00</td>\n",
              "      <td>REGIONAL BOQUEIRÃO</td>\n",
              "      <td>9085390.75</td>\n",
              "      <td>13783.59</td>\n",
              "      <td>POLYGON ((674448.852 7179898.885, 674532.900 7...</td>\n",
              "      <td>970.00</td>\n",
              "    </tr>\n",
              "    <tr>\n",
              "      <th>3</th>\n",
              "      <td>Jardim das américas</td>\n",
              "      <td>5</td>\n",
              "      <td>22.00</td>\n",
              "      <td>DIVISA DE BAIRROS</td>\n",
              "      <td>JARDIM DAS AMÉRICAS</td>\n",
              "      <td>Decreto Municipal 774 / 1975</td>\n",
              "      <td>3.00</td>\n",
              "      <td>REGIONAL CAJURU</td>\n",
              "      <td>3859033.54</td>\n",
              "      <td>8818.50</td>\n",
              "      <td>POLYGON ((678209.542 7181641.525, 678107.870 7...</td>\n",
              "      <td>957.50</td>\n",
              "    </tr>\n",
              "    <tr>\n",
              "      <th>4</th>\n",
              "      <td>Guaíra</td>\n",
              "      <td>9</td>\n",
              "      <td>26.00</td>\n",
              "      <td>DIVISA DE BAIRROS</td>\n",
              "      <td>GUAÍRA</td>\n",
              "      <td>Decreto Municipal 774 / 1975</td>\n",
              "      <td>7.00</td>\n",
              "      <td>REGIONAL PORTÃO</td>\n",
              "      <td>2311397.49</td>\n",
              "      <td>6351.96</td>\n",
              "      <td>POLYGON ((672709.614 7181167.829, 672599.420 7...</td>\n",
              "      <td>1068.33</td>\n",
              "    </tr>\n",
              "  </tbody>\n",
              "</table>\n",
              "</div>"
            ],
            "text/plain": [
              "                bairro  ...  precos\n",
              "0           Água verde  ... 1068.33\n",
              "1        Jardim social  ... 1565.00\n",
              "2                Xaxim  ...  970.00\n",
              "3  Jardim das américas  ...  957.50\n",
              "4               Guaíra  ... 1068.33\n",
              "\n",
              "[5 rows x 12 columns]"
            ]
          },
          "metadata": {
            "tags": []
          },
          "execution_count": 118
        }
      ]
    },
    {
      "cell_type": "code",
      "metadata": {
        "id": "O0adwplf9jW-",
        "colab": {
          "base_uri": "https://localhost:8080/",
          "height": 392
        },
        "outputId": "5e623a29-ba3c-4f8f-dc7b-0774dac6009c"
      },
      "source": [
        " merged.groupby(['NM_REGIONA']).median().sort_values('precos', ascending=False)"
      ],
      "execution_count": null,
      "outputs": [
        {
          "output_type": "execute_result",
          "data": {
            "text/html": [
              "<div>\n",
              "<style scoped>\n",
              "    .dataframe tbody tr th:only-of-type {\n",
              "        vertical-align: middle;\n",
              "    }\n",
              "\n",
              "    .dataframe tbody tr th {\n",
              "        vertical-align: top;\n",
              "    }\n",
              "\n",
              "    .dataframe thead th {\n",
              "        text-align: right;\n",
              "    }\n",
              "</style>\n",
              "<table border=\"1\" class=\"dataframe\">\n",
              "  <thead>\n",
              "    <tr style=\"text-align: right;\">\n",
              "      <th></th>\n",
              "      <th>OBJECTID</th>\n",
              "      <th>CODIGO</th>\n",
              "      <th>CD_REGIONA</th>\n",
              "      <th>SHAPE_AREA</th>\n",
              "      <th>SHAPE_LEN</th>\n",
              "      <th>precos</th>\n",
              "    </tr>\n",
              "    <tr>\n",
              "      <th>NM_REGIONA</th>\n",
              "      <th></th>\n",
              "      <th></th>\n",
              "      <th></th>\n",
              "      <th></th>\n",
              "      <th></th>\n",
              "      <th></th>\n",
              "    </tr>\n",
              "  </thead>\n",
              "  <tbody>\n",
              "    <tr>\n",
              "      <th>REGIONAL SANTA FELICIDADE</th>\n",
              "      <td>69.00</td>\n",
              "      <td>48.00</td>\n",
              "      <td>5.00</td>\n",
              "      <td>3512540.74</td>\n",
              "      <td>10446.54</td>\n",
              "      <td>1700.00</td>\n",
              "    </tr>\n",
              "    <tr>\n",
              "      <th>REGIONAL MATRIZ</th>\n",
              "      <td>23.50</td>\n",
              "      <td>10.50</td>\n",
              "      <td>1.00</td>\n",
              "      <td>1876561.14</td>\n",
              "      <td>6225.21</td>\n",
              "      <td>1475.00</td>\n",
              "    </tr>\n",
              "    <tr>\n",
              "      <th>REGIONAL BOA VISTA</th>\n",
              "      <td>48.50</td>\n",
              "      <td>49.50</td>\n",
              "      <td>4.00</td>\n",
              "      <td>4237817.97</td>\n",
              "      <td>11098.51</td>\n",
              "      <td>1114.00</td>\n",
              "    </tr>\n",
              "    <tr>\n",
              "      <th>REGIONAL PORTÃO</th>\n",
              "      <td>10.50</td>\n",
              "      <td>27.50</td>\n",
              "      <td>7.00</td>\n",
              "      <td>2284859.19</td>\n",
              "      <td>6949.10</td>\n",
              "      <td>1090.00</td>\n",
              "    </tr>\n",
              "    <tr>\n",
              "      <th>REGIONAL CAJURU</th>\n",
              "      <td>30.00</td>\n",
              "      <td>21.50</td>\n",
              "      <td>3.00</td>\n",
              "      <td>4014396.44</td>\n",
              "      <td>9308.81</td>\n",
              "      <td>957.50</td>\n",
              "    </tr>\n",
              "    <tr>\n",
              "      <th>REGIONAL PINHEIRINHO</th>\n",
              "      <td>28.00</td>\n",
              "      <td>41.00</td>\n",
              "      <td>8.00</td>\n",
              "      <td>5049840.13</td>\n",
              "      <td>11816.64</td>\n",
              "      <td>918.75</td>\n",
              "    </tr>\n",
              "    <tr>\n",
              "      <th>REGIONAL BOQUEIRÃO</th>\n",
              "      <td>34.00</td>\n",
              "      <td>56.50</td>\n",
              "      <td>2.00</td>\n",
              "      <td>10536322.74</td>\n",
              "      <td>16155.39</td>\n",
              "      <td>910.00</td>\n",
              "    </tr>\n",
              "    <tr>\n",
              "      <th>REGIONAL BAIRRO NOVO</th>\n",
              "      <td>51.00</td>\n",
              "      <td>72.00</td>\n",
              "      <td>10.00</td>\n",
              "      <td>11359302.45</td>\n",
              "      <td>22063.15</td>\n",
              "      <td>900.00</td>\n",
              "    </tr>\n",
              "    <tr>\n",
              "      <th>REGIONAL TATUQUARA</th>\n",
              "      <td>49.00</td>\n",
              "      <td>71.00</td>\n",
              "      <td>12.00</td>\n",
              "      <td>11234800.38</td>\n",
              "      <td>21895.61</td>\n",
              "      <td>700.00</td>\n",
              "    </tr>\n",
              "    <tr>\n",
              "      <th>REGIONAL CIC</th>\n",
              "      <td>44.50</td>\n",
              "      <td>68.50</td>\n",
              "      <td>11.00</td>\n",
              "      <td>8355042.00</td>\n",
              "      <td>18813.55</td>\n",
              "      <td>nan</td>\n",
              "    </tr>\n",
              "    <tr>\n",
              "      <th>REGIONAL SANTA FELICIDADE / REGIONAL PORTÃO</th>\n",
              "      <td>33.00</td>\n",
              "      <td>44.00</td>\n",
              "      <td>5.00</td>\n",
              "      <td>8569837.61</td>\n",
              "      <td>16637.62</td>\n",
              "      <td>nan</td>\n",
              "    </tr>\n",
              "  </tbody>\n",
              "</table>\n",
              "</div>"
            ],
            "text/plain": [
              "                                             OBJECTID  ...  precos\n",
              "NM_REGIONA                                             ...        \n",
              "REGIONAL SANTA FELICIDADE                       69.00  ... 1700.00\n",
              "REGIONAL MATRIZ                                 23.50  ... 1475.00\n",
              "REGIONAL BOA VISTA                              48.50  ... 1114.00\n",
              "REGIONAL PORTÃO                                 10.50  ... 1090.00\n",
              "REGIONAL CAJURU                                 30.00  ...  957.50\n",
              "REGIONAL PINHEIRINHO                            28.00  ...  918.75\n",
              "REGIONAL BOQUEIRÃO                              34.00  ...  910.00\n",
              "REGIONAL BAIRRO NOVO                            51.00  ...  900.00\n",
              "REGIONAL TATUQUARA                              49.00  ...  700.00\n",
              "REGIONAL CIC                                    44.50  ...     nan\n",
              "REGIONAL SANTA FELICIDADE / REGIONAL PORTÃO     33.00  ...     nan\n",
              "\n",
              "[11 rows x 6 columns]"
            ]
          },
          "metadata": {
            "tags": []
          },
          "execution_count": 131
        }
      ]
    },
    {
      "cell_type": "code",
      "metadata": {
        "id": "el-BFpjyIw8r"
      },
      "source": [
        ""
      ],
      "execution_count": null,
      "outputs": []
    },
    {
      "cell_type": "code",
      "metadata": {
        "id": "TlOAiZGt5AqU",
        "colab": {
          "base_uri": "https://localhost:8080/",
          "height": 1000
        },
        "outputId": "d44196ce-166a-42f2-846c-126549b06bd2"
      },
      "source": [
        "fig, ax = plt.subplots(1, figsize=(40, 20))\n",
        "ax.axis('off')\n",
        "ax.set_title('Heat Map of Houses Rent prices, Curitiba', fontdict={'fontsize': '40', 'fontweight' : '3'})\n",
        "color = 'Oranges'\n",
        "vmin, vmax = 0, 2200\n",
        "sm = plt.cm.ScalarMappable(cmap=color, norm=plt.Normalize(vmin=vmin, vmax=vmax))\n",
        "sm._A = []\n",
        "cbar = fig.colorbar(sm)\n",
        "cbar.ax.tick_params(labelsize=20)\n",
        "merged.plot('precos', cmap=color, linewidth=0.8, ax=ax, edgecolor='0.8', figsize=(40,20))"
      ],
      "execution_count": null,
      "outputs": [
        {
          "output_type": "execute_result",
          "data": {
            "text/plain": [
              "<matplotlib.axes._subplots.AxesSubplot at 0x7f806569f048>"
            ]
          },
          "metadata": {
            "tags": []
          },
          "execution_count": 133
        },
        {
          "output_type": "display_data",
          "data": {
            "image/png": "[encoded data removed]",
            "text/plain": [
              "<Figure size 2880x1440 with 2 Axes>"
            ]
          },
          "metadata": {
            "tags": [],
            "needs_background": "light"
          }
        }
      ]
    },
    {
      "cell_type": "code",
      "metadata": {
        "id": "aeydAXdB4nvp",
        "colab": {
          "base_uri": "https://localhost:8080/",
          "height": 190
        },
        "outputId": "d2eddb8c-161f-4dc8-fb1b-eb305aa9157f"
      },
      "source": [
        "merged.head()"
      ],
      "execution_count": null,
      "outputs": [
        {
          "output_type": "execute_result",
          "data": {
            "text/html": [
              "<div>\n",
              "<style scoped>\n",
              "    .dataframe tbody tr th:only-of-type {\n",
              "        vertical-align: middle;\n",
              "    }\n",
              "\n",
              "    .dataframe tbody tr th {\n",
              "        vertical-align: top;\n",
              "    }\n",
              "\n",
              "    .dataframe thead th {\n",
              "        text-align: right;\n",
              "    }\n",
              "</style>\n",
              "<table border=\"1\" class=\"dataframe\">\n",
              "  <thead>\n",
              "    <tr style=\"text-align: right;\">\n",
              "      <th></th>\n",
              "      <th>bairro</th>\n",
              "      <th>OBJECTID</th>\n",
              "      <th>CODIGO</th>\n",
              "      <th>TIPO</th>\n",
              "      <th>NOME</th>\n",
              "      <th>FONTE</th>\n",
              "      <th>CD_REGIONA</th>\n",
              "      <th>NM_REGIONA</th>\n",
              "      <th>SHAPE_AREA</th>\n",
              "      <th>SHAPE_LEN</th>\n",
              "      <th>geometry</th>\n",
              "      <th>precos</th>\n",
              "    </tr>\n",
              "  </thead>\n",
              "  <tbody>\n",
              "    <tr>\n",
              "      <th>0</th>\n",
              "      <td>Água verde</td>\n",
              "      <td>20</td>\n",
              "      <td>9.00</td>\n",
              "      <td>DIVISA DE BAIRROS</td>\n",
              "      <td>ÁGUA VERDE</td>\n",
              "      <td>Decreto Municipal 774 / 1975</td>\n",
              "      <td>7.00</td>\n",
              "      <td>REGIONAL PORTÃO</td>\n",
              "      <td>4773046.30</td>\n",
              "      <td>9760.92</td>\n",
              "      <td>POLYGON ((673879.287 7183803.691, 673907.541 7...</td>\n",
              "      <td>1068.33</td>\n",
              "    </tr>\n",
              "    <tr>\n",
              "      <th>1</th>\n",
              "      <td>Jardim social</td>\n",
              "      <td>22</td>\n",
              "      <td>18.00</td>\n",
              "      <td>DIVISA DE BAIRROS</td>\n",
              "      <td>JARDIM SOCIAL</td>\n",
              "      <td>Decreto Municipal 774 / 1975</td>\n",
              "      <td>1.00</td>\n",
              "      <td>REGIONAL MATRIZ</td>\n",
              "      <td>1958421.84</td>\n",
              "      <td>6055.95</td>\n",
              "      <td>POLYGON ((678071.018 7187798.489, 678071.550 7...</td>\n",
              "      <td>1565.00</td>\n",
              "    </tr>\n",
              "    <tr>\n",
              "      <th>2</th>\n",
              "      <td>Xaxim</td>\n",
              "      <td>23</td>\n",
              "      <td>57.00</td>\n",
              "      <td>DIVISA DE BAIRROS</td>\n",
              "      <td>XAXIM</td>\n",
              "      <td>Decreto Municipal 774 / 1975</td>\n",
              "      <td>2.00</td>\n",
              "      <td>REGIONAL BOQUEIRÃO</td>\n",
              "      <td>9085390.75</td>\n",
              "      <td>13783.59</td>\n",
              "      <td>POLYGON ((674448.852 7179898.885, 674532.900 7...</td>\n",
              "      <td>970.00</td>\n",
              "    </tr>\n",
              "    <tr>\n",
              "      <th>3</th>\n",
              "      <td>Jardim das américas</td>\n",
              "      <td>5</td>\n",
              "      <td>22.00</td>\n",
              "      <td>DIVISA DE BAIRROS</td>\n",
              "      <td>JARDIM DAS AMÉRICAS</td>\n",
              "      <td>Decreto Municipal 774 / 1975</td>\n",
              "      <td>3.00</td>\n",
              "      <td>REGIONAL CAJURU</td>\n",
              "      <td>3859033.54</td>\n",
              "      <td>8818.50</td>\n",
              "      <td>POLYGON ((678209.542 7181641.525, 678107.870 7...</td>\n",
              "      <td>957.50</td>\n",
              "    </tr>\n",
              "    <tr>\n",
              "      <th>4</th>\n",
              "      <td>Guaíra</td>\n",
              "      <td>9</td>\n",
              "      <td>26.00</td>\n",
              "      <td>DIVISA DE BAIRROS</td>\n",
              "      <td>GUAÍRA</td>\n",
              "      <td>Decreto Municipal 774 / 1975</td>\n",
              "      <td>7.00</td>\n",
              "      <td>REGIONAL PORTÃO</td>\n",
              "      <td>2311397.49</td>\n",
              "      <td>6351.96</td>\n",
              "      <td>POLYGON ((672709.614 7181167.829, 672599.420 7...</td>\n",
              "      <td>1068.33</td>\n",
              "    </tr>\n",
              "  </tbody>\n",
              "</table>\n",
              "</div>"
            ],
            "text/plain": [
              "                bairro  ...  precos\n",
              "0           Água verde  ... 1068.33\n",
              "1        Jardim social  ... 1565.00\n",
              "2                Xaxim  ...  970.00\n",
              "3  Jardim das américas  ...  957.50\n",
              "4               Guaíra  ... 1068.33\n",
              "\n",
              "[5 rows x 12 columns]"
            ]
          },
          "metadata": {
            "tags": []
          },
          "execution_count": 123
        }
      ]
    }
  ]
}