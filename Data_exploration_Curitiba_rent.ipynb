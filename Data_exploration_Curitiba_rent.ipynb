{
  "nbformat": 4,
  "nbformat_minor": 0,
  "metadata": {
    "colab": {
      "name": "Data_exploration-Curitiba_rent.ipynb",
      "provenance": [],
      "collapsed_sections": [],
      "authorship_tag": "ABX9TyPo95bAEFuRondGrl4KFs7h",
      "include_colab_link": true
    },
    "kernelspec": {
      "name": "python3",
      "display_name": "Python 3"
    }
  },
  "cells": [
    {
      "cell_type": "markdown",
      "metadata": {
        "id": "view-in-github",
        "colab_type": "text"
      },
      "source": [
        "<a href=\"https://colab.research.google.com/github/fmarcelneves/Rental-price-analysis-and-forecast-Curitiba-PR/blob/main/Data_exploration_Curitiba_rent.ipynb\" target=\"_parent\"><img src=\"https://colab.research.google.com/assets/colab-badge.svg\" alt=\"Open In Colab\"/></a>"
      ]
    },
    {
      "cell_type": "markdown",
      "metadata": {
        "id": "28f1HMC9OaVQ"
      },
      "source": [
        "# Import packages "
      ]
    },
    {
      "cell_type": "code",
      "metadata": {
        "id": "RljeZbXOP9WB"
      },
      "source": [
        "%%capture\n",
        "!pip install geopandas\n",
        "!pip install outlier-removal-101703289\n",
        "import pandas as pd\n",
        "import numpy as np\n",
        "import seaborn as sns\n",
        "import matplotlib.pyplot as plt\n",
        "import geopandas as gpd\n",
        "from outlier_removal.outlier import remove_outlier\n",
        "!pip install unidecode\n",
        "import unidecode"
      ],
      "execution_count": 1,
      "outputs": []
    },
    {
      "cell_type": "code",
      "metadata": {
        "id": "hDkmia8jOZfV"
      },
      "source": [
        "%%capture\r\n",
        "!pip install plotly --upgrade\r\n",
        "from plotly import __version__\r\n",
        "print (__version__)\r\n",
        "import plotly.express as px\r\n",
        "from plotly.subplots import make_subplots\r\n",
        "import plotly.graph_objs as go\r\n",
        "import plotly as py\r\n",
        "#import plotly.figure_factory as ff\r\n",
        "from plotly import tools\r\n",
        "#import cufflinks as cf\r\n",
        "from plotly.offline import iplot, init_notebook_mode\r\n",
        "# Display all cell outputs\r\n",
        "from IPython.core.interactiveshell import InteractiveShell"
      ],
      "execution_count": 2,
      "outputs": []
    },
    {
      "cell_type": "markdown",
      "metadata": {
        "id": "w8pqFk-_PCc8"
      },
      "source": [
        "# Import data "
      ]
    },
    {
      "cell_type": "markdown",
      "metadata": {
        "id": "BQLnM7WfWk2-"
      },
      "source": [
        "Import extracted data "
      ]
    },
    {
      "cell_type": "code",
      "metadata": {
        "id": "yLZeZlhwP9vW"
      },
      "source": [
        "url = 'https://raw.githubusercontent.com/fmarcelneves/Rental-price-analysis-and-forecast-Curitiba-PR/main/data_mercado_livre_ap_curitiba_rent.csv'\n",
        "da_ml = pd.read_csv(url)\n",
        "#da_ml = pd.read_csv('dados_mercado_livre_curitiba.csv')"
      ],
      "execution_count": 48,
      "outputs": []
    },
    {
      "cell_type": "markdown",
      "metadata": {
        "id": "lLYAFhLfWnT4"
      },
      "source": [
        "Import geodata"
      ]
    },
    {
      "cell_type": "code",
      "metadata": {
        "id": "Mtfvk6HVPeID",
        "colab": {
          "base_uri": "https://localhost:8080/"
        },
        "outputId": "2dbf8236-a228-476a-9dd0-c9f25bfd9b09"
      },
      "source": [
        "!wget 'http://ippuc.org.br/geodownloads/SHAPES/DIVISA_DE_BAIRROS.zip'\r\n",
        "!unzip '/content/DIVISA_DE_BAIRROS.zip'"
      ],
      "execution_count": 4,
      "outputs": [
        {
          "output_type": "stream",
          "text": [
            "--2021-02-27 11:39:58--  http://ippuc.org.br/geodownloads/SHAPES/DIVISA_DE_BAIRROS.zip\n",
            "Resolving ippuc.org.br (ippuc.org.br)... 201.11.35.17\n",
            "Connecting to ippuc.org.br (ippuc.org.br)|201.11.35.17|:80... connected.\n",
            "HTTP request sent, awaiting response... 200 OK\n",
            "Length: 337191 (329K) [application/x-zip-compressed]\n",
            "Saving to: ‘DIVISA_DE_BAIRROS.zip’\n",
            "\n",
            "DIVISA_DE_BAIRROS.z 100%[===================>] 329.29K   364KB/s    in 0.9s    \n",
            "\n",
            "2021-02-27 11:39:59 (364 KB/s) - ‘DIVISA_DE_BAIRROS.zip’ saved [337191/337191]\n",
            "\n",
            "Archive:  /content/DIVISA_DE_BAIRROS.zip\n",
            "  inflating: DIVISA_DE_BAIRROS.shx   \n",
            "  inflating: DIVISA_DE_BAIRROS.dbf   \n",
            "  inflating: DIVISA_DE_BAIRROS.prj   \n",
            "  inflating: DIVISA_DE_BAIRROS.sbn   \n",
            "  inflating: DIVISA_DE_BAIRROS.sbx   \n",
            "  inflating: DIVISA_DE_BAIRROS.shp   \n"
          ],
          "name": "stdout"
        }
      ]
    },
    {
      "cell_type": "markdown",
      "metadata": {
        "id": "DT-ykmB4Wj06"
      },
      "source": [
        "Import IDHM data "
      ]
    },
    {
      "cell_type": "code",
      "metadata": {
        "id": "uQvL7kz_WkOh",
        "colab": {
          "base_uri": "https://localhost:8080/",
          "height": 204
        },
        "outputId": "bf0c783f-9435-4301-e31a-67e44b19e605"
      },
      "source": [
        "url = 'https://raw.githubusercontent.com/fmarcelneves/Rental-price-analysis-and-forecast-Curitiba-PR/main/IDMH_Bairros_Curitiba.xlsx'\r\n",
        "idhm = pd.read_excel(url)\r\n",
        "idhm = idhm[['NOME_UDH', 'IDHM']]\r\n",
        "idhm = idhm.rename(columns={\"NOME_UDH\": \"bairro\"})\r\n",
        "idhm['bairro'] = idhm['bairro'].str.capitalize().apply(unidecode.unidecode)\r\n",
        "idhm.head()"
      ],
      "execution_count": 47,
      "outputs": [
        {
          "output_type": "execute_result",
          "data": {
            "text/html": [
              "<div>\n",
              "<style scoped>\n",
              "    .dataframe tbody tr th:only-of-type {\n",
              "        vertical-align: middle;\n",
              "    }\n",
              "\n",
              "    .dataframe tbody tr th {\n",
              "        vertical-align: top;\n",
              "    }\n",
              "\n",
              "    .dataframe thead th {\n",
              "        text-align: right;\n",
              "    }\n",
              "</style>\n",
              "<table border=\"1\" class=\"dataframe\">\n",
              "  <thead>\n",
              "    <tr style=\"text-align: right;\">\n",
              "      <th></th>\n",
              "      <th>bairro</th>\n",
              "      <th>IDHM</th>\n",
              "    </tr>\n",
              "  </thead>\n",
              "  <tbody>\n",
              "    <tr>\n",
              "      <th>0</th>\n",
              "      <td>Abranches</td>\n",
              "      <td>0.800</td>\n",
              "    </tr>\n",
              "    <tr>\n",
              "      <th>1</th>\n",
              "      <td>Agua verde</td>\n",
              "      <td>0.946</td>\n",
              "    </tr>\n",
              "    <tr>\n",
              "      <th>2</th>\n",
              "      <td>Ahu</td>\n",
              "      <td>0.929</td>\n",
              "    </tr>\n",
              "    <tr>\n",
              "      <th>3</th>\n",
              "      <td>Alto boqueirao</td>\n",
              "      <td>0.750</td>\n",
              "    </tr>\n",
              "    <tr>\n",
              "      <th>4</th>\n",
              "      <td>Alto da gloria</td>\n",
              "      <td>0.949</td>\n",
              "    </tr>\n",
              "  </tbody>\n",
              "</table>\n",
              "</div>"
            ],
            "text/plain": [
              "           bairro   IDHM\n",
              "0       Abranches  0.800\n",
              "1      Agua verde  0.946\n",
              "2             Ahu  0.929\n",
              "3  Alto boqueirao  0.750\n",
              "4  Alto da gloria  0.949"
            ]
          },
          "metadata": {
            "tags": []
          },
          "execution_count": 47
        }
      ]
    },
    {
      "cell_type": "markdown",
      "metadata": {
        "id": "3UZHzTKKO_i0"
      },
      "source": [
        "# Filtering data "
      ]
    },
    {
      "cell_type": "code",
      "metadata": {
        "id": "pgJBKrPjVQik"
      },
      "source": [
        "da_ml = remove_outlier(da_ml)"
      ],
      "execution_count": 49,
      "outputs": []
    },
    {
      "cell_type": "code",
      "metadata": {
        "id": "aHrnWGd3V2jZ"
      },
      "source": [
        "pd.options.display.float_format = \"{:.2f}\".format"
      ],
      "execution_count": 50,
      "outputs": []
    },
    {
      "cell_type": "code",
      "metadata": {
        "id": "ZWgQ82_v423Z"
      },
      "source": [
        "da_ml.replace(',','.', regex=True,inplace=True)\n",
        "da_ml['areas'] = da_ml['areas'].astype(float)"
      ],
      "execution_count": 51,
      "outputs": []
    },
    {
      "cell_type": "code",
      "metadata": {
        "id": "nEK-CQvHkjcx",
        "colab": {
          "base_uri": "https://localhost:8080/",
          "height": 419
        },
        "outputId": "579c31a5-1df6-449f-ac33-60a9096a1add"
      },
      "source": [
        "da_ml"
      ],
      "execution_count": 52,
      "outputs": [
        {
          "output_type": "execute_result",
          "data": {
            "text/html": [
              "<div>\n",
              "<style scoped>\n",
              "    .dataframe tbody tr th:only-of-type {\n",
              "        vertical-align: middle;\n",
              "    }\n",
              "\n",
              "    .dataframe tbody tr th {\n",
              "        vertical-align: top;\n",
              "    }\n",
              "\n",
              "    .dataframe thead th {\n",
              "        text-align: right;\n",
              "    }\n",
              "</style>\n",
              "<table border=\"1\" class=\"dataframe\">\n",
              "  <thead>\n",
              "    <tr style=\"text-align: right;\">\n",
              "      <th></th>\n",
              "      <th>bairro</th>\n",
              "      <th>precos</th>\n",
              "      <th>quartos</th>\n",
              "      <th>areas</th>\n",
              "    </tr>\n",
              "  </thead>\n",
              "  <tbody>\n",
              "    <tr>\n",
              "      <th>0</th>\n",
              "      <td>Abranches</td>\n",
              "      <td>2500.00</td>\n",
              "      <td>2.00</td>\n",
              "      <td>80.00</td>\n",
              "    </tr>\n",
              "    <tr>\n",
              "      <th>1</th>\n",
              "      <td>Abranches</td>\n",
              "      <td>2100.00</td>\n",
              "      <td>2.00</td>\n",
              "      <td>65.00</td>\n",
              "    </tr>\n",
              "    <tr>\n",
              "      <th>2</th>\n",
              "      <td>Abranches</td>\n",
              "      <td>2500.00</td>\n",
              "      <td>2.00</td>\n",
              "      <td>80.00</td>\n",
              "    </tr>\n",
              "    <tr>\n",
              "      <th>3</th>\n",
              "      <td>Abranches</td>\n",
              "      <td>2100.00</td>\n",
              "      <td>2.00</td>\n",
              "      <td>65.00</td>\n",
              "    </tr>\n",
              "    <tr>\n",
              "      <th>4</th>\n",
              "      <td>Abranches</td>\n",
              "      <td>600.00</td>\n",
              "      <td>1.00</td>\n",
              "      <td>35.00</td>\n",
              "    </tr>\n",
              "    <tr>\n",
              "      <th>...</th>\n",
              "      <td>...</td>\n",
              "      <td>...</td>\n",
              "      <td>...</td>\n",
              "      <td>...</td>\n",
              "    </tr>\n",
              "    <tr>\n",
              "      <th>911</th>\n",
              "      <td>Agua-Verde</td>\n",
              "      <td>1500.00</td>\n",
              "      <td>1.00</td>\n",
              "      <td>46.00</td>\n",
              "    </tr>\n",
              "    <tr>\n",
              "      <th>912</th>\n",
              "      <td>Agua-Verde</td>\n",
              "      <td>1200.00</td>\n",
              "      <td>1.00</td>\n",
              "      <td>29.00</td>\n",
              "    </tr>\n",
              "    <tr>\n",
              "      <th>913</th>\n",
              "      <td>Agua-Verde</td>\n",
              "      <td>1230.00</td>\n",
              "      <td>1.00</td>\n",
              "      <td>31.00</td>\n",
              "    </tr>\n",
              "    <tr>\n",
              "      <th>914</th>\n",
              "      <td>Agua-Verde</td>\n",
              "      <td>1500.00</td>\n",
              "      <td>1.00</td>\n",
              "      <td>30.00</td>\n",
              "    </tr>\n",
              "    <tr>\n",
              "      <th>915</th>\n",
              "      <td>Agua-Verde</td>\n",
              "      <td>2400.00</td>\n",
              "      <td>4.00</td>\n",
              "      <td>175.00</td>\n",
              "    </tr>\n",
              "  </tbody>\n",
              "</table>\n",
              "<p>811 rows × 4 columns</p>\n",
              "</div>"
            ],
            "text/plain": [
              "         bairro  precos  quartos  areas\n",
              "0     Abranches 2500.00     2.00  80.00\n",
              "1     Abranches 2100.00     2.00  65.00\n",
              "2     Abranches 2500.00     2.00  80.00\n",
              "3     Abranches 2100.00     2.00  65.00\n",
              "4     Abranches  600.00     1.00  35.00\n",
              "..          ...     ...      ...    ...\n",
              "911  Agua-Verde 1500.00     1.00  46.00\n",
              "912  Agua-Verde 1200.00     1.00  29.00\n",
              "913  Agua-Verde 1230.00     1.00  31.00\n",
              "914  Agua-Verde 1500.00     1.00  30.00\n",
              "915  Agua-Verde 2400.00     4.00 175.00\n",
              "\n",
              "[811 rows x 4 columns]"
            ]
          },
          "metadata": {
            "tags": []
          },
          "execution_count": 52
        }
      ]
    },
    {
      "cell_type": "code",
      "metadata": {
        "id": "hs6_OMgL2sDj",
        "colab": {
          "base_uri": "https://localhost:8080/"
        },
        "outputId": "00be34f8-8ab5-4143-d429-e3d388fea395"
      },
      "source": [
        "da_ml.info()"
      ],
      "execution_count": 53,
      "outputs": [
        {
          "output_type": "stream",
          "text": [
            "<class 'pandas.core.frame.DataFrame'>\n",
            "Int64Index: 811 entries, 0 to 915\n",
            "Data columns (total 4 columns):\n",
            " #   Column   Non-Null Count  Dtype  \n",
            "---  ------   --------------  -----  \n",
            " 0   bairro   802 non-null    object \n",
            " 1   precos   811 non-null    float64\n",
            " 2   quartos  789 non-null    float64\n",
            " 3   areas    802 non-null    float64\n",
            "dtypes: float64(3), object(1)\n",
            "memory usage: 31.7+ KB\n"
          ],
          "name": "stdout"
        }
      ]
    },
    {
      "cell_type": "code",
      "metadata": {
        "id": "XHJl6a-22zhZ"
      },
      "source": [
        "da_ml['bairro'] = da_ml['bairro'].astype(str)"
      ],
      "execution_count": 54,
      "outputs": []
    },
    {
      "cell_type": "code",
      "metadata": {
        "id": "aS0wQkVwvxVy"
      },
      "source": [
        "da_ml['bairro'] = da_ml['bairro'].str.capitalize().apply(unidecode.unidecode).replace('-', ' ', regex=True)"
      ],
      "execution_count": 55,
      "outputs": []
    },
    {
      "cell_type": "code",
      "metadata": {
        "id": "5bXgWcen5vW-",
        "colab": {
          "base_uri": "https://localhost:8080/",
          "height": 1000
        },
        "outputId": "f46b7e32-2f13-4550-ae24-04c512bad736"
      },
      "source": [
        "da_ml[da_ml['bairro']=='Agua verde']"
      ],
      "execution_count": 56,
      "outputs": [
        {
          "output_type": "execute_result",
          "data": {
            "text/html": [
              "<div>\n",
              "<style scoped>\n",
              "    .dataframe tbody tr th:only-of-type {\n",
              "        vertical-align: middle;\n",
              "    }\n",
              "\n",
              "    .dataframe tbody tr th {\n",
              "        vertical-align: top;\n",
              "    }\n",
              "\n",
              "    .dataframe thead th {\n",
              "        text-align: right;\n",
              "    }\n",
              "</style>\n",
              "<table border=\"1\" class=\"dataframe\">\n",
              "  <thead>\n",
              "    <tr style=\"text-align: right;\">\n",
              "      <th></th>\n",
              "      <th>bairro</th>\n",
              "      <th>precos</th>\n",
              "      <th>quartos</th>\n",
              "      <th>areas</th>\n",
              "    </tr>\n",
              "  </thead>\n",
              "  <tbody>\n",
              "    <tr>\n",
              "      <th>869</th>\n",
              "      <td>Agua verde</td>\n",
              "      <td>2200.00</td>\n",
              "      <td>1.00</td>\n",
              "      <td>32.00</td>\n",
              "    </tr>\n",
              "    <tr>\n",
              "      <th>870</th>\n",
              "      <td>Agua verde</td>\n",
              "      <td>1474.00</td>\n",
              "      <td>2.00</td>\n",
              "      <td>76.00</td>\n",
              "    </tr>\n",
              "    <tr>\n",
              "      <th>871</th>\n",
              "      <td>Agua verde</td>\n",
              "      <td>1990.00</td>\n",
              "      <td>4.00</td>\n",
              "      <td>270.00</td>\n",
              "    </tr>\n",
              "    <tr>\n",
              "      <th>873</th>\n",
              "      <td>Agua verde</td>\n",
              "      <td>1100.00</td>\n",
              "      <td>2.00</td>\n",
              "      <td>55.00</td>\n",
              "    </tr>\n",
              "    <tr>\n",
              "      <th>874</th>\n",
              "      <td>Agua verde</td>\n",
              "      <td>1690.00</td>\n",
              "      <td>3.00</td>\n",
              "      <td>72.00</td>\n",
              "    </tr>\n",
              "    <tr>\n",
              "      <th>875</th>\n",
              "      <td>Agua verde</td>\n",
              "      <td>1100.00</td>\n",
              "      <td>2.00</td>\n",
              "      <td>55.00</td>\n",
              "    </tr>\n",
              "    <tr>\n",
              "      <th>876</th>\n",
              "      <td>Agua verde</td>\n",
              "      <td>990.00</td>\n",
              "      <td>2.00</td>\n",
              "      <td>65.00</td>\n",
              "    </tr>\n",
              "    <tr>\n",
              "      <th>877</th>\n",
              "      <td>Agua verde</td>\n",
              "      <td>1500.00</td>\n",
              "      <td>2.00</td>\n",
              "      <td>81.00</td>\n",
              "    </tr>\n",
              "    <tr>\n",
              "      <th>878</th>\n",
              "      <td>Agua verde</td>\n",
              "      <td>1400.00</td>\n",
              "      <td>1.00</td>\n",
              "      <td>49.00</td>\n",
              "    </tr>\n",
              "    <tr>\n",
              "      <th>880</th>\n",
              "      <td>Agua verde</td>\n",
              "      <td>2330.00</td>\n",
              "      <td>3.00</td>\n",
              "      <td>151.00</td>\n",
              "    </tr>\n",
              "    <tr>\n",
              "      <th>881</th>\n",
              "      <td>Agua verde</td>\n",
              "      <td>850.00</td>\n",
              "      <td>1.00</td>\n",
              "      <td>55.00</td>\n",
              "    </tr>\n",
              "    <tr>\n",
              "      <th>882</th>\n",
              "      <td>Agua verde</td>\n",
              "      <td>1300.00</td>\n",
              "      <td>1.00</td>\n",
              "      <td>25.00</td>\n",
              "    </tr>\n",
              "    <tr>\n",
              "      <th>884</th>\n",
              "      <td>Agua verde</td>\n",
              "      <td>1100.00</td>\n",
              "      <td>2.00</td>\n",
              "      <td>54.00</td>\n",
              "    </tr>\n",
              "    <tr>\n",
              "      <th>885</th>\n",
              "      <td>Agua verde</td>\n",
              "      <td>1620.00</td>\n",
              "      <td>2.00</td>\n",
              "      <td>66.00</td>\n",
              "    </tr>\n",
              "    <tr>\n",
              "      <th>886</th>\n",
              "      <td>Agua verde</td>\n",
              "      <td>1500.00</td>\n",
              "      <td>2.00</td>\n",
              "      <td>95.00</td>\n",
              "    </tr>\n",
              "    <tr>\n",
              "      <th>887</th>\n",
              "      <td>Agua verde</td>\n",
              "      <td>1700.00</td>\n",
              "      <td>3.00</td>\n",
              "      <td>149.00</td>\n",
              "    </tr>\n",
              "    <tr>\n",
              "      <th>888</th>\n",
              "      <td>Agua verde</td>\n",
              "      <td>1500.00</td>\n",
              "      <td>1.00</td>\n",
              "      <td>26.00</td>\n",
              "    </tr>\n",
              "    <tr>\n",
              "      <th>889</th>\n",
              "      <td>Agua verde</td>\n",
              "      <td>1550.00</td>\n",
              "      <td>3.00</td>\n",
              "      <td>140.00</td>\n",
              "    </tr>\n",
              "    <tr>\n",
              "      <th>890</th>\n",
              "      <td>Agua verde</td>\n",
              "      <td>1640.00</td>\n",
              "      <td>1.00</td>\n",
              "      <td>42.00</td>\n",
              "    </tr>\n",
              "    <tr>\n",
              "      <th>893</th>\n",
              "      <td>Agua verde</td>\n",
              "      <td>2250.00</td>\n",
              "      <td>3.00</td>\n",
              "      <td>139.00</td>\n",
              "    </tr>\n",
              "    <tr>\n",
              "      <th>894</th>\n",
              "      <td>Agua verde</td>\n",
              "      <td>2900.00</td>\n",
              "      <td>4.00</td>\n",
              "      <td>202.00</td>\n",
              "    </tr>\n",
              "    <tr>\n",
              "      <th>895</th>\n",
              "      <td>Agua verde</td>\n",
              "      <td>1390.00</td>\n",
              "      <td>nan</td>\n",
              "      <td>33.00</td>\n",
              "    </tr>\n",
              "    <tr>\n",
              "      <th>896</th>\n",
              "      <td>Agua verde</td>\n",
              "      <td>900.00</td>\n",
              "      <td>1.00</td>\n",
              "      <td>30.00</td>\n",
              "    </tr>\n",
              "    <tr>\n",
              "      <th>897</th>\n",
              "      <td>Agua verde</td>\n",
              "      <td>1400.00</td>\n",
              "      <td>1.00</td>\n",
              "      <td>31.00</td>\n",
              "    </tr>\n",
              "    <tr>\n",
              "      <th>898</th>\n",
              "      <td>Agua verde</td>\n",
              "      <td>3200.00</td>\n",
              "      <td>3.00</td>\n",
              "      <td>111.00</td>\n",
              "    </tr>\n",
              "    <tr>\n",
              "      <th>899</th>\n",
              "      <td>Agua verde</td>\n",
              "      <td>1200.00</td>\n",
              "      <td>1.00</td>\n",
              "      <td>29.00</td>\n",
              "    </tr>\n",
              "    <tr>\n",
              "      <th>900</th>\n",
              "      <td>Agua verde</td>\n",
              "      <td>1300.00</td>\n",
              "      <td>2.00</td>\n",
              "      <td>106.00</td>\n",
              "    </tr>\n",
              "    <tr>\n",
              "      <th>901</th>\n",
              "      <td>Agua verde</td>\n",
              "      <td>2950.00</td>\n",
              "      <td>4.00</td>\n",
              "      <td>159.00</td>\n",
              "    </tr>\n",
              "    <tr>\n",
              "      <th>903</th>\n",
              "      <td>Agua verde</td>\n",
              "      <td>1600.00</td>\n",
              "      <td>1.00</td>\n",
              "      <td>34.00</td>\n",
              "    </tr>\n",
              "    <tr>\n",
              "      <th>904</th>\n",
              "      <td>Agua verde</td>\n",
              "      <td>1200.00</td>\n",
              "      <td>2.00</td>\n",
              "      <td>54.00</td>\n",
              "    </tr>\n",
              "    <tr>\n",
              "      <th>905</th>\n",
              "      <td>Agua verde</td>\n",
              "      <td>1720.00</td>\n",
              "      <td>2.00</td>\n",
              "      <td>66.00</td>\n",
              "    </tr>\n",
              "    <tr>\n",
              "      <th>907</th>\n",
              "      <td>Agua verde</td>\n",
              "      <td>1400.00</td>\n",
              "      <td>2.00</td>\n",
              "      <td>64.00</td>\n",
              "    </tr>\n",
              "    <tr>\n",
              "      <th>909</th>\n",
              "      <td>Agua verde</td>\n",
              "      <td>1300.00</td>\n",
              "      <td>1.00</td>\n",
              "      <td>31.00</td>\n",
              "    </tr>\n",
              "    <tr>\n",
              "      <th>911</th>\n",
              "      <td>Agua verde</td>\n",
              "      <td>1500.00</td>\n",
              "      <td>1.00</td>\n",
              "      <td>46.00</td>\n",
              "    </tr>\n",
              "    <tr>\n",
              "      <th>912</th>\n",
              "      <td>Agua verde</td>\n",
              "      <td>1200.00</td>\n",
              "      <td>1.00</td>\n",
              "      <td>29.00</td>\n",
              "    </tr>\n",
              "    <tr>\n",
              "      <th>913</th>\n",
              "      <td>Agua verde</td>\n",
              "      <td>1230.00</td>\n",
              "      <td>1.00</td>\n",
              "      <td>31.00</td>\n",
              "    </tr>\n",
              "    <tr>\n",
              "      <th>914</th>\n",
              "      <td>Agua verde</td>\n",
              "      <td>1500.00</td>\n",
              "      <td>1.00</td>\n",
              "      <td>30.00</td>\n",
              "    </tr>\n",
              "    <tr>\n",
              "      <th>915</th>\n",
              "      <td>Agua verde</td>\n",
              "      <td>2400.00</td>\n",
              "      <td>4.00</td>\n",
              "      <td>175.00</td>\n",
              "    </tr>\n",
              "  </tbody>\n",
              "</table>\n",
              "</div>"
            ],
            "text/plain": [
              "         bairro  precos  quartos  areas\n",
              "869  Agua verde 2200.00     1.00  32.00\n",
              "870  Agua verde 1474.00     2.00  76.00\n",
              "871  Agua verde 1990.00     4.00 270.00\n",
              "873  Agua verde 1100.00     2.00  55.00\n",
              "874  Agua verde 1690.00     3.00  72.00\n",
              "875  Agua verde 1100.00     2.00  55.00\n",
              "876  Agua verde  990.00     2.00  65.00\n",
              "877  Agua verde 1500.00     2.00  81.00\n",
              "878  Agua verde 1400.00     1.00  49.00\n",
              "880  Agua verde 2330.00     3.00 151.00\n",
              "881  Agua verde  850.00     1.00  55.00\n",
              "882  Agua verde 1300.00     1.00  25.00\n",
              "884  Agua verde 1100.00     2.00  54.00\n",
              "885  Agua verde 1620.00     2.00  66.00\n",
              "886  Agua verde 1500.00     2.00  95.00\n",
              "887  Agua verde 1700.00     3.00 149.00\n",
              "888  Agua verde 1500.00     1.00  26.00\n",
              "889  Agua verde 1550.00     3.00 140.00\n",
              "890  Agua verde 1640.00     1.00  42.00\n",
              "893  Agua verde 2250.00     3.00 139.00\n",
              "894  Agua verde 2900.00     4.00 202.00\n",
              "895  Agua verde 1390.00      nan  33.00\n",
              "896  Agua verde  900.00     1.00  30.00\n",
              "897  Agua verde 1400.00     1.00  31.00\n",
              "898  Agua verde 3200.00     3.00 111.00\n",
              "899  Agua verde 1200.00     1.00  29.00\n",
              "900  Agua verde 1300.00     2.00 106.00\n",
              "901  Agua verde 2950.00     4.00 159.00\n",
              "903  Agua verde 1600.00     1.00  34.00\n",
              "904  Agua verde 1200.00     2.00  54.00\n",
              "905  Agua verde 1720.00     2.00  66.00\n",
              "907  Agua verde 1400.00     2.00  64.00\n",
              "909  Agua verde 1300.00     1.00  31.00\n",
              "911  Agua verde 1500.00     1.00  46.00\n",
              "912  Agua verde 1200.00     1.00  29.00\n",
              "913  Agua verde 1230.00     1.00  31.00\n",
              "914  Agua verde 1500.00     1.00  30.00\n",
              "915  Agua verde 2400.00     4.00 175.00"
            ]
          },
          "metadata": {
            "tags": []
          },
          "execution_count": 56
        }
      ]
    },
    {
      "cell_type": "markdown",
      "metadata": {
        "id": "evmyrda3ixlY"
      },
      "source": [
        "merged idhm with extracted data from mercado livre "
      ]
    },
    {
      "cell_type": "code",
      "metadata": {
        "id": "bGrJzTb0i5zH"
      },
      "source": [
        "da_ml = da_ml.set_index('bairro').join(idhm.set_index('bairro'))\r\n",
        "da_ml = da_ml_teste.reset_index()\r\n",
        "da_ml = da_ml.drop(['index'], axis=1)"
      ],
      "execution_count": 59,
      "outputs": []
    },
    {
      "cell_type": "code",
      "metadata": {
        "id": "xivMuYUC52qj",
        "colab": {
          "base_uri": "https://localhost:8080/",
          "height": 669
        },
        "outputId": "8b716ffc-f2a2-43dc-e4e5-c06d7c98ab09"
      },
      "source": [
        "da_ml.head(20)"
      ],
      "execution_count": 60,
      "outputs": [
        {
          "output_type": "execute_result",
          "data": {
            "text/html": [
              "<div>\n",
              "<style scoped>\n",
              "    .dataframe tbody tr th:only-of-type {\n",
              "        vertical-align: middle;\n",
              "    }\n",
              "\n",
              "    .dataframe tbody tr th {\n",
              "        vertical-align: top;\n",
              "    }\n",
              "\n",
              "    .dataframe thead th {\n",
              "        text-align: right;\n",
              "    }\n",
              "</style>\n",
              "<table border=\"1\" class=\"dataframe\">\n",
              "  <thead>\n",
              "    <tr style=\"text-align: right;\">\n",
              "      <th></th>\n",
              "      <th>bairro</th>\n",
              "      <th>precos</th>\n",
              "      <th>quartos</th>\n",
              "      <th>areas</th>\n",
              "      <th>IDHM</th>\n",
              "    </tr>\n",
              "  </thead>\n",
              "  <tbody>\n",
              "    <tr>\n",
              "      <th>0</th>\n",
              "      <td>Abranches</td>\n",
              "      <td>2500.00</td>\n",
              "      <td>2.00</td>\n",
              "      <td>80.00</td>\n",
              "      <td>0.80</td>\n",
              "    </tr>\n",
              "    <tr>\n",
              "      <th>1</th>\n",
              "      <td>Abranches</td>\n",
              "      <td>2100.00</td>\n",
              "      <td>2.00</td>\n",
              "      <td>65.00</td>\n",
              "      <td>0.80</td>\n",
              "    </tr>\n",
              "    <tr>\n",
              "      <th>2</th>\n",
              "      <td>Abranches</td>\n",
              "      <td>2500.00</td>\n",
              "      <td>2.00</td>\n",
              "      <td>80.00</td>\n",
              "      <td>0.80</td>\n",
              "    </tr>\n",
              "    <tr>\n",
              "      <th>3</th>\n",
              "      <td>Abranches</td>\n",
              "      <td>2100.00</td>\n",
              "      <td>2.00</td>\n",
              "      <td>65.00</td>\n",
              "      <td>0.80</td>\n",
              "    </tr>\n",
              "    <tr>\n",
              "      <th>4</th>\n",
              "      <td>Abranches</td>\n",
              "      <td>600.00</td>\n",
              "      <td>1.00</td>\n",
              "      <td>35.00</td>\n",
              "      <td>0.80</td>\n",
              "    </tr>\n",
              "    <tr>\n",
              "      <th>5</th>\n",
              "      <td>Abranches</td>\n",
              "      <td>855.00</td>\n",
              "      <td>1.00</td>\n",
              "      <td>28.00</td>\n",
              "      <td>0.80</td>\n",
              "    </tr>\n",
              "    <tr>\n",
              "      <th>6</th>\n",
              "      <td>Abranches</td>\n",
              "      <td>855.00</td>\n",
              "      <td>1.00</td>\n",
              "      <td>28.00</td>\n",
              "      <td>0.80</td>\n",
              "    </tr>\n",
              "    <tr>\n",
              "      <th>7</th>\n",
              "      <td>Abranches</td>\n",
              "      <td>855.00</td>\n",
              "      <td>1.00</td>\n",
              "      <td>28.00</td>\n",
              "      <td>0.80</td>\n",
              "    </tr>\n",
              "    <tr>\n",
              "      <th>8</th>\n",
              "      <td>Agua verde</td>\n",
              "      <td>2200.00</td>\n",
              "      <td>1.00</td>\n",
              "      <td>32.00</td>\n",
              "      <td>0.95</td>\n",
              "    </tr>\n",
              "    <tr>\n",
              "      <th>9</th>\n",
              "      <td>Agua verde</td>\n",
              "      <td>1474.00</td>\n",
              "      <td>2.00</td>\n",
              "      <td>76.00</td>\n",
              "      <td>0.95</td>\n",
              "    </tr>\n",
              "    <tr>\n",
              "      <th>10</th>\n",
              "      <td>Agua verde</td>\n",
              "      <td>1990.00</td>\n",
              "      <td>4.00</td>\n",
              "      <td>270.00</td>\n",
              "      <td>0.95</td>\n",
              "    </tr>\n",
              "    <tr>\n",
              "      <th>11</th>\n",
              "      <td>Agua verde</td>\n",
              "      <td>1100.00</td>\n",
              "      <td>2.00</td>\n",
              "      <td>55.00</td>\n",
              "      <td>0.95</td>\n",
              "    </tr>\n",
              "    <tr>\n",
              "      <th>12</th>\n",
              "      <td>Agua verde</td>\n",
              "      <td>1690.00</td>\n",
              "      <td>3.00</td>\n",
              "      <td>72.00</td>\n",
              "      <td>0.95</td>\n",
              "    </tr>\n",
              "    <tr>\n",
              "      <th>13</th>\n",
              "      <td>Agua verde</td>\n",
              "      <td>1100.00</td>\n",
              "      <td>2.00</td>\n",
              "      <td>55.00</td>\n",
              "      <td>0.95</td>\n",
              "    </tr>\n",
              "    <tr>\n",
              "      <th>14</th>\n",
              "      <td>Agua verde</td>\n",
              "      <td>990.00</td>\n",
              "      <td>2.00</td>\n",
              "      <td>65.00</td>\n",
              "      <td>0.95</td>\n",
              "    </tr>\n",
              "    <tr>\n",
              "      <th>15</th>\n",
              "      <td>Agua verde</td>\n",
              "      <td>1500.00</td>\n",
              "      <td>2.00</td>\n",
              "      <td>81.00</td>\n",
              "      <td>0.95</td>\n",
              "    </tr>\n",
              "    <tr>\n",
              "      <th>16</th>\n",
              "      <td>Agua verde</td>\n",
              "      <td>1400.00</td>\n",
              "      <td>1.00</td>\n",
              "      <td>49.00</td>\n",
              "      <td>0.95</td>\n",
              "    </tr>\n",
              "    <tr>\n",
              "      <th>17</th>\n",
              "      <td>Agua verde</td>\n",
              "      <td>2330.00</td>\n",
              "      <td>3.00</td>\n",
              "      <td>151.00</td>\n",
              "      <td>0.95</td>\n",
              "    </tr>\n",
              "    <tr>\n",
              "      <th>18</th>\n",
              "      <td>Agua verde</td>\n",
              "      <td>850.00</td>\n",
              "      <td>1.00</td>\n",
              "      <td>55.00</td>\n",
              "      <td>0.95</td>\n",
              "    </tr>\n",
              "    <tr>\n",
              "      <th>19</th>\n",
              "      <td>Agua verde</td>\n",
              "      <td>1300.00</td>\n",
              "      <td>1.00</td>\n",
              "      <td>25.00</td>\n",
              "      <td>0.95</td>\n",
              "    </tr>\n",
              "  </tbody>\n",
              "</table>\n",
              "</div>"
            ],
            "text/plain": [
              "        bairro  precos  quartos  areas  IDHM\n",
              "0    Abranches 2500.00     2.00  80.00  0.80\n",
              "1    Abranches 2100.00     2.00  65.00  0.80\n",
              "2    Abranches 2500.00     2.00  80.00  0.80\n",
              "3    Abranches 2100.00     2.00  65.00  0.80\n",
              "4    Abranches  600.00     1.00  35.00  0.80\n",
              "5    Abranches  855.00     1.00  28.00  0.80\n",
              "6    Abranches  855.00     1.00  28.00  0.80\n",
              "7    Abranches  855.00     1.00  28.00  0.80\n",
              "8   Agua verde 2200.00     1.00  32.00  0.95\n",
              "9   Agua verde 1474.00     2.00  76.00  0.95\n",
              "10  Agua verde 1990.00     4.00 270.00  0.95\n",
              "11  Agua verde 1100.00     2.00  55.00  0.95\n",
              "12  Agua verde 1690.00     3.00  72.00  0.95\n",
              "13  Agua verde 1100.00     2.00  55.00  0.95\n",
              "14  Agua verde  990.00     2.00  65.00  0.95\n",
              "15  Agua verde 1500.00     2.00  81.00  0.95\n",
              "16  Agua verde 1400.00     1.00  49.00  0.95\n",
              "17  Agua verde 2330.00     3.00 151.00  0.95\n",
              "18  Agua verde  850.00     1.00  55.00  0.95\n",
              "19  Agua verde 1300.00     1.00  25.00  0.95"
            ]
          },
          "metadata": {
            "tags": []
          },
          "execution_count": 60
        }
      ]
    },
    {
      "cell_type": "markdown",
      "metadata": {
        "id": "XGosCNp2nNzl"
      },
      "source": [
        "# Data exploration"
      ]
    },
    {
      "cell_type": "code",
      "metadata": {
        "id": "_Mx8XwqnQOzg",
        "colab": {
          "base_uri": "https://localhost:8080/",
          "height": 173
        },
        "outputId": "86df4275-e537-4bce-b7fc-e1c7e72ce1da"
      },
      "source": [
        "da_ml.describe().T"
      ],
      "execution_count": 61,
      "outputs": [
        {
          "output_type": "execute_result",
          "data": {
            "text/html": [
              "<div>\n",
              "<style scoped>\n",
              "    .dataframe tbody tr th:only-of-type {\n",
              "        vertical-align: middle;\n",
              "    }\n",
              "\n",
              "    .dataframe tbody tr th {\n",
              "        vertical-align: top;\n",
              "    }\n",
              "\n",
              "    .dataframe thead th {\n",
              "        text-align: right;\n",
              "    }\n",
              "</style>\n",
              "<table border=\"1\" class=\"dataframe\">\n",
              "  <thead>\n",
              "    <tr style=\"text-align: right;\">\n",
              "      <th></th>\n",
              "      <th>count</th>\n",
              "      <th>mean</th>\n",
              "      <th>std</th>\n",
              "      <th>min</th>\n",
              "      <th>25%</th>\n",
              "      <th>50%</th>\n",
              "      <th>75%</th>\n",
              "      <th>max</th>\n",
              "    </tr>\n",
              "  </thead>\n",
              "  <tbody>\n",
              "    <tr>\n",
              "      <th>precos</th>\n",
              "      <td>811.00</td>\n",
              "      <td>1303.43</td>\n",
              "      <td>615.21</td>\n",
              "      <td>2.00</td>\n",
              "      <td>850.00</td>\n",
              "      <td>1170.00</td>\n",
              "      <td>1600.00</td>\n",
              "      <td>3250.00</td>\n",
              "    </tr>\n",
              "    <tr>\n",
              "      <th>quartos</th>\n",
              "      <td>789.00</td>\n",
              "      <td>1.89</td>\n",
              "      <td>0.84</td>\n",
              "      <td>1.00</td>\n",
              "      <td>1.00</td>\n",
              "      <td>2.00</td>\n",
              "      <td>3.00</td>\n",
              "      <td>5.00</td>\n",
              "    </tr>\n",
              "    <tr>\n",
              "      <th>areas</th>\n",
              "      <td>802.00</td>\n",
              "      <td>64.75</td>\n",
              "      <td>49.11</td>\n",
              "      <td>17.00</td>\n",
              "      <td>37.00</td>\n",
              "      <td>53.00</td>\n",
              "      <td>74.00</td>\n",
              "      <td>801.00</td>\n",
              "    </tr>\n",
              "    <tr>\n",
              "      <th>IDHM</th>\n",
              "      <td>632.00</td>\n",
              "      <td>0.87</td>\n",
              "      <td>0.08</td>\n",
              "      <td>0.70</td>\n",
              "      <td>0.80</td>\n",
              "      <td>0.90</td>\n",
              "      <td>0.93</td>\n",
              "      <td>0.95</td>\n",
              "    </tr>\n",
              "  </tbody>\n",
              "</table>\n",
              "</div>"
            ],
            "text/plain": [
              "         count    mean    std   min    25%     50%     75%     max\n",
              "precos  811.00 1303.43 615.21  2.00 850.00 1170.00 1600.00 3250.00\n",
              "quartos 789.00    1.89   0.84  1.00   1.00    2.00    3.00    5.00\n",
              "areas   802.00   64.75  49.11 17.00  37.00   53.00   74.00  801.00\n",
              "IDHM    632.00    0.87   0.08  0.70   0.80    0.90    0.93    0.95"
            ]
          },
          "metadata": {
            "tags": []
          },
          "execution_count": 61
        }
      ]
    },
    {
      "cell_type": "code",
      "metadata": {
        "id": "7ZtbcftBZ7PI"
      },
      "source": [
        "indexNames = da_ml[da_ml['areas'] >= 350].index"
      ],
      "execution_count": 35,
      "outputs": []
    },
    {
      "cell_type": "code",
      "metadata": {
        "id": "z7Sey_MCaVQ_"
      },
      "source": [
        "da_ml.drop(indexNames , inplace=True)"
      ],
      "execution_count": 36,
      "outputs": []
    },
    {
      "cell_type": "code",
      "metadata": {
        "id": "8P_km-VqahbX",
        "colab": {
          "base_uri": "https://localhost:8080/",
          "height": 173
        },
        "outputId": "a212a07b-dac9-48f5-9901-2b36fa4b0260"
      },
      "source": [
        "da_ml.describe().T"
      ],
      "execution_count": 37,
      "outputs": [
        {
          "output_type": "execute_result",
          "data": {
            "text/html": [
              "<div>\n",
              "<style scoped>\n",
              "    .dataframe tbody tr th:only-of-type {\n",
              "        vertical-align: middle;\n",
              "    }\n",
              "\n",
              "    .dataframe tbody tr th {\n",
              "        vertical-align: top;\n",
              "    }\n",
              "\n",
              "    .dataframe thead th {\n",
              "        text-align: right;\n",
              "    }\n",
              "</style>\n",
              "<table border=\"1\" class=\"dataframe\">\n",
              "  <thead>\n",
              "    <tr style=\"text-align: right;\">\n",
              "      <th></th>\n",
              "      <th>count</th>\n",
              "      <th>mean</th>\n",
              "      <th>std</th>\n",
              "      <th>min</th>\n",
              "      <th>25%</th>\n",
              "      <th>50%</th>\n",
              "      <th>75%</th>\n",
              "      <th>max</th>\n",
              "    </tr>\n",
              "  </thead>\n",
              "  <tbody>\n",
              "    <tr>\n",
              "      <th>precos</th>\n",
              "      <td>758.00</td>\n",
              "      <td>1296.74</td>\n",
              "      <td>607.63</td>\n",
              "      <td>2.00</td>\n",
              "      <td>850.00</td>\n",
              "      <td>1160.00</td>\n",
              "      <td>1600.00</td>\n",
              "      <td>3250.00</td>\n",
              "    </tr>\n",
              "    <tr>\n",
              "      <th>quartos</th>\n",
              "      <td>737.00</td>\n",
              "      <td>1.86</td>\n",
              "      <td>0.83</td>\n",
              "      <td>1.00</td>\n",
              "      <td>1.00</td>\n",
              "      <td>2.00</td>\n",
              "      <td>3.00</td>\n",
              "      <td>5.00</td>\n",
              "    </tr>\n",
              "    <tr>\n",
              "      <th>areas</th>\n",
              "      <td>749.00</td>\n",
              "      <td>62.21</td>\n",
              "      <td>36.90</td>\n",
              "      <td>17.00</td>\n",
              "      <td>36.00</td>\n",
              "      <td>53.00</td>\n",
              "      <td>72.00</td>\n",
              "      <td>300.00</td>\n",
              "    </tr>\n",
              "    <tr>\n",
              "      <th>IDHM</th>\n",
              "      <td>579.00</td>\n",
              "      <td>0.87</td>\n",
              "      <td>0.08</td>\n",
              "      <td>0.70</td>\n",
              "      <td>0.80</td>\n",
              "      <td>0.90</td>\n",
              "      <td>0.93</td>\n",
              "      <td>0.95</td>\n",
              "    </tr>\n",
              "  </tbody>\n",
              "</table>\n",
              "</div>"
            ],
            "text/plain": [
              "         count    mean    std   min    25%     50%     75%     max\n",
              "precos  758.00 1296.74 607.63  2.00 850.00 1160.00 1600.00 3250.00\n",
              "quartos 737.00    1.86   0.83  1.00   1.00    2.00    3.00    5.00\n",
              "areas   749.00   62.21  36.90 17.00  36.00   53.00   72.00  300.00\n",
              "IDHM    579.00    0.87   0.08  0.70   0.80    0.90    0.93    0.95"
            ]
          },
          "metadata": {
            "tags": []
          },
          "execution_count": 37
        }
      ]
    },
    {
      "cell_type": "code",
      "metadata": {
        "id": "b5QtEDCRT54x",
        "colab": {
          "base_uri": "https://localhost:8080/"
        },
        "outputId": "48081d47-38f7-45e0-c27f-560775b4ba47"
      },
      "source": [
        "da_ml.info()"
      ],
      "execution_count": 38,
      "outputs": [
        {
          "output_type": "stream",
          "text": [
            "<class 'pandas.core.frame.DataFrame'>\n",
            "Index: 758 entries, Abranches to Xaxim\n",
            "Data columns (total 4 columns):\n",
            " #   Column   Non-Null Count  Dtype  \n",
            "---  ------   --------------  -----  \n",
            " 0   precos   758 non-null    float64\n",
            " 1   quartos  737 non-null    float64\n",
            " 2   areas    749 non-null    float64\n",
            " 3   IDHM     579 non-null    float64\n",
            "dtypes: float64(4)\n",
            "memory usage: 29.6+ KB\n"
          ],
          "name": "stdout"
        }
      ]
    },
    {
      "cell_type": "code",
      "metadata": {
        "id": "4YBP90blT9k5",
        "colab": {
          "base_uri": "https://localhost:8080/"
        },
        "outputId": "7db1517a-fc18-4fa4-c201-500a5b115a0f"
      },
      "source": [
        "da_ml.isnull().sum()"
      ],
      "execution_count": 39,
      "outputs": [
        {
          "output_type": "execute_result",
          "data": {
            "text/plain": [
              "precos       0\n",
              "quartos     21\n",
              "areas        9\n",
              "IDHM       179\n",
              "dtype: int64"
            ]
          },
          "metadata": {
            "tags": []
          },
          "execution_count": 39
        }
      ]
    },
    {
      "cell_type": "code",
      "metadata": {
        "id": "6CXyKHGwVo2J"
      },
      "source": [
        "def print_full(x):\n",
        "    pd.set_option('display.max_rows', None)\n",
        "    pd.set_option('display.max_columns', None)\n",
        "    pd.set_option('display.width', 2000)\n",
        "    pd.set_option('display.float_format', '{:20,.2f}'.format)\n",
        "    pd.set_option('display.max_colwidth', None)\n",
        "    print(x)\n",
        "    pd.reset_option('display.max_rows')\n",
        "    pd.reset_option('display.max_columns')\n",
        "    pd.reset_option('display.width')\n",
        "    pd.reset_option('display.float_format')\n",
        "    pd.reset_option('display.max_colwidth')"
      ],
      "execution_count": 45,
      "outputs": []
    },
    {
      "cell_type": "code",
      "metadata": {
        "id": "w2k_Z9WXVqCo",
        "outputId": "66020640-8ed2-4d30-afd2-b15c08c871b4",
        "colab": {
          "base_uri": "https://localhost:8080/"
        }
      },
      "source": [
        "print_full(da_ml)"
      ],
      "execution_count": 46,
      "outputs": [
        {
          "output_type": "stream",
          "text": [
            "                                  precos              quartos                areas                 IDHM\n",
            "bairro                                                                                                 \n",
            "Abranches                       2,500.00                 2.00                80.00                 0.80\n",
            "Abranches                       2,100.00                 2.00                65.00                 0.80\n",
            "Abranches                       2,500.00                 2.00                80.00                 0.80\n",
            "Abranches                       2,100.00                 2.00                65.00                 0.80\n",
            "Abranches                         600.00                 1.00                35.00                 0.80\n",
            "Abranches                         855.00                 1.00                28.00                 0.80\n",
            "Abranches                         855.00                 1.00                28.00                 0.80\n",
            "Abranches                         855.00                 1.00                28.00                 0.80\n",
            "Agua verde                      2,200.00                 1.00                32.00                 0.95\n",
            "Agua verde                      1,474.00                 2.00                76.00                 0.95\n",
            "Agua verde                      1,990.00                 4.00               270.00                 0.95\n",
            "Agua verde                      1,100.00                 2.00                55.00                 0.95\n",
            "Agua verde                      1,690.00                 3.00                72.00                 0.95\n",
            "Agua verde                      1,100.00                 2.00                55.00                 0.95\n",
            "Agua verde                        990.00                 2.00                65.00                 0.95\n",
            "Agua verde                      1,500.00                 2.00                81.00                 0.95\n",
            "Agua verde                      1,400.00                 1.00                49.00                 0.95\n",
            "Agua verde                      2,330.00                 3.00               151.00                 0.95\n",
            "Agua verde                        850.00                 1.00                55.00                 0.95\n",
            "Agua verde                      1,300.00                 1.00                25.00                 0.95\n",
            "Agua verde                      1,100.00                 2.00                54.00                 0.95\n",
            "Agua verde                      1,620.00                 2.00                66.00                 0.95\n",
            "Agua verde                      1,500.00                 2.00                95.00                 0.95\n",
            "Agua verde                      1,700.00                 3.00               149.00                 0.95\n",
            "Agua verde                      1,500.00                 1.00                26.00                 0.95\n",
            "Agua verde                      1,550.00                 3.00               140.00                 0.95\n",
            "Agua verde                      1,640.00                 1.00                42.00                 0.95\n",
            "Agua verde                      2,250.00                 3.00               139.00                 0.95\n",
            "Agua verde                      2,900.00                 4.00               202.00                 0.95\n",
            "Agua verde                      1,390.00                  nan                33.00                 0.95\n",
            "Agua verde                        900.00                 1.00                30.00                 0.95\n",
            "Agua verde                      1,400.00                 1.00                31.00                 0.95\n",
            "Agua verde                      3,200.00                 3.00               111.00                 0.95\n",
            "Agua verde                      1,200.00                 1.00                29.00                 0.95\n",
            "Agua verde                      1,300.00                 2.00               106.00                 0.95\n",
            "Agua verde                      2,950.00                 4.00               159.00                 0.95\n",
            "Agua verde                      1,600.00                 1.00                34.00                 0.95\n",
            "Agua verde                      1,200.00                 2.00                54.00                 0.95\n",
            "Agua verde                      1,720.00                 2.00                66.00                 0.95\n",
            "Agua verde                      1,400.00                 2.00                64.00                 0.95\n",
            "Agua verde                      1,300.00                 1.00                31.00                 0.95\n",
            "Agua verde                      1,500.00                 1.00                46.00                 0.95\n",
            "Agua verde                      1,200.00                 1.00                29.00                 0.95\n",
            "Agua verde                      1,230.00                 1.00                31.00                 0.95\n",
            "Agua verde                      1,500.00                 1.00                30.00                 0.95\n",
            "Agua verde                      2,400.00                 4.00               175.00                 0.95\n",
            "Ahu                               990.00                 1.00                40.00                 0.93\n",
            "Ahu                             2,000.00                 2.00               100.00                 0.93\n",
            "Ahu                             2,000.00                 2.00               100.00                 0.93\n",
            "Ahu                             1,100.00                 3.00                96.00                 0.93\n",
            "Ahu                             2,900.00                 3.00               177.00                 0.93\n",
            "Ahu                             1,200.00                 3.00                65.00                 0.93\n",
            "Ahu                             1,900.00                 3.00                65.00                 0.93\n",
            "Ahu                             2,800.00                 1.00               110.00                 0.93\n",
            "Ahu                               905.00                 3.00                72.00                 0.93\n",
            "Ahu                               800.00                 2.00                80.00                 0.93\n",
            "Alto da gloria                  2,000.00                 3.00                94.00                 0.95\n",
            "Alto da gloria                  1,800.00                 3.00                72.00                 0.95\n",
            "Alto da gloria                  2,500.00                 3.00               159.00                 0.95\n",
            "Alto da gloria                  1,200.00                 1.00                29.00                 0.95\n",
            "Alto da gloria                  1,190.00                 1.00                35.00                 0.95\n",
            "Alto da gloria                  1,250.00                 1.00                26.00                 0.95\n",
            "Alto da gloria                  1,500.00                 1.00                40.00                 0.95\n",
            "Alto da gloria                  1,350.00                 1.00                40.00                 0.95\n",
            "Alto da gloria                  3,050.00                 4.00               140.00                 0.95\n",
            "Alto da gloria                  1,730.00                 3.00                98.00                 0.95\n",
            "Alto da gloria                  2,090.00                 3.00               106.00                 0.95\n",
            "Alto da gloria                  1,100.00                 1.00                36.00                 0.95\n",
            "Alto da rua xv                  1,648.00                 3.00               119.00                 0.93\n",
            "Alto da rua xv                    750.00                 2.00                58.00                 0.93\n",
            "Alto da rua xv                    850.00                 2.00                75.00                 0.93\n",
            "Alto da rua xv                  1,500.00                 1.00                37.00                 0.93\n",
            "Alto da rua xv                  1,500.00                 1.00                37.00                 0.93\n",
            "Alto da rua xv                  1,450.00                 1.00                33.00                 0.93\n",
            "Alto da rua xv                  1,200.00                 2.00                67.00                 0.93\n",
            "Alto da rua xv                  2,000.00                 3.00               131.00                 0.93\n",
            "Alto da rua xv                  1,388.00                 1.00                31.00                 0.93\n",
            "Alto da rua xv                  2,000.00                 3.00               131.00                 0.93\n",
            "Alto da rua xv                    850.00                 2.00                75.00                 0.93\n",
            "Atuba                           1,530.00                 1.00                32.00                 0.81\n",
            "Atuba                           3,200.00                 1.00                57.00                 0.81\n",
            "Atuba                           1,500.00                 3.00                64.00                 0.81\n",
            "Atuba                           1,300.00                 2.00                50.00                 0.81\n",
            "Atuba                           1,100.00                 3.00                66.00                 0.81\n",
            "Atuba                           1,180.00                 2.00                51.00                 0.81\n",
            "Atuba                           1,100.00                 1.00                60.00                 0.81\n",
            "Atuba                             850.00                 2.00                38.00                 0.81\n",
            "Atuba                           1,600.00                 1.00                70.00                 0.81\n",
            "Atuba                           1,200.00                 2.00                71.00                 0.81\n",
            "Atuba                           1,612.00                 2.00                50.00                 0.81\n",
            "Bacacheri                       1,300.00                 2.00                40.00                  nan\n",
            "Bacacheri                           2.00                 4.00               127.00                  nan\n",
            "Bacacheri                       1,400.00                 1.00               128.00                  nan\n",
            "Bacacheri                       1,180.00                 3.00                80.00                  nan\n",
            "Bacacheri                       1,380.00                 3.00                69.00                  nan\n",
            "Bacacheri                       2,580.00                 3.00               133.00                  nan\n",
            "Bacacheri                       1,100.00                 3.00               100.00                  nan\n",
            "Bacacheri                         950.00                 1.00                40.00                  nan\n",
            "Bacacheri                         970.00                 2.00                68.00                  nan\n",
            "Bacacheri                         980.00                 1.00                30.00                  nan\n",
            "Bacacheri                         900.00                 3.00                70.00                  nan\n",
            "Bacacheri                         995.00                 3.00                80.00                  nan\n",
            "Bairro alto                     1,500.00                 3.00                90.00                 0.80\n",
            "Bairro alto                     1,500.00                 3.00                90.00                 0.80\n",
            "Bairro alto                       400.00                 1.00                30.00                 0.80\n",
            "Bairro alto                     2,000.00                 4.00               153.00                 0.80\n",
            "Bairro alto                     1,850.00                 3.00                70.00                 0.80\n",
            "Bairro alto                       765.00                 1.00                50.00                 0.80\n",
            "Bairro alto                       950.00                 3.00                65.00                 0.80\n",
            "Bairro alto                       950.00                 3.00                65.00                 0.80\n",
            "Bairro alto                       520.00                 1.00                26.00                 0.80\n",
            "Bigorrilho                        702.00                 1.00                30.00                 0.95\n",
            "Bigorrilho                      2,600.00                 2.00                56.00                 0.95\n",
            "Bigorrilho                      1,750.00                 2.00               102.00                 0.95\n",
            "Bigorrilho                      1,750.00                 2.00               102.00                 0.95\n",
            "Bigorrilho                      1,450.00                 2.00                57.00                 0.95\n",
            "Bigorrilho                      2,670.00                 3.00               123.00                 0.95\n",
            "Bigorrilho                      2,670.00                 3.00               123.00                 0.95\n",
            "Bigorrilho                      1,750.00                 2.00               102.00                 0.95\n",
            "Bigorrilho                      2,800.00                 2.00                67.00                 0.95\n",
            "Bigorrilho                      2,670.00                 3.00               123.00                 0.95\n",
            "Bigorrilho                      2,800.00                 2.00                67.00                 0.95\n",
            "Bigorrilho                      2,800.00                 2.00                67.00                 0.95\n",
            "Bigorrilho                      1,750.00                 2.00               102.00                 0.95\n",
            "Bigorrilho                      2,670.00                 3.00               123.00                 0.95\n",
            "Bigorrilho                      2,670.00                 3.00               123.00                 0.95\n",
            "Bigorrilho                      3,000.00                 2.00                64.00                 0.95\n",
            "Bigorrilho                      2,750.00                 2.00                64.00                 0.95\n",
            "Bigorrilho                        800.00                 1.00                59.00                 0.95\n",
            "Bigorrilho                      1,000.00                 2.00                56.00                 0.95\n",
            "Bigorrilho                      1,500.00                 2.00                75.00                 0.95\n",
            "Bigorrilho                      2,800.00                 2.00                67.00                 0.95\n",
            "Bigorrilho                      2,300.00                 3.00               121.00                 0.95\n",
            "Bigorrilho                      2,120.00                 3.00                94.00                 0.95\n",
            "Bigorrilho                      2,800.00                 2.00                67.00                 0.95\n",
            "Bigorrilho                      1,900.00                 3.00                93.00                 0.95\n",
            "Bigorrilho                      2,300.00                 3.00               121.00                 0.95\n",
            "Bigorrilho                      1,450.00                 2.00                57.00                 0.95\n",
            "Bigorrilho                      2,850.00                 3.00               151.00                 0.95\n",
            "Bigorrilho                      2,800.00                 2.00                67.00                 0.95\n",
            "Bigorrilho                      2,500.00                 2.00                61.00                 0.95\n",
            "Bigorrilho                      1,350.00                 1.00                34.00                 0.95\n",
            "Bigorrilho                      1,600.00                 2.00                70.00                 0.95\n",
            "Bigorrilho                      1,150.00                 2.00                87.00                 0.95\n",
            "Bigorrilho                      1,350.00                 1.00                34.00                 0.95\n",
            "Bigorrilho                        800.00                  nan                22.00                 0.95\n",
            "Bigorrilho                        560.00                 1.00                31.00                 0.95\n",
            "Bigorrilho                      1,080.00                 2.00                64.00                 0.95\n",
            "Bigorrilho                      2,750.00                 1.00                80.00                 0.95\n",
            "Bigorrilho                      2,800.00                 1.00                37.00                 0.95\n",
            "Bom retiro                      1,650.00                 1.00                37.00                  nan\n",
            "Boqueirao                       1,700.00                 3.00               117.00                 0.80\n",
            "Boqueirao                       1,860.00                 3.00               145.00                 0.80\n",
            "Boqueirao                       1,100.00                 1.00                40.00                 0.80\n",
            "Boqueirao                         620.00                 1.00                40.00                 0.80\n",
            "Boqueirao                         800.00                 1.00                35.00                 0.80\n",
            "Boqueirao                         900.00                 2.00                75.00                 0.80\n",
            "Boqueirao                       1,100.00                 2.00                56.00                 0.80\n",
            "Boqueirao                         800.00                 1.00                45.00                 0.80\n",
            "Boqueirao                         850.00                 1.00                45.00                 0.80\n",
            "Boqueirao                         700.00                 2.00                70.00                 0.80\n",
            "Boqueirao                         850.00                 3.00                60.00                 0.80\n",
            "Boqueirao                       1,200.00                 2.00                64.00                 0.80\n",
            "Boqueirao                         850.00                 3.00                60.00                 0.80\n",
            "Boqueirao                         850.00                 2.00                75.00                 0.80\n",
            "Boqueirao                         850.00                 2.00                75.00                 0.80\n",
            "Boqueirao                         650.00                 1.00                42.00                 0.80\n",
            "Boqueirao                         750.00                 2.00                42.00                 0.80\n",
            "Boqueirao                         800.00                 3.00                80.00                 0.80\n",
            "Cabral                          1,554.00                 3.00                80.00                 0.95\n",
            "Cabral                          1,200.00                 1.00                57.00                 0.95\n",
            "Cabral                          1,300.00                 3.00                58.00                 0.95\n",
            "Cabral                          2,350.00                 3.00                67.00                 0.95\n",
            "Cabral                          2,580.00                 3.00               120.00                 0.95\n",
            "Cabral                          1,350.00                 1.00                60.00                 0.95\n",
            "Cabral                          3,250.00                 3.00               120.00                 0.95\n",
            "Cabral                          1,650.00                 3.00                77.00                 0.95\n",
            "Cabral                          1,550.00                 3.00               120.00                 0.95\n",
            "Cabral                          1,200.00                 2.00                85.00                 0.95\n",
            "Cabral                          2,900.00                 2.00                79.00                 0.95\n",
            "Cabral                          1,900.00                 3.00               104.00                 0.95\n",
            "Cabral                          1,150.00                 2.00                90.00                 0.95\n",
            "Cabral                          1,400.00                 1.00                42.00                 0.95\n",
            "Cabral                          1,200.00                 2.00                70.00                 0.95\n",
            "Cabral                          1,450.00                 3.00               115.00                 0.95\n",
            "Cachoeira                         750.00                 2.00                45.00                  nan\n",
            "Cajuru                            800.00                 2.00                44.00                  nan\n",
            "Cajuru                            819.00                 1.00                38.00                  nan\n",
            "Cajuru                          1,200.00                 2.00                47.00                  nan\n",
            "Cajuru                          2,500.00                 4.00               300.00                  nan\n",
            "Cajuru                          1,250.00                 1.00                40.00                  nan\n",
            "Cajuru                          1,250.00                 1.00                40.00                  nan\n",
            "Cajuru                            620.00                 1.00                75.00                  nan\n",
            "Cajuru                            850.00                 2.00               134.00                  nan\n",
            "Cajuru                          1,230.00                 1.00               110.00                  nan\n",
            "Cajuru                          1,480.00                 2.00                50.00                  nan\n",
            "Cajuru                          1,000.00                 2.00                65.00                  nan\n",
            "Campo comprido                  1,133.00                 2.00                50.00                 0.81\n",
            "Campo comprido                  1,480.00                 3.00               102.00                 0.81\n",
            "Campo comprido                    800.00                 2.00                45.00                 0.81\n",
            "Campo comprido                  1,000.00                 2.00                43.00                 0.81\n",
            "Campo comprido                    750.00                 3.00                47.00                 0.81\n",
            "Campo comprido                  1,200.00                 2.00                51.00                 0.81\n",
            "Campo comprido                    500.00                 1.00                30.00                 0.81\n",
            "Campo comprido                    800.00                 3.00                60.00                 0.81\n",
            "Campo comprido                    600.00                 1.00                25.00                 0.81\n",
            "Campo comprido                    750.00                 3.00                48.00                 0.81\n",
            "Campo comprido                    690.00                 2.00                49.00                 0.81\n",
            "Campo comprido                  1,200.00                 3.00                71.00                 0.81\n",
            "Campo de santana                  850.00                 2.00                48.00                  nan\n",
            "Capao da imbuia                 2,750.00                 4.00               130.00                 0.81\n",
            "Capao da imbuia                 2,575.00                 3.00               185.00                 0.81\n",
            "Capao da imbuia                 1,700.00                  nan               157.00                 0.81\n",
            "Capao da imbuia                 1,700.00                  nan               157.00                 0.81\n",
            "Capao raso                      1,290.00                 2.00                68.00                 0.84\n",
            "Capao raso                      1,200.00                 3.00                58.00                 0.84\n",
            "Capao raso                      1,990.00                 3.00                87.00                 0.84\n",
            "Capao raso                        790.00                 2.00                52.00                 0.84\n",
            "Capao raso                      1,950.00                 3.00                78.00                 0.84\n",
            "Capao raso                      1,800.00                  nan                82.00                 0.84\n",
            "Capao raso                      1,500.00                 2.00                46.00                 0.84\n",
            "Capao raso                      2,200.00                 2.00                59.00                 0.84\n",
            "Capao raso                      1,000.00                 2.00                53.00                 0.84\n",
            "Capao raso                      1,500.00                 3.00               100.00                 0.84\n",
            "Capao raso                      1,000.00                 2.00                50.00                 0.84\n",
            "Capao raso                      1,750.00                 3.00                64.00                 0.84\n",
            "Capao raso                      2,700.00                 4.00               236.00                 0.84\n",
            "Capao raso                        700.00                 3.00                64.00                 0.84\n",
            "Capao raso                        800.00                 2.00                60.00                 0.84\n",
            "Centro                          1,088.00                 1.00                27.00                 0.93\n",
            "Centro                          1,340.00                 1.00                29.00                 0.93\n",
            "Centro                            850.00                 1.00                21.00                 0.93\n",
            "Centro                          1,600.00                 1.00                39.00                 0.93\n",
            "Centro                            900.00                 2.00                49.00                 0.93\n",
            "Centro                          1,350.00                 3.00               170.00                 0.93\n",
            "Centro                            900.00                 1.00                55.00                 0.93\n",
            "Centro                          2,000.00                 1.00                39.00                 0.93\n",
            "Centro                          1,200.00                 2.00                62.00                 0.93\n",
            "Centro                          2,317.00                 2.00               123.00                 0.93\n",
            "Centro                          2,200.00                 3.00               114.00                 0.93\n",
            "Centro                            695.00                 1.00                32.00                 0.93\n",
            "Centro                          1,150.00                 1.00                17.00                 0.93\n",
            "Centro                          1,200.00                 1.00                38.00                 0.93\n",
            "Centro                          1,751.00                 1.00                44.00                 0.93\n",
            "Centro                          1,200.00                 1.00                30.00                 0.93\n",
            "Centro                            750.00                 1.00                34.00                 0.93\n",
            "Centro                            590.00                 1.00                20.00                 0.93\n",
            "Centro                            670.00                 1.00                35.00                 0.93\n",
            "Centro                          1,150.00                 1.00                60.00                 0.93\n",
            "Centro                            890.00                 1.00                32.00                 0.93\n",
            "Centro                            750.00                 1.00                35.00                 0.93\n",
            "Centro                            990.00                 1.00                52.00                 0.93\n",
            "Centro                          1,750.00                 1.00                31.00                 0.93\n",
            "Centro                          1,750.00                 1.00                35.00                 0.93\n",
            "Centro                          3,000.00                 2.00                50.00                 0.93\n",
            "Centro                          2,800.00                 2.00                70.00                 0.93\n",
            "Centro                            700.00                 1.00                29.00                 0.93\n",
            "Centro                            900.00                 1.00                27.00                 0.93\n",
            "Centro                            720.00                 1.00                39.00                 0.93\n",
            "Centro                          2,650.00                 1.00                50.00                 0.93\n",
            "Centro                          3,000.00                 1.00                48.00                 0.93\n",
            "Centro                            900.00                 2.00                47.00                 0.93\n",
            "Centro                            540.00                 1.00                40.00                 0.93\n",
            "Centro                            700.00                 1.00                33.00                 0.93\n",
            "Centro                            700.00                 1.00                28.00                 0.93\n",
            "Centro                            900.00                 1.00                32.00                 0.93\n",
            "Centro                            737.00                 2.00                40.00                 0.93\n",
            "Centro                            890.00                 1.00                60.00                 0.93\n",
            "Centro                          1,280.00                 1.00                43.00                 0.93\n",
            "Centro                          1,280.00                 1.00                43.00                 0.93\n",
            "Centro                          1,500.00                 1.00                48.00                 0.93\n",
            "Centro                            900.00                 1.00                29.00                 0.93\n",
            "Centro                            690.00                 1.00                27.00                 0.93\n",
            "Centro civico                     799.00                 1.00                35.00                  nan\n",
            "Centro civico                     700.00                 1.00                35.00                  nan\n",
            "Centro civico                   1,650.00                 1.00                29.00                  nan\n",
            "Centro civico                   2,200.00                 1.00                35.00                  nan\n",
            "Centro civico                   1,650.00                 1.00                29.00                  nan\n",
            "Centro civico                   3,000.00                 2.00                48.00                  nan\n",
            "Centro civico                   2,200.00                 1.00                35.00                  nan\n",
            "Centro civico                   1,650.00                 1.00                29.00                  nan\n",
            "Centro civico                   1,000.00                 1.00                25.00                  nan\n",
            "Centro civico                   2,200.00                 1.00                35.00                  nan\n",
            "Centro civico                   1,900.00                 2.00                57.00                  nan\n",
            "Centro civico                   1,650.00                 1.00                29.00                  nan\n",
            "Centro civico                   1,650.00                 1.00                29.00                  nan\n",
            "Centro civico                   1,650.00                 1.00                29.00                  nan\n",
            "Centro civico                   3,000.00                 1.00                32.00                  nan\n",
            "Centro civico                   1,250.00                 1.00                44.00                  nan\n",
            "Centro civico                   1,100.00                 1.00                33.00                  nan\n",
            "Champagnat                      2,800.00                 3.00               193.00                  nan\n",
            "Cidade industrial                 650.00                 2.00                46.00                  nan\n",
            "Cidade industrial               1,800.00                  nan               112.00                  nan\n",
            "Cidade industrial               1,100.00                 2.00                46.00                  nan\n",
            "Cidade industrial                 950.00                 3.00                45.00                  nan\n",
            "Cidade industrial               1,550.00                 2.00                51.00                  nan\n",
            "Cidade industrial                 750.00                 3.00                47.00                  nan\n",
            "Cidade industrial               1,650.00                 2.00                60.00                  nan\n",
            "Cidade industrial               1,679.00                 2.00                50.00                  nan\n",
            "Cidade industrial               1,000.00                 3.00                45.00                  nan\n",
            "Cidade industrial                 550.00                 2.00                47.00                  nan\n",
            "Cidade industrial               1,649.00                 1.00                47.00                  nan\n",
            "Cidade industrial                 850.00                 2.00                47.00                  nan\n",
            "Cidade industrial               1,050.00                 2.00                42.00                  nan\n",
            "Cidade industrial                 950.00                 3.00                42.00                  nan\n",
            "Cidade industrial               1,000.00                 2.00                60.00                  nan\n",
            "Cidade industrial                 653.00                 2.00                50.00                  nan\n",
            "Cidade industrial                 750.00                 2.00                53.00                  nan\n",
            "Cidade industrial               1,000.00                 2.00                40.00                  nan\n",
            "Cidade industrial                 920.00                 2.00                42.00                  nan\n",
            "Cidade industrial               1,000.00                 1.00                33.00                  nan\n",
            "Cidade industrial               1,037.00                 2.00                62.00                  nan\n",
            "Cidade industrial               1,318.00                 5.00               102.00                  nan\n",
            "Cidade industrial               3,200.00                 2.00                50.00                  nan\n",
            "Cidade industrial               1,040.00                 2.00                46.00                  nan\n",
            "Cidade industrial               1,635.00                 1.00                20.00                  nan\n",
            "Cidade industrial                 793.00                 2.00                46.00                  nan\n",
            "Cidade industrial                 625.00                 2.00                47.00                  nan\n",
            "Cidade industrial               1,429.00                 1.00                50.00                  nan\n",
            "Cidade industrial                 760.00                 2.00                46.00                  nan\n",
            "Cidade industrial               1,431.00                 2.00                46.00                  nan\n",
            "Cidade industrial               1,100.00                 2.00                50.00                  nan\n",
            "Cidade industrial                 780.00                 1.00                30.00                  nan\n",
            "Cidade industrial                 500.00                 2.00                44.00                  nan\n",
            "Cidade industrial                 750.00                 3.00                46.00                  nan\n",
            "Cidade industrial                 750.00                 2.00                42.00                  nan\n",
            "Cidade industrial                 800.00                 2.00                40.00                  nan\n",
            "Cidade industrial                 750.00                 1.00                49.00                  nan\n",
            "Cidade industrial                 650.00                 1.00                66.00                  nan\n",
            "Cidade industrial                 650.00                 2.00                74.00                  nan\n",
            "Cidade industrial                 500.00                 2.00                40.00                  nan\n",
            "Cidade industrial                 750.00                 2.00                64.00                  nan\n",
            "Cristo rei                      1,200.00                 2.00                55.00                 0.93\n",
            "Cristo rei                      3,200.00                 3.00                78.00                 0.93\n",
            "Cristo rei                      2,550.00                 2.00                66.00                 0.93\n",
            "Cristo rei                      1,800.00                 3.00               104.00                 0.93\n",
            "Cristo rei                      1,450.00                 1.00                32.00                 0.93\n",
            "Cristo rei                      1,190.00                 1.00                25.00                 0.93\n",
            "Cristo rei                        650.00                 1.00                50.00                 0.93\n",
            "Cristo rei                      2,100.00                 3.00               113.00                 0.93\n",
            "Cristo rei                      1,050.00                 2.00                49.00                 0.93\n",
            "Cristo rei                      1,090.00                 1.00                25.00                 0.93\n",
            "Cristo rei                      1,600.00                 3.00               117.00                 0.93\n",
            "Cristo rei                      1,250.00                 3.00                97.00                 0.93\n",
            "Cristo rei                      1,190.00                 1.00                33.00                 0.93\n",
            "Cristo rei                      1,190.00                 1.00                25.00                 0.93\n",
            "Cristo rei                      1,100.00                 1.00                38.00                 0.93\n",
            "Cristo rei                        990.00                 1.00                24.00                 0.93\n",
            "Cristo rei                      1,190.00                 1.00                24.00                 0.93\n",
            "Cristo rei                      1,190.00                 1.00                24.00                 0.93\n",
            "Cristo rei                      1,190.00                 1.00                25.00                 0.93\n",
            "Cristo rei                        990.00                 1.00                24.00                 0.93\n",
            "Cristo rei                      1,200.00                 3.00                70.00                 0.93\n",
            "Cristo rei                      1,200.00                 3.00                70.00                 0.93\n",
            "Cristo rei                      1,450.00                 3.00               128.00                 0.93\n",
            "Cristo rei                      1,300.00                 1.00                50.00                 0.93\n",
            "Cristo rei                        900.00                 2.00                60.00                 0.93\n",
            "Cristo rei                      1,990.00                 3.00               150.00                 0.93\n",
            "Cristo rei                      1,200.00                 3.00                75.00                 0.93\n",
            "Cristo rei                      1,080.00                 1.00                50.00                 0.93\n",
            "Cristo rei                      1,650.00                 1.00                44.00                 0.93\n",
            "Cristo rei                      1,200.00                 2.00                40.00                 0.93\n",
            "Cristo rei                      1,250.00                 2.00                80.00                 0.93\n",
            "Cristo rei                      1,490.00                 3.00                87.00                 0.93\n",
            "Cristo rei                        950.00                 2.00                66.00                 0.93\n",
            "Cristo rei                      1,200.00                 1.00                68.00                 0.93\n",
            "Cristo rei                      1,200.00                 2.00                61.00                 0.93\n",
            "Cristo rei                      1,500.00                 3.00                93.00                 0.93\n",
            "Cristo rei                        900.00                 2.00                60.00                 0.93\n",
            "Cristo rei                        650.00                 1.00                40.00                 0.93\n",
            "Cristo rei                        750.00                 1.00                25.00                 0.93\n",
            "Fanny                           1,280.00                 1.00                50.00                 0.85\n",
            "Fanny                             800.00                 1.00                35.00                 0.85\n",
            "Fanny                           1,340.00                 2.00                55.00                 0.85\n",
            "Fanny                             880.00                 2.00                52.00                 0.85\n",
            "Fanny                           1,000.00                 2.00                46.00                 0.85\n",
            "Fanny                             690.00                 2.00                70.00                 0.85\n",
            "Fazendinha                        850.00                 1.00                40.00                  nan\n",
            "Fazendinha                        550.00                 3.00                53.00                  nan\n",
            "Fazendinha                      1,200.00                 3.00                60.00                  nan\n",
            "Fazendinha                      1,100.00                 2.00                44.00                  nan\n",
            "Fazendinha                        780.00                 2.00                30.00                  nan\n",
            "Fazendinha                      2,091.00                 3.00                89.00                  nan\n",
            "Fazendinha                        780.00                 2.00                30.00                  nan\n",
            "Fazendinha                        637.00                 1.00                30.00                  nan\n",
            "Fazendinha                        850.00                 3.00                58.00                  nan\n",
            "Fazendinha                        950.00                 3.00                57.00                  nan\n",
            "Fazendinha                        700.00                 2.00                44.00                  nan\n",
            "Fazendinha                        580.00                 1.00                53.00                  nan\n",
            "Fazendinha                        700.00                 3.00                58.00                  nan\n",
            "Fazendinha                        950.00                 2.00                56.00                  nan\n",
            "Guabirotuba                       750.00                 3.00                64.00                  nan\n",
            "Guabirotuba                       400.00                 1.00                33.00                  nan\n",
            "Guabirotuba                       450.00                 1.00                33.00                  nan\n",
            "Guaira                          1,400.00                 1.00                28.00                 0.76\n",
            "Guaira                          1,200.00                 1.00                28.00                 0.76\n",
            "Guaira                          1,200.00                 2.00                64.00                 0.76\n",
            "Guaira                          1,200.00                 1.00                73.00                 0.76\n",
            "Hauer                           1,250.00                 3.00               100.00                 0.82\n",
            "Hauer                             699.00                 2.00                52.00                 0.82\n",
            "Hauer                             900.00                 3.00                58.00                 0.82\n",
            "Hauer                             500.00                 1.00                42.00                 0.82\n",
            "Hauer                             750.00                 1.00                50.00                 0.82\n",
            "Hauer                             950.00                 1.00                65.00                 0.82\n",
            "Hauer                             699.00                 2.00                40.00                 0.82\n",
            "Hauer                           1,160.00                 3.00                65.00                 0.82\n",
            "Hugo lange                        743.00                 1.00                51.00                 0.95\n",
            "Hugo lange                      1,600.00                 3.00                75.00                 0.95\n",
            "Hugo lange                      1,600.00                 3.00                75.00                 0.95\n",
            "Jardim botanico                   650.00                 1.00                29.00                 0.78\n",
            "Jardim botanico                 1,300.00                 3.00               140.00                 0.78\n",
            "Jardim botanico                 1,500.00                 3.00               140.00                 0.78\n",
            "Jardim botanico                 1,400.00                 3.00               140.00                 0.78\n",
            "Jardim botanico                 1,343.00                 3.00                89.00                 0.78\n",
            "Jardim botanico                 2,144.00                 2.00               250.00                 0.78\n",
            "Jardim botanico                 1,200.00                 1.00                30.00                 0.78\n",
            "Jardim botanico                   900.00                 2.00                62.00                 0.78\n",
            "Jardim botanico                 1,200.00                 3.00                71.00                 0.78\n",
            "Jardim das americas             1,105.00                 1.00                32.00                 0.90\n",
            "Jardim das americas             1,600.00                 1.00                32.00                 0.90\n",
            "Jardim das americas             2,300.00                 2.00               140.00                 0.90\n",
            "Jardim das americas             3,200.00                 3.00               200.00                 0.90\n",
            "Jardim social                     975.00                 2.00                80.00                 0.95\n",
            "Jardim social                   1,500.00                 1.00                49.00                 0.95\n",
            "Jardim social                   2,500.00                 2.00                72.00                 0.95\n",
            "Jardim social                   3,000.00                 3.00               104.00                 0.95\n",
            "Jardim social                   1,100.00                 2.00                74.00                 0.95\n",
            "Jardim social                   1,100.00                 2.00                74.00                 0.95\n",
            "Juveve                          1,600.00                 3.00                75.00                 0.95\n",
            "Juveve                            714.00                 1.00                36.00                 0.95\n",
            "Juveve                          1,070.00                 3.00               110.00                 0.95\n",
            "Juveve                          2,500.00                 2.00                60.00                 0.95\n",
            "Juveve                            950.00                 1.00                60.00                 0.95\n",
            "Juveve                          1,680.00                 3.00               135.00                 0.95\n",
            "Juveve                          1,600.00                 1.00                40.00                 0.95\n",
            "Juveve                          2,500.00                 2.00                60.00                 0.95\n",
            "Juveve                          2,500.00                 2.00                60.00                 0.95\n",
            "Juveve                          1,600.00                 1.00                40.00                 0.95\n",
            "Juveve                          1,600.00                 1.00                40.00                 0.95\n",
            "Juveve                          1,100.00                 2.00                89.00                 0.95\n",
            "Lindoia                           800.00                 1.00                25.00                  nan\n",
            "Lindoia                         1,120.00                 1.00                30.00                  nan\n",
            "Lindoia                         1,645.00                 2.00                51.00                  nan\n",
            "Lindoia                         1,659.00                 2.00                51.00                  nan\n",
            "Merces                            990.00                 1.00                50.00                  nan\n",
            "Merces                          1,600.00                 1.00                47.00                  nan\n",
            "Merces                          1,600.00                 1.00                47.00                  nan\n",
            "Merces                          2,300.00                 3.00               120.00                  nan\n",
            "Merces                          1,650.00                 2.00                99.00                  nan\n",
            "Merces                            930.00                 1.00                44.00                  nan\n",
            "Merces                            930.00                 1.00                44.00                  nan\n",
            "Merces                          1,500.00                 3.00               110.00                  nan\n",
            "Merces                          1,500.00                 3.00               110.00                  nan\n",
            "Merces                            700.00                 1.00                40.00                  nan\n",
            "Merces                            720.00                 1.00                40.00                  nan\n",
            "Merces                          1,300.00                 1.00                22.00                  nan\n",
            "Merces                          1,200.00                 1.00                20.00                  nan\n",
            "Merces                          1,250.00                 1.00                22.00                  nan\n",
            "Merces                          1,800.00                 1.00                35.00                  nan\n",
            "Merces                          1,650.00                 3.00               114.00                  nan\n",
            "Mossungue                         850.00                 3.00                67.00                  nan\n",
            "Mossungue                       1,200.00                 2.00                62.00                  nan\n",
            "Mossungue                       2,950.00                 2.00               121.00                  nan\n",
            "Nan                               800.00                  nan                  nan                  nan\n",
            "Nan                             1,100.00                  nan                  nan                  nan\n",
            "Nan                               420.00                  nan                  nan                  nan\n",
            "Nan                               550.00                  nan                  nan                  nan\n",
            "Nan                             1,200.00                  nan                  nan                  nan\n",
            "Nan                               900.00                  nan                  nan                  nan\n",
            "Nan                               520.00                  nan                  nan                  nan\n",
            "Nan                             1,640.00                  nan                  nan                  nan\n",
            "Nan                             1,300.00                  nan                  nan                  nan\n",
            "Novo mundo                      1,000.00                 2.00                60.00                 0.79\n",
            "Novo mundo                      2,060.00                 2.00                63.00                 0.79\n",
            "Novo mundo                      1,200.00                 2.00                61.00                 0.79\n",
            "Novo mundo                        790.00                 3.00                57.00                 0.79\n",
            "Novo mundo                        500.00                 2.00                52.00                 0.79\n",
            "Novo mundo                      1,435.00                 2.00                60.00                 0.79\n",
            "Novo mundo                        900.00                 3.00                90.00                 0.79\n",
            "Novo mundo                        950.00                 3.00                59.00                 0.79\n",
            "Novo mundo                        920.00                 3.00                76.00                 0.79\n",
            "Novo mundo                        950.00                 2.00                47.00                 0.79\n",
            "Novo mundo                        830.00                 1.00                45.00                 0.79\n",
            "Novo mundo                      1,250.00                 3.00               122.00                 0.79\n",
            "Novo mundo                      1,200.00                 2.00                45.00                 0.79\n",
            "Novo mundo                        860.00                 1.00                25.00                 0.79\n",
            "Novo mundo                      1,050.00                 3.00                60.00                 0.79\n",
            "Novo mundo                        850.00                 1.00                28.00                 0.79\n",
            "Novo mundo                      2,130.00                 3.00               162.00                 0.79\n",
            "Novo mundo                        850.00                 1.00                33.00                 0.79\n",
            "Novo mundo                      1,300.00                 1.00                36.00                 0.79\n",
            "Novo mundo                        750.00                 3.00                57.00                 0.79\n",
            "Novo mundo                        850.00                 1.00                28.00                 0.79\n",
            "Novo mundo                        900.00                 1.00                25.00                 0.79\n",
            "Novo mundo                        900.00                 1.00                25.00                 0.79\n",
            "Novo mundo                        900.00                 3.00                67.00                 0.79\n",
            "Novo mundo                      1,000.00                 3.00                65.00                 0.79\n",
            "Novo mundo                        800.00                 2.00                47.00                 0.79\n",
            "Orleans                         1,400.00                 2.00                50.00                  nan\n",
            "Orleans                         1,400.00                 2.00                50.00                  nan\n",
            "Parolin                           800.00                 2.00                60.00                 0.79\n",
            "Pilarzinho                      2,100.00                 2.00                59.00                 0.80\n",
            "Pilarzinho                        790.00                 3.00                64.00                 0.80\n",
            "Pilarzinho                        700.00                 1.00                40.00                 0.80\n",
            "Pilarzinho                        950.00                 2.00                80.00                 0.80\n",
            "Pilarzinho                      2,350.00                 3.00               170.00                 0.80\n",
            "Pilarzinho                        995.00                 1.00                60.00                 0.80\n",
            "Pilarzinho                        880.00                 2.00                80.00                 0.80\n",
            "Pilarzinho                        829.00                 1.00                30.00                 0.80\n",
            "Pilarzinho                      1,400.00                 3.00               127.00                 0.80\n",
            "Portao                          1,300.00                 2.00                60.00                 0.89\n",
            "Portao                          1,150.00                 2.00                50.00                 0.89\n",
            "Portao                            880.00                 1.00                37.00                 0.89\n",
            "Portao                          1,200.00                 2.00                60.00                 0.89\n",
            "Portao                          1,100.00                 1.00                45.00                 0.89\n",
            "Portao                            650.00                 1.00                30.00                 0.89\n",
            "Portao                          1,300.00                  nan                35.00                 0.89\n",
            "Portao                          1,500.00                 1.00                70.00                 0.89\n",
            "Portao                            900.00                 1.00                53.00                 0.89\n",
            "Portao                          1,250.00                 3.00               110.00                 0.89\n",
            "Portao                            800.00                 1.00                30.00                 0.89\n",
            "Portao                          1,100.00                 2.00                83.00                 0.89\n",
            "Portao                            900.00                 3.00                84.00                 0.89\n",
            "Portao                            900.00                 1.00                47.00                 0.89\n",
            "Portao                            930.00                 3.00                60.00                 0.89\n",
            "Portao                            750.00                 3.00                70.00                 0.89\n",
            "Portao                            700.00                 2.00                47.00                 0.89\n",
            "Portao                            850.00                 2.00                46.00                 0.89\n",
            "Portao                          2,300.00                 3.00               110.00                 0.89\n",
            "Prado velho                     1,100.00                 1.00                18.00                 0.81\n",
            "Prado velho                       750.00                 1.00                36.00                 0.81\n",
            "Prado velho                       900.00                 1.00                32.00                 0.81\n",
            "Prado velho                     1,100.00                 1.00                19.00                 0.81\n",
            "Prado velho                       716.00                 1.00                64.00                 0.81\n",
            "Prado velho                       800.00                 1.00                63.00                 0.81\n",
            "Prado velho                     1,150.00                 3.00                59.00                 0.81\n",
            "Prado velho                       750.00                 1.00                36.00                 0.81\n",
            "Reboucas                        1,100.00                 1.00                57.00                 0.90\n",
            "Reboucas                        1,648.00                 1.00                29.00                 0.90\n",
            "Reboucas                          990.00                 1.00                28.00                 0.90\n",
            "Reboucas                          750.00                 1.00                33.00                 0.90\n",
            "Reboucas                          690.00                 1.00                33.00                 0.90\n",
            "Reboucas                          800.00                 1.00                33.00                 0.90\n",
            "Reboucas                        1,800.00                 1.00                30.00                 0.90\n",
            "Reboucas                        2,890.00                 1.00                28.00                 0.90\n",
            "Reboucas                          783.00                 1.00                34.00                 0.90\n",
            "Reboucas                          679.00                 1.00                33.00                 0.90\n",
            "Reboucas                          680.00                 1.00                32.00                 0.90\n",
            "Reboucas                          679.00                 1.00                33.00                 0.90\n",
            "Reboucas                          788.00                 1.00                40.00                 0.90\n",
            "Reboucas                          950.00                 2.00                78.00                 0.90\n",
            "Reboucas                        1,100.00                 3.00               103.00                 0.90\n",
            "Reboucas                        1,450.00                 2.00                58.00                 0.90\n",
            "Reboucas                        1,350.00                 1.00                35.00                 0.90\n",
            "Reboucas                          700.00                 1.00                28.00                 0.90\n",
            "Reboucas                        1,600.00                 1.00                30.00                 0.90\n",
            "Reboucas                          499.00                 2.00                60.00                 0.90\n",
            "Reboucas                          920.00                 2.00                61.00                 0.90\n",
            "Reboucas                        1,578.00                 1.00                37.00                 0.90\n",
            "Reboucas                        1,000.00                 2.00                60.00                 0.90\n",
            "Reboucas                          960.00                 1.00                17.00                 0.90\n",
            "Reboucas                          553.00                 3.00                80.00                 0.90\n",
            "Reboucas                        1,100.00                 3.00               128.00                 0.90\n",
            "Reboucas                        1,367.00                 1.00                28.00                 0.90\n",
            "Reboucas                        1,600.00                  nan               117.00                 0.90\n",
            "Reboucas                        1,800.00                 3.00                80.00                 0.90\n",
            "Reboucas                        1,100.00                 1.00                45.00                 0.90\n",
            "Reboucas                        1,000.00                 4.00               214.00                 0.90\n",
            "Reboucas                        1,200.00                 1.00                36.00                 0.90\n",
            "Reboucas                        1,650.00                 1.00                43.00                 0.90\n",
            "Reboucas                          900.00                 2.00                67.00                 0.90\n",
            "Reboucas                        1,277.00                 1.00                45.00                 0.90\n",
            "Reboucas                        1,000.00                 1.00                25.00                 0.90\n",
            "Reboucas                        1,250.00                 3.00                98.00                 0.90\n",
            "Reboucas                        2,672.00                 2.00                60.00                 0.90\n",
            "Reboucas                          960.00                 2.00                87.00                 0.90\n",
            "Reboucas                        1,100.00                 2.00                50.00                 0.90\n",
            "Reboucas                          810.00                 2.00                63.00                 0.90\n",
            "Reboucas                          960.00                 2.00                57.00                 0.90\n",
            "Reboucas                          850.00                 2.00                63.00                 0.90\n",
            "Reboucas                          960.00                 1.00                30.00                 0.90\n",
            "Reboucas                        1,500.00                 1.00                34.00                 0.90\n",
            "Reboucas                        1,330.00                 2.00                67.00                 0.90\n",
            "Santa candida                     950.00                 2.00                64.00                 0.77\n",
            "Santa candida                   1,689.00                 2.00                46.00                 0.77\n",
            "Santa candida                   1,387.00                 2.00                48.00                 0.77\n",
            "Santa candida                     900.00                 3.00                62.00                 0.77\n",
            "Santa candida                     700.00                 2.00                40.00                 0.77\n",
            "Santa candida                     900.00                 1.00                58.00                 0.77\n",
            "Santa candida                     990.00                 1.00                25.00                 0.77\n",
            "Santa candida                   1,160.00                 1.00                25.00                 0.77\n",
            "Santa candida                   1,105.00                 1.00                50.00                 0.77\n",
            "Santa candida                     950.00                 2.00                53.00                 0.77\n",
            "Santa candida                   1,000.00                 1.00                25.00                 0.77\n",
            "Santa candida                   1,471.00                 2.00                46.00                 0.77\n",
            "Santa candida                   1,160.00                 1.00                25.00                 0.77\n",
            "Santa candida                   1,160.00                 1.00                25.00                 0.77\n",
            "Santa candida                   1,160.00                 1.00                25.00                 0.77\n",
            "Santa candida                     990.00                 1.00                25.00                 0.77\n",
            "Santa candida                   1,160.00                 1.00                25.00                 0.77\n",
            "Santa candida                   1,160.00                 1.00                25.00                 0.77\n",
            "Santa candida                   1,160.00                 1.00                25.00                 0.77\n",
            "Santa candida                     650.00                 2.00                47.00                 0.77\n",
            "Santa candida                     650.00                 2.00                45.00                 0.77\n",
            "Santa felicidade                1,143.00                 3.00                49.00                 0.84\n",
            "Santa felicidade                2,200.00                 2.00                65.00                 0.84\n",
            "Santa quiteria                  1,050.00                 2.00                60.00                 0.75\n",
            "Santa quiteria                    978.00                 1.00                20.00                 0.75\n",
            "Santa quiteria                    800.00                 1.00                30.00                 0.75\n",
            "Santo inacio                    1,200.00                 2.00                85.00                  nan\n",
            "Santo inacio                    2,300.00                 3.00                63.00                  nan\n",
            "Santo inacio                    2,750.00                 2.00               100.00                  nan\n",
            "Santo inacio                      600.00                 1.00                25.00                  nan\n",
            "Santo inacio                      600.00                 1.00                25.00                  nan\n",
            "Sao braz                          850.00                 1.00                25.00                  nan\n",
            "Sao braz                        1,200.00                 2.00                55.00                  nan\n",
            "Sao braz                        2,500.00                 3.00               142.00                  nan\n",
            "Sao francisco                     750.00                 1.00                40.00                 0.92\n",
            "Sao francisco                   1,360.00                 3.00                67.00                 0.92\n",
            "Sao francisco                   1,130.00                 1.00                57.00                 0.92\n",
            "Sao francisco                   1,451.00                 3.00                67.00                 0.92\n",
            "Sao francisco                   1,350.00                 3.00                67.00                 0.92\n",
            "Sao francisco                   1,347.00                 3.00                67.00                 0.92\n",
            "Sao francisco                     930.00                 1.00                29.00                 0.92\n",
            "Sao francisco                   1,000.00                 1.00                35.00                 0.92\n",
            "Sao francisco                   1,965.00                 2.00                65.00                 0.92\n",
            "Sao francisco                   1,300.00                 3.00               171.00                 0.92\n",
            "Sao francisco                   1,100.00                 1.00                36.00                 0.92\n",
            "Sao francisco                   1,600.00                 2.00                78.00                 0.92\n",
            "Sao francisco                   1,100.00                 1.00                28.00                 0.92\n",
            "Sao francisco                   2,500.00                 3.00               119.00                 0.92\n",
            "Sao francisco                   1,250.00                 1.00                50.00                 0.92\n",
            "Sao francisco                   1,700.00                 3.00               108.00                 0.92\n",
            "Sao francisco                   1,450.00                 2.00                62.00                 0.92\n",
            "Sao francisco                   1,275.00                 1.00                50.00                 0.92\n",
            "Sao francisco                     750.00                 1.00                31.00                 0.92\n",
            "Sao francisco                   1,400.00                 1.00                40.00                 0.92\n",
            "Sao francisco                   1,050.00                 1.00                35.00                 0.92\n",
            "Sao francisco                     800.00                 1.00                45.00                 0.92\n",
            "Sao francisco                   1,100.00                 1.00                35.00                 0.92\n",
            "Sao francisco                     950.00                 1.00                29.00                 0.92\n",
            "Sao francisco                   1,300.00                 3.00               170.00                 0.92\n",
            "Sao francisco                     980.00                 1.00                35.00                 0.92\n",
            "Sao francisco                   1,300.00                 2.00                90.00                 0.92\n",
            "Sao francisco                     980.00                 1.00                29.00                 0.92\n",
            "Sao francisco                     750.00                 1.00                29.00                 0.92\n",
            "Sao lourenco                      700.00                 1.00                40.00                 0.88\n",
            "Sao lourenco                      750.00                 2.00                60.00                 0.88\n",
            "Seminario                         800.00                 2.00                25.00                 0.93\n",
            "Seminario                         850.00                 2.00                95.00                 0.93\n",
            "Seminario                       1,200.00                 2.00                79.00                 0.93\n",
            "Seminario                       1,200.00                 3.00               101.00                 0.93\n",
            "Seminario                       2,200.00                 3.00               103.00                 0.93\n",
            "Sitio cercado                     550.00                 2.00                50.00                 0.70\n",
            "Sitio cercado                     950.00                 2.00                65.00                 0.70\n",
            "Sitio cercado                   1,100.00                 2.00                34.00                 0.70\n",
            "Sitio cercado                     880.00                 2.00                43.00                 0.70\n",
            "Sitio cercado                   1,100.00                 2.00                47.00                 0.70\n",
            "Sitio cercado                     850.00                 2.00                42.00                 0.70\n",
            "Sitio cercado                   1,000.00                 2.00                42.00                 0.70\n",
            "Sitio cercado                   1,000.00                 2.00                50.00                 0.70\n",
            "Sitio cercado                   2,001.00                 2.00               200.00                 0.70\n",
            "Sitio cercado                     900.00                 2.00                44.00                 0.70\n",
            "Sitio cercado                     590.00                 1.00                33.00                 0.70\n",
            "Sitio cercado                     590.00                 1.00                33.00                 0.70\n",
            "Sitio cercado                     590.00                 1.00                33.00                 0.70\n",
            "Sitio cercado                     590.00                 1.00                30.00                 0.70\n",
            "Sitio cercado                     590.00                 1.00                30.00                 0.70\n",
            "Sitio cercado                     590.00                 1.00                30.00                 0.70\n",
            "Sitio cercado                     590.00                 1.00                30.00                 0.70\n",
            "Sitio cercado                     569.00                 1.00                22.00                 0.70\n",
            "Sitio cercado                     616.00                 1.00                22.00                 0.70\n",
            "Sitio cercado                     850.00                 1.00                30.00                 0.70\n",
            "Sitio cercado                     600.00                 1.00                22.00                 0.70\n",
            "Sitio cercado                     650.00                 1.00                25.00                 0.70\n",
            "Sitio cercado                     750.00                 2.00                46.00                 0.70\n",
            "Sitio cercado                     500.00                 1.00                28.00                 0.70\n",
            "Sitio cercado                     500.00                 1.00                33.00                 0.70\n",
            "Sitio cercado                   1,700.00                 1.00                50.00                 0.70\n",
            "Sitio cercado                     720.00                 2.00                49.00                 0.70\n",
            "Sitio cercado                     590.00                 1.00                30.00                 0.70\n",
            "Sitio cercado                     500.00                 1.00                37.00                 0.70\n",
            "Sitio cercado                     670.00                 2.00                56.00                 0.70\n",
            "Sitio cercado                     500.00                 1.00                22.00                 0.70\n",
            "Sitio cercado                     600.00                 2.00                49.00                 0.70\n",
            "Sitio cercado                     700.00                 2.00                70.00                 0.70\n",
            "Taruma                            795.00                 1.00                36.00                 0.84\n",
            "Taruma                            950.00                 1.00                27.00                 0.84\n",
            "Taruma                          1,300.00                 1.00                28.00                 0.84\n",
            "Taruma                          1,600.00                 1.00                40.00                 0.84\n",
            "Taruma                          1,900.00                 1.00                45.00                 0.84\n",
            "Tatuquara                         700.00                 2.00                47.00                 0.72\n",
            "Tatuquara                         650.00                 2.00                47.00                 0.72\n",
            "Tingui                          1,899.00                 2.00                53.00                 0.85\n",
            "Tingui                          1,600.00                 3.00                78.00                 0.85\n",
            "Tingui                          1,150.00                 2.00                55.00                 0.85\n",
            "Tingui                          1,250.00                 2.00                53.00                 0.85\n",
            "Tingui                          1,280.00                 2.00                67.00                 0.85\n",
            "Tingui                          1,250.00                 2.00                62.00                 0.85\n",
            "Tingui                          1,150.00                 2.00                60.00                 0.85\n",
            "Tingui                          1,900.00                 3.00               160.00                 0.85\n",
            "Tingui                          1,100.00                 2.00                66.00                 0.85\n",
            "Tingui                          1,250.00                 2.00                77.00                 0.85\n",
            "Tingui                          1,300.00                 2.00                62.00                 0.85\n",
            "Tingui                          1,100.00                 2.00                59.00                 0.85\n",
            "Tingui                          1,090.00                 2.00                55.00                 0.85\n",
            "Tingui                          1,000.00                 2.00                52.00                 0.85\n",
            "Uberaba                         1,300.00                 2.00                40.00                  nan\n",
            "Uberaba                         1,350.00                 3.00                66.00                  nan\n",
            "Uberaba                           665.00                 1.00                60.00                  nan\n",
            "Uberaba                         1,000.00                 2.00                47.00                  nan\n",
            "Uberaba                           500.00                 1.00                30.00                  nan\n",
            "Uberaba                         1,100.00                 2.00                60.00                  nan\n",
            "Uberaba                           620.00                 1.00                50.00                  nan\n",
            "Uberaba                         1,260.00                 2.00                65.00                  nan\n",
            "Uberaba                           640.00                 1.00                50.00                  nan\n",
            "Uberaba                           620.00                 1.00                50.00                  nan\n",
            "Uberaba                         1,520.00                 2.00                50.00                  nan\n",
            "Uberaba                         1,530.00                 2.00                55.00                  nan\n",
            "Uberaba                         1,500.00                 2.00                56.00                  nan\n",
            "Uberaba                         1,000.00                 3.00                57.00                  nan\n",
            "Uberaba                         1,500.00                 2.00                58.00                  nan\n",
            "Vila izabel                     1,900.00                 3.00               115.00                  nan\n",
            "Vila izabel                     1,650.00                 1.00                40.00                  nan\n",
            "Vila izabel                     3,200.00                 1.00                55.00                  nan\n",
            "Vila izabel                     1,790.00                 3.00               101.00                  nan\n",
            "Vila izabel                     1,300.00                 3.00                95.00                  nan\n",
            "Vila izabel                     1,600.00                 3.00                93.00                  nan\n",
            "Vila izabel                     1,250.00                 3.00                86.00                  nan\n",
            "Vila izabel                     1,500.00                 3.00               109.00                  nan\n",
            "Vila izabel                     2,000.00                 3.00               109.00                  nan\n",
            "Vila izabel                     1,300.00                 3.00                82.00                  nan\n",
            "Vila izabel                     2,700.00                 3.00               175.00                  nan\n",
            "Vila izabel                     2,300.00                 3.00               103.00                  nan\n",
            "Vila izabel                     1,700.00                 1.00                47.00                  nan\n",
            "Vila izabel                     2,856.00                 2.00                65.00                  nan\n",
            "Vila izabel                     1,900.00                 3.00               116.00                  nan\n",
            "Vila izabel                     1,300.00                  nan                58.00                  nan\n",
            "Vila izabel                     2,100.00                 3.00                88.00                  nan\n",
            "Vila izabel                       700.00                 3.00                96.00                  nan\n",
            "Vista alegre                    1,200.00                 1.00                30.00                  nan\n",
            "Vista alegre                      800.00                  nan                30.00                  nan\n",
            "Xaxim                           1,170.00                 3.00                61.00                 0.80\n",
            "Xaxim                           1,200.00                  nan                55.00                 0.80\n",
            "Xaxim                           1,800.00                  nan                67.00                 0.80\n",
            "Xaxim                             500.00                 1.00                40.00                 0.80\n",
            "Xaxim                           1,100.00                 3.00               100.00                 0.80\n",
            "Xaxim                           1,000.00                 2.00                55.00                 0.80\n",
            "Xaxim                             900.00                 2.00                52.00                 0.80\n",
            "Xaxim                             960.00                 2.00                50.00                 0.80\n",
            "Xaxim                             880.00                 1.00                31.00                 0.80\n",
            "Xaxim                             900.00                 2.00                77.00                 0.80\n",
            "Xaxim                           1,230.00                 2.00                70.00                 0.80\n",
            "Xaxim                           1,160.00                 2.00                55.00                 0.80\n",
            "Xaxim                           1,200.00                 3.00                62.00                 0.80\n",
            "Xaxim                             630.00                 1.00                30.00                 0.80\n",
            "Xaxim                             750.00                 3.00                75.00                 0.80\n",
            "Xaxim                             650.00                 1.00                30.00                 0.80\n"
          ],
          "name": "stdout"
        }
      ]
    },
    {
      "cell_type": "code",
      "metadata": {
        "id": "35nggR6xT-1F",
        "colab": {
          "base_uri": "https://localhost:8080/",
          "height": 562
        },
        "outputId": "5b18f07b-af49-479f-adfe-46e17d5e37dc"
      },
      "source": [
        "da_ml['bairro'].value_counts()"
      ],
      "execution_count": 40,
      "outputs": [
        {
          "output_type": "error",
          "ename": "KeyError",
          "evalue": "ignored",
          "traceback": [
            "\u001b[0;31m---------------------------------------------------------------------------\u001b[0m",
            "\u001b[0;31mKeyError\u001b[0m                                  Traceback (most recent call last)",
            "\u001b[0;32m/usr/local/lib/python3.7/dist-packages/pandas/core/indexes/base.py\u001b[0m in \u001b[0;36mget_loc\u001b[0;34m(self, key, method, tolerance)\u001b[0m\n\u001b[1;32m   2897\u001b[0m             \u001b[0;32mtry\u001b[0m\u001b[0;34m:\u001b[0m\u001b[0;34m\u001b[0m\u001b[0;34m\u001b[0m\u001b[0m\n\u001b[0;32m-> 2898\u001b[0;31m                 \u001b[0;32mreturn\u001b[0m \u001b[0mself\u001b[0m\u001b[0;34m.\u001b[0m\u001b[0m_engine\u001b[0m\u001b[0;34m.\u001b[0m\u001b[0mget_loc\u001b[0m\u001b[0;34m(\u001b[0m\u001b[0mcasted_key\u001b[0m\u001b[0;34m)\u001b[0m\u001b[0;34m\u001b[0m\u001b[0;34m\u001b[0m\u001b[0m\n\u001b[0m\u001b[1;32m   2899\u001b[0m             \u001b[0;32mexcept\u001b[0m \u001b[0mKeyError\u001b[0m \u001b[0;32mas\u001b[0m \u001b[0merr\u001b[0m\u001b[0;34m:\u001b[0m\u001b[0;34m\u001b[0m\u001b[0;34m\u001b[0m\u001b[0m\n",
            "\u001b[0;32mpandas/_libs/index.pyx\u001b[0m in \u001b[0;36mpandas._libs.index.IndexEngine.get_loc\u001b[0;34m()\u001b[0m\n",
            "\u001b[0;32mpandas/_libs/index.pyx\u001b[0m in \u001b[0;36mpandas._libs.index.IndexEngine.get_loc\u001b[0;34m()\u001b[0m\n",
            "\u001b[0;32mpandas/_libs/hashtable_class_helper.pxi\u001b[0m in \u001b[0;36mpandas._libs.hashtable.PyObjectHashTable.get_item\u001b[0;34m()\u001b[0m\n",
            "\u001b[0;32mpandas/_libs/hashtable_class_helper.pxi\u001b[0m in \u001b[0;36mpandas._libs.hashtable.PyObjectHashTable.get_item\u001b[0;34m()\u001b[0m\n",
            "\u001b[0;31mKeyError\u001b[0m: 'bairro'",
            "\nThe above exception was the direct cause of the following exception:\n",
            "\u001b[0;31mKeyError\u001b[0m                                  Traceback (most recent call last)",
            "\u001b[0;32m<ipython-input-40-13fd8f706ba3>\u001b[0m in \u001b[0;36m<module>\u001b[0;34m()\u001b[0m\n\u001b[0;32m----> 1\u001b[0;31m \u001b[0mda_ml\u001b[0m\u001b[0;34m[\u001b[0m\u001b[0;34m'bairro'\u001b[0m\u001b[0;34m]\u001b[0m\u001b[0;34m.\u001b[0m\u001b[0mvalue_counts\u001b[0m\u001b[0;34m(\u001b[0m\u001b[0;34m)\u001b[0m\u001b[0;34m\u001b[0m\u001b[0;34m\u001b[0m\u001b[0m\n\u001b[0m",
            "\u001b[0;32m/usr/local/lib/python3.7/dist-packages/pandas/core/frame.py\u001b[0m in \u001b[0;36m__getitem__\u001b[0;34m(self, key)\u001b[0m\n\u001b[1;32m   2904\u001b[0m             \u001b[0;32mif\u001b[0m \u001b[0mself\u001b[0m\u001b[0;34m.\u001b[0m\u001b[0mcolumns\u001b[0m\u001b[0;34m.\u001b[0m\u001b[0mnlevels\u001b[0m \u001b[0;34m>\u001b[0m \u001b[0;36m1\u001b[0m\u001b[0;34m:\u001b[0m\u001b[0;34m\u001b[0m\u001b[0;34m\u001b[0m\u001b[0m\n\u001b[1;32m   2905\u001b[0m                 \u001b[0;32mreturn\u001b[0m \u001b[0mself\u001b[0m\u001b[0;34m.\u001b[0m\u001b[0m_getitem_multilevel\u001b[0m\u001b[0;34m(\u001b[0m\u001b[0mkey\u001b[0m\u001b[0;34m)\u001b[0m\u001b[0;34m\u001b[0m\u001b[0;34m\u001b[0m\u001b[0m\n\u001b[0;32m-> 2906\u001b[0;31m             \u001b[0mindexer\u001b[0m \u001b[0;34m=\u001b[0m \u001b[0mself\u001b[0m\u001b[0;34m.\u001b[0m\u001b[0mcolumns\u001b[0m\u001b[0;34m.\u001b[0m\u001b[0mget_loc\u001b[0m\u001b[0;34m(\u001b[0m\u001b[0mkey\u001b[0m\u001b[0;34m)\u001b[0m\u001b[0;34m\u001b[0m\u001b[0;34m\u001b[0m\u001b[0m\n\u001b[0m\u001b[1;32m   2907\u001b[0m             \u001b[0;32mif\u001b[0m \u001b[0mis_integer\u001b[0m\u001b[0;34m(\u001b[0m\u001b[0mindexer\u001b[0m\u001b[0;34m)\u001b[0m\u001b[0;34m:\u001b[0m\u001b[0;34m\u001b[0m\u001b[0;34m\u001b[0m\u001b[0m\n\u001b[1;32m   2908\u001b[0m                 \u001b[0mindexer\u001b[0m \u001b[0;34m=\u001b[0m \u001b[0;34m[\u001b[0m\u001b[0mindexer\u001b[0m\u001b[0;34m]\u001b[0m\u001b[0;34m\u001b[0m\u001b[0;34m\u001b[0m\u001b[0m\n",
            "\u001b[0;32m/usr/local/lib/python3.7/dist-packages/pandas/core/indexes/base.py\u001b[0m in \u001b[0;36mget_loc\u001b[0;34m(self, key, method, tolerance)\u001b[0m\n\u001b[1;32m   2898\u001b[0m                 \u001b[0;32mreturn\u001b[0m \u001b[0mself\u001b[0m\u001b[0;34m.\u001b[0m\u001b[0m_engine\u001b[0m\u001b[0;34m.\u001b[0m\u001b[0mget_loc\u001b[0m\u001b[0;34m(\u001b[0m\u001b[0mcasted_key\u001b[0m\u001b[0;34m)\u001b[0m\u001b[0;34m\u001b[0m\u001b[0;34m\u001b[0m\u001b[0m\n\u001b[1;32m   2899\u001b[0m             \u001b[0;32mexcept\u001b[0m \u001b[0mKeyError\u001b[0m \u001b[0;32mas\u001b[0m \u001b[0merr\u001b[0m\u001b[0;34m:\u001b[0m\u001b[0;34m\u001b[0m\u001b[0;34m\u001b[0m\u001b[0m\n\u001b[0;32m-> 2900\u001b[0;31m                 \u001b[0;32mraise\u001b[0m \u001b[0mKeyError\u001b[0m\u001b[0;34m(\u001b[0m\u001b[0mkey\u001b[0m\u001b[0;34m)\u001b[0m \u001b[0;32mfrom\u001b[0m \u001b[0merr\u001b[0m\u001b[0;34m\u001b[0m\u001b[0;34m\u001b[0m\u001b[0m\n\u001b[0m\u001b[1;32m   2901\u001b[0m \u001b[0;34m\u001b[0m\u001b[0m\n\u001b[1;32m   2902\u001b[0m         \u001b[0;32mif\u001b[0m \u001b[0mtolerance\u001b[0m \u001b[0;32mis\u001b[0m \u001b[0;32mnot\u001b[0m \u001b[0;32mNone\u001b[0m\u001b[0;34m:\u001b[0m\u001b[0;34m\u001b[0m\u001b[0;34m\u001b[0m\u001b[0m\n",
            "\u001b[0;31mKeyError\u001b[0m: 'bairro'"
          ]
        }
      ]
    },
    {
      "cell_type": "code",
      "metadata": {
        "id": "pTcRYGJ8xSCl"
      },
      "source": [
        "da_group = da_ml.groupby(['bairro']).median().sort_values('precos', ascending=False)\n",
        "da_group"
      ],
      "execution_count": null,
      "outputs": []
    },
    {
      "cell_type": "code",
      "metadata": {
        "id": "1gl6Stb7awWA",
        "colab": {
          "base_uri": "https://localhost:8080/",
          "height": 542
        },
        "outputId": "2e0380aa-9b35-45d9-ac44-4b356caf768f"
      },
      "source": [
        "fig = make_subplots(rows=3, cols=1)\r\n",
        "preços = go.Histogram(x=da_ml['precos'], name=\"preços\")\r\n",
        "quartos = go.Histogram(x=da_ml['quartos'], name=\"quartos\")\r\n",
        "áreas = go.Histogram(x=da_ml['areas'], name=\"áreas\")\r\n",
        "\r\n",
        "fig.append_trace(preços, 1, 1)\r\n",
        "fig.append_trace(quartos, 2, 1)\r\n",
        "fig.append_trace(áreas, 3, 1)\r\n",
        "fig.show()"
      ],
      "execution_count": 41,
      "outputs": [
        {
          "output_type": "display_data",
          "data": {
            "text/html": [
              "<html>\n",
              "<head><meta charset=\"utf-8\" /></head>\n",
              "<body>\n",
              "    <div>            <script src=\"https://cdnjs.cloudflare.com/ajax/libs/mathjax/2.7.5/MathJax.js?config=TeX-AMS-MML_SVG\"></script><script type=\"text/javascript\">if (window.MathJax) {MathJax.Hub.Config({SVG: {font: \"STIX-Web\"}});}</script>                <script type=\"text/javascript\">window.PlotlyConfig = {MathJaxConfig: 'local'};</script>\n",
              "        <script src=\"https://cdn.plot.ly/plotly-latest.min.js\"></script>                <div id=\"23e62d2e-8f9b-42d3-89b6-ce8865f149c8\" class=\"plotly-graph-div\" style=\"height:525px; width:100%;\"></div>            <script type=\"text/javascript\">                                    window.PLOTLYENV=window.PLOTLYENV || {};                                    if (document.getElementById(\"23e62d2e-8f9b-42d3-89b6-ce8865f149c8\")) {                    Plotly.newPlot(                        \"23e62d2e-8f9b-42d3-89b6-ce8865f149c8\",                        [{\"name\": \"pre\\u00e7os\", \"type\": \"histogram\", \"x\": [2500.0, 2100.0, 2500.0, 2100.0, 600.0, 855.0, 855.0, 855.0, 2200.0, 1474.0, 1990.0, 1100.0, 1690.0, 1100.0, 990.0, 1500.0, 1400.0, 2330.0, 850.0, 1300.0, 1100.0, 1620.0, 1500.0, 1700.0, 1500.0, 1550.0, 1640.0, 2250.0, 2900.0, 1390.0, 900.0, 1400.0, 3200.0, 1200.0, 1300.0, 2950.0, 1600.0, 1200.0, 1720.0, 1400.0, 1300.0, 1500.0, 1200.0, 1230.0, 1500.0, 2400.0, 990.0, 2000.0, 2000.0, 1100.0, 2900.0, 1200.0, 1900.0, 2800.0, 905.0, 800.0, 2000.0, 1800.0, 2500.0, 1200.0, 1190.0, 1250.0, 1500.0, 1350.0, 3050.0, 1730.0, 2090.0, 1100.0, 1648.0, 750.0, 850.0, 1500.0, 1500.0, 1450.0, 1200.0, 2000.0, 1388.0, 2000.0, 850.0, 1530.0, 3200.0, 1500.0, 1300.0, 1100.0, 1180.0, 1100.0, 850.0, 1600.0, 1200.0, 1612.0, 1300.0, 2.0, 1400.0, 1180.0, 1380.0, 2580.0, 1100.0, 950.0, 970.0, 980.0, 900.0, 995.0, 1500.0, 1500.0, 400.0, 2000.0, 1850.0, 765.0, 950.0, 950.0, 520.0, 702.0, 2600.0, 1750.0, 1750.0, 1450.0, 2670.0, 2670.0, 1750.0, 2800.0, 2670.0, 2800.0, 2800.0, 1750.0, 2670.0, 2670.0, 3000.0, 2750.0, 800.0, 1000.0, 1500.0, 2800.0, 2300.0, 2120.0, 2800.0, 1900.0, 2300.0, 1450.0, 2850.0, 2800.0, 2500.0, 1350.0, 1600.0, 1150.0, 1350.0, 800.0, 560.0, 1080.0, 2750.0, 2800.0, 1650.0, 1700.0, 1860.0, 1100.0, 620.0, 800.0, 900.0, 1100.0, 800.0, 850.0, 700.0, 850.0, 1200.0, 850.0, 850.0, 850.0, 650.0, 750.0, 800.0, 1554.0, 1200.0, 1300.0, 2350.0, 2580.0, 1350.0, 3250.0, 1650.0, 1550.0, 1200.0, 2900.0, 1900.0, 1150.0, 1400.0, 1200.0, 1450.0, 750.0, 800.0, 819.0, 1200.0, 2500.0, 1250.0, 1250.0, 620.0, 850.0, 1230.0, 1480.0, 1000.0, 1133.0, 1480.0, 800.0, 1000.0, 750.0, 1200.0, 500.0, 800.0, 600.0, 750.0, 690.0, 1200.0, 850.0, 2750.0, 2575.0, 1700.0, 1700.0, 1290.0, 1200.0, 1990.0, 790.0, 1950.0, 1800.0, 1500.0, 2200.0, 1000.0, 1500.0, 1000.0, 1750.0, 2700.0, 700.0, 800.0, 1088.0, 1340.0, 850.0, 1600.0, 900.0, 1350.0, 900.0, 2000.0, 1200.0, 2317.0, 2200.0, 695.0, 1150.0, 1200.0, 1751.0, 1200.0, 750.0, 590.0, 670.0, 1150.0, 890.0, 750.0, 990.0, 1750.0, 1750.0, 3000.0, 2800.0, 700.0, 900.0, 720.0, 2650.0, 3000.0, 900.0, 540.0, 700.0, 700.0, 900.0, 737.0, 890.0, 1280.0, 1280.0, 1500.0, 900.0, 690.0, 799.0, 700.0, 1650.0, 2200.0, 1650.0, 3000.0, 2200.0, 1650.0, 1000.0, 2200.0, 1900.0, 1650.0, 1650.0, 1650.0, 3000.0, 1250.0, 1100.0, 2800.0, 650.0, 1800.0, 1100.0, 950.0, 1550.0, 750.0, 1650.0, 1679.0, 1000.0, 550.0, 1649.0, 850.0, 1050.0, 950.0, 1000.0, 653.0, 750.0, 1000.0, 920.0, 1000.0, 1037.0, 1318.0, 3200.0, 1040.0, 1635.0, 793.0, 625.0, 1429.0, 760.0, 1431.0, 1100.0, 780.0, 500.0, 750.0, 750.0, 800.0, 750.0, 650.0, 650.0, 500.0, 750.0, 1200.0, 3200.0, 2550.0, 1800.0, 1450.0, 1190.0, 650.0, 2100.0, 1050.0, 1090.0, 1600.0, 1250.0, 1190.0, 1190.0, 1100.0, 990.0, 1190.0, 1190.0, 1190.0, 990.0, 1200.0, 1200.0, 1450.0, 1300.0, 900.0, 1990.0, 1200.0, 1080.0, 1650.0, 1200.0, 1250.0, 1490.0, 950.0, 1200.0, 1200.0, 1500.0, 900.0, 650.0, 750.0, 1280.0, 800.0, 1340.0, 880.0, 1000.0, 690.0, 850.0, 550.0, 1200.0, 1100.0, 780.0, 2091.0, 780.0, 637.0, 850.0, 950.0, 700.0, 580.0, 700.0, 950.0, 750.0, 400.0, 450.0, 1400.0, 1200.0, 1200.0, 1200.0, 1250.0, 699.0, 900.0, 500.0, 750.0, 950.0, 699.0, 1160.0, 743.0, 1600.0, 1600.0, 650.0, 1300.0, 1500.0, 1400.0, 1343.0, 2144.0, 1200.0, 900.0, 1200.0, 1105.0, 1600.0, 2300.0, 3200.0, 975.0, 1500.0, 2500.0, 3000.0, 1100.0, 1100.0, 1600.0, 714.0, 1070.0, 2500.0, 950.0, 1680.0, 1600.0, 2500.0, 2500.0, 1600.0, 1600.0, 1100.0, 800.0, 1120.0, 1645.0, 1659.0, 990.0, 1600.0, 1600.0, 2300.0, 1650.0, 930.0, 930.0, 1500.0, 1500.0, 700.0, 720.0, 1300.0, 1200.0, 1250.0, 1800.0, 1650.0, 850.0, 1200.0, 2950.0, 800.0, 1100.0, 420.0, 550.0, 1200.0, 900.0, 520.0, 1640.0, 1300.0, 1000.0, 2060.0, 1200.0, 790.0, 500.0, 1435.0, 900.0, 950.0, 920.0, 950.0, 830.0, 1250.0, 1200.0, 860.0, 1050.0, 850.0, 2130.0, 850.0, 1300.0, 750.0, 850.0, 900.0, 900.0, 900.0, 1000.0, 800.0, 1400.0, 1400.0, 800.0, 2100.0, 790.0, 700.0, 950.0, 2350.0, 995.0, 880.0, 829.0, 1400.0, 1300.0, 1150.0, 880.0, 1200.0, 1100.0, 650.0, 1300.0, 1500.0, 900.0, 1250.0, 800.0, 1100.0, 900.0, 900.0, 930.0, 750.0, 700.0, 850.0, 2300.0, 1100.0, 750.0, 900.0, 1100.0, 716.0, 800.0, 1150.0, 750.0, 1100.0, 1648.0, 990.0, 750.0, 690.0, 800.0, 1800.0, 2890.0, 783.0, 679.0, 680.0, 679.0, 788.0, 950.0, 1100.0, 1450.0, 1350.0, 700.0, 1600.0, 499.0, 920.0, 1578.0, 1000.0, 960.0, 553.0, 1100.0, 1367.0, 1600.0, 1800.0, 1100.0, 1000.0, 1200.0, 1650.0, 900.0, 1277.0, 1000.0, 1250.0, 2672.0, 960.0, 1100.0, 810.0, 960.0, 850.0, 960.0, 1500.0, 1330.0, 950.0, 1689.0, 1387.0, 900.0, 700.0, 900.0, 990.0, 1160.0, 1105.0, 950.0, 1000.0, 1471.0, 1160.0, 1160.0, 1160.0, 990.0, 1160.0, 1160.0, 1160.0, 650.0, 650.0, 1143.0, 2200.0, 1050.0, 978.0, 800.0, 1200.0, 2300.0, 2750.0, 600.0, 600.0, 850.0, 1200.0, 2500.0, 750.0, 1360.0, 1130.0, 1451.0, 1350.0, 1347.0, 930.0, 1000.0, 1965.0, 1300.0, 1100.0, 1600.0, 1100.0, 2500.0, 1250.0, 1700.0, 1450.0, 1275.0, 750.0, 1400.0, 1050.0, 800.0, 1100.0, 950.0, 1300.0, 980.0, 1300.0, 980.0, 750.0, 700.0, 750.0, 800.0, 850.0, 1200.0, 1200.0, 2200.0, 550.0, 950.0, 1100.0, 880.0, 1100.0, 850.0, 1000.0, 1000.0, 2001.0, 900.0, 590.0, 590.0, 590.0, 590.0, 590.0, 590.0, 590.0, 569.0, 616.0, 850.0, 600.0, 650.0, 750.0, 500.0, 500.0, 1700.0, 720.0, 590.0, 500.0, 670.0, 500.0, 600.0, 700.0, 795.0, 950.0, 1300.0, 1600.0, 1900.0, 700.0, 650.0, 1899.0, 1600.0, 1150.0, 1250.0, 1280.0, 1250.0, 1150.0, 1900.0, 1100.0, 1250.0, 1300.0, 1100.0, 1090.0, 1000.0, 1300.0, 1350.0, 665.0, 1000.0, 500.0, 1100.0, 620.0, 1260.0, 640.0, 620.0, 1520.0, 1530.0, 1500.0, 1000.0, 1500.0, 1900.0, 1650.0, 3200.0, 1790.0, 1300.0, 1600.0, 1250.0, 1500.0, 2000.0, 1300.0, 2700.0, 2300.0, 1700.0, 2856.0, 1900.0, 1300.0, 2100.0, 700.0, 1200.0, 800.0, 1170.0, 1200.0, 1800.0, 500.0, 1100.0, 1000.0, 900.0, 960.0, 880.0, 900.0, 1230.0, 1160.0, 1200.0, 630.0, 750.0, 650.0], \"xaxis\": \"x\", \"yaxis\": \"y\"}, {\"name\": \"quartos\", \"type\": \"histogram\", \"x\": [2.0, 2.0, 2.0, 2.0, 1.0, 1.0, 1.0, 1.0, 1.0, 2.0, 4.0, 2.0, 3.0, 2.0, 2.0, 2.0, 1.0, 3.0, 1.0, 1.0, 2.0, 2.0, 2.0, 3.0, 1.0, 3.0, 1.0, 3.0, 4.0, null, 1.0, 1.0, 3.0, 1.0, 2.0, 4.0, 1.0, 2.0, 2.0, 2.0, 1.0, 1.0, 1.0, 1.0, 1.0, 4.0, 1.0, 2.0, 2.0, 3.0, 3.0, 3.0, 3.0, 1.0, 3.0, 2.0, 3.0, 3.0, 3.0, 1.0, 1.0, 1.0, 1.0, 1.0, 4.0, 3.0, 3.0, 1.0, 3.0, 2.0, 2.0, 1.0, 1.0, 1.0, 2.0, 3.0, 1.0, 3.0, 2.0, 1.0, 1.0, 3.0, 2.0, 3.0, 2.0, 1.0, 2.0, 1.0, 2.0, 2.0, 2.0, 4.0, 1.0, 3.0, 3.0, 3.0, 3.0, 1.0, 2.0, 1.0, 3.0, 3.0, 3.0, 3.0, 1.0, 4.0, 3.0, 1.0, 3.0, 3.0, 1.0, 1.0, 2.0, 2.0, 2.0, 2.0, 3.0, 3.0, 2.0, 2.0, 3.0, 2.0, 2.0, 2.0, 3.0, 3.0, 2.0, 2.0, 1.0, 2.0, 2.0, 2.0, 3.0, 3.0, 2.0, 3.0, 3.0, 2.0, 3.0, 2.0, 2.0, 1.0, 2.0, 2.0, 1.0, null, 1.0, 2.0, 1.0, 1.0, 1.0, 3.0, 3.0, 1.0, 1.0, 1.0, 2.0, 2.0, 1.0, 1.0, 2.0, 3.0, 2.0, 3.0, 2.0, 2.0, 1.0, 2.0, 3.0, 3.0, 1.0, 3.0, 3.0, 3.0, 1.0, 3.0, 3.0, 3.0, 2.0, 2.0, 3.0, 2.0, 1.0, 2.0, 3.0, 2.0, 2.0, 1.0, 2.0, 4.0, 1.0, 1.0, 1.0, 2.0, 1.0, 2.0, 2.0, 2.0, 3.0, 2.0, 2.0, 3.0, 2.0, 1.0, 3.0, 1.0, 3.0, 2.0, 3.0, 2.0, 4.0, 3.0, null, null, 2.0, 3.0, 3.0, 2.0, 3.0, null, 2.0, 2.0, 2.0, 3.0, 2.0, 3.0, 4.0, 3.0, 2.0, 1.0, 1.0, 1.0, 1.0, 2.0, 3.0, 1.0, 1.0, 2.0, 2.0, 3.0, 1.0, 1.0, 1.0, 1.0, 1.0, 1.0, 1.0, 1.0, 1.0, 1.0, 1.0, 1.0, 1.0, 1.0, 2.0, 2.0, 1.0, 1.0, 1.0, 1.0, 1.0, 2.0, 1.0, 1.0, 1.0, 1.0, 2.0, 1.0, 1.0, 1.0, 1.0, 1.0, 1.0, 1.0, 1.0, 1.0, 1.0, 1.0, 2.0, 1.0, 1.0, 1.0, 1.0, 2.0, 1.0, 1.0, 1.0, 1.0, 1.0, 1.0, 3.0, 2.0, null, 2.0, 3.0, 2.0, 3.0, 2.0, 2.0, 3.0, 2.0, 1.0, 2.0, 2.0, 3.0, 2.0, 2.0, 2.0, 2.0, 2.0, 1.0, 2.0, 5.0, 2.0, 2.0, 1.0, 2.0, 2.0, 1.0, 2.0, 2.0, 2.0, 1.0, 2.0, 3.0, 2.0, 2.0, 1.0, 1.0, 2.0, 2.0, 2.0, 2.0, 3.0, 2.0, 3.0, 1.0, 1.0, 1.0, 3.0, 2.0, 1.0, 3.0, 3.0, 1.0, 1.0, 1.0, 1.0, 1.0, 1.0, 1.0, 1.0, 3.0, 3.0, 3.0, 1.0, 2.0, 3.0, 3.0, 1.0, 1.0, 2.0, 2.0, 3.0, 2.0, 1.0, 2.0, 3.0, 2.0, 1.0, 1.0, 1.0, 1.0, 2.0, 2.0, 2.0, 2.0, 1.0, 3.0, 3.0, 2.0, 2.0, 3.0, 2.0, 1.0, 3.0, 3.0, 2.0, 1.0, 3.0, 2.0, 3.0, 1.0, 1.0, 1.0, 1.0, 2.0, 1.0, 3.0, 2.0, 3.0, 1.0, 1.0, 1.0, 2.0, 3.0, 1.0, 3.0, 3.0, 1.0, 3.0, 3.0, 3.0, 3.0, 2.0, 1.0, 2.0, 3.0, 1.0, 1.0, 2.0, 3.0, 2.0, 1.0, 2.0, 3.0, 2.0, 2.0, 3.0, 1.0, 3.0, 2.0, 1.0, 3.0, 1.0, 2.0, 2.0, 1.0, 1.0, 2.0, 1.0, 1.0, 2.0, 2.0, 1.0, 1.0, 1.0, 3.0, 2.0, 1.0, 1.0, 3.0, 3.0, 1.0, 1.0, 1.0, 1.0, 1.0, 1.0, 3.0, 3.0, 2.0, 2.0, null, null, null, null, null, null, null, null, null, 2.0, 2.0, 2.0, 3.0, 2.0, 2.0, 3.0, 3.0, 3.0, 2.0, 1.0, 3.0, 2.0, 1.0, 3.0, 1.0, 3.0, 1.0, 1.0, 3.0, 1.0, 1.0, 1.0, 3.0, 3.0, 2.0, 2.0, 2.0, 2.0, 2.0, 3.0, 1.0, 2.0, 3.0, 1.0, 2.0, 1.0, 3.0, 2.0, 2.0, 1.0, 2.0, 1.0, 1.0, null, 1.0, 1.0, 3.0, 1.0, 2.0, 3.0, 1.0, 3.0, 3.0, 2.0, 2.0, 3.0, 1.0, 1.0, 1.0, 1.0, 1.0, 1.0, 3.0, 1.0, 1.0, 1.0, 1.0, 1.0, 1.0, 1.0, 1.0, 1.0, 1.0, 1.0, 1.0, 1.0, 1.0, 2.0, 3.0, 2.0, 1.0, 1.0, 1.0, 2.0, 2.0, 1.0, 2.0, 1.0, 3.0, 3.0, 1.0, null, 3.0, 1.0, 4.0, 1.0, 1.0, 2.0, 1.0, 1.0, 3.0, 2.0, 2.0, 2.0, 2.0, 2.0, 2.0, 1.0, 1.0, 2.0, 2.0, 2.0, 2.0, 3.0, 2.0, 1.0, 1.0, 1.0, 1.0, 2.0, 1.0, 2.0, 1.0, 1.0, 1.0, 1.0, 1.0, 1.0, 1.0, 2.0, 2.0, 3.0, 2.0, 2.0, 1.0, 1.0, 2.0, 3.0, 2.0, 1.0, 1.0, 1.0, 2.0, 3.0, 1.0, 3.0, 1.0, 3.0, 3.0, 3.0, 1.0, 1.0, 2.0, 3.0, 1.0, 2.0, 1.0, 3.0, 1.0, 3.0, 2.0, 1.0, 1.0, 1.0, 1.0, 1.0, 1.0, 1.0, 3.0, 1.0, 2.0, 1.0, 1.0, 1.0, 2.0, 2.0, 2.0, 2.0, 3.0, 3.0, 2.0, 2.0, 2.0, 2.0, 2.0, 2.0, 2.0, 2.0, 2.0, 2.0, 1.0, 1.0, 1.0, 1.0, 1.0, 1.0, 1.0, 1.0, 1.0, 1.0, 1.0, 1.0, 2.0, 1.0, 1.0, 1.0, 2.0, 1.0, 1.0, 2.0, 1.0, 2.0, 2.0, 1.0, 1.0, 1.0, 1.0, 1.0, 2.0, 2.0, 2.0, 3.0, 2.0, 2.0, 2.0, 2.0, 2.0, 3.0, 2.0, 2.0, 2.0, 2.0, 2.0, 2.0, 2.0, 3.0, 1.0, 2.0, 1.0, 2.0, 1.0, 2.0, 1.0, 1.0, 2.0, 2.0, 2.0, 3.0, 2.0, 3.0, 1.0, 1.0, 3.0, 3.0, 3.0, 3.0, 3.0, 3.0, 3.0, 3.0, 3.0, 1.0, 2.0, 3.0, null, 3.0, 3.0, 1.0, null, 3.0, null, null, 1.0, 3.0, 2.0, 2.0, 2.0, 1.0, 2.0, 2.0, 2.0, 3.0, 1.0, 3.0, 1.0], \"xaxis\": \"x2\", \"yaxis\": \"y2\"}, {\"name\": \"\\u00e1reas\", \"type\": \"histogram\", \"x\": [80.0, 65.0, 80.0, 65.0, 35.0, 28.0, 28.0, 28.0, 32.0, 76.0, 270.0, 55.0, 72.0, 55.0, 65.0, 81.0, 49.0, 151.0, 55.0, 25.0, 54.0, 66.0, 95.0, 149.0, 26.0, 140.0, 42.0, 139.0, 202.0, 33.0, 30.0, 31.0, 111.0, 29.0, 106.0, 159.0, 34.0, 54.0, 66.0, 64.0, 31.0, 46.0, 29.0, 31.0, 30.0, 175.0, 40.0, 100.0, 100.0, 96.0, 177.0, 65.0, 65.0, 110.0, 72.0, 80.0, 94.0, 72.0, 159.0, 29.0, 35.0, 26.0, 40.0, 40.0, 140.0, 98.0, 106.0, 36.0, 119.0, 58.0, 75.0, 37.0, 37.0, 33.0, 67.0, 131.0, 31.0, 131.0, 75.0, 32.0, 57.0, 64.0, 50.0, 66.0, 51.0, 60.0, 38.0, 70.0, 71.0, 50.0, 40.0, 127.0, 128.0, 80.0, 69.0, 133.0, 100.0, 40.0, 68.0, 30.0, 70.0, 80.0, 90.0, 90.0, 30.0, 153.0, 70.0, 50.0, 65.0, 65.0, 26.0, 30.0, 56.0, 102.0, 102.0, 57.0, 123.0, 123.0, 102.0, 67.0, 123.0, 67.0, 67.0, 102.0, 123.0, 123.0, 64.0, 64.0, 59.0, 56.0, 75.0, 67.0, 121.0, 94.0, 67.0, 93.0, 121.0, 57.0, 151.0, 67.0, 61.0, 34.0, 70.0, 87.0, 34.0, 22.0, 31.0, 64.0, 80.0, 37.0, 37.0, 117.0, 145.0, 40.0, 40.0, 35.0, 75.0, 56.0, 45.0, 45.0, 70.0, 60.0, 64.0, 60.0, 75.0, 75.0, 42.0, 42.0, 80.0, 80.0, 57.0, 58.0, 67.0, 120.0, 60.0, 120.0, 77.0, 120.0, 85.0, 79.0, 104.0, 90.0, 42.0, 70.0, 115.0, 45.0, 44.0, 38.0, 47.0, 300.0, 40.0, 40.0, 75.0, 134.0, 110.0, 50.0, 65.0, 50.0, 102.0, 45.0, 43.0, 47.0, 51.0, 30.0, 60.0, 25.0, 48.0, 49.0, 71.0, 48.0, 130.0, 185.0, 157.0, 157.0, 68.0, 58.0, 87.0, 52.0, 78.0, 82.0, 46.0, 59.0, 53.0, 100.0, 50.0, 64.0, 236.0, 64.0, 60.0, 27.0, 29.0, 21.0, 39.0, 49.0, 170.0, 55.0, 39.0, 62.0, 123.0, 114.0, 32.0, 17.0, 38.0, 44.0, 30.0, 34.0, 20.0, 35.0, 60.0, 32.0, 35.0, 52.0, 31.0, 35.0, 50.0, 70.0, 29.0, 27.0, 39.0, 50.0, 48.0, 47.0, 40.0, 33.0, 28.0, 32.0, 40.0, 60.0, 43.0, 43.0, 48.0, 29.0, 27.0, 35.0, 35.0, 29.0, 35.0, 29.0, 48.0, 35.0, 29.0, 25.0, 35.0, 57.0, 29.0, 29.0, 29.0, 32.0, 44.0, 33.0, 193.0, 46.0, 112.0, 46.0, 45.0, 51.0, 47.0, 60.0, 50.0, 45.0, 47.0, 47.0, 47.0, 42.0, 42.0, 60.0, 50.0, 53.0, 40.0, 42.0, 33.0, 62.0, 102.0, 50.0, 46.0, 20.0, 46.0, 47.0, 50.0, 46.0, 46.0, 50.0, 30.0, 44.0, 46.0, 42.0, 40.0, 49.0, 66.0, 74.0, 40.0, 64.0, 55.0, 78.0, 66.0, 104.0, 32.0, 25.0, 50.0, 113.0, 49.0, 25.0, 117.0, 97.0, 33.0, 25.0, 38.0, 24.0, 24.0, 24.0, 25.0, 24.0, 70.0, 70.0, 128.0, 50.0, 60.0, 150.0, 75.0, 50.0, 44.0, 40.0, 80.0, 87.0, 66.0, 68.0, 61.0, 93.0, 60.0, 40.0, 25.0, 50.0, 35.0, 55.0, 52.0, 46.0, 70.0, 40.0, 53.0, 60.0, 44.0, 30.0, 89.0, 30.0, 30.0, 58.0, 57.0, 44.0, 53.0, 58.0, 56.0, 64.0, 33.0, 33.0, 28.0, 28.0, 64.0, 73.0, 100.0, 52.0, 58.0, 42.0, 50.0, 65.0, 40.0, 65.0, 51.0, 75.0, 75.0, 29.0, 140.0, 140.0, 140.0, 89.0, 250.0, 30.0, 62.0, 71.0, 32.0, 32.0, 140.0, 200.0, 80.0, 49.0, 72.0, 104.0, 74.0, 74.0, 75.0, 36.0, 110.0, 60.0, 60.0, 135.0, 40.0, 60.0, 60.0, 40.0, 40.0, 89.0, 25.0, 30.0, 51.0, 51.0, 50.0, 47.0, 47.0, 120.0, 99.0, 44.0, 44.0, 110.0, 110.0, 40.0, 40.0, 22.0, 20.0, 22.0, 35.0, 114.0, 67.0, 62.0, 121.0, null, null, null, null, null, null, null, null, null, 60.0, 63.0, 61.0, 57.0, 52.0, 60.0, 90.0, 59.0, 76.0, 47.0, 45.0, 122.0, 45.0, 25.0, 60.0, 28.0, 162.0, 33.0, 36.0, 57.0, 28.0, 25.0, 25.0, 67.0, 65.0, 47.0, 50.0, 50.0, 60.0, 59.0, 64.0, 40.0, 80.0, 170.0, 60.0, 80.0, 30.0, 127.0, 60.0, 50.0, 37.0, 60.0, 45.0, 30.0, 35.0, 70.0, 53.0, 110.0, 30.0, 83.0, 84.0, 47.0, 60.0, 70.0, 47.0, 46.0, 110.0, 18.0, 36.0, 32.0, 19.0, 64.0, 63.0, 59.0, 36.0, 57.0, 29.0, 28.0, 33.0, 33.0, 33.0, 30.0, 28.0, 34.0, 33.0, 32.0, 33.0, 40.0, 78.0, 103.0, 58.0, 35.0, 28.0, 30.0, 60.0, 61.0, 37.0, 60.0, 17.0, 80.0, 128.0, 28.0, 117.0, 80.0, 45.0, 214.0, 36.0, 43.0, 67.0, 45.0, 25.0, 98.0, 60.0, 87.0, 50.0, 63.0, 57.0, 63.0, 30.0, 34.0, 67.0, 64.0, 46.0, 48.0, 62.0, 40.0, 58.0, 25.0, 25.0, 50.0, 53.0, 25.0, 46.0, 25.0, 25.0, 25.0, 25.0, 25.0, 25.0, 25.0, 47.0, 45.0, 49.0, 65.0, 60.0, 20.0, 30.0, 85.0, 63.0, 100.0, 25.0, 25.0, 25.0, 55.0, 142.0, 40.0, 67.0, 57.0, 67.0, 67.0, 67.0, 29.0, 35.0, 65.0, 171.0, 36.0, 78.0, 28.0, 119.0, 50.0, 108.0, 62.0, 50.0, 31.0, 40.0, 35.0, 45.0, 35.0, 29.0, 170.0, 35.0, 90.0, 29.0, 29.0, 40.0, 60.0, 25.0, 95.0, 79.0, 101.0, 103.0, 50.0, 65.0, 34.0, 43.0, 47.0, 42.0, 42.0, 50.0, 200.0, 44.0, 33.0, 33.0, 33.0, 30.0, 30.0, 30.0, 30.0, 22.0, 22.0, 30.0, 22.0, 25.0, 46.0, 28.0, 33.0, 50.0, 49.0, 30.0, 37.0, 56.0, 22.0, 49.0, 70.0, 36.0, 27.0, 28.0, 40.0, 45.0, 47.0, 47.0, 53.0, 78.0, 55.0, 53.0, 67.0, 62.0, 60.0, 160.0, 66.0, 77.0, 62.0, 59.0, 55.0, 52.0, 40.0, 66.0, 60.0, 47.0, 30.0, 60.0, 50.0, 65.0, 50.0, 50.0, 50.0, 55.0, 56.0, 57.0, 58.0, 115.0, 40.0, 55.0, 101.0, 95.0, 93.0, 86.0, 109.0, 109.0, 82.0, 175.0, 103.0, 47.0, 65.0, 116.0, 58.0, 88.0, 96.0, 30.0, 30.0, 61.0, 55.0, 67.0, 40.0, 100.0, 55.0, 52.0, 50.0, 31.0, 77.0, 70.0, 55.0, 62.0, 30.0, 75.0, 30.0], \"xaxis\": \"x3\", \"yaxis\": \"y3\"}],                        {\"template\": {\"data\": {\"bar\": [{\"error_x\": {\"color\": \"#2a3f5f\"}, \"error_y\": {\"color\": \"#2a3f5f\"}, \"marker\": {\"line\": {\"color\": \"#E5ECF6\", \"width\": 0.5}}, \"type\": \"bar\"}], \"barpolar\": [{\"marker\": {\"line\": {\"color\": \"#E5ECF6\", \"width\": 0.5}}, \"type\": \"barpolar\"}], \"carpet\": [{\"aaxis\": {\"endlinecolor\": \"#2a3f5f\", \"gridcolor\": \"white\", \"linecolor\": \"white\", \"minorgridcolor\": \"white\", \"startlinecolor\": \"#2a3f5f\"}, \"baxis\": {\"endlinecolor\": \"#2a3f5f\", \"gridcolor\": \"white\", \"linecolor\": \"white\", \"minorgridcolor\": \"white\", \"startlinecolor\": \"#2a3f5f\"}, \"type\": \"carpet\"}], \"choropleth\": [{\"colorbar\": {\"outlinewidth\": 0, \"ticks\": \"\"}, \"type\": \"choropleth\"}], \"contour\": [{\"colorbar\": {\"outlinewidth\": 0, \"ticks\": \"\"}, \"colorscale\": [[0.0, \"#0d0887\"], [0.1111111111111111, \"#46039f\"], [0.2222222222222222, \"#7201a8\"], [0.3333333333333333, \"#9c179e\"], [0.4444444444444444, \"#bd3786\"], [0.5555555555555556, \"#d8576b\"], [0.6666666666666666, \"#ed7953\"], [0.7777777777777778, \"#fb9f3a\"], [0.8888888888888888, \"#fdca26\"], [1.0, \"#f0f921\"]], \"type\": \"contour\"}], \"contourcarpet\": [{\"colorbar\": {\"outlinewidth\": 0, \"ticks\": \"\"}, \"type\": \"contourcarpet\"}], \"heatmap\": [{\"colorbar\": {\"outlinewidth\": 0, \"ticks\": \"\"}, \"colorscale\": [[0.0, \"#0d0887\"], [0.1111111111111111, \"#46039f\"], [0.2222222222222222, \"#7201a8\"], [0.3333333333333333, \"#9c179e\"], [0.4444444444444444, \"#bd3786\"], [0.5555555555555556, \"#d8576b\"], [0.6666666666666666, \"#ed7953\"], [0.7777777777777778, \"#fb9f3a\"], [0.8888888888888888, \"#fdca26\"], [1.0, \"#f0f921\"]], \"type\": \"heatmap\"}], \"heatmapgl\": [{\"colorbar\": {\"outlinewidth\": 0, \"ticks\": \"\"}, \"colorscale\": [[0.0, \"#0d0887\"], [0.1111111111111111, \"#46039f\"], [0.2222222222222222, \"#7201a8\"], [0.3333333333333333, \"#9c179e\"], [0.4444444444444444, \"#bd3786\"], [0.5555555555555556, \"#d8576b\"], [0.6666666666666666, \"#ed7953\"], [0.7777777777777778, \"#fb9f3a\"], [0.8888888888888888, \"#fdca26\"], [1.0, \"#f0f921\"]], \"type\": \"heatmapgl\"}], \"histogram\": [{\"marker\": {\"colorbar\": {\"outlinewidth\": 0, \"ticks\": \"\"}}, \"type\": \"histogram\"}], \"histogram2d\": [{\"colorbar\": {\"outlinewidth\": 0, \"ticks\": \"\"}, \"colorscale\": [[0.0, \"#0d0887\"], [0.1111111111111111, \"#46039f\"], [0.2222222222222222, \"#7201a8\"], [0.3333333333333333, \"#9c179e\"], [0.4444444444444444, \"#bd3786\"], [0.5555555555555556, \"#d8576b\"], [0.6666666666666666, \"#ed7953\"], [0.7777777777777778, \"#fb9f3a\"], [0.8888888888888888, \"#fdca26\"], [1.0, \"#f0f921\"]], \"type\": \"histogram2d\"}], \"histogram2dcontour\": [{\"colorbar\": {\"outlinewidth\": 0, \"ticks\": \"\"}, \"colorscale\": [[0.0, \"#0d0887\"], [0.1111111111111111, \"#46039f\"], [0.2222222222222222, \"#7201a8\"], [0.3333333333333333, \"#9c179e\"], [0.4444444444444444, \"#bd3786\"], [0.5555555555555556, \"#d8576b\"], [0.6666666666666666, \"#ed7953\"], [0.7777777777777778, \"#fb9f3a\"], [0.8888888888888888, \"#fdca26\"], [1.0, \"#f0f921\"]], \"type\": \"histogram2dcontour\"}], \"mesh3d\": [{\"colorbar\": {\"outlinewidth\": 0, \"ticks\": \"\"}, \"type\": \"mesh3d\"}], \"parcoords\": [{\"line\": {\"colorbar\": {\"outlinewidth\": 0, \"ticks\": \"\"}}, \"type\": \"parcoords\"}], \"pie\": [{\"automargin\": true, \"type\": \"pie\"}], \"scatter\": [{\"marker\": {\"colorbar\": {\"outlinewidth\": 0, \"ticks\": \"\"}}, \"type\": \"scatter\"}], \"scatter3d\": [{\"line\": {\"colorbar\": {\"outlinewidth\": 0, \"ticks\": \"\"}}, \"marker\": {\"colorbar\": {\"outlinewidth\": 0, \"ticks\": \"\"}}, \"type\": \"scatter3d\"}], \"scattercarpet\": [{\"marker\": {\"colorbar\": {\"outlinewidth\": 0, \"ticks\": \"\"}}, \"type\": \"scattercarpet\"}], \"scattergeo\": [{\"marker\": {\"colorbar\": {\"outlinewidth\": 0, \"ticks\": \"\"}}, \"type\": \"scattergeo\"}], \"scattergl\": [{\"marker\": {\"colorbar\": {\"outlinewidth\": 0, \"ticks\": \"\"}}, \"type\": \"scattergl\"}], \"scattermapbox\": [{\"marker\": {\"colorbar\": {\"outlinewidth\": 0, \"ticks\": \"\"}}, \"type\": \"scattermapbox\"}], \"scatterpolar\": [{\"marker\": {\"colorbar\": {\"outlinewidth\": 0, \"ticks\": \"\"}}, \"type\": \"scatterpolar\"}], \"scatterpolargl\": [{\"marker\": {\"colorbar\": {\"outlinewidth\": 0, \"ticks\": \"\"}}, \"type\": \"scatterpolargl\"}], \"scatterternary\": [{\"marker\": {\"colorbar\": {\"outlinewidth\": 0, \"ticks\": \"\"}}, \"type\": \"scatterternary\"}], \"surface\": [{\"colorbar\": {\"outlinewidth\": 0, \"ticks\": \"\"}, \"colorscale\": [[0.0, \"#0d0887\"], [0.1111111111111111, \"#46039f\"], [0.2222222222222222, \"#7201a8\"], [0.3333333333333333, \"#9c179e\"], [0.4444444444444444, \"#bd3786\"], [0.5555555555555556, \"#d8576b\"], [0.6666666666666666, \"#ed7953\"], [0.7777777777777778, \"#fb9f3a\"], [0.8888888888888888, \"#fdca26\"], [1.0, \"#f0f921\"]], \"type\": \"surface\"}], \"table\": [{\"cells\": {\"fill\": {\"color\": \"#EBF0F8\"}, \"line\": {\"color\": \"white\"}}, \"header\": {\"fill\": {\"color\": \"#C8D4E3\"}, \"line\": {\"color\": \"white\"}}, \"type\": \"table\"}]}, \"layout\": {\"annotationdefaults\": {\"arrowcolor\": \"#2a3f5f\", \"arrowhead\": 0, \"arrowwidth\": 1}, \"autotypenumbers\": \"strict\", \"coloraxis\": {\"colorbar\": {\"outlinewidth\": 0, \"ticks\": \"\"}}, \"colorscale\": {\"diverging\": [[0, \"#8e0152\"], [0.1, \"#c51b7d\"], [0.2, \"#de77ae\"], [0.3, \"#f1b6da\"], [0.4, \"#fde0ef\"], [0.5, \"#f7f7f7\"], [0.6, \"#e6f5d0\"], [0.7, \"#b8e186\"], [0.8, \"#7fbc41\"], [0.9, \"#4d9221\"], [1, \"#276419\"]], \"sequential\": [[0.0, \"#0d0887\"], [0.1111111111111111, \"#46039f\"], [0.2222222222222222, \"#7201a8\"], [0.3333333333333333, \"#9c179e\"], [0.4444444444444444, \"#bd3786\"], [0.5555555555555556, \"#d8576b\"], [0.6666666666666666, \"#ed7953\"], [0.7777777777777778, \"#fb9f3a\"], [0.8888888888888888, \"#fdca26\"], [1.0, \"#f0f921\"]], \"sequentialminus\": [[0.0, \"#0d0887\"], [0.1111111111111111, \"#46039f\"], [0.2222222222222222, \"#7201a8\"], [0.3333333333333333, \"#9c179e\"], [0.4444444444444444, \"#bd3786\"], [0.5555555555555556, \"#d8576b\"], [0.6666666666666666, \"#ed7953\"], [0.7777777777777778, \"#fb9f3a\"], [0.8888888888888888, \"#fdca26\"], [1.0, \"#f0f921\"]]}, \"colorway\": [\"#636efa\", \"#EF553B\", \"#00cc96\", \"#ab63fa\", \"#FFA15A\", \"#19d3f3\", \"#FF6692\", \"#B6E880\", \"#FF97FF\", \"#FECB52\"], \"font\": {\"color\": \"#2a3f5f\"}, \"geo\": {\"bgcolor\": \"white\", \"lakecolor\": \"white\", \"landcolor\": \"#E5ECF6\", \"showlakes\": true, \"showland\": true, \"subunitcolor\": \"white\"}, \"hoverlabel\": {\"align\": \"left\"}, \"hovermode\": \"closest\", \"mapbox\": {\"style\": \"light\"}, \"paper_bgcolor\": \"white\", \"plot_bgcolor\": \"#E5ECF6\", \"polar\": {\"angularaxis\": {\"gridcolor\": \"white\", \"linecolor\": \"white\", \"ticks\": \"\"}, \"bgcolor\": \"#E5ECF6\", \"radialaxis\": {\"gridcolor\": \"white\", \"linecolor\": \"white\", \"ticks\": \"\"}}, \"scene\": {\"xaxis\": {\"backgroundcolor\": \"#E5ECF6\", \"gridcolor\": \"white\", \"gridwidth\": 2, \"linecolor\": \"white\", \"showbackground\": true, \"ticks\": \"\", \"zerolinecolor\": \"white\"}, \"yaxis\": {\"backgroundcolor\": \"#E5ECF6\", \"gridcolor\": \"white\", \"gridwidth\": 2, \"linecolor\": \"white\", \"showbackground\": true, \"ticks\": \"\", \"zerolinecolor\": \"white\"}, \"zaxis\": {\"backgroundcolor\": \"#E5ECF6\", \"gridcolor\": \"white\", \"gridwidth\": 2, \"linecolor\": \"white\", \"showbackground\": true, \"ticks\": \"\", \"zerolinecolor\": \"white\"}}, \"shapedefaults\": {\"line\": {\"color\": \"#2a3f5f\"}}, \"ternary\": {\"aaxis\": {\"gridcolor\": \"white\", \"linecolor\": \"white\", \"ticks\": \"\"}, \"baxis\": {\"gridcolor\": \"white\", \"linecolor\": \"white\", \"ticks\": \"\"}, \"bgcolor\": \"#E5ECF6\", \"caxis\": {\"gridcolor\": \"white\", \"linecolor\": \"white\", \"ticks\": \"\"}}, \"title\": {\"x\": 0.05}, \"xaxis\": {\"automargin\": true, \"gridcolor\": \"white\", \"linecolor\": \"white\", \"ticks\": \"\", \"title\": {\"standoff\": 15}, \"zerolinecolor\": \"white\", \"zerolinewidth\": 2}, \"yaxis\": {\"automargin\": true, \"gridcolor\": \"white\", \"linecolor\": \"white\", \"ticks\": \"\", \"title\": {\"standoff\": 15}, \"zerolinecolor\": \"white\", \"zerolinewidth\": 2}}}, \"xaxis\": {\"anchor\": \"y\", \"domain\": [0.0, 1.0]}, \"xaxis2\": {\"anchor\": \"y2\", \"domain\": [0.0, 1.0]}, \"xaxis3\": {\"anchor\": \"y3\", \"domain\": [0.0, 1.0]}, \"yaxis\": {\"anchor\": \"x\", \"domain\": [0.7333333333333333, 1.0]}, \"yaxis2\": {\"anchor\": \"x2\", \"domain\": [0.36666666666666664, 0.6333333333333333]}, \"yaxis3\": {\"anchor\": \"x3\", \"domain\": [0.0, 0.26666666666666666]}},                        {\"responsive\": true}                    ).then(function(){\n",
              "                            \n",
              "var gd = document.getElementById('23e62d2e-8f9b-42d3-89b6-ce8865f149c8');\n",
              "var x = new MutationObserver(function (mutations, observer) {{\n",
              "        var display = window.getComputedStyle(gd).display;\n",
              "        if (!display || display === 'none') {{\n",
              "            console.log([gd, 'removed!']);\n",
              "            Plotly.purge(gd);\n",
              "            observer.disconnect();\n",
              "        }}\n",
              "}});\n",
              "\n",
              "// Listen for the removal of the full notebook cells\n",
              "var notebookContainer = gd.closest('#notebook-container');\n",
              "if (notebookContainer) {{\n",
              "    x.observe(notebookContainer, {childList: true});\n",
              "}}\n",
              "\n",
              "// Listen for the clearing of the current output cell\n",
              "var outputEl = gd.closest('.output');\n",
              "if (outputEl) {{\n",
              "    x.observe(outputEl, {childList: true});\n",
              "}}\n",
              "\n",
              "                        })                };                            </script>        </div>\n",
              "</body>\n",
              "</html>"
            ]
          },
          "metadata": {
            "tags": []
          }
        }
      ]
    },
    {
      "cell_type": "code",
      "metadata": {
        "id": "uGD3ibcplFxN",
        "colab": {
          "base_uri": "https://localhost:8080/",
          "height": 542
        },
        "outputId": "56d0f098-174f-4556-8bf8-00d7351042d1"
      },
      "source": [
        "px.scatter(data_frame=da_ml, x=\"precos\", y=\"areas\")"
      ],
      "execution_count": 42,
      "outputs": [
        {
          "output_type": "display_data",
          "data": {
            "text/html": [
              "<html>\n",
              "<head><meta charset=\"utf-8\" /></head>\n",
              "<body>\n",
              "    <div>            <script src=\"https://cdnjs.cloudflare.com/ajax/libs/mathjax/2.7.5/MathJax.js?config=TeX-AMS-MML_SVG\"></script><script type=\"text/javascript\">if (window.MathJax) {MathJax.Hub.Config({SVG: {font: \"STIX-Web\"}});}</script>                <script type=\"text/javascript\">window.PlotlyConfig = {MathJaxConfig: 'local'};</script>\n",
              "        <script src=\"https://cdn.plot.ly/plotly-latest.min.js\"></script>                <div id=\"32408ca1-6d38-4768-87e9-834edf718dbb\" class=\"plotly-graph-div\" style=\"height:525px; width:100%;\"></div>            <script type=\"text/javascript\">                                    window.PLOTLYENV=window.PLOTLYENV || {};                                    if (document.getElementById(\"32408ca1-6d38-4768-87e9-834edf718dbb\")) {                    Plotly.newPlot(                        \"32408ca1-6d38-4768-87e9-834edf718dbb\",                        [{\"hovertemplate\": \"precos=%{x}<br>areas=%{y}<extra></extra>\", \"legendgroup\": \"\", \"marker\": {\"color\": \"#636efa\", \"symbol\": \"circle\"}, \"mode\": \"markers\", \"name\": \"\", \"orientation\": \"v\", \"showlegend\": false, \"type\": \"scatter\", \"x\": [2500.0, 2100.0, 2500.0, 2100.0, 600.0, 855.0, 855.0, 855.0, 2200.0, 1474.0, 1990.0, 1100.0, 1690.0, 1100.0, 990.0, 1500.0, 1400.0, 2330.0, 850.0, 1300.0, 1100.0, 1620.0, 1500.0, 1700.0, 1500.0, 1550.0, 1640.0, 2250.0, 2900.0, 1390.0, 900.0, 1400.0, 3200.0, 1200.0, 1300.0, 2950.0, 1600.0, 1200.0, 1720.0, 1400.0, 1300.0, 1500.0, 1200.0, 1230.0, 1500.0, 2400.0, 990.0, 2000.0, 2000.0, 1100.0, 2900.0, 1200.0, 1900.0, 2800.0, 905.0, 800.0, 2000.0, 1800.0, 2500.0, 1200.0, 1190.0, 1250.0, 1500.0, 1350.0, 3050.0, 1730.0, 2090.0, 1100.0, 1648.0, 750.0, 850.0, 1500.0, 1500.0, 1450.0, 1200.0, 2000.0, 1388.0, 2000.0, 850.0, 1530.0, 3200.0, 1500.0, 1300.0, 1100.0, 1180.0, 1100.0, 850.0, 1600.0, 1200.0, 1612.0, 1300.0, 2.0, 1400.0, 1180.0, 1380.0, 2580.0, 1100.0, 950.0, 970.0, 980.0, 900.0, 995.0, 1500.0, 1500.0, 400.0, 2000.0, 1850.0, 765.0, 950.0, 950.0, 520.0, 702.0, 2600.0, 1750.0, 1750.0, 1450.0, 2670.0, 2670.0, 1750.0, 2800.0, 2670.0, 2800.0, 2800.0, 1750.0, 2670.0, 2670.0, 3000.0, 2750.0, 800.0, 1000.0, 1500.0, 2800.0, 2300.0, 2120.0, 2800.0, 1900.0, 2300.0, 1450.0, 2850.0, 2800.0, 2500.0, 1350.0, 1600.0, 1150.0, 1350.0, 800.0, 560.0, 1080.0, 2750.0, 2800.0, 1650.0, 1700.0, 1860.0, 1100.0, 620.0, 800.0, 900.0, 1100.0, 800.0, 850.0, 700.0, 850.0, 1200.0, 850.0, 850.0, 850.0, 650.0, 750.0, 800.0, 1554.0, 1200.0, 1300.0, 2350.0, 2580.0, 1350.0, 3250.0, 1650.0, 1550.0, 1200.0, 2900.0, 1900.0, 1150.0, 1400.0, 1200.0, 1450.0, 750.0, 800.0, 819.0, 1200.0, 2500.0, 1250.0, 1250.0, 620.0, 850.0, 1230.0, 1480.0, 1000.0, 1133.0, 1480.0, 800.0, 1000.0, 750.0, 1200.0, 500.0, 800.0, 600.0, 750.0, 690.0, 1200.0, 850.0, 2750.0, 2575.0, 1700.0, 1700.0, 1290.0, 1200.0, 1990.0, 790.0, 1950.0, 1800.0, 1500.0, 2200.0, 1000.0, 1500.0, 1000.0, 1750.0, 2700.0, 700.0, 800.0, 1088.0, 1340.0, 850.0, 1600.0, 900.0, 1350.0, 900.0, 2000.0, 1200.0, 2317.0, 2200.0, 695.0, 1150.0, 1200.0, 1751.0, 1200.0, 750.0, 590.0, 670.0, 1150.0, 890.0, 750.0, 990.0, 1750.0, 1750.0, 3000.0, 2800.0, 700.0, 900.0, 720.0, 2650.0, 3000.0, 900.0, 540.0, 700.0, 700.0, 900.0, 737.0, 890.0, 1280.0, 1280.0, 1500.0, 900.0, 690.0, 799.0, 700.0, 1650.0, 2200.0, 1650.0, 3000.0, 2200.0, 1650.0, 1000.0, 2200.0, 1900.0, 1650.0, 1650.0, 1650.0, 3000.0, 1250.0, 1100.0, 2800.0, 650.0, 1800.0, 1100.0, 950.0, 1550.0, 750.0, 1650.0, 1679.0, 1000.0, 550.0, 1649.0, 850.0, 1050.0, 950.0, 1000.0, 653.0, 750.0, 1000.0, 920.0, 1000.0, 1037.0, 1318.0, 3200.0, 1040.0, 1635.0, 793.0, 625.0, 1429.0, 760.0, 1431.0, 1100.0, 780.0, 500.0, 750.0, 750.0, 800.0, 750.0, 650.0, 650.0, 500.0, 750.0, 1200.0, 3200.0, 2550.0, 1800.0, 1450.0, 1190.0, 650.0, 2100.0, 1050.0, 1090.0, 1600.0, 1250.0, 1190.0, 1190.0, 1100.0, 990.0, 1190.0, 1190.0, 1190.0, 990.0, 1200.0, 1200.0, 1450.0, 1300.0, 900.0, 1990.0, 1200.0, 1080.0, 1650.0, 1200.0, 1250.0, 1490.0, 950.0, 1200.0, 1200.0, 1500.0, 900.0, 650.0, 750.0, 1280.0, 800.0, 1340.0, 880.0, 1000.0, 690.0, 850.0, 550.0, 1200.0, 1100.0, 780.0, 2091.0, 780.0, 637.0, 850.0, 950.0, 700.0, 580.0, 700.0, 950.0, 750.0, 400.0, 450.0, 1400.0, 1200.0, 1200.0, 1200.0, 1250.0, 699.0, 900.0, 500.0, 750.0, 950.0, 699.0, 1160.0, 743.0, 1600.0, 1600.0, 650.0, 1300.0, 1500.0, 1400.0, 1343.0, 2144.0, 1200.0, 900.0, 1200.0, 1105.0, 1600.0, 2300.0, 3200.0, 975.0, 1500.0, 2500.0, 3000.0, 1100.0, 1100.0, 1600.0, 714.0, 1070.0, 2500.0, 950.0, 1680.0, 1600.0, 2500.0, 2500.0, 1600.0, 1600.0, 1100.0, 800.0, 1120.0, 1645.0, 1659.0, 990.0, 1600.0, 1600.0, 2300.0, 1650.0, 930.0, 930.0, 1500.0, 1500.0, 700.0, 720.0, 1300.0, 1200.0, 1250.0, 1800.0, 1650.0, 850.0, 1200.0, 2950.0, 800.0, 1100.0, 420.0, 550.0, 1200.0, 900.0, 520.0, 1640.0, 1300.0, 1000.0, 2060.0, 1200.0, 790.0, 500.0, 1435.0, 900.0, 950.0, 920.0, 950.0, 830.0, 1250.0, 1200.0, 860.0, 1050.0, 850.0, 2130.0, 850.0, 1300.0, 750.0, 850.0, 900.0, 900.0, 900.0, 1000.0, 800.0, 1400.0, 1400.0, 800.0, 2100.0, 790.0, 700.0, 950.0, 2350.0, 995.0, 880.0, 829.0, 1400.0, 1300.0, 1150.0, 880.0, 1200.0, 1100.0, 650.0, 1300.0, 1500.0, 900.0, 1250.0, 800.0, 1100.0, 900.0, 900.0, 930.0, 750.0, 700.0, 850.0, 2300.0, 1100.0, 750.0, 900.0, 1100.0, 716.0, 800.0, 1150.0, 750.0, 1100.0, 1648.0, 990.0, 750.0, 690.0, 800.0, 1800.0, 2890.0, 783.0, 679.0, 680.0, 679.0, 788.0, 950.0, 1100.0, 1450.0, 1350.0, 700.0, 1600.0, 499.0, 920.0, 1578.0, 1000.0, 960.0, 553.0, 1100.0, 1367.0, 1600.0, 1800.0, 1100.0, 1000.0, 1200.0, 1650.0, 900.0, 1277.0, 1000.0, 1250.0, 2672.0, 960.0, 1100.0, 810.0, 960.0, 850.0, 960.0, 1500.0, 1330.0, 950.0, 1689.0, 1387.0, 900.0, 700.0, 900.0, 990.0, 1160.0, 1105.0, 950.0, 1000.0, 1471.0, 1160.0, 1160.0, 1160.0, 990.0, 1160.0, 1160.0, 1160.0, 650.0, 650.0, 1143.0, 2200.0, 1050.0, 978.0, 800.0, 1200.0, 2300.0, 2750.0, 600.0, 600.0, 850.0, 1200.0, 2500.0, 750.0, 1360.0, 1130.0, 1451.0, 1350.0, 1347.0, 930.0, 1000.0, 1965.0, 1300.0, 1100.0, 1600.0, 1100.0, 2500.0, 1250.0, 1700.0, 1450.0, 1275.0, 750.0, 1400.0, 1050.0, 800.0, 1100.0, 950.0, 1300.0, 980.0, 1300.0, 980.0, 750.0, 700.0, 750.0, 800.0, 850.0, 1200.0, 1200.0, 2200.0, 550.0, 950.0, 1100.0, 880.0, 1100.0, 850.0, 1000.0, 1000.0, 2001.0, 900.0, 590.0, 590.0, 590.0, 590.0, 590.0, 590.0, 590.0, 569.0, 616.0, 850.0, 600.0, 650.0, 750.0, 500.0, 500.0, 1700.0, 720.0, 590.0, 500.0, 670.0, 500.0, 600.0, 700.0, 795.0, 950.0, 1300.0, 1600.0, 1900.0, 700.0, 650.0, 1899.0, 1600.0, 1150.0, 1250.0, 1280.0, 1250.0, 1150.0, 1900.0, 1100.0, 1250.0, 1300.0, 1100.0, 1090.0, 1000.0, 1300.0, 1350.0, 665.0, 1000.0, 500.0, 1100.0, 620.0, 1260.0, 640.0, 620.0, 1520.0, 1530.0, 1500.0, 1000.0, 1500.0, 1900.0, 1650.0, 3200.0, 1790.0, 1300.0, 1600.0, 1250.0, 1500.0, 2000.0, 1300.0, 2700.0, 2300.0, 1700.0, 2856.0, 1900.0, 1300.0, 2100.0, 700.0, 1200.0, 800.0, 1170.0, 1200.0, 1800.0, 500.0, 1100.0, 1000.0, 900.0, 960.0, 880.0, 900.0, 1230.0, 1160.0, 1200.0, 630.0, 750.0, 650.0], \"xaxis\": \"x\", \"y\": [80.0, 65.0, 80.0, 65.0, 35.0, 28.0, 28.0, 28.0, 32.0, 76.0, 270.0, 55.0, 72.0, 55.0, 65.0, 81.0, 49.0, 151.0, 55.0, 25.0, 54.0, 66.0, 95.0, 149.0, 26.0, 140.0, 42.0, 139.0, 202.0, 33.0, 30.0, 31.0, 111.0, 29.0, 106.0, 159.0, 34.0, 54.0, 66.0, 64.0, 31.0, 46.0, 29.0, 31.0, 30.0, 175.0, 40.0, 100.0, 100.0, 96.0, 177.0, 65.0, 65.0, 110.0, 72.0, 80.0, 94.0, 72.0, 159.0, 29.0, 35.0, 26.0, 40.0, 40.0, 140.0, 98.0, 106.0, 36.0, 119.0, 58.0, 75.0, 37.0, 37.0, 33.0, 67.0, 131.0, 31.0, 131.0, 75.0, 32.0, 57.0, 64.0, 50.0, 66.0, 51.0, 60.0, 38.0, 70.0, 71.0, 50.0, 40.0, 127.0, 128.0, 80.0, 69.0, 133.0, 100.0, 40.0, 68.0, 30.0, 70.0, 80.0, 90.0, 90.0, 30.0, 153.0, 70.0, 50.0, 65.0, 65.0, 26.0, 30.0, 56.0, 102.0, 102.0, 57.0, 123.0, 123.0, 102.0, 67.0, 123.0, 67.0, 67.0, 102.0, 123.0, 123.0, 64.0, 64.0, 59.0, 56.0, 75.0, 67.0, 121.0, 94.0, 67.0, 93.0, 121.0, 57.0, 151.0, 67.0, 61.0, 34.0, 70.0, 87.0, 34.0, 22.0, 31.0, 64.0, 80.0, 37.0, 37.0, 117.0, 145.0, 40.0, 40.0, 35.0, 75.0, 56.0, 45.0, 45.0, 70.0, 60.0, 64.0, 60.0, 75.0, 75.0, 42.0, 42.0, 80.0, 80.0, 57.0, 58.0, 67.0, 120.0, 60.0, 120.0, 77.0, 120.0, 85.0, 79.0, 104.0, 90.0, 42.0, 70.0, 115.0, 45.0, 44.0, 38.0, 47.0, 300.0, 40.0, 40.0, 75.0, 134.0, 110.0, 50.0, 65.0, 50.0, 102.0, 45.0, 43.0, 47.0, 51.0, 30.0, 60.0, 25.0, 48.0, 49.0, 71.0, 48.0, 130.0, 185.0, 157.0, 157.0, 68.0, 58.0, 87.0, 52.0, 78.0, 82.0, 46.0, 59.0, 53.0, 100.0, 50.0, 64.0, 236.0, 64.0, 60.0, 27.0, 29.0, 21.0, 39.0, 49.0, 170.0, 55.0, 39.0, 62.0, 123.0, 114.0, 32.0, 17.0, 38.0, 44.0, 30.0, 34.0, 20.0, 35.0, 60.0, 32.0, 35.0, 52.0, 31.0, 35.0, 50.0, 70.0, 29.0, 27.0, 39.0, 50.0, 48.0, 47.0, 40.0, 33.0, 28.0, 32.0, 40.0, 60.0, 43.0, 43.0, 48.0, 29.0, 27.0, 35.0, 35.0, 29.0, 35.0, 29.0, 48.0, 35.0, 29.0, 25.0, 35.0, 57.0, 29.0, 29.0, 29.0, 32.0, 44.0, 33.0, 193.0, 46.0, 112.0, 46.0, 45.0, 51.0, 47.0, 60.0, 50.0, 45.0, 47.0, 47.0, 47.0, 42.0, 42.0, 60.0, 50.0, 53.0, 40.0, 42.0, 33.0, 62.0, 102.0, 50.0, 46.0, 20.0, 46.0, 47.0, 50.0, 46.0, 46.0, 50.0, 30.0, 44.0, 46.0, 42.0, 40.0, 49.0, 66.0, 74.0, 40.0, 64.0, 55.0, 78.0, 66.0, 104.0, 32.0, 25.0, 50.0, 113.0, 49.0, 25.0, 117.0, 97.0, 33.0, 25.0, 38.0, 24.0, 24.0, 24.0, 25.0, 24.0, 70.0, 70.0, 128.0, 50.0, 60.0, 150.0, 75.0, 50.0, 44.0, 40.0, 80.0, 87.0, 66.0, 68.0, 61.0, 93.0, 60.0, 40.0, 25.0, 50.0, 35.0, 55.0, 52.0, 46.0, 70.0, 40.0, 53.0, 60.0, 44.0, 30.0, 89.0, 30.0, 30.0, 58.0, 57.0, 44.0, 53.0, 58.0, 56.0, 64.0, 33.0, 33.0, 28.0, 28.0, 64.0, 73.0, 100.0, 52.0, 58.0, 42.0, 50.0, 65.0, 40.0, 65.0, 51.0, 75.0, 75.0, 29.0, 140.0, 140.0, 140.0, 89.0, 250.0, 30.0, 62.0, 71.0, 32.0, 32.0, 140.0, 200.0, 80.0, 49.0, 72.0, 104.0, 74.0, 74.0, 75.0, 36.0, 110.0, 60.0, 60.0, 135.0, 40.0, 60.0, 60.0, 40.0, 40.0, 89.0, 25.0, 30.0, 51.0, 51.0, 50.0, 47.0, 47.0, 120.0, 99.0, 44.0, 44.0, 110.0, 110.0, 40.0, 40.0, 22.0, 20.0, 22.0, 35.0, 114.0, 67.0, 62.0, 121.0, null, null, null, null, null, null, null, null, null, 60.0, 63.0, 61.0, 57.0, 52.0, 60.0, 90.0, 59.0, 76.0, 47.0, 45.0, 122.0, 45.0, 25.0, 60.0, 28.0, 162.0, 33.0, 36.0, 57.0, 28.0, 25.0, 25.0, 67.0, 65.0, 47.0, 50.0, 50.0, 60.0, 59.0, 64.0, 40.0, 80.0, 170.0, 60.0, 80.0, 30.0, 127.0, 60.0, 50.0, 37.0, 60.0, 45.0, 30.0, 35.0, 70.0, 53.0, 110.0, 30.0, 83.0, 84.0, 47.0, 60.0, 70.0, 47.0, 46.0, 110.0, 18.0, 36.0, 32.0, 19.0, 64.0, 63.0, 59.0, 36.0, 57.0, 29.0, 28.0, 33.0, 33.0, 33.0, 30.0, 28.0, 34.0, 33.0, 32.0, 33.0, 40.0, 78.0, 103.0, 58.0, 35.0, 28.0, 30.0, 60.0, 61.0, 37.0, 60.0, 17.0, 80.0, 128.0, 28.0, 117.0, 80.0, 45.0, 214.0, 36.0, 43.0, 67.0, 45.0, 25.0, 98.0, 60.0, 87.0, 50.0, 63.0, 57.0, 63.0, 30.0, 34.0, 67.0, 64.0, 46.0, 48.0, 62.0, 40.0, 58.0, 25.0, 25.0, 50.0, 53.0, 25.0, 46.0, 25.0, 25.0, 25.0, 25.0, 25.0, 25.0, 25.0, 47.0, 45.0, 49.0, 65.0, 60.0, 20.0, 30.0, 85.0, 63.0, 100.0, 25.0, 25.0, 25.0, 55.0, 142.0, 40.0, 67.0, 57.0, 67.0, 67.0, 67.0, 29.0, 35.0, 65.0, 171.0, 36.0, 78.0, 28.0, 119.0, 50.0, 108.0, 62.0, 50.0, 31.0, 40.0, 35.0, 45.0, 35.0, 29.0, 170.0, 35.0, 90.0, 29.0, 29.0, 40.0, 60.0, 25.0, 95.0, 79.0, 101.0, 103.0, 50.0, 65.0, 34.0, 43.0, 47.0, 42.0, 42.0, 50.0, 200.0, 44.0, 33.0, 33.0, 33.0, 30.0, 30.0, 30.0, 30.0, 22.0, 22.0, 30.0, 22.0, 25.0, 46.0, 28.0, 33.0, 50.0, 49.0, 30.0, 37.0, 56.0, 22.0, 49.0, 70.0, 36.0, 27.0, 28.0, 40.0, 45.0, 47.0, 47.0, 53.0, 78.0, 55.0, 53.0, 67.0, 62.0, 60.0, 160.0, 66.0, 77.0, 62.0, 59.0, 55.0, 52.0, 40.0, 66.0, 60.0, 47.0, 30.0, 60.0, 50.0, 65.0, 50.0, 50.0, 50.0, 55.0, 56.0, 57.0, 58.0, 115.0, 40.0, 55.0, 101.0, 95.0, 93.0, 86.0, 109.0, 109.0, 82.0, 175.0, 103.0, 47.0, 65.0, 116.0, 58.0, 88.0, 96.0, 30.0, 30.0, 61.0, 55.0, 67.0, 40.0, 100.0, 55.0, 52.0, 50.0, 31.0, 77.0, 70.0, 55.0, 62.0, 30.0, 75.0, 30.0], \"yaxis\": \"y\"}],                        {\"legend\": {\"tracegroupgap\": 0}, \"margin\": {\"t\": 60}, \"template\": {\"data\": {\"bar\": [{\"error_x\": {\"color\": \"#2a3f5f\"}, \"error_y\": {\"color\": \"#2a3f5f\"}, \"marker\": {\"line\": {\"color\": \"#E5ECF6\", \"width\": 0.5}}, \"type\": \"bar\"}], \"barpolar\": [{\"marker\": {\"line\": {\"color\": \"#E5ECF6\", \"width\": 0.5}}, \"type\": \"barpolar\"}], \"carpet\": [{\"aaxis\": {\"endlinecolor\": \"#2a3f5f\", \"gridcolor\": \"white\", \"linecolor\": \"white\", \"minorgridcolor\": \"white\", \"startlinecolor\": \"#2a3f5f\"}, \"baxis\": {\"endlinecolor\": \"#2a3f5f\", \"gridcolor\": \"white\", \"linecolor\": \"white\", \"minorgridcolor\": \"white\", \"startlinecolor\": \"#2a3f5f\"}, \"type\": \"carpet\"}], \"choropleth\": [{\"colorbar\": {\"outlinewidth\": 0, \"ticks\": \"\"}, \"type\": \"choropleth\"}], \"contour\": [{\"colorbar\": {\"outlinewidth\": 0, \"ticks\": \"\"}, \"colorscale\": [[0.0, \"#0d0887\"], [0.1111111111111111, \"#46039f\"], [0.2222222222222222, \"#7201a8\"], [0.3333333333333333, \"#9c179e\"], [0.4444444444444444, \"#bd3786\"], [0.5555555555555556, \"#d8576b\"], [0.6666666666666666, \"#ed7953\"], [0.7777777777777778, \"#fb9f3a\"], [0.8888888888888888, \"#fdca26\"], [1.0, \"#f0f921\"]], \"type\": \"contour\"}], \"contourcarpet\": [{\"colorbar\": {\"outlinewidth\": 0, \"ticks\": \"\"}, \"type\": \"contourcarpet\"}], \"heatmap\": [{\"colorbar\": {\"outlinewidth\": 0, \"ticks\": \"\"}, \"colorscale\": [[0.0, \"#0d0887\"], [0.1111111111111111, \"#46039f\"], [0.2222222222222222, \"#7201a8\"], [0.3333333333333333, \"#9c179e\"], [0.4444444444444444, \"#bd3786\"], [0.5555555555555556, \"#d8576b\"], [0.6666666666666666, \"#ed7953\"], [0.7777777777777778, \"#fb9f3a\"], [0.8888888888888888, \"#fdca26\"], [1.0, \"#f0f921\"]], \"type\": \"heatmap\"}], \"heatmapgl\": [{\"colorbar\": {\"outlinewidth\": 0, \"ticks\": \"\"}, \"colorscale\": [[0.0, \"#0d0887\"], [0.1111111111111111, \"#46039f\"], [0.2222222222222222, \"#7201a8\"], [0.3333333333333333, \"#9c179e\"], [0.4444444444444444, \"#bd3786\"], [0.5555555555555556, \"#d8576b\"], [0.6666666666666666, \"#ed7953\"], [0.7777777777777778, \"#fb9f3a\"], [0.8888888888888888, \"#fdca26\"], [1.0, \"#f0f921\"]], \"type\": \"heatmapgl\"}], \"histogram\": [{\"marker\": {\"colorbar\": {\"outlinewidth\": 0, \"ticks\": \"\"}}, \"type\": \"histogram\"}], \"histogram2d\": [{\"colorbar\": {\"outlinewidth\": 0, \"ticks\": \"\"}, \"colorscale\": [[0.0, \"#0d0887\"], [0.1111111111111111, \"#46039f\"], [0.2222222222222222, \"#7201a8\"], [0.3333333333333333, \"#9c179e\"], [0.4444444444444444, \"#bd3786\"], [0.5555555555555556, \"#d8576b\"], [0.6666666666666666, \"#ed7953\"], [0.7777777777777778, \"#fb9f3a\"], [0.8888888888888888, \"#fdca26\"], [1.0, \"#f0f921\"]], \"type\": \"histogram2d\"}], \"histogram2dcontour\": [{\"colorbar\": {\"outlinewidth\": 0, \"ticks\": \"\"}, \"colorscale\": [[0.0, \"#0d0887\"], [0.1111111111111111, \"#46039f\"], [0.2222222222222222, \"#7201a8\"], [0.3333333333333333, \"#9c179e\"], [0.4444444444444444, \"#bd3786\"], [0.5555555555555556, \"#d8576b\"], [0.6666666666666666, \"#ed7953\"], [0.7777777777777778, \"#fb9f3a\"], [0.8888888888888888, \"#fdca26\"], [1.0, \"#f0f921\"]], \"type\": \"histogram2dcontour\"}], \"mesh3d\": [{\"colorbar\": {\"outlinewidth\": 0, \"ticks\": \"\"}, \"type\": \"mesh3d\"}], \"parcoords\": [{\"line\": {\"colorbar\": {\"outlinewidth\": 0, \"ticks\": \"\"}}, \"type\": \"parcoords\"}], \"pie\": [{\"automargin\": true, \"type\": \"pie\"}], \"scatter\": [{\"marker\": {\"colorbar\": {\"outlinewidth\": 0, \"ticks\": \"\"}}, \"type\": \"scatter\"}], \"scatter3d\": [{\"line\": {\"colorbar\": {\"outlinewidth\": 0, \"ticks\": \"\"}}, \"marker\": {\"colorbar\": {\"outlinewidth\": 0, \"ticks\": \"\"}}, \"type\": \"scatter3d\"}], \"scattercarpet\": [{\"marker\": {\"colorbar\": {\"outlinewidth\": 0, \"ticks\": \"\"}}, \"type\": \"scattercarpet\"}], \"scattergeo\": [{\"marker\": {\"colorbar\": {\"outlinewidth\": 0, \"ticks\": \"\"}}, \"type\": \"scattergeo\"}], \"scattergl\": [{\"marker\": {\"colorbar\": {\"outlinewidth\": 0, \"ticks\": \"\"}}, \"type\": \"scattergl\"}], \"scattermapbox\": [{\"marker\": {\"colorbar\": {\"outlinewidth\": 0, \"ticks\": \"\"}}, \"type\": \"scattermapbox\"}], \"scatterpolar\": [{\"marker\": {\"colorbar\": {\"outlinewidth\": 0, \"ticks\": \"\"}}, \"type\": \"scatterpolar\"}], \"scatterpolargl\": [{\"marker\": {\"colorbar\": {\"outlinewidth\": 0, \"ticks\": \"\"}}, \"type\": \"scatterpolargl\"}], \"scatterternary\": [{\"marker\": {\"colorbar\": {\"outlinewidth\": 0, \"ticks\": \"\"}}, \"type\": \"scatterternary\"}], \"surface\": [{\"colorbar\": {\"outlinewidth\": 0, \"ticks\": \"\"}, \"colorscale\": [[0.0, \"#0d0887\"], [0.1111111111111111, \"#46039f\"], [0.2222222222222222, \"#7201a8\"], [0.3333333333333333, \"#9c179e\"], [0.4444444444444444, \"#bd3786\"], [0.5555555555555556, \"#d8576b\"], [0.6666666666666666, \"#ed7953\"], [0.7777777777777778, \"#fb9f3a\"], [0.8888888888888888, \"#fdca26\"], [1.0, \"#f0f921\"]], \"type\": \"surface\"}], \"table\": [{\"cells\": {\"fill\": {\"color\": \"#EBF0F8\"}, \"line\": {\"color\": \"white\"}}, \"header\": {\"fill\": {\"color\": \"#C8D4E3\"}, \"line\": {\"color\": \"white\"}}, \"type\": \"table\"}]}, \"layout\": {\"annotationdefaults\": {\"arrowcolor\": \"#2a3f5f\", \"arrowhead\": 0, \"arrowwidth\": 1}, \"autotypenumbers\": \"strict\", \"coloraxis\": {\"colorbar\": {\"outlinewidth\": 0, \"ticks\": \"\"}}, \"colorscale\": {\"diverging\": [[0, \"#8e0152\"], [0.1, \"#c51b7d\"], [0.2, \"#de77ae\"], [0.3, \"#f1b6da\"], [0.4, \"#fde0ef\"], [0.5, \"#f7f7f7\"], [0.6, \"#e6f5d0\"], [0.7, \"#b8e186\"], [0.8, \"#7fbc41\"], [0.9, \"#4d9221\"], [1, \"#276419\"]], \"sequential\": [[0.0, \"#0d0887\"], [0.1111111111111111, \"#46039f\"], [0.2222222222222222, \"#7201a8\"], [0.3333333333333333, \"#9c179e\"], [0.4444444444444444, \"#bd3786\"], [0.5555555555555556, \"#d8576b\"], [0.6666666666666666, \"#ed7953\"], [0.7777777777777778, \"#fb9f3a\"], [0.8888888888888888, \"#fdca26\"], [1.0, \"#f0f921\"]], \"sequentialminus\": [[0.0, \"#0d0887\"], [0.1111111111111111, \"#46039f\"], [0.2222222222222222, \"#7201a8\"], [0.3333333333333333, \"#9c179e\"], [0.4444444444444444, \"#bd3786\"], [0.5555555555555556, \"#d8576b\"], [0.6666666666666666, \"#ed7953\"], [0.7777777777777778, \"#fb9f3a\"], [0.8888888888888888, \"#fdca26\"], [1.0, \"#f0f921\"]]}, \"colorway\": [\"#636efa\", \"#EF553B\", \"#00cc96\", \"#ab63fa\", \"#FFA15A\", \"#19d3f3\", \"#FF6692\", \"#B6E880\", \"#FF97FF\", \"#FECB52\"], \"font\": {\"color\": \"#2a3f5f\"}, \"geo\": {\"bgcolor\": \"white\", \"lakecolor\": \"white\", \"landcolor\": \"#E5ECF6\", \"showlakes\": true, \"showland\": true, \"subunitcolor\": \"white\"}, \"hoverlabel\": {\"align\": \"left\"}, \"hovermode\": \"closest\", \"mapbox\": {\"style\": \"light\"}, \"paper_bgcolor\": \"white\", \"plot_bgcolor\": \"#E5ECF6\", \"polar\": {\"angularaxis\": {\"gridcolor\": \"white\", \"linecolor\": \"white\", \"ticks\": \"\"}, \"bgcolor\": \"#E5ECF6\", \"radialaxis\": {\"gridcolor\": \"white\", \"linecolor\": \"white\", \"ticks\": \"\"}}, \"scene\": {\"xaxis\": {\"backgroundcolor\": \"#E5ECF6\", \"gridcolor\": \"white\", \"gridwidth\": 2, \"linecolor\": \"white\", \"showbackground\": true, \"ticks\": \"\", \"zerolinecolor\": \"white\"}, \"yaxis\": {\"backgroundcolor\": \"#E5ECF6\", \"gridcolor\": \"white\", \"gridwidth\": 2, \"linecolor\": \"white\", \"showbackground\": true, \"ticks\": \"\", \"zerolinecolor\": \"white\"}, \"zaxis\": {\"backgroundcolor\": \"#E5ECF6\", \"gridcolor\": \"white\", \"gridwidth\": 2, \"linecolor\": \"white\", \"showbackground\": true, \"ticks\": \"\", \"zerolinecolor\": \"white\"}}, \"shapedefaults\": {\"line\": {\"color\": \"#2a3f5f\"}}, \"ternary\": {\"aaxis\": {\"gridcolor\": \"white\", \"linecolor\": \"white\", \"ticks\": \"\"}, \"baxis\": {\"gridcolor\": \"white\", \"linecolor\": \"white\", \"ticks\": \"\"}, \"bgcolor\": \"#E5ECF6\", \"caxis\": {\"gridcolor\": \"white\", \"linecolor\": \"white\", \"ticks\": \"\"}}, \"title\": {\"x\": 0.05}, \"xaxis\": {\"automargin\": true, \"gridcolor\": \"white\", \"linecolor\": \"white\", \"ticks\": \"\", \"title\": {\"standoff\": 15}, \"zerolinecolor\": \"white\", \"zerolinewidth\": 2}, \"yaxis\": {\"automargin\": true, \"gridcolor\": \"white\", \"linecolor\": \"white\", \"ticks\": \"\", \"title\": {\"standoff\": 15}, \"zerolinecolor\": \"white\", \"zerolinewidth\": 2}}}, \"xaxis\": {\"anchor\": \"y\", \"domain\": [0.0, 1.0], \"title\": {\"text\": \"precos\"}}, \"yaxis\": {\"anchor\": \"x\", \"domain\": [0.0, 1.0], \"title\": {\"text\": \"areas\"}}},                        {\"responsive\": true}                    ).then(function(){\n",
              "                            \n",
              "var gd = document.getElementById('32408ca1-6d38-4768-87e9-834edf718dbb');\n",
              "var x = new MutationObserver(function (mutations, observer) {{\n",
              "        var display = window.getComputedStyle(gd).display;\n",
              "        if (!display || display === 'none') {{\n",
              "            console.log([gd, 'removed!']);\n",
              "            Plotly.purge(gd);\n",
              "            observer.disconnect();\n",
              "        }}\n",
              "}});\n",
              "\n",
              "// Listen for the removal of the full notebook cells\n",
              "var notebookContainer = gd.closest('#notebook-container');\n",
              "if (notebookContainer) {{\n",
              "    x.observe(notebookContainer, {childList: true});\n",
              "}}\n",
              "\n",
              "// Listen for the clearing of the current output cell\n",
              "var outputEl = gd.closest('.output');\n",
              "if (outputEl) {{\n",
              "    x.observe(outputEl, {childList: true});\n",
              "}}\n",
              "\n",
              "                        })                };                            </script>        </div>\n",
              "</body>\n",
              "</html>"
            ]
          },
          "metadata": {
            "tags": []
          }
        }
      ]
    },
    {
      "cell_type": "code",
      "metadata": {
        "id": "CxON4UijfurU",
        "colab": {
          "base_uri": "https://localhost:8080/",
          "height": 542
        },
        "outputId": "8205d8d5-0480-470e-83ed-b36de2ea15e3"
      },
      "source": [
        "px.box(data_frame=da_ml, x=\"quartos\", y=\"areas\")"
      ],
      "execution_count": 43,
      "outputs": [
        {
          "output_type": "display_data",
          "data": {
            "text/html": [
              "<html>\n",
              "<head><meta charset=\"utf-8\" /></head>\n",
              "<body>\n",
              "    <div>            <script src=\"https://cdnjs.cloudflare.com/ajax/libs/mathjax/2.7.5/MathJax.js?config=TeX-AMS-MML_SVG\"></script><script type=\"text/javascript\">if (window.MathJax) {MathJax.Hub.Config({SVG: {font: \"STIX-Web\"}});}</script>                <script type=\"text/javascript\">window.PlotlyConfig = {MathJaxConfig: 'local'};</script>\n",
              "        <script src=\"https://cdn.plot.ly/plotly-latest.min.js\"></script>                <div id=\"afac208a-033f-41d5-ad0e-b07f825ffa9c\" class=\"plotly-graph-div\" style=\"height:525px; width:100%;\"></div>            <script type=\"text/javascript\">                                    window.PLOTLYENV=window.PLOTLYENV || {};                                    if (document.getElementById(\"afac208a-033f-41d5-ad0e-b07f825ffa9c\")) {                    Plotly.newPlot(                        \"afac208a-033f-41d5-ad0e-b07f825ffa9c\",                        [{\"alignmentgroup\": \"True\", \"hovertemplate\": \"quartos=%{x}<br>areas=%{y}<extra></extra>\", \"legendgroup\": \"\", \"marker\": {\"color\": \"#636efa\"}, \"name\": \"\", \"notched\": false, \"offsetgroup\": \"\", \"orientation\": \"v\", \"showlegend\": false, \"type\": \"box\", \"x\": [2.0, 2.0, 2.0, 2.0, 1.0, 1.0, 1.0, 1.0, 1.0, 2.0, 4.0, 2.0, 3.0, 2.0, 2.0, 2.0, 1.0, 3.0, 1.0, 1.0, 2.0, 2.0, 2.0, 3.0, 1.0, 3.0, 1.0, 3.0, 4.0, null, 1.0, 1.0, 3.0, 1.0, 2.0, 4.0, 1.0, 2.0, 2.0, 2.0, 1.0, 1.0, 1.0, 1.0, 1.0, 4.0, 1.0, 2.0, 2.0, 3.0, 3.0, 3.0, 3.0, 1.0, 3.0, 2.0, 3.0, 3.0, 3.0, 1.0, 1.0, 1.0, 1.0, 1.0, 4.0, 3.0, 3.0, 1.0, 3.0, 2.0, 2.0, 1.0, 1.0, 1.0, 2.0, 3.0, 1.0, 3.0, 2.0, 1.0, 1.0, 3.0, 2.0, 3.0, 2.0, 1.0, 2.0, 1.0, 2.0, 2.0, 2.0, 4.0, 1.0, 3.0, 3.0, 3.0, 3.0, 1.0, 2.0, 1.0, 3.0, 3.0, 3.0, 3.0, 1.0, 4.0, 3.0, 1.0, 3.0, 3.0, 1.0, 1.0, 2.0, 2.0, 2.0, 2.0, 3.0, 3.0, 2.0, 2.0, 3.0, 2.0, 2.0, 2.0, 3.0, 3.0, 2.0, 2.0, 1.0, 2.0, 2.0, 2.0, 3.0, 3.0, 2.0, 3.0, 3.0, 2.0, 3.0, 2.0, 2.0, 1.0, 2.0, 2.0, 1.0, null, 1.0, 2.0, 1.0, 1.0, 1.0, 3.0, 3.0, 1.0, 1.0, 1.0, 2.0, 2.0, 1.0, 1.0, 2.0, 3.0, 2.0, 3.0, 2.0, 2.0, 1.0, 2.0, 3.0, 3.0, 1.0, 3.0, 3.0, 3.0, 1.0, 3.0, 3.0, 3.0, 2.0, 2.0, 3.0, 2.0, 1.0, 2.0, 3.0, 2.0, 2.0, 1.0, 2.0, 4.0, 1.0, 1.0, 1.0, 2.0, 1.0, 2.0, 2.0, 2.0, 3.0, 2.0, 2.0, 3.0, 2.0, 1.0, 3.0, 1.0, 3.0, 2.0, 3.0, 2.0, 4.0, 3.0, null, null, 2.0, 3.0, 3.0, 2.0, 3.0, null, 2.0, 2.0, 2.0, 3.0, 2.0, 3.0, 4.0, 3.0, 2.0, 1.0, 1.0, 1.0, 1.0, 2.0, 3.0, 1.0, 1.0, 2.0, 2.0, 3.0, 1.0, 1.0, 1.0, 1.0, 1.0, 1.0, 1.0, 1.0, 1.0, 1.0, 1.0, 1.0, 1.0, 1.0, 2.0, 2.0, 1.0, 1.0, 1.0, 1.0, 1.0, 2.0, 1.0, 1.0, 1.0, 1.0, 2.0, 1.0, 1.0, 1.0, 1.0, 1.0, 1.0, 1.0, 1.0, 1.0, 1.0, 1.0, 2.0, 1.0, 1.0, 1.0, 1.0, 2.0, 1.0, 1.0, 1.0, 1.0, 1.0, 1.0, 3.0, 2.0, null, 2.0, 3.0, 2.0, 3.0, 2.0, 2.0, 3.0, 2.0, 1.0, 2.0, 2.0, 3.0, 2.0, 2.0, 2.0, 2.0, 2.0, 1.0, 2.0, 5.0, 2.0, 2.0, 1.0, 2.0, 2.0, 1.0, 2.0, 2.0, 2.0, 1.0, 2.0, 3.0, 2.0, 2.0, 1.0, 1.0, 2.0, 2.0, 2.0, 2.0, 3.0, 2.0, 3.0, 1.0, 1.0, 1.0, 3.0, 2.0, 1.0, 3.0, 3.0, 1.0, 1.0, 1.0, 1.0, 1.0, 1.0, 1.0, 1.0, 3.0, 3.0, 3.0, 1.0, 2.0, 3.0, 3.0, 1.0, 1.0, 2.0, 2.0, 3.0, 2.0, 1.0, 2.0, 3.0, 2.0, 1.0, 1.0, 1.0, 1.0, 2.0, 2.0, 2.0, 2.0, 1.0, 3.0, 3.0, 2.0, 2.0, 3.0, 2.0, 1.0, 3.0, 3.0, 2.0, 1.0, 3.0, 2.0, 3.0, 1.0, 1.0, 1.0, 1.0, 2.0, 1.0, 3.0, 2.0, 3.0, 1.0, 1.0, 1.0, 2.0, 3.0, 1.0, 3.0, 3.0, 1.0, 3.0, 3.0, 3.0, 3.0, 2.0, 1.0, 2.0, 3.0, 1.0, 1.0, 2.0, 3.0, 2.0, 1.0, 2.0, 3.0, 2.0, 2.0, 3.0, 1.0, 3.0, 2.0, 1.0, 3.0, 1.0, 2.0, 2.0, 1.0, 1.0, 2.0, 1.0, 1.0, 2.0, 2.0, 1.0, 1.0, 1.0, 3.0, 2.0, 1.0, 1.0, 3.0, 3.0, 1.0, 1.0, 1.0, 1.0, 1.0, 1.0, 3.0, 3.0, 2.0, 2.0, null, null, null, null, null, null, null, null, null, 2.0, 2.0, 2.0, 3.0, 2.0, 2.0, 3.0, 3.0, 3.0, 2.0, 1.0, 3.0, 2.0, 1.0, 3.0, 1.0, 3.0, 1.0, 1.0, 3.0, 1.0, 1.0, 1.0, 3.0, 3.0, 2.0, 2.0, 2.0, 2.0, 2.0, 3.0, 1.0, 2.0, 3.0, 1.0, 2.0, 1.0, 3.0, 2.0, 2.0, 1.0, 2.0, 1.0, 1.0, null, 1.0, 1.0, 3.0, 1.0, 2.0, 3.0, 1.0, 3.0, 3.0, 2.0, 2.0, 3.0, 1.0, 1.0, 1.0, 1.0, 1.0, 1.0, 3.0, 1.0, 1.0, 1.0, 1.0, 1.0, 1.0, 1.0, 1.0, 1.0, 1.0, 1.0, 1.0, 1.0, 1.0, 2.0, 3.0, 2.0, 1.0, 1.0, 1.0, 2.0, 2.0, 1.0, 2.0, 1.0, 3.0, 3.0, 1.0, null, 3.0, 1.0, 4.0, 1.0, 1.0, 2.0, 1.0, 1.0, 3.0, 2.0, 2.0, 2.0, 2.0, 2.0, 2.0, 1.0, 1.0, 2.0, 2.0, 2.0, 2.0, 3.0, 2.0, 1.0, 1.0, 1.0, 1.0, 2.0, 1.0, 2.0, 1.0, 1.0, 1.0, 1.0, 1.0, 1.0, 1.0, 2.0, 2.0, 3.0, 2.0, 2.0, 1.0, 1.0, 2.0, 3.0, 2.0, 1.0, 1.0, 1.0, 2.0, 3.0, 1.0, 3.0, 1.0, 3.0, 3.0, 3.0, 1.0, 1.0, 2.0, 3.0, 1.0, 2.0, 1.0, 3.0, 1.0, 3.0, 2.0, 1.0, 1.0, 1.0, 1.0, 1.0, 1.0, 1.0, 3.0, 1.0, 2.0, 1.0, 1.0, 1.0, 2.0, 2.0, 2.0, 2.0, 3.0, 3.0, 2.0, 2.0, 2.0, 2.0, 2.0, 2.0, 2.0, 2.0, 2.0, 2.0, 1.0, 1.0, 1.0, 1.0, 1.0, 1.0, 1.0, 1.0, 1.0, 1.0, 1.0, 1.0, 2.0, 1.0, 1.0, 1.0, 2.0, 1.0, 1.0, 2.0, 1.0, 2.0, 2.0, 1.0, 1.0, 1.0, 1.0, 1.0, 2.0, 2.0, 2.0, 3.0, 2.0, 2.0, 2.0, 2.0, 2.0, 3.0, 2.0, 2.0, 2.0, 2.0, 2.0, 2.0, 2.0, 3.0, 1.0, 2.0, 1.0, 2.0, 1.0, 2.0, 1.0, 1.0, 2.0, 2.0, 2.0, 3.0, 2.0, 3.0, 1.0, 1.0, 3.0, 3.0, 3.0, 3.0, 3.0, 3.0, 3.0, 3.0, 3.0, 1.0, 2.0, 3.0, null, 3.0, 3.0, 1.0, null, 3.0, null, null, 1.0, 3.0, 2.0, 2.0, 2.0, 1.0, 2.0, 2.0, 2.0, 3.0, 1.0, 3.0, 1.0], \"x0\": \" \", \"xaxis\": \"x\", \"y\": [80.0, 65.0, 80.0, 65.0, 35.0, 28.0, 28.0, 28.0, 32.0, 76.0, 270.0, 55.0, 72.0, 55.0, 65.0, 81.0, 49.0, 151.0, 55.0, 25.0, 54.0, 66.0, 95.0, 149.0, 26.0, 140.0, 42.0, 139.0, 202.0, 33.0, 30.0, 31.0, 111.0, 29.0, 106.0, 159.0, 34.0, 54.0, 66.0, 64.0, 31.0, 46.0, 29.0, 31.0, 30.0, 175.0, 40.0, 100.0, 100.0, 96.0, 177.0, 65.0, 65.0, 110.0, 72.0, 80.0, 94.0, 72.0, 159.0, 29.0, 35.0, 26.0, 40.0, 40.0, 140.0, 98.0, 106.0, 36.0, 119.0, 58.0, 75.0, 37.0, 37.0, 33.0, 67.0, 131.0, 31.0, 131.0, 75.0, 32.0, 57.0, 64.0, 50.0, 66.0, 51.0, 60.0, 38.0, 70.0, 71.0, 50.0, 40.0, 127.0, 128.0, 80.0, 69.0, 133.0, 100.0, 40.0, 68.0, 30.0, 70.0, 80.0, 90.0, 90.0, 30.0, 153.0, 70.0, 50.0, 65.0, 65.0, 26.0, 30.0, 56.0, 102.0, 102.0, 57.0, 123.0, 123.0, 102.0, 67.0, 123.0, 67.0, 67.0, 102.0, 123.0, 123.0, 64.0, 64.0, 59.0, 56.0, 75.0, 67.0, 121.0, 94.0, 67.0, 93.0, 121.0, 57.0, 151.0, 67.0, 61.0, 34.0, 70.0, 87.0, 34.0, 22.0, 31.0, 64.0, 80.0, 37.0, 37.0, 117.0, 145.0, 40.0, 40.0, 35.0, 75.0, 56.0, 45.0, 45.0, 70.0, 60.0, 64.0, 60.0, 75.0, 75.0, 42.0, 42.0, 80.0, 80.0, 57.0, 58.0, 67.0, 120.0, 60.0, 120.0, 77.0, 120.0, 85.0, 79.0, 104.0, 90.0, 42.0, 70.0, 115.0, 45.0, 44.0, 38.0, 47.0, 300.0, 40.0, 40.0, 75.0, 134.0, 110.0, 50.0, 65.0, 50.0, 102.0, 45.0, 43.0, 47.0, 51.0, 30.0, 60.0, 25.0, 48.0, 49.0, 71.0, 48.0, 130.0, 185.0, 157.0, 157.0, 68.0, 58.0, 87.0, 52.0, 78.0, 82.0, 46.0, 59.0, 53.0, 100.0, 50.0, 64.0, 236.0, 64.0, 60.0, 27.0, 29.0, 21.0, 39.0, 49.0, 170.0, 55.0, 39.0, 62.0, 123.0, 114.0, 32.0, 17.0, 38.0, 44.0, 30.0, 34.0, 20.0, 35.0, 60.0, 32.0, 35.0, 52.0, 31.0, 35.0, 50.0, 70.0, 29.0, 27.0, 39.0, 50.0, 48.0, 47.0, 40.0, 33.0, 28.0, 32.0, 40.0, 60.0, 43.0, 43.0, 48.0, 29.0, 27.0, 35.0, 35.0, 29.0, 35.0, 29.0, 48.0, 35.0, 29.0, 25.0, 35.0, 57.0, 29.0, 29.0, 29.0, 32.0, 44.0, 33.0, 193.0, 46.0, 112.0, 46.0, 45.0, 51.0, 47.0, 60.0, 50.0, 45.0, 47.0, 47.0, 47.0, 42.0, 42.0, 60.0, 50.0, 53.0, 40.0, 42.0, 33.0, 62.0, 102.0, 50.0, 46.0, 20.0, 46.0, 47.0, 50.0, 46.0, 46.0, 50.0, 30.0, 44.0, 46.0, 42.0, 40.0, 49.0, 66.0, 74.0, 40.0, 64.0, 55.0, 78.0, 66.0, 104.0, 32.0, 25.0, 50.0, 113.0, 49.0, 25.0, 117.0, 97.0, 33.0, 25.0, 38.0, 24.0, 24.0, 24.0, 25.0, 24.0, 70.0, 70.0, 128.0, 50.0, 60.0, 150.0, 75.0, 50.0, 44.0, 40.0, 80.0, 87.0, 66.0, 68.0, 61.0, 93.0, 60.0, 40.0, 25.0, 50.0, 35.0, 55.0, 52.0, 46.0, 70.0, 40.0, 53.0, 60.0, 44.0, 30.0, 89.0, 30.0, 30.0, 58.0, 57.0, 44.0, 53.0, 58.0, 56.0, 64.0, 33.0, 33.0, 28.0, 28.0, 64.0, 73.0, 100.0, 52.0, 58.0, 42.0, 50.0, 65.0, 40.0, 65.0, 51.0, 75.0, 75.0, 29.0, 140.0, 140.0, 140.0, 89.0, 250.0, 30.0, 62.0, 71.0, 32.0, 32.0, 140.0, 200.0, 80.0, 49.0, 72.0, 104.0, 74.0, 74.0, 75.0, 36.0, 110.0, 60.0, 60.0, 135.0, 40.0, 60.0, 60.0, 40.0, 40.0, 89.0, 25.0, 30.0, 51.0, 51.0, 50.0, 47.0, 47.0, 120.0, 99.0, 44.0, 44.0, 110.0, 110.0, 40.0, 40.0, 22.0, 20.0, 22.0, 35.0, 114.0, 67.0, 62.0, 121.0, null, null, null, null, null, null, null, null, null, 60.0, 63.0, 61.0, 57.0, 52.0, 60.0, 90.0, 59.0, 76.0, 47.0, 45.0, 122.0, 45.0, 25.0, 60.0, 28.0, 162.0, 33.0, 36.0, 57.0, 28.0, 25.0, 25.0, 67.0, 65.0, 47.0, 50.0, 50.0, 60.0, 59.0, 64.0, 40.0, 80.0, 170.0, 60.0, 80.0, 30.0, 127.0, 60.0, 50.0, 37.0, 60.0, 45.0, 30.0, 35.0, 70.0, 53.0, 110.0, 30.0, 83.0, 84.0, 47.0, 60.0, 70.0, 47.0, 46.0, 110.0, 18.0, 36.0, 32.0, 19.0, 64.0, 63.0, 59.0, 36.0, 57.0, 29.0, 28.0, 33.0, 33.0, 33.0, 30.0, 28.0, 34.0, 33.0, 32.0, 33.0, 40.0, 78.0, 103.0, 58.0, 35.0, 28.0, 30.0, 60.0, 61.0, 37.0, 60.0, 17.0, 80.0, 128.0, 28.0, 117.0, 80.0, 45.0, 214.0, 36.0, 43.0, 67.0, 45.0, 25.0, 98.0, 60.0, 87.0, 50.0, 63.0, 57.0, 63.0, 30.0, 34.0, 67.0, 64.0, 46.0, 48.0, 62.0, 40.0, 58.0, 25.0, 25.0, 50.0, 53.0, 25.0, 46.0, 25.0, 25.0, 25.0, 25.0, 25.0, 25.0, 25.0, 47.0, 45.0, 49.0, 65.0, 60.0, 20.0, 30.0, 85.0, 63.0, 100.0, 25.0, 25.0, 25.0, 55.0, 142.0, 40.0, 67.0, 57.0, 67.0, 67.0, 67.0, 29.0, 35.0, 65.0, 171.0, 36.0, 78.0, 28.0, 119.0, 50.0, 108.0, 62.0, 50.0, 31.0, 40.0, 35.0, 45.0, 35.0, 29.0, 170.0, 35.0, 90.0, 29.0, 29.0, 40.0, 60.0, 25.0, 95.0, 79.0, 101.0, 103.0, 50.0, 65.0, 34.0, 43.0, 47.0, 42.0, 42.0, 50.0, 200.0, 44.0, 33.0, 33.0, 33.0, 30.0, 30.0, 30.0, 30.0, 22.0, 22.0, 30.0, 22.0, 25.0, 46.0, 28.0, 33.0, 50.0, 49.0, 30.0, 37.0, 56.0, 22.0, 49.0, 70.0, 36.0, 27.0, 28.0, 40.0, 45.0, 47.0, 47.0, 53.0, 78.0, 55.0, 53.0, 67.0, 62.0, 60.0, 160.0, 66.0, 77.0, 62.0, 59.0, 55.0, 52.0, 40.0, 66.0, 60.0, 47.0, 30.0, 60.0, 50.0, 65.0, 50.0, 50.0, 50.0, 55.0, 56.0, 57.0, 58.0, 115.0, 40.0, 55.0, 101.0, 95.0, 93.0, 86.0, 109.0, 109.0, 82.0, 175.0, 103.0, 47.0, 65.0, 116.0, 58.0, 88.0, 96.0, 30.0, 30.0, 61.0, 55.0, 67.0, 40.0, 100.0, 55.0, 52.0, 50.0, 31.0, 77.0, 70.0, 55.0, 62.0, 30.0, 75.0, 30.0], \"y0\": \" \", \"yaxis\": \"y\"}],                        {\"boxmode\": \"group\", \"legend\": {\"tracegroupgap\": 0}, \"margin\": {\"t\": 60}, \"template\": {\"data\": {\"bar\": [{\"error_x\": {\"color\": \"#2a3f5f\"}, \"error_y\": {\"color\": \"#2a3f5f\"}, \"marker\": {\"line\": {\"color\": \"#E5ECF6\", \"width\": 0.5}}, \"type\": \"bar\"}], \"barpolar\": [{\"marker\": {\"line\": {\"color\": \"#E5ECF6\", \"width\": 0.5}}, \"type\": \"barpolar\"}], \"carpet\": [{\"aaxis\": {\"endlinecolor\": \"#2a3f5f\", \"gridcolor\": \"white\", \"linecolor\": \"white\", \"minorgridcolor\": \"white\", \"startlinecolor\": \"#2a3f5f\"}, \"baxis\": {\"endlinecolor\": \"#2a3f5f\", \"gridcolor\": \"white\", \"linecolor\": \"white\", \"minorgridcolor\": \"white\", \"startlinecolor\": \"#2a3f5f\"}, \"type\": \"carpet\"}], \"choropleth\": [{\"colorbar\": {\"outlinewidth\": 0, \"ticks\": \"\"}, \"type\": \"choropleth\"}], \"contour\": [{\"colorbar\": {\"outlinewidth\": 0, \"ticks\": \"\"}, \"colorscale\": [[0.0, \"#0d0887\"], [0.1111111111111111, \"#46039f\"], [0.2222222222222222, \"#7201a8\"], [0.3333333333333333, \"#9c179e\"], [0.4444444444444444, \"#bd3786\"], [0.5555555555555556, \"#d8576b\"], [0.6666666666666666, \"#ed7953\"], [0.7777777777777778, \"#fb9f3a\"], [0.8888888888888888, \"#fdca26\"], [1.0, \"#f0f921\"]], \"type\": \"contour\"}], \"contourcarpet\": [{\"colorbar\": {\"outlinewidth\": 0, \"ticks\": \"\"}, \"type\": \"contourcarpet\"}], \"heatmap\": [{\"colorbar\": {\"outlinewidth\": 0, \"ticks\": \"\"}, \"colorscale\": [[0.0, \"#0d0887\"], [0.1111111111111111, \"#46039f\"], [0.2222222222222222, \"#7201a8\"], [0.3333333333333333, \"#9c179e\"], [0.4444444444444444, \"#bd3786\"], [0.5555555555555556, \"#d8576b\"], [0.6666666666666666, \"#ed7953\"], [0.7777777777777778, \"#fb9f3a\"], [0.8888888888888888, \"#fdca26\"], [1.0, \"#f0f921\"]], \"type\": \"heatmap\"}], \"heatmapgl\": [{\"colorbar\": {\"outlinewidth\": 0, \"ticks\": \"\"}, \"colorscale\": [[0.0, \"#0d0887\"], [0.1111111111111111, \"#46039f\"], [0.2222222222222222, \"#7201a8\"], [0.3333333333333333, \"#9c179e\"], [0.4444444444444444, \"#bd3786\"], [0.5555555555555556, \"#d8576b\"], [0.6666666666666666, \"#ed7953\"], [0.7777777777777778, \"#fb9f3a\"], [0.8888888888888888, \"#fdca26\"], [1.0, \"#f0f921\"]], \"type\": \"heatmapgl\"}], \"histogram\": [{\"marker\": {\"colorbar\": {\"outlinewidth\": 0, \"ticks\": \"\"}}, \"type\": \"histogram\"}], \"histogram2d\": [{\"colorbar\": {\"outlinewidth\": 0, \"ticks\": \"\"}, \"colorscale\": [[0.0, \"#0d0887\"], [0.1111111111111111, \"#46039f\"], [0.2222222222222222, \"#7201a8\"], [0.3333333333333333, \"#9c179e\"], [0.4444444444444444, \"#bd3786\"], [0.5555555555555556, \"#d8576b\"], [0.6666666666666666, \"#ed7953\"], [0.7777777777777778, \"#fb9f3a\"], [0.8888888888888888, \"#fdca26\"], [1.0, \"#f0f921\"]], \"type\": \"histogram2d\"}], \"histogram2dcontour\": [{\"colorbar\": {\"outlinewidth\": 0, \"ticks\": \"\"}, \"colorscale\": [[0.0, \"#0d0887\"], [0.1111111111111111, \"#46039f\"], [0.2222222222222222, \"#7201a8\"], [0.3333333333333333, \"#9c179e\"], [0.4444444444444444, \"#bd3786\"], [0.5555555555555556, \"#d8576b\"], [0.6666666666666666, \"#ed7953\"], [0.7777777777777778, \"#fb9f3a\"], [0.8888888888888888, \"#fdca26\"], [1.0, \"#f0f921\"]], \"type\": \"histogram2dcontour\"}], \"mesh3d\": [{\"colorbar\": {\"outlinewidth\": 0, \"ticks\": \"\"}, \"type\": \"mesh3d\"}], \"parcoords\": [{\"line\": {\"colorbar\": {\"outlinewidth\": 0, \"ticks\": \"\"}}, \"type\": \"parcoords\"}], \"pie\": [{\"automargin\": true, \"type\": \"pie\"}], \"scatter\": [{\"marker\": {\"colorbar\": {\"outlinewidth\": 0, \"ticks\": \"\"}}, \"type\": \"scatter\"}], \"scatter3d\": [{\"line\": {\"colorbar\": {\"outlinewidth\": 0, \"ticks\": \"\"}}, \"marker\": {\"colorbar\": {\"outlinewidth\": 0, \"ticks\": \"\"}}, \"type\": \"scatter3d\"}], \"scattercarpet\": [{\"marker\": {\"colorbar\": {\"outlinewidth\": 0, \"ticks\": \"\"}}, \"type\": \"scattercarpet\"}], \"scattergeo\": [{\"marker\": {\"colorbar\": {\"outlinewidth\": 0, \"ticks\": \"\"}}, \"type\": \"scattergeo\"}], \"scattergl\": [{\"marker\": {\"colorbar\": {\"outlinewidth\": 0, \"ticks\": \"\"}}, \"type\": \"scattergl\"}], \"scattermapbox\": [{\"marker\": {\"colorbar\": {\"outlinewidth\": 0, \"ticks\": \"\"}}, \"type\": \"scattermapbox\"}], \"scatterpolar\": [{\"marker\": {\"colorbar\": {\"outlinewidth\": 0, \"ticks\": \"\"}}, \"type\": \"scatterpolar\"}], \"scatterpolargl\": [{\"marker\": {\"colorbar\": {\"outlinewidth\": 0, \"ticks\": \"\"}}, \"type\": \"scatterpolargl\"}], \"scatterternary\": [{\"marker\": {\"colorbar\": {\"outlinewidth\": 0, \"ticks\": \"\"}}, \"type\": \"scatterternary\"}], \"surface\": [{\"colorbar\": {\"outlinewidth\": 0, \"ticks\": \"\"}, \"colorscale\": [[0.0, \"#0d0887\"], [0.1111111111111111, \"#46039f\"], [0.2222222222222222, \"#7201a8\"], [0.3333333333333333, \"#9c179e\"], [0.4444444444444444, \"#bd3786\"], [0.5555555555555556, \"#d8576b\"], [0.6666666666666666, \"#ed7953\"], [0.7777777777777778, \"#fb9f3a\"], [0.8888888888888888, \"#fdca26\"], [1.0, \"#f0f921\"]], \"type\": \"surface\"}], \"table\": [{\"cells\": {\"fill\": {\"color\": \"#EBF0F8\"}, \"line\": {\"color\": \"white\"}}, \"header\": {\"fill\": {\"color\": \"#C8D4E3\"}, \"line\": {\"color\": \"white\"}}, \"type\": \"table\"}]}, \"layout\": {\"annotationdefaults\": {\"arrowcolor\": \"#2a3f5f\", \"arrowhead\": 0, \"arrowwidth\": 1}, \"autotypenumbers\": \"strict\", \"coloraxis\": {\"colorbar\": {\"outlinewidth\": 0, \"ticks\": \"\"}}, \"colorscale\": {\"diverging\": [[0, \"#8e0152\"], [0.1, \"#c51b7d\"], [0.2, \"#de77ae\"], [0.3, \"#f1b6da\"], [0.4, \"#fde0ef\"], [0.5, \"#f7f7f7\"], [0.6, \"#e6f5d0\"], [0.7, \"#b8e186\"], [0.8, \"#7fbc41\"], [0.9, \"#4d9221\"], [1, \"#276419\"]], \"sequential\": [[0.0, \"#0d0887\"], [0.1111111111111111, \"#46039f\"], [0.2222222222222222, \"#7201a8\"], [0.3333333333333333, \"#9c179e\"], [0.4444444444444444, \"#bd3786\"], [0.5555555555555556, \"#d8576b\"], [0.6666666666666666, \"#ed7953\"], [0.7777777777777778, \"#fb9f3a\"], [0.8888888888888888, \"#fdca26\"], [1.0, \"#f0f921\"]], \"sequentialminus\": [[0.0, \"#0d0887\"], [0.1111111111111111, \"#46039f\"], [0.2222222222222222, \"#7201a8\"], [0.3333333333333333, \"#9c179e\"], [0.4444444444444444, \"#bd3786\"], [0.5555555555555556, \"#d8576b\"], [0.6666666666666666, \"#ed7953\"], [0.7777777777777778, \"#fb9f3a\"], [0.8888888888888888, \"#fdca26\"], [1.0, \"#f0f921\"]]}, \"colorway\": [\"#636efa\", \"#EF553B\", \"#00cc96\", \"#ab63fa\", \"#FFA15A\", \"#19d3f3\", \"#FF6692\", \"#B6E880\", \"#FF97FF\", \"#FECB52\"], \"font\": {\"color\": \"#2a3f5f\"}, \"geo\": {\"bgcolor\": \"white\", \"lakecolor\": \"white\", \"landcolor\": \"#E5ECF6\", \"showlakes\": true, \"showland\": true, \"subunitcolor\": \"white\"}, \"hoverlabel\": {\"align\": \"left\"}, \"hovermode\": \"closest\", \"mapbox\": {\"style\": \"light\"}, \"paper_bgcolor\": \"white\", \"plot_bgcolor\": \"#E5ECF6\", \"polar\": {\"angularaxis\": {\"gridcolor\": \"white\", \"linecolor\": \"white\", \"ticks\": \"\"}, \"bgcolor\": \"#E5ECF6\", \"radialaxis\": {\"gridcolor\": \"white\", \"linecolor\": \"white\", \"ticks\": \"\"}}, \"scene\": {\"xaxis\": {\"backgroundcolor\": \"#E5ECF6\", \"gridcolor\": \"white\", \"gridwidth\": 2, \"linecolor\": \"white\", \"showbackground\": true, \"ticks\": \"\", \"zerolinecolor\": \"white\"}, \"yaxis\": {\"backgroundcolor\": \"#E5ECF6\", \"gridcolor\": \"white\", \"gridwidth\": 2, \"linecolor\": \"white\", \"showbackground\": true, \"ticks\": \"\", \"zerolinecolor\": \"white\"}, \"zaxis\": {\"backgroundcolor\": \"#E5ECF6\", \"gridcolor\": \"white\", \"gridwidth\": 2, \"linecolor\": \"white\", \"showbackground\": true, \"ticks\": \"\", \"zerolinecolor\": \"white\"}}, \"shapedefaults\": {\"line\": {\"color\": \"#2a3f5f\"}}, \"ternary\": {\"aaxis\": {\"gridcolor\": \"white\", \"linecolor\": \"white\", \"ticks\": \"\"}, \"baxis\": {\"gridcolor\": \"white\", \"linecolor\": \"white\", \"ticks\": \"\"}, \"bgcolor\": \"#E5ECF6\", \"caxis\": {\"gridcolor\": \"white\", \"linecolor\": \"white\", \"ticks\": \"\"}}, \"title\": {\"x\": 0.05}, \"xaxis\": {\"automargin\": true, \"gridcolor\": \"white\", \"linecolor\": \"white\", \"ticks\": \"\", \"title\": {\"standoff\": 15}, \"zerolinecolor\": \"white\", \"zerolinewidth\": 2}, \"yaxis\": {\"automargin\": true, \"gridcolor\": \"white\", \"linecolor\": \"white\", \"ticks\": \"\", \"title\": {\"standoff\": 15}, \"zerolinecolor\": \"white\", \"zerolinewidth\": 2}}}, \"xaxis\": {\"anchor\": \"y\", \"domain\": [0.0, 1.0], \"title\": {\"text\": \"quartos\"}}, \"yaxis\": {\"anchor\": \"x\", \"domain\": [0.0, 1.0], \"title\": {\"text\": \"areas\"}}},                        {\"responsive\": true}                    ).then(function(){\n",
              "                            \n",
              "var gd = document.getElementById('afac208a-033f-41d5-ad0e-b07f825ffa9c');\n",
              "var x = new MutationObserver(function (mutations, observer) {{\n",
              "        var display = window.getComputedStyle(gd).display;\n",
              "        if (!display || display === 'none') {{\n",
              "            console.log([gd, 'removed!']);\n",
              "            Plotly.purge(gd);\n",
              "            observer.disconnect();\n",
              "        }}\n",
              "}});\n",
              "\n",
              "// Listen for the removal of the full notebook cells\n",
              "var notebookContainer = gd.closest('#notebook-container');\n",
              "if (notebookContainer) {{\n",
              "    x.observe(notebookContainer, {childList: true});\n",
              "}}\n",
              "\n",
              "// Listen for the clearing of the current output cell\n",
              "var outputEl = gd.closest('.output');\n",
              "if (outputEl) {{\n",
              "    x.observe(outputEl, {childList: true});\n",
              "}}\n",
              "\n",
              "                        })                };                            </script>        </div>\n",
              "</body>\n",
              "</html>"
            ]
          },
          "metadata": {
            "tags": []
          }
        }
      ]
    },
    {
      "cell_type": "code",
      "metadata": {
        "id": "TOSyFqfflZE0"
      },
      "source": [
        "px.box(data_frame=da_ml, x=\"quartos\", y=\"precos\")"
      ],
      "execution_count": null,
      "outputs": []
    },
    {
      "cell_type": "code",
      "metadata": {
        "id": "s_LNxlbhrAZS"
      },
      "source": [
        "da_price = da_group.drop('quartos', 1).drop('areas', 1).reset_index()\r\n",
        "da_price['bairro'] = da_price['bairro'].str.capitalize().apply(unidecode.unidecode).replace('-', ' ', regex=True)"
      ],
      "execution_count": null,
      "outputs": []
    },
    {
      "cell_type": "code",
      "metadata": {
        "id": "f6Qynpjtr5r6"
      },
      "source": [
        "da_areas_precos = da_group.drop('quartos', 1).reset_index()\r\n",
        "da_areas_precos['bairro'] = da_areas_precos['bairro'].str.capitalize().apply(unidecode.unidecode).replace('-', ' ', regex=True)"
      ],
      "execution_count": null,
      "outputs": []
    },
    {
      "cell_type": "code",
      "metadata": {
        "id": "5DngHIpgqQ3u"
      },
      "source": [
        "px.scatter(data_frame=da_areas_precos, x=\"precos\", y=\"bairro\", color='areas')"
      ],
      "execution_count": null,
      "outputs": []
    },
    {
      "cell_type": "code",
      "metadata": {
        "id": "SJiYTBYzr9al"
      },
      "source": [
        "da_price"
      ],
      "execution_count": null,
      "outputs": []
    },
    {
      "cell_type": "code",
      "metadata": {
        "id": "c3btVb92rp6a"
      },
      "source": [
        "da_group"
      ],
      "execution_count": null,
      "outputs": []
    },
    {
      "cell_type": "code",
      "metadata": {
        "id": "XhS8Po9HkkAQ",
        "colab": {
          "base_uri": "https://localhost:8080/",
          "height": 542
        },
        "outputId": "35d6d28b-3bf9-4be3-a542-8d82fbe68724"
      },
      "source": [
        "correlations = da_ml.corr()\r\n",
        "fig = px.imshow(correlations, labels=dict(color=\"Correlação\"), title=\"Correlation between numerical variables\")\r\n",
        "#fig.update_layout(width=800, height=800)\r\n",
        "fig.show()"
      ],
      "execution_count": 44,
      "outputs": [
        {
          "output_type": "display_data",
          "data": {
            "text/html": [
              "<html>\n",
              "<head><meta charset=\"utf-8\" /></head>\n",
              "<body>\n",
              "    <div>            <script src=\"https://cdnjs.cloudflare.com/ajax/libs/mathjax/2.7.5/MathJax.js?config=TeX-AMS-MML_SVG\"></script><script type=\"text/javascript\">if (window.MathJax) {MathJax.Hub.Config({SVG: {font: \"STIX-Web\"}});}</script>                <script type=\"text/javascript\">window.PlotlyConfig = {MathJaxConfig: 'local'};</script>\n",
              "        <script src=\"https://cdn.plot.ly/plotly-latest.min.js\"></script>                <div id=\"a0329a8c-370e-48b2-938c-d81ddd2a62d6\" class=\"plotly-graph-div\" style=\"height:525px; width:100%;\"></div>            <script type=\"text/javascript\">                                    window.PLOTLYENV=window.PLOTLYENV || {};                                    if (document.getElementById(\"a0329a8c-370e-48b2-938c-d81ddd2a62d6\")) {                    Plotly.newPlot(                        \"a0329a8c-370e-48b2-938c-d81ddd2a62d6\",                        [{\"coloraxis\": \"coloraxis\", \"hovertemplate\": \"x: %{x}<br>y: %{y}<br>Correla\\u00e7\\u00e3o: %{z}<extra></extra>\", \"name\": \"0\", \"type\": \"heatmap\", \"x\": [\"precos\", \"quartos\", \"areas\", \"IDHM\"], \"xaxis\": \"x\", \"y\": [\"precos\", \"quartos\", \"areas\", \"IDHM\"], \"yaxis\": \"y\", \"z\": [[1.0, 0.32417294988415035, 0.4976816913846864, 0.37487668350000036], [0.32417294988415035, 1.0, 0.7185994388749296, 0.049888356283307726], [0.4976816913846864, 0.7185994388749296, 1.0, 0.15645469776658233], [0.37487668350000036, 0.049888356283307726, 0.15645469776658233, 1.0]]}],                        {\"coloraxis\": {\"colorbar\": {\"title\": {\"text\": \"Correla\\u00e7\\u00e3o\"}}, \"colorscale\": [[0.0, \"#0d0887\"], [0.1111111111111111, \"#46039f\"], [0.2222222222222222, \"#7201a8\"], [0.3333333333333333, \"#9c179e\"], [0.4444444444444444, \"#bd3786\"], [0.5555555555555556, \"#d8576b\"], [0.6666666666666666, \"#ed7953\"], [0.7777777777777778, \"#fb9f3a\"], [0.8888888888888888, \"#fdca26\"], [1.0, \"#f0f921\"]]}, \"template\": {\"data\": {\"bar\": [{\"error_x\": {\"color\": \"#2a3f5f\"}, \"error_y\": {\"color\": \"#2a3f5f\"}, \"marker\": {\"line\": {\"color\": \"#E5ECF6\", \"width\": 0.5}}, \"type\": \"bar\"}], \"barpolar\": [{\"marker\": {\"line\": {\"color\": \"#E5ECF6\", \"width\": 0.5}}, \"type\": \"barpolar\"}], \"carpet\": [{\"aaxis\": {\"endlinecolor\": \"#2a3f5f\", \"gridcolor\": \"white\", \"linecolor\": \"white\", \"minorgridcolor\": \"white\", \"startlinecolor\": \"#2a3f5f\"}, \"baxis\": {\"endlinecolor\": \"#2a3f5f\", \"gridcolor\": \"white\", \"linecolor\": \"white\", \"minorgridcolor\": \"white\", \"startlinecolor\": \"#2a3f5f\"}, \"type\": \"carpet\"}], \"choropleth\": [{\"colorbar\": {\"outlinewidth\": 0, \"ticks\": \"\"}, \"type\": \"choropleth\"}], \"contour\": [{\"colorbar\": {\"outlinewidth\": 0, \"ticks\": \"\"}, \"colorscale\": [[0.0, \"#0d0887\"], [0.1111111111111111, \"#46039f\"], [0.2222222222222222, \"#7201a8\"], [0.3333333333333333, \"#9c179e\"], [0.4444444444444444, \"#bd3786\"], [0.5555555555555556, \"#d8576b\"], [0.6666666666666666, \"#ed7953\"], [0.7777777777777778, \"#fb9f3a\"], [0.8888888888888888, \"#fdca26\"], [1.0, \"#f0f921\"]], \"type\": \"contour\"}], \"contourcarpet\": [{\"colorbar\": {\"outlinewidth\": 0, \"ticks\": \"\"}, \"type\": \"contourcarpet\"}], \"heatmap\": [{\"colorbar\": {\"outlinewidth\": 0, \"ticks\": \"\"}, \"colorscale\": [[0.0, \"#0d0887\"], [0.1111111111111111, \"#46039f\"], [0.2222222222222222, \"#7201a8\"], [0.3333333333333333, \"#9c179e\"], [0.4444444444444444, \"#bd3786\"], [0.5555555555555556, \"#d8576b\"], [0.6666666666666666, \"#ed7953\"], [0.7777777777777778, \"#fb9f3a\"], [0.8888888888888888, \"#fdca26\"], [1.0, \"#f0f921\"]], \"type\": \"heatmap\"}], \"heatmapgl\": [{\"colorbar\": {\"outlinewidth\": 0, \"ticks\": \"\"}, \"colorscale\": [[0.0, \"#0d0887\"], [0.1111111111111111, \"#46039f\"], [0.2222222222222222, \"#7201a8\"], [0.3333333333333333, \"#9c179e\"], [0.4444444444444444, \"#bd3786\"], [0.5555555555555556, \"#d8576b\"], [0.6666666666666666, \"#ed7953\"], [0.7777777777777778, \"#fb9f3a\"], [0.8888888888888888, \"#fdca26\"], [1.0, \"#f0f921\"]], \"type\": \"heatmapgl\"}], \"histogram\": [{\"marker\": {\"colorbar\": {\"outlinewidth\": 0, \"ticks\": \"\"}}, \"type\": \"histogram\"}], \"histogram2d\": [{\"colorbar\": {\"outlinewidth\": 0, \"ticks\": \"\"}, \"colorscale\": [[0.0, \"#0d0887\"], [0.1111111111111111, \"#46039f\"], [0.2222222222222222, \"#7201a8\"], [0.3333333333333333, \"#9c179e\"], [0.4444444444444444, \"#bd3786\"], [0.5555555555555556, \"#d8576b\"], [0.6666666666666666, \"#ed7953\"], [0.7777777777777778, \"#fb9f3a\"], [0.8888888888888888, \"#fdca26\"], [1.0, \"#f0f921\"]], \"type\": \"histogram2d\"}], \"histogram2dcontour\": [{\"colorbar\": {\"outlinewidth\": 0, \"ticks\": \"\"}, \"colorscale\": [[0.0, \"#0d0887\"], [0.1111111111111111, \"#46039f\"], [0.2222222222222222, \"#7201a8\"], [0.3333333333333333, \"#9c179e\"], [0.4444444444444444, \"#bd3786\"], [0.5555555555555556, \"#d8576b\"], [0.6666666666666666, \"#ed7953\"], [0.7777777777777778, \"#fb9f3a\"], [0.8888888888888888, \"#fdca26\"], [1.0, \"#f0f921\"]], \"type\": \"histogram2dcontour\"}], \"mesh3d\": [{\"colorbar\": {\"outlinewidth\": 0, \"ticks\": \"\"}, \"type\": \"mesh3d\"}], \"parcoords\": [{\"line\": {\"colorbar\": {\"outlinewidth\": 0, \"ticks\": \"\"}}, \"type\": \"parcoords\"}], \"pie\": [{\"automargin\": true, \"type\": \"pie\"}], \"scatter\": [{\"marker\": {\"colorbar\": {\"outlinewidth\": 0, \"ticks\": \"\"}}, \"type\": \"scatter\"}], \"scatter3d\": [{\"line\": {\"colorbar\": {\"outlinewidth\": 0, \"ticks\": \"\"}}, \"marker\": {\"colorbar\": {\"outlinewidth\": 0, \"ticks\": \"\"}}, \"type\": \"scatter3d\"}], \"scattercarpet\": [{\"marker\": {\"colorbar\": {\"outlinewidth\": 0, \"ticks\": \"\"}}, \"type\": \"scattercarpet\"}], \"scattergeo\": [{\"marker\": {\"colorbar\": {\"outlinewidth\": 0, \"ticks\": \"\"}}, \"type\": \"scattergeo\"}], \"scattergl\": [{\"marker\": {\"colorbar\": {\"outlinewidth\": 0, \"ticks\": \"\"}}, \"type\": \"scattergl\"}], \"scattermapbox\": [{\"marker\": {\"colorbar\": {\"outlinewidth\": 0, \"ticks\": \"\"}}, \"type\": \"scattermapbox\"}], \"scatterpolar\": [{\"marker\": {\"colorbar\": {\"outlinewidth\": 0, \"ticks\": \"\"}}, \"type\": \"scatterpolar\"}], \"scatterpolargl\": [{\"marker\": {\"colorbar\": {\"outlinewidth\": 0, \"ticks\": \"\"}}, \"type\": \"scatterpolargl\"}], \"scatterternary\": [{\"marker\": {\"colorbar\": {\"outlinewidth\": 0, \"ticks\": \"\"}}, \"type\": \"scatterternary\"}], \"surface\": [{\"colorbar\": {\"outlinewidth\": 0, \"ticks\": \"\"}, \"colorscale\": [[0.0, \"#0d0887\"], [0.1111111111111111, \"#46039f\"], [0.2222222222222222, \"#7201a8\"], [0.3333333333333333, \"#9c179e\"], [0.4444444444444444, \"#bd3786\"], [0.5555555555555556, \"#d8576b\"], [0.6666666666666666, \"#ed7953\"], [0.7777777777777778, \"#fb9f3a\"], [0.8888888888888888, \"#fdca26\"], [1.0, \"#f0f921\"]], \"type\": \"surface\"}], \"table\": [{\"cells\": {\"fill\": {\"color\": \"#EBF0F8\"}, \"line\": {\"color\": \"white\"}}, \"header\": {\"fill\": {\"color\": \"#C8D4E3\"}, \"line\": {\"color\": \"white\"}}, \"type\": \"table\"}]}, \"layout\": {\"annotationdefaults\": {\"arrowcolor\": \"#2a3f5f\", \"arrowhead\": 0, \"arrowwidth\": 1}, \"autotypenumbers\": \"strict\", \"coloraxis\": {\"colorbar\": {\"outlinewidth\": 0, \"ticks\": \"\"}}, \"colorscale\": {\"diverging\": [[0, \"#8e0152\"], [0.1, \"#c51b7d\"], [0.2, \"#de77ae\"], [0.3, \"#f1b6da\"], [0.4, \"#fde0ef\"], [0.5, \"#f7f7f7\"], [0.6, \"#e6f5d0\"], [0.7, \"#b8e186\"], [0.8, \"#7fbc41\"], [0.9, \"#4d9221\"], [1, \"#276419\"]], \"sequential\": [[0.0, \"#0d0887\"], [0.1111111111111111, \"#46039f\"], [0.2222222222222222, \"#7201a8\"], [0.3333333333333333, \"#9c179e\"], [0.4444444444444444, \"#bd3786\"], [0.5555555555555556, \"#d8576b\"], [0.6666666666666666, \"#ed7953\"], [0.7777777777777778, \"#fb9f3a\"], [0.8888888888888888, \"#fdca26\"], [1.0, \"#f0f921\"]], \"sequentialminus\": [[0.0, \"#0d0887\"], [0.1111111111111111, \"#46039f\"], [0.2222222222222222, \"#7201a8\"], [0.3333333333333333, \"#9c179e\"], [0.4444444444444444, \"#bd3786\"], [0.5555555555555556, \"#d8576b\"], [0.6666666666666666, \"#ed7953\"], [0.7777777777777778, \"#fb9f3a\"], [0.8888888888888888, \"#fdca26\"], [1.0, \"#f0f921\"]]}, \"colorway\": [\"#636efa\", \"#EF553B\", \"#00cc96\", \"#ab63fa\", \"#FFA15A\", \"#19d3f3\", \"#FF6692\", \"#B6E880\", \"#FF97FF\", \"#FECB52\"], \"font\": {\"color\": \"#2a3f5f\"}, \"geo\": {\"bgcolor\": \"white\", \"lakecolor\": \"white\", \"landcolor\": \"#E5ECF6\", \"showlakes\": true, \"showland\": true, \"subunitcolor\": \"white\"}, \"hoverlabel\": {\"align\": \"left\"}, \"hovermode\": \"closest\", \"mapbox\": {\"style\": \"light\"}, \"paper_bgcolor\": \"white\", \"plot_bgcolor\": \"#E5ECF6\", \"polar\": {\"angularaxis\": {\"gridcolor\": \"white\", \"linecolor\": \"white\", \"ticks\": \"\"}, \"bgcolor\": \"#E5ECF6\", \"radialaxis\": {\"gridcolor\": \"white\", \"linecolor\": \"white\", \"ticks\": \"\"}}, \"scene\": {\"xaxis\": {\"backgroundcolor\": \"#E5ECF6\", \"gridcolor\": \"white\", \"gridwidth\": 2, \"linecolor\": \"white\", \"showbackground\": true, \"ticks\": \"\", \"zerolinecolor\": \"white\"}, \"yaxis\": {\"backgroundcolor\": \"#E5ECF6\", \"gridcolor\": \"white\", \"gridwidth\": 2, \"linecolor\": \"white\", \"showbackground\": true, \"ticks\": \"\", \"zerolinecolor\": \"white\"}, \"zaxis\": {\"backgroundcolor\": \"#E5ECF6\", \"gridcolor\": \"white\", \"gridwidth\": 2, \"linecolor\": \"white\", \"showbackground\": true, \"ticks\": \"\", \"zerolinecolor\": \"white\"}}, \"shapedefaults\": {\"line\": {\"color\": \"#2a3f5f\"}}, \"ternary\": {\"aaxis\": {\"gridcolor\": \"white\", \"linecolor\": \"white\", \"ticks\": \"\"}, \"baxis\": {\"gridcolor\": \"white\", \"linecolor\": \"white\", \"ticks\": \"\"}, \"bgcolor\": \"#E5ECF6\", \"caxis\": {\"gridcolor\": \"white\", \"linecolor\": \"white\", \"ticks\": \"\"}}, \"title\": {\"x\": 0.05}, \"xaxis\": {\"automargin\": true, \"gridcolor\": \"white\", \"linecolor\": \"white\", \"ticks\": \"\", \"title\": {\"standoff\": 15}, \"zerolinecolor\": \"white\", \"zerolinewidth\": 2}, \"yaxis\": {\"automargin\": true, \"gridcolor\": \"white\", \"linecolor\": \"white\", \"ticks\": \"\", \"title\": {\"standoff\": 15}, \"zerolinecolor\": \"white\", \"zerolinewidth\": 2}}}, \"title\": {\"text\": \"Correlation between numerical variables\"}, \"xaxis\": {\"anchor\": \"y\", \"constrain\": \"domain\", \"domain\": [0.0, 1.0], \"scaleanchor\": \"y\"}, \"yaxis\": {\"anchor\": \"x\", \"autorange\": \"reversed\", \"constrain\": \"domain\", \"domain\": [0.0, 1.0]}},                        {\"responsive\": true}                    ).then(function(){\n",
              "                            \n",
              "var gd = document.getElementById('a0329a8c-370e-48b2-938c-d81ddd2a62d6');\n",
              "var x = new MutationObserver(function (mutations, observer) {{\n",
              "        var display = window.getComputedStyle(gd).display;\n",
              "        if (!display || display === 'none') {{\n",
              "            console.log([gd, 'removed!']);\n",
              "            Plotly.purge(gd);\n",
              "            observer.disconnect();\n",
              "        }}\n",
              "}});\n",
              "\n",
              "// Listen for the removal of the full notebook cells\n",
              "var notebookContainer = gd.closest('#notebook-container');\n",
              "if (notebookContainer) {{\n",
              "    x.observe(notebookContainer, {childList: true});\n",
              "}}\n",
              "\n",
              "// Listen for the clearing of the current output cell\n",
              "var outputEl = gd.closest('.output');\n",
              "if (outputEl) {{\n",
              "    x.observe(outputEl, {childList: true});\n",
              "}}\n",
              "\n",
              "                        })                };                            </script>        </div>\n",
              "</body>\n",
              "</html>"
            ]
          },
          "metadata": {
            "tags": []
          }
        }
      ]
    },
    {
      "cell_type": "code",
      "metadata": {
        "id": "8eOtGlm6EdRN"
      },
      "source": [
        "counts = da_ml['bairro'].value_counts()"
      ],
      "execution_count": null,
      "outputs": []
    },
    {
      "cell_type": "code",
      "metadata": {
        "id": "H-BS2XqjPQMW"
      },
      "source": [
        "counts.values"
      ],
      "execution_count": null,
      "outputs": []
    },
    {
      "cell_type": "code",
      "metadata": {
        "id": "MKaUCNqlMYFp"
      },
      "source": [
        "#da_ml = da_ml[da_ml['bairro'].isin(counts[counts > 3].index)]"
      ],
      "execution_count": null,
      "outputs": []
    },
    {
      "cell_type": "code",
      "metadata": {
        "id": "SRPYv8FoC77U"
      },
      "source": [
        "da_ml['bairro'].value_counts().values"
      ],
      "execution_count": null,
      "outputs": []
    },
    {
      "cell_type": "code",
      "metadata": {
        "id": "C8RnzBX2CujP"
      },
      "source": [
        "da_ml.groupby('bairro').count()"
      ],
      "execution_count": null,
      "outputs": []
    },
    {
      "cell_type": "code",
      "metadata": {
        "id": "q9q6ymgjquM0"
      },
      "source": [
        "#da_ml.to_csv('data_rent_ap_curitiba_mercado_livre.csv')"
      ],
      "execution_count": null,
      "outputs": []
    },
    {
      "cell_type": "code",
      "metadata": {
        "id": "10IrEYmpxFJM"
      },
      "source": [
        "da_group.head()"
      ],
      "execution_count": null,
      "outputs": []
    },
    {
      "cell_type": "code",
      "metadata": {
        "id": "lvrP4AycWTPn"
      },
      "source": [
        "#da_price = da_group.drop('quartos', 1).drop('areas', 1).reset_index()"
      ],
      "execution_count": null,
      "outputs": []
    },
    {
      "cell_type": "code",
      "metadata": {
        "id": "GMlLlNl_Gn_2"
      },
      "source": [
        "#da_price['bairro'] = da_price['bairro'].str.capitalize().apply(unidecode.unidecode).replace('-', ' ', regex=True)"
      ],
      "execution_count": null,
      "outputs": []
    },
    {
      "cell_type": "markdown",
      "metadata": {
        "id": "GqWCkEtBUyCZ"
      },
      "source": [
        "geo files "
      ]
    },
    {
      "cell_type": "code",
      "metadata": {
        "id": "uXhexqI_1oQP"
      },
      "source": [
        "db = gpd.read_file('DIVISA_DE_BAIRROS.shp')"
      ],
      "execution_count": null,
      "outputs": []
    },
    {
      "cell_type": "code",
      "metadata": {
        "id": "2kTXMoK42xqX"
      },
      "source": [
        "db.head()"
      ],
      "execution_count": null,
      "outputs": []
    },
    {
      "cell_type": "code",
      "metadata": {
        "id": "Gv-MyMbswP7E"
      },
      "source": [
        "db['bairro'] = db['NOME'].str.capitalize().apply(unidecode.unidecode)"
      ],
      "execution_count": null,
      "outputs": []
    },
    {
      "cell_type": "code",
      "metadata": {
        "id": "w-1amS0QVPEZ"
      },
      "source": [
        "db['bairro'].head()"
      ],
      "execution_count": null,
      "outputs": []
    },
    {
      "cell_type": "code",
      "metadata": {
        "id": "_4bBBAKBsbN4"
      },
      "source": [
        "db['bairro'] = db['bairro'].replace('Cidade industrial de curitiba', 'Cidade industrial')"
      ],
      "execution_count": null,
      "outputs": []
    },
    {
      "cell_type": "code",
      "metadata": {
        "id": "YdlWmMeGzZrY"
      },
      "source": [
        "merged = db.set_index('bairro').join(da_price.set_index('bairro'))\n",
        "merged = merged.reset_index()\n",
        "#merged = merged.fillna(0)"
      ],
      "execution_count": null,
      "outputs": []
    },
    {
      "cell_type": "code",
      "metadata": {
        "id": "VpxsTB8tC9OK"
      },
      "source": [
        "merged['precos'] = merged['precos'].fillna(merged.groupby('NM_REGIONA')['precos'].transform('median'))"
      ],
      "execution_count": null,
      "outputs": []
    },
    {
      "cell_type": "code",
      "metadata": {
        "id": "rWrrfb_P5pwN"
      },
      "source": [
        "merged.head()"
      ],
      "execution_count": null,
      "outputs": []
    },
    {
      "cell_type": "code",
      "metadata": {
        "id": "-yB8piYVtnE1"
      },
      "source": [
        " merged.groupby(['bairro']).median().sort_values('precos', ascending=True)"
      ],
      "execution_count": null,
      "outputs": []
    },
    {
      "cell_type": "code",
      "metadata": {
        "id": "O0adwplf9jW-"
      },
      "source": [
        " merged.groupby(['NM_REGIONA']).median().sort_values('precos', ascending=False)"
      ],
      "execution_count": null,
      "outputs": []
    },
    {
      "cell_type": "code",
      "metadata": {
        "id": "oEU1_KgTQC01"
      },
      "source": [
        "merged.head()"
      ],
      "execution_count": null,
      "outputs": []
    },
    {
      "cell_type": "code",
      "metadata": {
        "id": "ZLWtMs98uvgC"
      },
      "source": [
        "merged = merged.to_crs(epsg=4326) # convert the coordinate reference system to lat/long\n",
        "lga_json = merged.__geo_interface__ #covert to geoJSON"
      ],
      "execution_count": null,
      "outputs": []
    },
    {
      "cell_type": "code",
      "metadata": {
        "id": "KAF_Ej9kvCpm"
      },
      "source": [
        "MAPBOX_ACCESSTOKEN = 'pk.eyJ1IjoiZm1hcmNlbG5ldmVzIiwiYSI6ImNranN3NDkzNTcxYmIzM255dzEzMzA0bm4ifQ.Exq1iIAFQfPb3_sSTMiDZw'\n",
        "\n",
        "zmin = 450\n",
        "zmax = 2300\n",
        "\n",
        "# Set the data for the map\n",
        "data = go.Choroplethmapbox(\n",
        "        geojson = lga_json,             #this is your GeoJSON\n",
        "        locations = merged.index,    #the index of this dataframe should align with the 'id' element in your geojson\n",
        "        z = merged.precos, #sets the color value\n",
        "        text = merged.bairro,    #sets text for each shape\n",
        "        colorbar=dict(thickness=20, ticklen=3,outlinewidth=0), #adjusts the format of the colorbar\n",
        "        marker_line_width=1, marker_opacity=0.7, colorscale=\"Viridis\", #adjust format of the plot\n",
        "        zmin=zmin, zmax=zmax,           #sets min and max of the colorbar\n",
        "        hovertemplate = \"<b>%{text}</b><br>\" +\n",
        "                    \"%{z}<br>\" +\n",
        "                    \"<extra></extra>\")  # sets the format of the text shown when you hover over each shape\n",
        "\n",
        "# Set the layout for the map\n",
        "layout = go.Layout(\n",
        "    title = {'text': f\"Apartment Rent prices, Curitiba-PR\",\n",
        "            'font': {'size':24}},       #format the plot title\n",
        "    mapbox1 = dict(\n",
        "        domain = {'x': [0, 1],'y': [0, 1]}, \n",
        "        center = dict(lat=-25.5139519 , lon=-49.3883419),\n",
        "        accesstoken = MAPBOX_ACCESSTOKEN, \n",
        "        zoom = 10),                      \n",
        "    autosize=True,\n",
        "    height=650,\n",
        "    margin=dict(l=0, r=0, t=40, b=0))\n",
        "\n",
        "# Generate the map\n",
        "fig=go.Figure(data=data, layout=layout)\n",
        "fig.show()"
      ],
      "execution_count": null,
      "outputs": []
    }
  ]
}