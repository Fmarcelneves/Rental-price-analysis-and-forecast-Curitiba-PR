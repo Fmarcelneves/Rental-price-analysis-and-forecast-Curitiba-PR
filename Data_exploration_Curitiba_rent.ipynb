{
  "nbformat": 4,
  "nbformat_minor": 0,
  "metadata": {
    "colab": {
      "name": "Data_exploration-Curitiba_rent.ipynb",
      "provenance": [],
      "collapsed_sections": [],
      "toc_visible": true,
      "authorship_tag": "ABX9TyMZnSWpm+Vj2pCvcTDVPMGm",
      "include_colab_link": true
    },
    "kernelspec": {
      "name": "python3",
      "display_name": "Python 3"
    }
  },
  "cells": [
    {
      "cell_type": "markdown",
      "metadata": {
        "id": "view-in-github",
        "colab_type": "text"
      },
      "source": [
        "<a href=\"https://colab.research.google.com/github/Fmarcelneves/Rental-price-analysis-and-forecast-Curitiba-PR/blob/main/Data_exploration_Curitiba_rent.ipynb\" target=\"_parent\"><img src=\"https://colab.research.google.com/assets/colab-badge.svg\" alt=\"Open In Colab\"/></a>"
      ]
    },
    {
      "cell_type": "markdown",
      "metadata": {
        "id": "28f1HMC9OaVQ"
      },
      "source": [
        "# Import packages "
      ]
    },
    {
      "cell_type": "code",
      "metadata": {
        "id": "RljeZbXOP9WB"
      },
      "source": [
        "%%capture\n",
        "!pip install geopandas\n",
        "!pip install outlier-removal-101703289\n",
        "import pandas as pd\n",
        "import numpy as np\n",
        "import seaborn as sns\n",
        "import matplotlib.pyplot as plt\n",
        "import geopandas as gpd\n",
        "from outlier_removal.outlier import remove_outlier"
      ],
      "execution_count": 1,
      "outputs": []
    },
    {
      "cell_type": "code",
      "metadata": {
        "id": "hDkmia8jOZfV"
      },
      "source": [
        "%%capture\r\n",
        "!pip install plotly --upgrade\r\n",
        "from plotly import __version__\r\n",
        "print (__version__)\r\n",
        "import plotly.express as px\r\n",
        "from plotly.subplots import make_subplots\r\n",
        "import plotly.graph_objs as go\r\n",
        "import plotly as py\r\n",
        "#import plotly.figure_factory as ff\r\n",
        "from plotly import tools\r\n",
        "#import cufflinks as cf\r\n",
        "from plotly.offline import iplot, init_notebook_mode\r\n",
        "# Display all cell outputs\r\n",
        "from IPython.core.interactiveshell import InteractiveShell"
      ],
      "execution_count": 2,
      "outputs": []
    },
    {
      "cell_type": "markdown",
      "metadata": {
        "id": "w8pqFk-_PCc8"
      },
      "source": [
        "# Import data "
      ]
    },
    {
      "cell_type": "code",
      "metadata": {
        "id": "yLZeZlhwP9vW"
      },
      "source": [
        "url = 'https://raw.githubusercontent.com/Fmarcelneves/Rental-price-analysis-and-forecast-Curitiba-PR/main/data_mercado_livre_ap_curitiba_rent.xls'\n",
        "da_ml = pd.read_csv(url)\n",
        "#da_ml = pd.read_csv('dados_mercado_livre_curitiba.csv')"
      ],
      "execution_count": 3,
      "outputs": []
    },
    {
      "cell_type": "markdown",
      "metadata": {
        "id": "3UZHzTKKO_i0"
      },
      "source": [
        "# Filtering data "
      ]
    },
    {
      "cell_type": "code",
      "metadata": {
        "id": "pgJBKrPjVQik",
        "colab": {
          "base_uri": "https://localhost:8080/"
        },
        "outputId": "e30307ac-ac3b-44d7-f76e-9ba9eaefb3bd"
      },
      "source": [
        "da_ml = remove_outlier(da_ml)"
      ],
      "execution_count": 4,
      "outputs": [
        {
          "output_type": "stream",
          "text": [
            "/usr/local/lib/python3.6/dist-packages/outlier_removal/outlier.py:24: RuntimeWarning:\n",
            "\n",
            "invalid value encountered in greater\n",
            "\n",
            "/usr/local/lib/python3.6/dist-packages/outlier_removal/outlier.py:24: RuntimeWarning:\n",
            "\n",
            "invalid value encountered in less\n",
            "\n"
          ],
          "name": "stderr"
        }
      ]
    },
    {
      "cell_type": "code",
      "metadata": {
        "id": "aHrnWGd3V2jZ"
      },
      "source": [
        "pd.options.display.float_format = \"{:.2f}\".format"
      ],
      "execution_count": 5,
      "outputs": []
    },
    {
      "cell_type": "code",
      "metadata": {
        "id": "ZWgQ82_v423Z"
      },
      "source": [
        "da_ml.replace(',','.', regex=True,inplace=True)\n",
        "da_ml['areas'] = da_ml['areas'].astype(float)"
      ],
      "execution_count": 6,
      "outputs": []
    },
    {
      "cell_type": "markdown",
      "metadata": {
        "id": "XGosCNp2nNzl"
      },
      "source": [
        "# Data exploration"
      ]
    },
    {
      "cell_type": "code",
      "metadata": {
        "id": "_Mx8XwqnQOzg",
        "colab": {
          "base_uri": "https://localhost:8080/",
          "height": 136
        },
        "outputId": "f2ae9df3-33a9-4d5d-836c-ca722ed280a1"
      },
      "source": [
        "da_ml.describe().T"
      ],
      "execution_count": 7,
      "outputs": [
        {
          "output_type": "execute_result",
          "data": {
            "text/html": [
              "<div>\n",
              "<style scoped>\n",
              "    .dataframe tbody tr th:only-of-type {\n",
              "        vertical-align: middle;\n",
              "    }\n",
              "\n",
              "    .dataframe tbody tr th {\n",
              "        vertical-align: top;\n",
              "    }\n",
              "\n",
              "    .dataframe thead th {\n",
              "        text-align: right;\n",
              "    }\n",
              "</style>\n",
              "<table border=\"1\" class=\"dataframe\">\n",
              "  <thead>\n",
              "    <tr style=\"text-align: right;\">\n",
              "      <th></th>\n",
              "      <th>count</th>\n",
              "      <th>mean</th>\n",
              "      <th>std</th>\n",
              "      <th>min</th>\n",
              "      <th>25%</th>\n",
              "      <th>50%</th>\n",
              "      <th>75%</th>\n",
              "      <th>max</th>\n",
              "    </tr>\n",
              "  </thead>\n",
              "  <tbody>\n",
              "    <tr>\n",
              "      <th>precos</th>\n",
              "      <td>649.00</td>\n",
              "      <td>1278.98</td>\n",
              "      <td>543.25</td>\n",
              "      <td>400.00</td>\n",
              "      <td>900.00</td>\n",
              "      <td>1150.00</td>\n",
              "      <td>1500.00</td>\n",
              "      <td>3100.00</td>\n",
              "    </tr>\n",
              "    <tr>\n",
              "      <th>quartos</th>\n",
              "      <td>641.00</td>\n",
              "      <td>2.03</td>\n",
              "      <td>0.80</td>\n",
              "      <td>1.00</td>\n",
              "      <td>1.00</td>\n",
              "      <td>2.00</td>\n",
              "      <td>3.00</td>\n",
              "      <td>4.00</td>\n",
              "    </tr>\n",
              "    <tr>\n",
              "      <th>areas</th>\n",
              "      <td>647.00</td>\n",
              "      <td>66.75</td>\n",
              "      <td>47.44</td>\n",
              "      <td>11.00</td>\n",
              "      <td>45.00</td>\n",
              "      <td>57.00</td>\n",
              "      <td>76.00</td>\n",
              "      <td>801.00</td>\n",
              "    </tr>\n",
              "  </tbody>\n",
              "</table>\n",
              "</div>"
            ],
            "text/plain": [
              "         count    mean    std    min    25%     50%     75%     max\n",
              "precos  649.00 1278.98 543.25 400.00 900.00 1150.00 1500.00 3100.00\n",
              "quartos 641.00    2.03   0.80   1.00   1.00    2.00    3.00    4.00\n",
              "areas   647.00   66.75  47.44  11.00  45.00   57.00   76.00  801.00"
            ]
          },
          "metadata": {
            "tags": []
          },
          "execution_count": 7
        }
      ]
    },
    {
      "cell_type": "code",
      "metadata": {
        "id": "7HZ1anQWXQrG"
      },
      "source": [
        "filtro_precos = da_ml['precos'] < 800"
      ],
      "execution_count": 8,
      "outputs": []
    },
    {
      "cell_type": "code",
      "metadata": {
        "id": "b5QtEDCRT54x",
        "colab": {
          "base_uri": "https://localhost:8080/"
        },
        "outputId": "1f1fc4f5-2c1a-4c47-8129-8d02e89d223c"
      },
      "source": [
        "da_ml.info()"
      ],
      "execution_count": 9,
      "outputs": [
        {
          "output_type": "stream",
          "text": [
            "<class 'pandas.core.frame.DataFrame'>\n",
            "Int64Index: 649 entries, 0 to 740\n",
            "Data columns (total 4 columns):\n",
            " #   Column   Non-Null Count  Dtype  \n",
            "---  ------   --------------  -----  \n",
            " 0   bairro   649 non-null    object \n",
            " 1   precos   649 non-null    float64\n",
            " 2   quartos  641 non-null    float64\n",
            " 3   areas    647 non-null    float64\n",
            "dtypes: float64(3), object(1)\n",
            "memory usage: 25.4+ KB\n"
          ],
          "name": "stdout"
        }
      ]
    },
    {
      "cell_type": "code",
      "metadata": {
        "id": "4YBP90blT9k5",
        "colab": {
          "base_uri": "https://localhost:8080/"
        },
        "outputId": "c250a394-ec0b-47bf-e768-b7d3ea783a35"
      },
      "source": [
        "da_ml.isnull().sum()"
      ],
      "execution_count": 10,
      "outputs": [
        {
          "output_type": "execute_result",
          "data": {
            "text/plain": [
              "bairro     0\n",
              "precos     0\n",
              "quartos    8\n",
              "areas      2\n",
              "dtype: int64"
            ]
          },
          "metadata": {
            "tags": []
          },
          "execution_count": 10
        }
      ]
    },
    {
      "cell_type": "code",
      "metadata": {
        "id": "35nggR6xT-1F",
        "colab": {
          "base_uri": "https://localhost:8080/"
        },
        "outputId": "ef6801a5-c23c-4d81-bcd7-426e90cc6f6f"
      },
      "source": [
        "da_ml['bairro'].value_counts()"
      ],
      "execution_count": 11,
      "outputs": [
        {
          "output_type": "execute_result",
          "data": {
            "text/plain": [
              "Centro                 46\n",
              "Cidade Industrial      46\n",
              "Bigorrilho             43\n",
              "Santa Cândida          36\n",
              "Santa Quitéria         36\n",
              "Cristo Rei             31\n",
              "Novo Mundo             28\n",
              "Mercês                 28\n",
              "Vila Izabel            25\n",
              "Pinheirinho            24\n",
              "Cabral                 23\n",
              "Batel                  21\n",
              "Juvevê                 21\n",
              "Uberaba                19\n",
              "Bacacheri              18\n",
              "Campo Comprido         17\n",
              "Seminário              16\n",
              "Xaxim                  16\n",
              "Bairro Alto            16\n",
              "Tingui                 14\n",
              "Prado Velho            13\n",
              "Fazendinha              9\n",
              "Abranches               9\n",
              "Guabirotuba             8\n",
              "Atuba                   8\n",
              "Jardim Social           7\n",
              "Pilarzinho              7\n",
              "Hauer                   7\n",
              "Cachoeira               6\n",
              "Alto da Rua XV          6\n",
              "Mossunguê               5\n",
              "Santo Inácio            4\n",
              "Hugo Lange              4\n",
              "Orleans                 4\n",
              "Bom Retiro              4\n",
              "Vista Alegre            4\n",
              "Santa Felicidade        3\n",
              "Tatuquara               3\n",
              "Fanny                   3\n",
              "Campina do Siqueira     3\n",
              "Parolin                 3\n",
              "Umbará                  2\n",
              "São Braz                1\n",
              "Sítio Cercado           1\n",
              "São Francisco           1\n",
              "Name: bairro, dtype: int64"
            ]
          },
          "metadata": {
            "tags": []
          },
          "execution_count": 11
        }
      ]
    },
    {
      "cell_type": "code",
      "metadata": {
        "id": "wJiVaIEC-VyL",
        "colab": {
          "base_uri": "https://localhost:8080/",
          "height": 1000
        },
        "outputId": "89ef55f0-20d8-4e77-9f9d-26de3ad23aa2"
      },
      "source": [
        "da_ml.groupby(['bairro']).median().sort_values('precos', ascending=False)"
      ],
      "execution_count": 12,
      "outputs": [
        {
          "output_type": "execute_result",
          "data": {
            "text/html": [
              "<div>\n",
              "<style scoped>\n",
              "    .dataframe tbody tr th:only-of-type {\n",
              "        vertical-align: middle;\n",
              "    }\n",
              "\n",
              "    .dataframe tbody tr th {\n",
              "        vertical-align: top;\n",
              "    }\n",
              "\n",
              "    .dataframe thead th {\n",
              "        text-align: right;\n",
              "    }\n",
              "</style>\n",
              "<table border=\"1\" class=\"dataframe\">\n",
              "  <thead>\n",
              "    <tr style=\"text-align: right;\">\n",
              "      <th></th>\n",
              "      <th>precos</th>\n",
              "      <th>quartos</th>\n",
              "      <th>areas</th>\n",
              "    </tr>\n",
              "    <tr>\n",
              "      <th>bairro</th>\n",
              "      <th></th>\n",
              "      <th></th>\n",
              "      <th></th>\n",
              "    </tr>\n",
              "  </thead>\n",
              "  <tbody>\n",
              "    <tr>\n",
              "      <th>Campina do Siqueira</th>\n",
              "      <td>2200.00</td>\n",
              "      <td>2.00</td>\n",
              "      <td>70.00</td>\n",
              "    </tr>\n",
              "    <tr>\n",
              "      <th>Mossunguê</th>\n",
              "      <td>2000.00</td>\n",
              "      <td>3.00</td>\n",
              "      <td>79.00</td>\n",
              "    </tr>\n",
              "    <tr>\n",
              "      <th>Batel</th>\n",
              "      <td>1990.00</td>\n",
              "      <td>3.00</td>\n",
              "      <td>101.00</td>\n",
              "    </tr>\n",
              "    <tr>\n",
              "      <th>Hugo Lange</th>\n",
              "      <td>1950.00</td>\n",
              "      <td>3.00</td>\n",
              "      <td>81.00</td>\n",
              "    </tr>\n",
              "    <tr>\n",
              "      <th>Bigorrilho</th>\n",
              "      <td>1850.00</td>\n",
              "      <td>2.00</td>\n",
              "      <td>98.00</td>\n",
              "    </tr>\n",
              "    <tr>\n",
              "      <th>Vila Izabel</th>\n",
              "      <td>1590.00</td>\n",
              "      <td>3.00</td>\n",
              "      <td>77.00</td>\n",
              "    </tr>\n",
              "    <tr>\n",
              "      <th>Juvevê</th>\n",
              "      <td>1550.00</td>\n",
              "      <td>2.00</td>\n",
              "      <td>55.00</td>\n",
              "    </tr>\n",
              "    <tr>\n",
              "      <th>Atuba</th>\n",
              "      <td>1412.50</td>\n",
              "      <td>2.00</td>\n",
              "      <td>51.50</td>\n",
              "    </tr>\n",
              "    <tr>\n",
              "      <th>Orleans</th>\n",
              "      <td>1400.00</td>\n",
              "      <td>2.00</td>\n",
              "      <td>50.00</td>\n",
              "    </tr>\n",
              "    <tr>\n",
              "      <th>Cabral</th>\n",
              "      <td>1400.00</td>\n",
              "      <td>2.00</td>\n",
              "      <td>78.00</td>\n",
              "    </tr>\n",
              "    <tr>\n",
              "      <th>Bom Retiro</th>\n",
              "      <td>1375.00</td>\n",
              "      <td>2.00</td>\n",
              "      <td>65.50</td>\n",
              "    </tr>\n",
              "    <tr>\n",
              "      <th>Mercês</th>\n",
              "      <td>1350.00</td>\n",
              "      <td>2.00</td>\n",
              "      <td>55.00</td>\n",
              "    </tr>\n",
              "    <tr>\n",
              "      <th>Seminário</th>\n",
              "      <td>1325.00</td>\n",
              "      <td>1.00</td>\n",
              "      <td>57.00</td>\n",
              "    </tr>\n",
              "    <tr>\n",
              "      <th>Bacacheri</th>\n",
              "      <td>1325.00</td>\n",
              "      <td>2.50</td>\n",
              "      <td>80.00</td>\n",
              "    </tr>\n",
              "    <tr>\n",
              "      <th>Cristo Rei</th>\n",
              "      <td>1300.00</td>\n",
              "      <td>1.00</td>\n",
              "      <td>54.00</td>\n",
              "    </tr>\n",
              "    <tr>\n",
              "      <th>Santo Inácio</th>\n",
              "      <td>1295.00</td>\n",
              "      <td>1.50</td>\n",
              "      <td>40.50</td>\n",
              "    </tr>\n",
              "    <tr>\n",
              "      <th>Centro</th>\n",
              "      <td>1250.00</td>\n",
              "      <td>1.00</td>\n",
              "      <td>42.00</td>\n",
              "    </tr>\n",
              "    <tr>\n",
              "      <th>Jardim Social</th>\n",
              "      <td>1200.00</td>\n",
              "      <td>3.00</td>\n",
              "      <td>74.00</td>\n",
              "    </tr>\n",
              "    <tr>\n",
              "      <th>Vista Alegre</th>\n",
              "      <td>1200.00</td>\n",
              "      <td>1.00</td>\n",
              "      <td>32.00</td>\n",
              "    </tr>\n",
              "    <tr>\n",
              "      <th>Alto da Rua XV</th>\n",
              "      <td>1167.50</td>\n",
              "      <td>2.00</td>\n",
              "      <td>61.50</td>\n",
              "    </tr>\n",
              "    <tr>\n",
              "      <th>Tingui</th>\n",
              "      <td>1150.00</td>\n",
              "      <td>2.00</td>\n",
              "      <td>58.00</td>\n",
              "    </tr>\n",
              "    <tr>\n",
              "      <th>Parolin</th>\n",
              "      <td>1090.00</td>\n",
              "      <td>3.00</td>\n",
              "      <td>95.00</td>\n",
              "    </tr>\n",
              "    <tr>\n",
              "      <th>Pilarzinho</th>\n",
              "      <td>1078.00</td>\n",
              "      <td>1.00</td>\n",
              "      <td>60.00</td>\n",
              "    </tr>\n",
              "    <tr>\n",
              "      <th>Cidade Industrial</th>\n",
              "      <td>1020.00</td>\n",
              "      <td>2.00</td>\n",
              "      <td>47.00</td>\n",
              "    </tr>\n",
              "    <tr>\n",
              "      <th>Prado Velho</th>\n",
              "      <td>1005.00</td>\n",
              "      <td>1.00</td>\n",
              "      <td>28.00</td>\n",
              "    </tr>\n",
              "    <tr>\n",
              "      <th>Campo Comprido</th>\n",
              "      <td>1000.00</td>\n",
              "      <td>2.00</td>\n",
              "      <td>54.00</td>\n",
              "    </tr>\n",
              "    <tr>\n",
              "      <th>Uberaba</th>\n",
              "      <td>990.00</td>\n",
              "      <td>2.00</td>\n",
              "      <td>59.00</td>\n",
              "    </tr>\n",
              "    <tr>\n",
              "      <th>Santa Felicidade</th>\n",
              "      <td>990.00</td>\n",
              "      <td>2.00</td>\n",
              "      <td>48.00</td>\n",
              "    </tr>\n",
              "    <tr>\n",
              "      <th>Xaxim</th>\n",
              "      <td>970.00</td>\n",
              "      <td>2.00</td>\n",
              "      <td>58.50</td>\n",
              "    </tr>\n",
              "    <tr>\n",
              "      <th>Santa Cândida</th>\n",
              "      <td>945.00</td>\n",
              "      <td>2.00</td>\n",
              "      <td>51.50</td>\n",
              "    </tr>\n",
              "    <tr>\n",
              "      <th>Santa Quitéria</th>\n",
              "      <td>945.00</td>\n",
              "      <td>2.00</td>\n",
              "      <td>51.50</td>\n",
              "    </tr>\n",
              "    <tr>\n",
              "      <th>Fanny</th>\n",
              "      <td>939.00</td>\n",
              "      <td>2.00</td>\n",
              "      <td>54.00</td>\n",
              "    </tr>\n",
              "    <tr>\n",
              "      <th>Guabirotuba</th>\n",
              "      <td>925.00</td>\n",
              "      <td>1.00</td>\n",
              "      <td>39.50</td>\n",
              "    </tr>\n",
              "    <tr>\n",
              "      <th>Novo Mundo</th>\n",
              "      <td>900.00</td>\n",
              "      <td>2.00</td>\n",
              "      <td>48.00</td>\n",
              "    </tr>\n",
              "    <tr>\n",
              "      <th>Umbará</th>\n",
              "      <td>900.00</td>\n",
              "      <td>2.00</td>\n",
              "      <td>87.50</td>\n",
              "    </tr>\n",
              "    <tr>\n",
              "      <th>Bairro Alto</th>\n",
              "      <td>899.50</td>\n",
              "      <td>2.00</td>\n",
              "      <td>64.50</td>\n",
              "    </tr>\n",
              "    <tr>\n",
              "      <th>Pinheirinho</th>\n",
              "      <td>898.50</td>\n",
              "      <td>2.00</td>\n",
              "      <td>53.00</td>\n",
              "    </tr>\n",
              "    <tr>\n",
              "      <th>Abranches</th>\n",
              "      <td>855.00</td>\n",
              "      <td>1.00</td>\n",
              "      <td>40.00</td>\n",
              "    </tr>\n",
              "    <tr>\n",
              "      <th>Hauer</th>\n",
              "      <td>850.00</td>\n",
              "      <td>2.00</td>\n",
              "      <td>63.00</td>\n",
              "    </tr>\n",
              "    <tr>\n",
              "      <th>São Braz</th>\n",
              "      <td>800.00</td>\n",
              "      <td>3.00</td>\n",
              "      <td>80.00</td>\n",
              "    </tr>\n",
              "    <tr>\n",
              "      <th>São Francisco</th>\n",
              "      <td>800.00</td>\n",
              "      <td>3.00</td>\n",
              "      <td>80.00</td>\n",
              "    </tr>\n",
              "    <tr>\n",
              "      <th>Sítio Cercado</th>\n",
              "      <td>800.00</td>\n",
              "      <td>3.00</td>\n",
              "      <td>80.00</td>\n",
              "    </tr>\n",
              "    <tr>\n",
              "      <th>Fazendinha</th>\n",
              "      <td>790.00</td>\n",
              "      <td>2.00</td>\n",
              "      <td>52.00</td>\n",
              "    </tr>\n",
              "    <tr>\n",
              "      <th>Tatuquara</th>\n",
              "      <td>700.00</td>\n",
              "      <td>2.00</td>\n",
              "      <td>47.00</td>\n",
              "    </tr>\n",
              "    <tr>\n",
              "      <th>Cachoeira</th>\n",
              "      <td>660.00</td>\n",
              "      <td>2.00</td>\n",
              "      <td>45.00</td>\n",
              "    </tr>\n",
              "  </tbody>\n",
              "</table>\n",
              "</div>"
            ],
            "text/plain": [
              "                     precos  quartos  areas\n",
              "bairro                                     \n",
              "Campina do Siqueira 2200.00     2.00  70.00\n",
              "Mossunguê           2000.00     3.00  79.00\n",
              "Batel               1990.00     3.00 101.00\n",
              "Hugo Lange          1950.00     3.00  81.00\n",
              "Bigorrilho          1850.00     2.00  98.00\n",
              "Vila Izabel         1590.00     3.00  77.00\n",
              "Juvevê              1550.00     2.00  55.00\n",
              "Atuba               1412.50     2.00  51.50\n",
              "Orleans             1400.00     2.00  50.00\n",
              "Cabral              1400.00     2.00  78.00\n",
              "Bom Retiro          1375.00     2.00  65.50\n",
              "Mercês              1350.00     2.00  55.00\n",
              "Seminário           1325.00     1.00  57.00\n",
              "Bacacheri           1325.00     2.50  80.00\n",
              "Cristo Rei          1300.00     1.00  54.00\n",
              "Santo Inácio        1295.00     1.50  40.50\n",
              "Centro              1250.00     1.00  42.00\n",
              "Jardim Social       1200.00     3.00  74.00\n",
              "Vista Alegre        1200.00     1.00  32.00\n",
              "Alto da Rua XV      1167.50     2.00  61.50\n",
              "Tingui              1150.00     2.00  58.00\n",
              "Parolin             1090.00     3.00  95.00\n",
              "Pilarzinho          1078.00     1.00  60.00\n",
              "Cidade Industrial   1020.00     2.00  47.00\n",
              "Prado Velho         1005.00     1.00  28.00\n",
              "Campo Comprido      1000.00     2.00  54.00\n",
              "Uberaba              990.00     2.00  59.00\n",
              "Santa Felicidade     990.00     2.00  48.00\n",
              "Xaxim                970.00     2.00  58.50\n",
              "Santa Cândida        945.00     2.00  51.50\n",
              "Santa Quitéria       945.00     2.00  51.50\n",
              "Fanny                939.00     2.00  54.00\n",
              "Guabirotuba          925.00     1.00  39.50\n",
              "Novo Mundo           900.00     2.00  48.00\n",
              "Umbará               900.00     2.00  87.50\n",
              "Bairro Alto          899.50     2.00  64.50\n",
              "Pinheirinho          898.50     2.00  53.00\n",
              "Abranches            855.00     1.00  40.00\n",
              "Hauer                850.00     2.00  63.00\n",
              "São Braz             800.00     3.00  80.00\n",
              "São Francisco        800.00     3.00  80.00\n",
              "Sítio Cercado        800.00     3.00  80.00\n",
              "Fazendinha           790.00     2.00  52.00\n",
              "Tatuquara            700.00     2.00  47.00\n",
              "Cachoeira            660.00     2.00  45.00"
            ]
          },
          "metadata": {
            "tags": []
          },
          "execution_count": 12
        }
      ]
    },
    {
      "cell_type": "code",
      "metadata": {
        "id": "pTcRYGJ8xSCl"
      },
      "source": [
        "da_group = da_ml.groupby(['bairro']).median().sort_values('precos', ascending=False)"
      ],
      "execution_count": 13,
      "outputs": []
    },
    {
      "cell_type": "code",
      "metadata": {
        "colab": {
          "base_uri": "https://localhost:8080/",
          "height": 608
        },
        "id": "4CzIvEeeZHrF",
        "outputId": "b1d43822-19b8-4b66-962c-0136a306eb49"
      },
      "source": [
        "da_ml.hist(bins=30, figsize=(15, 10), color = 'r');"
      ],
      "execution_count": 42,
      "outputs": [
        {
          "output_type": "display_data",
          "data": {
            "image/png": "[encoded data removed]",
            "text/plain": [
              "<Figure size 1080x720 with 4 Axes>"
            ]
          },
          "metadata": {
            "tags": [],
            "needs_background": "light"
          }
        }
      ]
    },
    {
      "cell_type": "code",
      "metadata": {
        "id": "UNuD1s6y5cCP",
        "colab": {
          "base_uri": "https://localhost:8080/",
          "height": 567
        },
        "outputId": "7f1a413f-c495-4c78-d39c-d5cfd63e3c50"
      },
      "source": [
        " sns.pairplot(da_ml)"
      ],
      "execution_count": 45,
      "outputs": [
        {
          "output_type": "execute_result",
          "data": {
            "text/plain": [
              "<seaborn.axisgrid.PairGrid at 0x7fc5c8984be0>"
            ]
          },
          "metadata": {
            "tags": []
          },
          "execution_count": 45
        },
        {
          "output_type": "display_data",
          "data": {
            "image/png": "[encoded data removed]",
            "text/plain": [
              "<Figure size 540x540 with 12 Axes>"
            ]
          },
          "metadata": {
            "tags": [],
            "needs_background": "light"
          }
        }
      ]
    },
    {
      "cell_type": "code",
      "metadata": {
        "id": "OYlyH7iJoWVm"
      },
      "source": [
        "sns.pairplot"
      ],
      "execution_count": null,
      "outputs": []
    },
    {
      "cell_type": "code",
      "metadata": {
        "id": "h3dYCdjUUcy1",
        "colab": {
          "base_uri": "https://localhost:8080/",
          "height": 279
        },
        "outputId": "2487c673-3ed2-489f-e9e1-ac5141167744"
      },
      "source": [
        "sns.boxplot(x=\"quartos\", y=\"areas\", data=da_ml, showfliers = False);"
      ],
      "execution_count": 16,
      "outputs": [
        {
          "output_type": "display_data",
          "data": {
            "image/png": "[encoded data removed]",
            "text/plain": [
              "<Figure size 432x288 with 1 Axes>"
            ]
          },
          "metadata": {
            "tags": [],
            "needs_background": "light"
          }
        }
      ]
    },
    {
      "cell_type": "code",
      "metadata": {
        "id": "8G5UTx9hVN0r",
        "colab": {
          "base_uri": "https://localhost:8080/",
          "height": 300
        },
        "outputId": "3dcb1fdf-ef79-46eb-ba23-fbcfb00d42ee"
      },
      "source": [
        "corrMatrix = sns.heatmap(da_ml.corr(), annot=True);\n",
        "corrMatrix.set_title('Correlation', fontsize=15)"
      ],
      "execution_count": 17,
      "outputs": [
        {
          "output_type": "execute_result",
          "data": {
            "text/plain": [
              "Text(0.5, 1.0, 'Correlation')"
            ]
          },
          "metadata": {
            "tags": []
          },
          "execution_count": 17
        },
        {
          "output_type": "display_data",
          "data": {
            "image/png": "[encoded data removed]",
            "text/plain": [
              "<Figure size 432x288 with 2 Axes>"
            ]
          },
          "metadata": {
            "tags": [],
            "needs_background": "light"
          }
        }
      ]
    },
    {
      "cell_type": "code",
      "metadata": {
        "id": "K7pczwnfVm9p",
        "colab": {
          "base_uri": "https://localhost:8080/",
          "height": 441
        },
        "outputId": "671ef98a-f79a-4118-b980-d7e778e54b1f"
      },
      "source": [
        "sns.jointplot(x=\"areas\", y=\"precos\", data=da_ml, kind=\"hex\", color=\"r\");"
      ],
      "execution_count": 18,
      "outputs": [
        {
          "output_type": "display_data",
          "data": {
            "image/png": "[encoded data removed]",
            "text/plain": [
              "<Figure size 432x432 with 3 Axes>"
            ]
          },
          "metadata": {
            "tags": [],
            "needs_background": "light"
          }
        }
      ]
    },
    {
      "cell_type": "code",
      "metadata": {
        "id": "9cJn3o9IVq_W",
        "colab": {
          "base_uri": "https://localhost:8080/",
          "height": 366
        },
        "outputId": "a56015bd-3395-4653-b64c-3d8e8d2b8105"
      },
      "source": [
        "sns.boxplot(da_ml['areas']);"
      ],
      "execution_count": 19,
      "outputs": [
        {
          "output_type": "stream",
          "text": [
            "/usr/local/lib/python3.6/dist-packages/seaborn/_decorators.py:43: FutureWarning:\n",
            "\n",
            "Pass the following variable as a keyword arg: x. From version 0.12, the only valid positional argument will be `data`, and passing other arguments without an explicit keyword will result in an error or misinterpretation.\n",
            "\n"
          ],
          "name": "stderr"
        },
        {
          "output_type": "display_data",
          "data": {
            "image/png": "[encoded data removed]",
            "text/plain": [
              "<Figure size 432x288 with 1 Axes>"
            ]
          },
          "metadata": {
            "tags": [],
            "needs_background": "light"
          }
        }
      ]
    },
    {
      "cell_type": "code",
      "metadata": {
        "id": "y3JzHdA2WJhG",
        "colab": {
          "base_uri": "https://localhost:8080/",
          "height": 366
        },
        "outputId": "7b491c11-c37d-4153-aa5c-c97d351bee66"
      },
      "source": [
        "sns.boxplot(da_ml['precos']);"
      ],
      "execution_count": 20,
      "outputs": [
        {
          "output_type": "stream",
          "text": [
            "/usr/local/lib/python3.6/dist-packages/seaborn/_decorators.py:43: FutureWarning:\n",
            "\n",
            "Pass the following variable as a keyword arg: x. From version 0.12, the only valid positional argument will be `data`, and passing other arguments without an explicit keyword will result in an error or misinterpretation.\n",
            "\n"
          ],
          "name": "stderr"
        },
        {
          "output_type": "display_data",
          "data": {
            "image/png": "[encoded data removed]",
            "text/plain": [
              "<Figure size 432x288 with 1 Axes>"
            ]
          },
          "metadata": {
            "tags": [],
            "needs_background": "light"
          }
        }
      ]
    },
    {
      "cell_type": "code",
      "metadata": {
        "id": "ANmdxpJ8WLyv",
        "colab": {
          "base_uri": "https://localhost:8080/",
          "height": 366
        },
        "outputId": "753c19a0-f351-4251-c00c-f277232fbcfd"
      },
      "source": [
        "sns.boxplot(da_ml['quartos']);"
      ],
      "execution_count": 21,
      "outputs": [
        {
          "output_type": "stream",
          "text": [
            "/usr/local/lib/python3.6/dist-packages/seaborn/_decorators.py:43: FutureWarning:\n",
            "\n",
            "Pass the following variable as a keyword arg: x. From version 0.12, the only valid positional argument will be `data`, and passing other arguments without an explicit keyword will result in an error or misinterpretation.\n",
            "\n"
          ],
          "name": "stderr"
        },
        {
          "output_type": "display_data",
          "data": {
            "image/png": "[encoded data removed]",
            "text/plain": [
              "<Figure size 432x288 with 1 Axes>"
            ]
          },
          "metadata": {
            "tags": [],
            "needs_background": "light"
          }
        }
      ]
    },
    {
      "cell_type": "code",
      "metadata": {
        "colab": {
          "base_uri": "https://localhost:8080/",
          "height": 402
        },
        "id": "gbEPxiYJqvGo",
        "outputId": "852f392f-cb70-418d-f570-decf3e50f7c1"
      },
      "source": [
        "da_ml"
      ],
      "execution_count": 47,
      "outputs": [
        {
          "output_type": "execute_result",
          "data": {
            "text/html": [
              "<div>\n",
              "<style scoped>\n",
              "    .dataframe tbody tr th:only-of-type {\n",
              "        vertical-align: middle;\n",
              "    }\n",
              "\n",
              "    .dataframe tbody tr th {\n",
              "        vertical-align: top;\n",
              "    }\n",
              "\n",
              "    .dataframe thead th {\n",
              "        text-align: right;\n",
              "    }\n",
              "</style>\n",
              "<table border=\"1\" class=\"dataframe\">\n",
              "  <thead>\n",
              "    <tr style=\"text-align: right;\">\n",
              "      <th></th>\n",
              "      <th>bairro</th>\n",
              "      <th>precos</th>\n",
              "      <th>quartos</th>\n",
              "      <th>areas</th>\n",
              "    </tr>\n",
              "  </thead>\n",
              "  <tbody>\n",
              "    <tr>\n",
              "      <th>0</th>\n",
              "      <td>Abranches</td>\n",
              "      <td>960.00</td>\n",
              "      <td>1.00</td>\n",
              "      <td>50.00</td>\n",
              "    </tr>\n",
              "    <tr>\n",
              "      <th>1</th>\n",
              "      <td>Abranches</td>\n",
              "      <td>862.00</td>\n",
              "      <td>1.00</td>\n",
              "      <td>40.00</td>\n",
              "    </tr>\n",
              "    <tr>\n",
              "      <th>2</th>\n",
              "      <td>Abranches</td>\n",
              "      <td>855.00</td>\n",
              "      <td>1.00</td>\n",
              "      <td>28.00</td>\n",
              "    </tr>\n",
              "    <tr>\n",
              "      <th>3</th>\n",
              "      <td>Abranches</td>\n",
              "      <td>855.00</td>\n",
              "      <td>1.00</td>\n",
              "      <td>28.00</td>\n",
              "    </tr>\n",
              "    <tr>\n",
              "      <th>4</th>\n",
              "      <td>Abranches</td>\n",
              "      <td>855.00</td>\n",
              "      <td>1.00</td>\n",
              "      <td>28.00</td>\n",
              "    </tr>\n",
              "    <tr>\n",
              "      <th>...</th>\n",
              "      <td>...</td>\n",
              "      <td>...</td>\n",
              "      <td>...</td>\n",
              "      <td>...</td>\n",
              "    </tr>\n",
              "    <tr>\n",
              "      <th>736</th>\n",
              "      <td>Xaxim</td>\n",
              "      <td>750.00</td>\n",
              "      <td>1.00</td>\n",
              "      <td>30.00</td>\n",
              "    </tr>\n",
              "    <tr>\n",
              "      <th>737</th>\n",
              "      <td>Xaxim</td>\n",
              "      <td>1100.00</td>\n",
              "      <td>3.00</td>\n",
              "      <td>100.00</td>\n",
              "    </tr>\n",
              "    <tr>\n",
              "      <th>738</th>\n",
              "      <td>Xaxim</td>\n",
              "      <td>1000.00</td>\n",
              "      <td>2.00</td>\n",
              "      <td>67.00</td>\n",
              "    </tr>\n",
              "    <tr>\n",
              "      <th>739</th>\n",
              "      <td>Xaxim</td>\n",
              "      <td>1100.00</td>\n",
              "      <td>2.00</td>\n",
              "      <td>54.00</td>\n",
              "    </tr>\n",
              "    <tr>\n",
              "      <th>740</th>\n",
              "      <td>Xaxim</td>\n",
              "      <td>1300.00</td>\n",
              "      <td>3.00</td>\n",
              "      <td>62.00</td>\n",
              "    </tr>\n",
              "  </tbody>\n",
              "</table>\n",
              "<p>649 rows × 4 columns</p>\n",
              "</div>"
            ],
            "text/plain": [
              "        bairro  precos  quartos  areas\n",
              "0    Abranches  960.00     1.00  50.00\n",
              "1    Abranches  862.00     1.00  40.00\n",
              "2    Abranches  855.00     1.00  28.00\n",
              "3    Abranches  855.00     1.00  28.00\n",
              "4    Abranches  855.00     1.00  28.00\n",
              "..         ...     ...      ...    ...\n",
              "736      Xaxim  750.00     1.00  30.00\n",
              "737      Xaxim 1100.00     3.00 100.00\n",
              "738      Xaxim 1000.00     2.00  67.00\n",
              "739      Xaxim 1100.00     2.00  54.00\n",
              "740      Xaxim 1300.00     3.00  62.00\n",
              "\n",
              "[649 rows x 4 columns]"
            ]
          },
          "metadata": {
            "tags": []
          },
          "execution_count": 47
        }
      ]
    },
    {
      "cell_type": "code",
      "metadata": {
        "id": "q9q6ymgjquM0"
      },
      "source": [
        "da_ml.to_csv('data_rent_ap_curitiba_mercado_livre.csv')"
      ],
      "execution_count": 48,
      "outputs": []
    },
    {
      "cell_type": "code",
      "metadata": {
        "id": "10IrEYmpxFJM",
        "colab": {
          "base_uri": "https://localhost:8080/",
          "height": 225
        },
        "outputId": "16705d34-9f19-4b8c-b8a1-c76a1b1ca164"
      },
      "source": [
        "da_group.head()"
      ],
      "execution_count": 22,
      "outputs": [
        {
          "output_type": "execute_result",
          "data": {
            "text/html": [
              "<div>\n",
              "<style scoped>\n",
              "    .dataframe tbody tr th:only-of-type {\n",
              "        vertical-align: middle;\n",
              "    }\n",
              "\n",
              "    .dataframe tbody tr th {\n",
              "        vertical-align: top;\n",
              "    }\n",
              "\n",
              "    .dataframe thead th {\n",
              "        text-align: right;\n",
              "    }\n",
              "</style>\n",
              "<table border=\"1\" class=\"dataframe\">\n",
              "  <thead>\n",
              "    <tr style=\"text-align: right;\">\n",
              "      <th></th>\n",
              "      <th>precos</th>\n",
              "      <th>quartos</th>\n",
              "      <th>areas</th>\n",
              "    </tr>\n",
              "    <tr>\n",
              "      <th>bairro</th>\n",
              "      <th></th>\n",
              "      <th></th>\n",
              "      <th></th>\n",
              "    </tr>\n",
              "  </thead>\n",
              "  <tbody>\n",
              "    <tr>\n",
              "      <th>Campina do Siqueira</th>\n",
              "      <td>2200.00</td>\n",
              "      <td>2.00</td>\n",
              "      <td>70.00</td>\n",
              "    </tr>\n",
              "    <tr>\n",
              "      <th>Mossunguê</th>\n",
              "      <td>2000.00</td>\n",
              "      <td>3.00</td>\n",
              "      <td>79.00</td>\n",
              "    </tr>\n",
              "    <tr>\n",
              "      <th>Batel</th>\n",
              "      <td>1990.00</td>\n",
              "      <td>3.00</td>\n",
              "      <td>101.00</td>\n",
              "    </tr>\n",
              "    <tr>\n",
              "      <th>Hugo Lange</th>\n",
              "      <td>1950.00</td>\n",
              "      <td>3.00</td>\n",
              "      <td>81.00</td>\n",
              "    </tr>\n",
              "    <tr>\n",
              "      <th>Bigorrilho</th>\n",
              "      <td>1850.00</td>\n",
              "      <td>2.00</td>\n",
              "      <td>98.00</td>\n",
              "    </tr>\n",
              "  </tbody>\n",
              "</table>\n",
              "</div>"
            ],
            "text/plain": [
              "                     precos  quartos  areas\n",
              "bairro                                     \n",
              "Campina do Siqueira 2200.00     2.00  70.00\n",
              "Mossunguê           2000.00     3.00  79.00\n",
              "Batel               1990.00     3.00 101.00\n",
              "Hugo Lange          1950.00     3.00  81.00\n",
              "Bigorrilho          1850.00     2.00  98.00"
            ]
          },
          "metadata": {
            "tags": []
          },
          "execution_count": 22
        }
      ]
    },
    {
      "cell_type": "code",
      "metadata": {
        "id": "lvrP4AycWTPn"
      },
      "source": [
        "da_price = da_group.drop('quartos', 1).drop('areas', 1).reset_index()"
      ],
      "execution_count": 23,
      "outputs": []
    },
    {
      "cell_type": "code",
      "metadata": {
        "id": "GMlLlNl_Gn_2"
      },
      "source": [
        "da_price['bairro'] = da_price['bairro'].str.capitalize()"
      ],
      "execution_count": 24,
      "outputs": []
    },
    {
      "cell_type": "code",
      "metadata": {
        "colab": {
          "base_uri": "https://localhost:8080/",
          "height": 195
        },
        "id": "8PrAWa0iHcQM",
        "outputId": "35b90568-7db9-475c-ccc5-a9c2c419686d"
      },
      "source": [
        "da_price.head()"
      ],
      "execution_count": 25,
      "outputs": [
        {
          "output_type": "execute_result",
          "data": {
            "text/html": [
              "<div>\n",
              "<style scoped>\n",
              "    .dataframe tbody tr th:only-of-type {\n",
              "        vertical-align: middle;\n",
              "    }\n",
              "\n",
              "    .dataframe tbody tr th {\n",
              "        vertical-align: top;\n",
              "    }\n",
              "\n",
              "    .dataframe thead th {\n",
              "        text-align: right;\n",
              "    }\n",
              "</style>\n",
              "<table border=\"1\" class=\"dataframe\">\n",
              "  <thead>\n",
              "    <tr style=\"text-align: right;\">\n",
              "      <th></th>\n",
              "      <th>bairro</th>\n",
              "      <th>precos</th>\n",
              "    </tr>\n",
              "  </thead>\n",
              "  <tbody>\n",
              "    <tr>\n",
              "      <th>0</th>\n",
              "      <td>Campina do siqueira</td>\n",
              "      <td>2200.00</td>\n",
              "    </tr>\n",
              "    <tr>\n",
              "      <th>1</th>\n",
              "      <td>Mossunguê</td>\n",
              "      <td>2000.00</td>\n",
              "    </tr>\n",
              "    <tr>\n",
              "      <th>2</th>\n",
              "      <td>Batel</td>\n",
              "      <td>1990.00</td>\n",
              "    </tr>\n",
              "    <tr>\n",
              "      <th>3</th>\n",
              "      <td>Hugo lange</td>\n",
              "      <td>1950.00</td>\n",
              "    </tr>\n",
              "    <tr>\n",
              "      <th>4</th>\n",
              "      <td>Bigorrilho</td>\n",
              "      <td>1850.00</td>\n",
              "    </tr>\n",
              "  </tbody>\n",
              "</table>\n",
              "</div>"
            ],
            "text/plain": [
              "                bairro  precos\n",
              "0  Campina do siqueira 2200.00\n",
              "1            Mossunguê 2000.00\n",
              "2                Batel 1990.00\n",
              "3           Hugo lange 1950.00\n",
              "4           Bigorrilho 1850.00"
            ]
          },
          "metadata": {
            "tags": []
          },
          "execution_count": 25
        }
      ]
    },
    {
      "cell_type": "code",
      "metadata": {
        "id": "uXhexqI_1oQP"
      },
      "source": [
        "db = gpd.read_file('DIVISA_DE_BAIRROS.shp')"
      ],
      "execution_count": 27,
      "outputs": []
    },
    {
      "cell_type": "code",
      "metadata": {
        "id": "2kTXMoK42xqX",
        "colab": {
          "base_uri": "https://localhost:8080/",
          "height": 279
        },
        "outputId": "8362dd62-5af7-4a40-db28-bfe1e47cf177"
      },
      "source": [
        "db.head()"
      ],
      "execution_count": 28,
      "outputs": [
        {
          "output_type": "execute_result",
          "data": {
            "text/html": [
              "<div>\n",
              "<style scoped>\n",
              "    .dataframe tbody tr th:only-of-type {\n",
              "        vertical-align: middle;\n",
              "    }\n",
              "\n",
              "    .dataframe tbody tr th {\n",
              "        vertical-align: top;\n",
              "    }\n",
              "\n",
              "    .dataframe thead th {\n",
              "        text-align: right;\n",
              "    }\n",
              "</style>\n",
              "<table border=\"1\" class=\"dataframe\">\n",
              "  <thead>\n",
              "    <tr style=\"text-align: right;\">\n",
              "      <th></th>\n",
              "      <th>OBJECTID</th>\n",
              "      <th>CODIGO</th>\n",
              "      <th>TIPO</th>\n",
              "      <th>NOME</th>\n",
              "      <th>FONTE</th>\n",
              "      <th>CD_REGIONA</th>\n",
              "      <th>NM_REGIONA</th>\n",
              "      <th>SHAPE_AREA</th>\n",
              "      <th>SHAPE_LEN</th>\n",
              "      <th>geometry</th>\n",
              "    </tr>\n",
              "  </thead>\n",
              "  <tbody>\n",
              "    <tr>\n",
              "      <th>0</th>\n",
              "      <td>20</td>\n",
              "      <td>9.00</td>\n",
              "      <td>DIVISA DE BAIRROS</td>\n",
              "      <td>ÁGUA VERDE</td>\n",
              "      <td>Decreto Municipal 774 / 1975</td>\n",
              "      <td>7.00</td>\n",
              "      <td>REGIONAL PORTÃO</td>\n",
              "      <td>4773046.30</td>\n",
              "      <td>9760.92</td>\n",
              "      <td>POLYGON ((673879.287 7183803.691, 673907.541 7...</td>\n",
              "    </tr>\n",
              "    <tr>\n",
              "      <th>1</th>\n",
              "      <td>22</td>\n",
              "      <td>18.00</td>\n",
              "      <td>DIVISA DE BAIRROS</td>\n",
              "      <td>JARDIM SOCIAL</td>\n",
              "      <td>Decreto Municipal 774 / 1975</td>\n",
              "      <td>1.00</td>\n",
              "      <td>REGIONAL MATRIZ</td>\n",
              "      <td>1958421.84</td>\n",
              "      <td>6055.95</td>\n",
              "      <td>POLYGON ((678071.018 7187798.489, 678071.550 7...</td>\n",
              "    </tr>\n",
              "    <tr>\n",
              "      <th>2</th>\n",
              "      <td>23</td>\n",
              "      <td>57.00</td>\n",
              "      <td>DIVISA DE BAIRROS</td>\n",
              "      <td>XAXIM</td>\n",
              "      <td>Decreto Municipal 774 / 1975</td>\n",
              "      <td>2.00</td>\n",
              "      <td>REGIONAL BOQUEIRÃO</td>\n",
              "      <td>9085390.75</td>\n",
              "      <td>13783.59</td>\n",
              "      <td>POLYGON ((674448.852 7179898.885, 674532.900 7...</td>\n",
              "    </tr>\n",
              "    <tr>\n",
              "      <th>3</th>\n",
              "      <td>5</td>\n",
              "      <td>22.00</td>\n",
              "      <td>DIVISA DE BAIRROS</td>\n",
              "      <td>JARDIM DAS AMÉRICAS</td>\n",
              "      <td>Decreto Municipal 774 / 1975</td>\n",
              "      <td>3.00</td>\n",
              "      <td>REGIONAL CAJURU</td>\n",
              "      <td>3859033.54</td>\n",
              "      <td>8818.50</td>\n",
              "      <td>POLYGON ((678209.542 7181641.525, 678107.870 7...</td>\n",
              "    </tr>\n",
              "    <tr>\n",
              "      <th>4</th>\n",
              "      <td>9</td>\n",
              "      <td>26.00</td>\n",
              "      <td>DIVISA DE BAIRROS</td>\n",
              "      <td>GUAÍRA</td>\n",
              "      <td>Decreto Municipal 774 / 1975</td>\n",
              "      <td>7.00</td>\n",
              "      <td>REGIONAL PORTÃO</td>\n",
              "      <td>2311397.49</td>\n",
              "      <td>6351.96</td>\n",
              "      <td>POLYGON ((672709.614 7181167.829, 672599.420 7...</td>\n",
              "    </tr>\n",
              "  </tbody>\n",
              "</table>\n",
              "</div>"
            ],
            "text/plain": [
              "   OBJECTID  ...                                           geometry\n",
              "0        20  ...  POLYGON ((673879.287 7183803.691, 673907.541 7...\n",
              "1        22  ...  POLYGON ((678071.018 7187798.489, 678071.550 7...\n",
              "2        23  ...  POLYGON ((674448.852 7179898.885, 674532.900 7...\n",
              "3         5  ...  POLYGON ((678209.542 7181641.525, 678107.870 7...\n",
              "4         9  ...  POLYGON ((672709.614 7181167.829, 672599.420 7...\n",
              "\n",
              "[5 rows x 10 columns]"
            ]
          },
          "metadata": {
            "tags": []
          },
          "execution_count": 28
        }
      ]
    },
    {
      "cell_type": "code",
      "metadata": {
        "id": "Gv-MyMbswP7E"
      },
      "source": [
        "db['bairro'] = db['NOME'].str.capitalize()"
      ],
      "execution_count": 29,
      "outputs": []
    },
    {
      "cell_type": "code",
      "metadata": {
        "id": "_4bBBAKBsbN4"
      },
      "source": [
        "db['bairro'] = db['bairro'].replace('Cidade industrial de curitiba', 'Cidade industrial')"
      ],
      "execution_count": 31,
      "outputs": []
    },
    {
      "cell_type": "code",
      "metadata": {
        "id": "YdlWmMeGzZrY"
      },
      "source": [
        "merged = db.set_index('bairro').join(da_price.set_index('bairro'))\n",
        "merged = merged.reset_index()\n",
        "#merged = merged.fillna(0)"
      ],
      "execution_count": 32,
      "outputs": []
    },
    {
      "cell_type": "code",
      "metadata": {
        "id": "VpxsTB8tC9OK"
      },
      "source": [
        "merged['precos'] = merged['precos'].fillna(merged.groupby('NM_REGIONA')['precos'].transform('median'))"
      ],
      "execution_count": 34,
      "outputs": []
    },
    {
      "cell_type": "code",
      "metadata": {
        "id": "rWrrfb_P5pwN",
        "colab": {
          "base_uri": "https://localhost:8080/",
          "height": 279
        },
        "outputId": "4a7aa1ed-ab24-43c0-aad3-c4e2493202ca"
      },
      "source": [
        "merged.head()"
      ],
      "execution_count": 36,
      "outputs": [
        {
          "output_type": "execute_result",
          "data": {
            "text/html": [
              "<div>\n",
              "<style scoped>\n",
              "    .dataframe tbody tr th:only-of-type {\n",
              "        vertical-align: middle;\n",
              "    }\n",
              "\n",
              "    .dataframe tbody tr th {\n",
              "        vertical-align: top;\n",
              "    }\n",
              "\n",
              "    .dataframe thead th {\n",
              "        text-align: right;\n",
              "    }\n",
              "</style>\n",
              "<table border=\"1\" class=\"dataframe\">\n",
              "  <thead>\n",
              "    <tr style=\"text-align: right;\">\n",
              "      <th></th>\n",
              "      <th>bairro</th>\n",
              "      <th>OBJECTID</th>\n",
              "      <th>CODIGO</th>\n",
              "      <th>TIPO</th>\n",
              "      <th>NOME</th>\n",
              "      <th>FONTE</th>\n",
              "      <th>CD_REGIONA</th>\n",
              "      <th>NM_REGIONA</th>\n",
              "      <th>SHAPE_AREA</th>\n",
              "      <th>SHAPE_LEN</th>\n",
              "      <th>geometry</th>\n",
              "      <th>precos</th>\n",
              "    </tr>\n",
              "  </thead>\n",
              "  <tbody>\n",
              "    <tr>\n",
              "      <th>0</th>\n",
              "      <td>Água verde</td>\n",
              "      <td>20</td>\n",
              "      <td>9.00</td>\n",
              "      <td>DIVISA DE BAIRROS</td>\n",
              "      <td>ÁGUA VERDE</td>\n",
              "      <td>Decreto Municipal 774 / 1975</td>\n",
              "      <td>7.00</td>\n",
              "      <td>REGIONAL PORTÃO</td>\n",
              "      <td>4773046.30</td>\n",
              "      <td>9760.92</td>\n",
              "      <td>POLYGON ((673879.287 7183803.691, 673907.541 7...</td>\n",
              "      <td>1090.00</td>\n",
              "    </tr>\n",
              "    <tr>\n",
              "      <th>1</th>\n",
              "      <td>Jardim social</td>\n",
              "      <td>22</td>\n",
              "      <td>18.00</td>\n",
              "      <td>DIVISA DE BAIRROS</td>\n",
              "      <td>JARDIM SOCIAL</td>\n",
              "      <td>Decreto Municipal 774 / 1975</td>\n",
              "      <td>1.00</td>\n",
              "      <td>REGIONAL MATRIZ</td>\n",
              "      <td>1958421.84</td>\n",
              "      <td>6055.95</td>\n",
              "      <td>POLYGON ((678071.018 7187798.489, 678071.550 7...</td>\n",
              "      <td>1200.00</td>\n",
              "    </tr>\n",
              "    <tr>\n",
              "      <th>2</th>\n",
              "      <td>Xaxim</td>\n",
              "      <td>23</td>\n",
              "      <td>57.00</td>\n",
              "      <td>DIVISA DE BAIRROS</td>\n",
              "      <td>XAXIM</td>\n",
              "      <td>Decreto Municipal 774 / 1975</td>\n",
              "      <td>2.00</td>\n",
              "      <td>REGIONAL BOQUEIRÃO</td>\n",
              "      <td>9085390.75</td>\n",
              "      <td>13783.59</td>\n",
              "      <td>POLYGON ((674448.852 7179898.885, 674532.900 7...</td>\n",
              "      <td>970.00</td>\n",
              "    </tr>\n",
              "    <tr>\n",
              "      <th>3</th>\n",
              "      <td>Jardim das américas</td>\n",
              "      <td>5</td>\n",
              "      <td>22.00</td>\n",
              "      <td>DIVISA DE BAIRROS</td>\n",
              "      <td>JARDIM DAS AMÉRICAS</td>\n",
              "      <td>Decreto Municipal 774 / 1975</td>\n",
              "      <td>3.00</td>\n",
              "      <td>REGIONAL CAJURU</td>\n",
              "      <td>3859033.54</td>\n",
              "      <td>8818.50</td>\n",
              "      <td>POLYGON ((678209.542 7181641.525, 678107.870 7...</td>\n",
              "      <td>957.50</td>\n",
              "    </tr>\n",
              "    <tr>\n",
              "      <th>4</th>\n",
              "      <td>Guaíra</td>\n",
              "      <td>9</td>\n",
              "      <td>26.00</td>\n",
              "      <td>DIVISA DE BAIRROS</td>\n",
              "      <td>GUAÍRA</td>\n",
              "      <td>Decreto Municipal 774 / 1975</td>\n",
              "      <td>7.00</td>\n",
              "      <td>REGIONAL PORTÃO</td>\n",
              "      <td>2311397.49</td>\n",
              "      <td>6351.96</td>\n",
              "      <td>POLYGON ((672709.614 7181167.829, 672599.420 7...</td>\n",
              "      <td>1090.00</td>\n",
              "    </tr>\n",
              "  </tbody>\n",
              "</table>\n",
              "</div>"
            ],
            "text/plain": [
              "                bairro  ...  precos\n",
              "0           Água verde  ... 1090.00\n",
              "1        Jardim social  ... 1200.00\n",
              "2                Xaxim  ...  970.00\n",
              "3  Jardim das américas  ...  957.50\n",
              "4               Guaíra  ... 1090.00\n",
              "\n",
              "[5 rows x 12 columns]"
            ]
          },
          "metadata": {
            "tags": []
          },
          "execution_count": 36
        }
      ]
    },
    {
      "cell_type": "code",
      "metadata": {
        "colab": {
          "base_uri": "https://localhost:8080/",
          "height": 431
        },
        "id": "-yB8piYVtnE1",
        "outputId": "f957d1c6-b810-4368-f576-2b1980a39315"
      },
      "source": [
        " merged.groupby(['bairro']).median().sort_values('precos', ascending=True)"
      ],
      "execution_count": 37,
      "outputs": [
        {
          "output_type": "execute_result",
          "data": {
            "text/html": [
              "<div>\n",
              "<style scoped>\n",
              "    .dataframe tbody tr th:only-of-type {\n",
              "        vertical-align: middle;\n",
              "    }\n",
              "\n",
              "    .dataframe tbody tr th {\n",
              "        vertical-align: top;\n",
              "    }\n",
              "\n",
              "    .dataframe thead th {\n",
              "        text-align: right;\n",
              "    }\n",
              "</style>\n",
              "<table border=\"1\" class=\"dataframe\">\n",
              "  <thead>\n",
              "    <tr style=\"text-align: right;\">\n",
              "      <th></th>\n",
              "      <th>OBJECTID</th>\n",
              "      <th>CODIGO</th>\n",
              "      <th>CD_REGIONA</th>\n",
              "      <th>SHAPE_AREA</th>\n",
              "      <th>SHAPE_LEN</th>\n",
              "      <th>precos</th>\n",
              "    </tr>\n",
              "    <tr>\n",
              "      <th>bairro</th>\n",
              "      <th></th>\n",
              "      <th></th>\n",
              "      <th></th>\n",
              "      <th></th>\n",
              "      <th></th>\n",
              "      <th></th>\n",
              "    </tr>\n",
              "  </thead>\n",
              "  <tbody>\n",
              "    <tr>\n",
              "      <th>Cachoeira</th>\n",
              "      <td>60</td>\n",
              "      <td>51.00</td>\n",
              "      <td>4.00</td>\n",
              "      <td>3221611.22</td>\n",
              "      <td>8921.57</td>\n",
              "      <td>660.00</td>\n",
              "    </tr>\n",
              "    <tr>\n",
              "      <th>Campo de santana</th>\n",
              "      <td>52</td>\n",
              "      <td>71.00</td>\n",
              "      <td>12.00</td>\n",
              "      <td>21579444.88</td>\n",
              "      <td>26635.14</td>\n",
              "      <td>700.00</td>\n",
              "    </tr>\n",
              "    <tr>\n",
              "      <th>Tatuquara</th>\n",
              "      <td>49</td>\n",
              "      <td>74.00</td>\n",
              "      <td>12.00</td>\n",
              "      <td>11234800.38</td>\n",
              "      <td>21895.61</td>\n",
              "      <td>700.00</td>\n",
              "    </tr>\n",
              "    <tr>\n",
              "      <th>Caximba</th>\n",
              "      <td>46</td>\n",
              "      <td>70.00</td>\n",
              "      <td>12.00</td>\n",
              "      <td>8215223.22</td>\n",
              "      <td>16903.13</td>\n",
              "      <td>700.00</td>\n",
              "    </tr>\n",
              "    <tr>\n",
              "      <th>Fazendinha</th>\n",
              "      <td>30</td>\n",
              "      <td>42.00</td>\n",
              "      <td>7.00</td>\n",
              "      <td>3723681.44</td>\n",
              "      <td>8791.17</td>\n",
              "      <td>790.00</td>\n",
              "    </tr>\n",
              "    <tr>\n",
              "      <th>...</th>\n",
              "      <td>...</td>\n",
              "      <td>...</td>\n",
              "      <td>...</td>\n",
              "      <td>...</td>\n",
              "      <td>...</td>\n",
              "      <td>...</td>\n",
              "    </tr>\n",
              "    <tr>\n",
              "      <th>Bigorrilho</th>\n",
              "      <td>66</td>\n",
              "      <td>11.00</td>\n",
              "      <td>1.00</td>\n",
              "      <td>2896537.37</td>\n",
              "      <td>7938.14</td>\n",
              "      <td>1850.00</td>\n",
              "    </tr>\n",
              "    <tr>\n",
              "      <th>Hugo lange</th>\n",
              "      <td>2</td>\n",
              "      <td>17.00</td>\n",
              "      <td>1.00</td>\n",
              "      <td>1184234.49</td>\n",
              "      <td>4676.69</td>\n",
              "      <td>1950.00</td>\n",
              "    </tr>\n",
              "    <tr>\n",
              "      <th>Batel</th>\n",
              "      <td>39</td>\n",
              "      <td>10.00</td>\n",
              "      <td>1.00</td>\n",
              "      <td>1737732.42</td>\n",
              "      <td>5622.22</td>\n",
              "      <td>1990.00</td>\n",
              "    </tr>\n",
              "    <tr>\n",
              "      <th>Mossunguê</th>\n",
              "      <td>35</td>\n",
              "      <td>45.00</td>\n",
              "      <td>5.00</td>\n",
              "      <td>3365440.49</td>\n",
              "      <td>9125.52</td>\n",
              "      <td>2000.00</td>\n",
              "    </tr>\n",
              "    <tr>\n",
              "      <th>Campina do siqueira</th>\n",
              "      <td>12</td>\n",
              "      <td>30.00</td>\n",
              "      <td>5.00</td>\n",
              "      <td>1697521.63</td>\n",
              "      <td>5680.86</td>\n",
              "      <td>2200.00</td>\n",
              "    </tr>\n",
              "  </tbody>\n",
              "</table>\n",
              "<p>75 rows × 6 columns</p>\n",
              "</div>"
            ],
            "text/plain": [
              "                     OBJECTID  CODIGO  ...  SHAPE_LEN  precos\n",
              "bairro                                 ...                   \n",
              "Cachoeira                  60   51.00  ...    8921.57  660.00\n",
              "Campo de santana           52   71.00  ...   26635.14  700.00\n",
              "Tatuquara                  49   74.00  ...   21895.61  700.00\n",
              "Caximba                    46   70.00  ...   16903.13  700.00\n",
              "Fazendinha                 30   42.00  ...    8791.17  790.00\n",
              "...                       ...     ...  ...        ...     ...\n",
              "Bigorrilho                 66   11.00  ...    7938.14 1850.00\n",
              "Hugo lange                  2   17.00  ...    4676.69 1950.00\n",
              "Batel                      39   10.00  ...    5622.22 1990.00\n",
              "Mossunguê                  35   45.00  ...    9125.52 2000.00\n",
              "Campina do siqueira        12   30.00  ...    5680.86 2200.00\n",
              "\n",
              "[75 rows x 6 columns]"
            ]
          },
          "metadata": {
            "tags": []
          },
          "execution_count": 37
        }
      ]
    },
    {
      "cell_type": "code",
      "metadata": {
        "id": "O0adwplf9jW-",
        "colab": {
          "base_uri": "https://localhost:8080/",
          "height": 402
        },
        "outputId": "65827ae4-3547-4da4-ca38-37f7e8008fc2"
      },
      "source": [
        " merged.groupby(['NM_REGIONA']).median().sort_values('precos', ascending=False)"
      ],
      "execution_count": 38,
      "outputs": [
        {
          "output_type": "execute_result",
          "data": {
            "text/html": [
              "<div>\n",
              "<style scoped>\n",
              "    .dataframe tbody tr th:only-of-type {\n",
              "        vertical-align: middle;\n",
              "    }\n",
              "\n",
              "    .dataframe tbody tr th {\n",
              "        vertical-align: top;\n",
              "    }\n",
              "\n",
              "    .dataframe thead th {\n",
              "        text-align: right;\n",
              "    }\n",
              "</style>\n",
              "<table border=\"1\" class=\"dataframe\">\n",
              "  <thead>\n",
              "    <tr style=\"text-align: right;\">\n",
              "      <th></th>\n",
              "      <th>OBJECTID</th>\n",
              "      <th>CODIGO</th>\n",
              "      <th>CD_REGIONA</th>\n",
              "      <th>SHAPE_AREA</th>\n",
              "      <th>SHAPE_LEN</th>\n",
              "      <th>precos</th>\n",
              "    </tr>\n",
              "    <tr>\n",
              "      <th>NM_REGIONA</th>\n",
              "      <th></th>\n",
              "      <th></th>\n",
              "      <th></th>\n",
              "      <th></th>\n",
              "      <th></th>\n",
              "      <th></th>\n",
              "    </tr>\n",
              "  </thead>\n",
              "  <tbody>\n",
              "    <tr>\n",
              "      <th>REGIONAL MATRIZ</th>\n",
              "      <td>23.50</td>\n",
              "      <td>10.50</td>\n",
              "      <td>1.00</td>\n",
              "      <td>1876561.14</td>\n",
              "      <td>6225.21</td>\n",
              "      <td>1350.00</td>\n",
              "    </tr>\n",
              "    <tr>\n",
              "      <th>REGIONAL SANTA FELICIDADE</th>\n",
              "      <td>69.00</td>\n",
              "      <td>48.00</td>\n",
              "      <td>5.00</td>\n",
              "      <td>3512540.74</td>\n",
              "      <td>10446.54</td>\n",
              "      <td>1295.00</td>\n",
              "    </tr>\n",
              "    <tr>\n",
              "      <th>REGIONAL PORTÃO</th>\n",
              "      <td>10.50</td>\n",
              "      <td>27.50</td>\n",
              "      <td>7.00</td>\n",
              "      <td>2284859.19</td>\n",
              "      <td>6949.10</td>\n",
              "      <td>1090.00</td>\n",
              "    </tr>\n",
              "    <tr>\n",
              "      <th>REGIONAL CIC</th>\n",
              "      <td>44.50</td>\n",
              "      <td>68.50</td>\n",
              "      <td>11.00</td>\n",
              "      <td>8355042.00</td>\n",
              "      <td>18813.55</td>\n",
              "      <td>1020.00</td>\n",
              "    </tr>\n",
              "    <tr>\n",
              "      <th>REGIONAL BOA VISTA</th>\n",
              "      <td>48.50</td>\n",
              "      <td>49.50</td>\n",
              "      <td>4.00</td>\n",
              "      <td>4237817.97</td>\n",
              "      <td>11098.51</td>\n",
              "      <td>1011.50</td>\n",
              "    </tr>\n",
              "    <tr>\n",
              "      <th>REGIONAL SANTA FELICIDADE / REGIONAL PORTÃO</th>\n",
              "      <td>33.00</td>\n",
              "      <td>44.00</td>\n",
              "      <td>5.00</td>\n",
              "      <td>8569837.61</td>\n",
              "      <td>16637.62</td>\n",
              "      <td>1000.00</td>\n",
              "    </tr>\n",
              "    <tr>\n",
              "      <th>REGIONAL CAJURU</th>\n",
              "      <td>30.00</td>\n",
              "      <td>21.50</td>\n",
              "      <td>3.00</td>\n",
              "      <td>4014396.44</td>\n",
              "      <td>9308.81</td>\n",
              "      <td>957.50</td>\n",
              "    </tr>\n",
              "    <tr>\n",
              "      <th>REGIONAL BOQUEIRÃO</th>\n",
              "      <td>34.00</td>\n",
              "      <td>56.50</td>\n",
              "      <td>2.00</td>\n",
              "      <td>10536322.74</td>\n",
              "      <td>16155.39</td>\n",
              "      <td>910.00</td>\n",
              "    </tr>\n",
              "    <tr>\n",
              "      <th>REGIONAL PINHEIRINHO</th>\n",
              "      <td>28.00</td>\n",
              "      <td>41.00</td>\n",
              "      <td>8.00</td>\n",
              "      <td>5049840.13</td>\n",
              "      <td>11816.64</td>\n",
              "      <td>900.00</td>\n",
              "    </tr>\n",
              "    <tr>\n",
              "      <th>REGIONAL BAIRRO NOVO</th>\n",
              "      <td>51.00</td>\n",
              "      <td>72.00</td>\n",
              "      <td>10.00</td>\n",
              "      <td>11359302.45</td>\n",
              "      <td>22063.15</td>\n",
              "      <td>850.00</td>\n",
              "    </tr>\n",
              "    <tr>\n",
              "      <th>REGIONAL TATUQUARA</th>\n",
              "      <td>49.00</td>\n",
              "      <td>71.00</td>\n",
              "      <td>12.00</td>\n",
              "      <td>11234800.38</td>\n",
              "      <td>21895.61</td>\n",
              "      <td>700.00</td>\n",
              "    </tr>\n",
              "  </tbody>\n",
              "</table>\n",
              "</div>"
            ],
            "text/plain": [
              "                                             OBJECTID  ...  precos\n",
              "NM_REGIONA                                             ...        \n",
              "REGIONAL MATRIZ                                 23.50  ... 1350.00\n",
              "REGIONAL SANTA FELICIDADE                       69.00  ... 1295.00\n",
              "REGIONAL PORTÃO                                 10.50  ... 1090.00\n",
              "REGIONAL CIC                                    44.50  ... 1020.00\n",
              "REGIONAL BOA VISTA                              48.50  ... 1011.50\n",
              "REGIONAL SANTA FELICIDADE / REGIONAL PORTÃO     33.00  ... 1000.00\n",
              "REGIONAL CAJURU                                 30.00  ...  957.50\n",
              "REGIONAL BOQUEIRÃO                              34.00  ...  910.00\n",
              "REGIONAL PINHEIRINHO                            28.00  ...  900.00\n",
              "REGIONAL BAIRRO NOVO                            51.00  ...  850.00\n",
              "REGIONAL TATUQUARA                              49.00  ...  700.00\n",
              "\n",
              "[11 rows x 6 columns]"
            ]
          },
          "metadata": {
            "tags": []
          },
          "execution_count": 38
        }
      ]
    },
    {
      "cell_type": "code",
      "metadata": {
        "colab": {
          "base_uri": "https://localhost:8080/",
          "height": 279
        },
        "id": "oEU1_KgTQC01",
        "outputId": "ba5dc53d-2391-4cd2-fe90-53d752f7bcb4"
      },
      "source": [
        "merged.head()"
      ],
      "execution_count": 39,
      "outputs": [
        {
          "output_type": "execute_result",
          "data": {
            "text/html": [
              "<div>\n",
              "<style scoped>\n",
              "    .dataframe tbody tr th:only-of-type {\n",
              "        vertical-align: middle;\n",
              "    }\n",
              "\n",
              "    .dataframe tbody tr th {\n",
              "        vertical-align: top;\n",
              "    }\n",
              "\n",
              "    .dataframe thead th {\n",
              "        text-align: right;\n",
              "    }\n",
              "</style>\n",
              "<table border=\"1\" class=\"dataframe\">\n",
              "  <thead>\n",
              "    <tr style=\"text-align: right;\">\n",
              "      <th></th>\n",
              "      <th>bairro</th>\n",
              "      <th>OBJECTID</th>\n",
              "      <th>CODIGO</th>\n",
              "      <th>TIPO</th>\n",
              "      <th>NOME</th>\n",
              "      <th>FONTE</th>\n",
              "      <th>CD_REGIONA</th>\n",
              "      <th>NM_REGIONA</th>\n",
              "      <th>SHAPE_AREA</th>\n",
              "      <th>SHAPE_LEN</th>\n",
              "      <th>geometry</th>\n",
              "      <th>precos</th>\n",
              "    </tr>\n",
              "  </thead>\n",
              "  <tbody>\n",
              "    <tr>\n",
              "      <th>0</th>\n",
              "      <td>Água verde</td>\n",
              "      <td>20</td>\n",
              "      <td>9.00</td>\n",
              "      <td>DIVISA DE BAIRROS</td>\n",
              "      <td>ÁGUA VERDE</td>\n",
              "      <td>Decreto Municipal 774 / 1975</td>\n",
              "      <td>7.00</td>\n",
              "      <td>REGIONAL PORTÃO</td>\n",
              "      <td>4773046.30</td>\n",
              "      <td>9760.92</td>\n",
              "      <td>POLYGON ((673879.287 7183803.691, 673907.541 7...</td>\n",
              "      <td>1090.00</td>\n",
              "    </tr>\n",
              "    <tr>\n",
              "      <th>1</th>\n",
              "      <td>Jardim social</td>\n",
              "      <td>22</td>\n",
              "      <td>18.00</td>\n",
              "      <td>DIVISA DE BAIRROS</td>\n",
              "      <td>JARDIM SOCIAL</td>\n",
              "      <td>Decreto Municipal 774 / 1975</td>\n",
              "      <td>1.00</td>\n",
              "      <td>REGIONAL MATRIZ</td>\n",
              "      <td>1958421.84</td>\n",
              "      <td>6055.95</td>\n",
              "      <td>POLYGON ((678071.018 7187798.489, 678071.550 7...</td>\n",
              "      <td>1200.00</td>\n",
              "    </tr>\n",
              "    <tr>\n",
              "      <th>2</th>\n",
              "      <td>Xaxim</td>\n",
              "      <td>23</td>\n",
              "      <td>57.00</td>\n",
              "      <td>DIVISA DE BAIRROS</td>\n",
              "      <td>XAXIM</td>\n",
              "      <td>Decreto Municipal 774 / 1975</td>\n",
              "      <td>2.00</td>\n",
              "      <td>REGIONAL BOQUEIRÃO</td>\n",
              "      <td>9085390.75</td>\n",
              "      <td>13783.59</td>\n",
              "      <td>POLYGON ((674448.852 7179898.885, 674532.900 7...</td>\n",
              "      <td>970.00</td>\n",
              "    </tr>\n",
              "    <tr>\n",
              "      <th>3</th>\n",
              "      <td>Jardim das américas</td>\n",
              "      <td>5</td>\n",
              "      <td>22.00</td>\n",
              "      <td>DIVISA DE BAIRROS</td>\n",
              "      <td>JARDIM DAS AMÉRICAS</td>\n",
              "      <td>Decreto Municipal 774 / 1975</td>\n",
              "      <td>3.00</td>\n",
              "      <td>REGIONAL CAJURU</td>\n",
              "      <td>3859033.54</td>\n",
              "      <td>8818.50</td>\n",
              "      <td>POLYGON ((678209.542 7181641.525, 678107.870 7...</td>\n",
              "      <td>957.50</td>\n",
              "    </tr>\n",
              "    <tr>\n",
              "      <th>4</th>\n",
              "      <td>Guaíra</td>\n",
              "      <td>9</td>\n",
              "      <td>26.00</td>\n",
              "      <td>DIVISA DE BAIRROS</td>\n",
              "      <td>GUAÍRA</td>\n",
              "      <td>Decreto Municipal 774 / 1975</td>\n",
              "      <td>7.00</td>\n",
              "      <td>REGIONAL PORTÃO</td>\n",
              "      <td>2311397.49</td>\n",
              "      <td>6351.96</td>\n",
              "      <td>POLYGON ((672709.614 7181167.829, 672599.420 7...</td>\n",
              "      <td>1090.00</td>\n",
              "    </tr>\n",
              "  </tbody>\n",
              "</table>\n",
              "</div>"
            ],
            "text/plain": [
              "                bairro  ...  precos\n",
              "0           Água verde  ... 1090.00\n",
              "1        Jardim social  ... 1200.00\n",
              "2                Xaxim  ...  970.00\n",
              "3  Jardim das américas  ...  957.50\n",
              "4               Guaíra  ... 1090.00\n",
              "\n",
              "[5 rows x 12 columns]"
            ]
          },
          "metadata": {
            "tags": []
          },
          "execution_count": 39
        }
      ]
    },
    {
      "cell_type": "code",
      "metadata": {
        "id": "TlOAiZGt5AqU",
        "colab": {
          "base_uri": "https://localhost:8080/",
          "height": 915
        },
        "outputId": "9fa6cae0-1b84-4337-8962-3e69e1bf77d2"
      },
      "source": [
        "fig, ax = plt.subplots(1, figsize=(20, 15))\n",
        "ax.axis('off')\n",
        "ax.set_title('Apartment Rent prices, Curitiba-PR', fontdict={'fontsize': '40', 'fontweight' : '3'})\n",
        "color = 'Oranges'\n",
        "vmin, vmax = 0, 2200\n",
        "sm = plt.cm.ScalarMappable(cmap=color, norm=plt.Normalize(vmin=vmin, vmax=vmax))\n",
        "sm._A = []\n",
        "cbar = fig.colorbar(sm)\n",
        "cbar.ax.tick_params(labelsize=20)\n",
        "merged.plot('precos', cmap=color, linewidth=0.8, ax=ax, edgecolor='0.8', figsize=(40,20))"
      ],
      "execution_count": 40,
      "outputs": [
        {
          "output_type": "execute_result",
          "data": {
            "text/plain": [
              "<matplotlib.axes._subplots.AxesSubplot at 0x7fc5cd2094a8>"
            ]
          },
          "metadata": {
            "tags": []
          },
          "execution_count": 40
        },
        {
          "output_type": "display_data",
          "data": {
            "image/png": "[encoded data removed]",
            "text/plain": [
              "<Figure size 1440x1080 with 2 Axes>"
            ]
          },
          "metadata": {
            "tags": [],
            "needs_background": "light"
          }
        }
      ]
    }
  ]
}