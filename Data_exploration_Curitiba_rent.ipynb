{
  "nbformat": 4,
  "nbformat_minor": 0,
  "metadata": {
    "colab": {
      "name": "Data_exploration-Curitiba_rent.ipynb",
      "provenance": [],
      "collapsed_sections": [],
      "authorship_tag": "ABX9TyNpesVbFHiaZDl55mm1Lxvd",
      "include_colab_link": true
    },
    "kernelspec": {
      "name": "python3",
      "display_name": "Python 3"
    }
  },
  "cells": [
    {
      "cell_type": "markdown",
      "metadata": {
        "id": "view-in-github",
        "colab_type": "text"
      },
      "source": [
        "<a href=\"https://colab.research.google.com/github/fmarcelneves/Rental-price-analysis-and-forecast-Curitiba-PR/blob/main/Data_exploration_Curitiba_rent.ipynb\" target=\"_parent\"><img src=\"https://colab.research.google.com/assets/colab-badge.svg\" alt=\"Open In Colab\"/></a>"
      ]
    },
    {
      "cell_type": "markdown",
      "metadata": {
        "id": "28f1HMC9OaVQ"
      },
      "source": [
        "# Import packages "
      ]
    },
    {
      "cell_type": "code",
      "metadata": {
        "id": "RljeZbXOP9WB"
      },
      "source": [
        "%%capture\n",
        "!pip install geopandas\n",
        "!pip install outlier-removal-101703289\n",
        "import pandas as pd\n",
        "import numpy as np\n",
        "import seaborn as sns\n",
        "import matplotlib.pyplot as plt\n",
        "import geopandas as gpd\n",
        "from outlier_removal.outlier import remove_outlier"
      ],
      "execution_count": null,
      "outputs": []
    },
    {
      "cell_type": "code",
      "metadata": {
        "id": "hDkmia8jOZfV"
      },
      "source": [
        "%%capture\r\n",
        "!pip install plotly --upgrade\r\n",
        "from plotly import __version__\r\n",
        "print (__version__)\r\n",
        "import plotly.express as px\r\n",
        "from plotly.subplots import make_subplots\r\n",
        "import plotly.graph_objs as go\r\n",
        "import plotly as py\r\n",
        "#import plotly.figure_factory as ff\r\n",
        "from plotly import tools\r\n",
        "#import cufflinks as cf\r\n",
        "from plotly.offline import iplot, init_notebook_mode\r\n",
        "# Display all cell outputs\r\n",
        "from IPython.core.interactiveshell import InteractiveShell"
      ],
      "execution_count": null,
      "outputs": []
    },
    {
      "cell_type": "markdown",
      "metadata": {
        "id": "w8pqFk-_PCc8"
      },
      "source": [
        "# Import data "
      ]
    },
    {
      "cell_type": "code",
      "metadata": {
        "id": "yLZeZlhwP9vW"
      },
      "source": [
        "url = 'https://raw.githubusercontent.com/fmarcelneves/Rental-price-analysis-and-forecast-Curitiba-PR/main/data_mercado_livre_ap_curitiba_rent.csv'\n",
        "da_ml = pd.read_csv(url)\n",
        "#da_ml = pd.read_csv('dados_mercado_livre_curitiba.csv')"
      ],
      "execution_count": null,
      "outputs": []
    },
    {
      "cell_type": "markdown",
      "metadata": {
        "id": "3UZHzTKKO_i0"
      },
      "source": [
        "# Filtering data "
      ]
    },
    {
      "cell_type": "code",
      "metadata": {
        "id": "pgJBKrPjVQik",
        "colab": {
          "base_uri": "https://localhost:8080/"
        },
        "outputId": "4d8c6a6e-e4d5-4ff0-e7c1-36e36dbd86a5"
      },
      "source": [
        "da_ml = remove_outlier(da_ml)"
      ],
      "execution_count": null,
      "outputs": [
        {
          "output_type": "stream",
          "text": [
            "/usr/local/lib/python3.6/dist-packages/outlier_removal/outlier.py:24: RuntimeWarning: invalid value encountered in greater\n",
            "  return np.where((col > upper_bound) | (col < lower_bound))\n",
            "/usr/local/lib/python3.6/dist-packages/outlier_removal/outlier.py:24: RuntimeWarning: invalid value encountered in less\n",
            "  return np.where((col > upper_bound) | (col < lower_bound))\n"
          ],
          "name": "stderr"
        }
      ]
    },
    {
      "cell_type": "code",
      "metadata": {
        "id": "aHrnWGd3V2jZ"
      },
      "source": [
        "pd.options.display.float_format = \"{:.2f}\".format"
      ],
      "execution_count": null,
      "outputs": []
    },
    {
      "cell_type": "code",
      "metadata": {
        "id": "ZWgQ82_v423Z"
      },
      "source": [
        "da_ml.replace(',','.', regex=True,inplace=True)\n",
        "da_ml['areas'] = da_ml['areas'].astype(float)"
      ],
      "execution_count": null,
      "outputs": []
    },
    {
      "cell_type": "markdown",
      "metadata": {
        "id": "XGosCNp2nNzl"
      },
      "source": [
        "# Data exploration"
      ]
    },
    {
      "cell_type": "code",
      "metadata": {
        "id": "_Mx8XwqnQOzg",
        "colab": {
          "base_uri": "https://localhost:8080/",
          "height": 142
        },
        "outputId": "9dda361d-bff1-46f4-eecb-ab51aa4f5d02"
      },
      "source": [
        "da_ml.describe().T"
      ],
      "execution_count": null,
      "outputs": [
        {
          "output_type": "execute_result",
          "data": {
            "text/html": [
              "<div>\n",
              "<style scoped>\n",
              "    .dataframe tbody tr th:only-of-type {\n",
              "        vertical-align: middle;\n",
              "    }\n",
              "\n",
              "    .dataframe tbody tr th {\n",
              "        vertical-align: top;\n",
              "    }\n",
              "\n",
              "    .dataframe thead th {\n",
              "        text-align: right;\n",
              "    }\n",
              "</style>\n",
              "<table border=\"1\" class=\"dataframe\">\n",
              "  <thead>\n",
              "    <tr style=\"text-align: right;\">\n",
              "      <th></th>\n",
              "      <th>count</th>\n",
              "      <th>mean</th>\n",
              "      <th>std</th>\n",
              "      <th>min</th>\n",
              "      <th>25%</th>\n",
              "      <th>50%</th>\n",
              "      <th>75%</th>\n",
              "      <th>max</th>\n",
              "    </tr>\n",
              "  </thead>\n",
              "  <tbody>\n",
              "    <tr>\n",
              "      <th>precos</th>\n",
              "      <td>811.00</td>\n",
              "      <td>1303.43</td>\n",
              "      <td>615.21</td>\n",
              "      <td>2.00</td>\n",
              "      <td>850.00</td>\n",
              "      <td>1170.00</td>\n",
              "      <td>1600.00</td>\n",
              "      <td>3250.00</td>\n",
              "    </tr>\n",
              "    <tr>\n",
              "      <th>quartos</th>\n",
              "      <td>789.00</td>\n",
              "      <td>1.89</td>\n",
              "      <td>0.84</td>\n",
              "      <td>1.00</td>\n",
              "      <td>1.00</td>\n",
              "      <td>2.00</td>\n",
              "      <td>3.00</td>\n",
              "      <td>5.00</td>\n",
              "    </tr>\n",
              "    <tr>\n",
              "      <th>areas</th>\n",
              "      <td>802.00</td>\n",
              "      <td>64.75</td>\n",
              "      <td>49.11</td>\n",
              "      <td>17.00</td>\n",
              "      <td>37.00</td>\n",
              "      <td>53.00</td>\n",
              "      <td>74.00</td>\n",
              "      <td>801.00</td>\n",
              "    </tr>\n",
              "  </tbody>\n",
              "</table>\n",
              "</div>"
            ],
            "text/plain": [
              "         count    mean    std   min    25%     50%     75%     max\n",
              "precos  811.00 1303.43 615.21  2.00 850.00 1170.00 1600.00 3250.00\n",
              "quartos 789.00    1.89   0.84  1.00   1.00    2.00    3.00    5.00\n",
              "areas   802.00   64.75  49.11 17.00  37.00   53.00   74.00  801.00"
            ]
          },
          "metadata": {
            "tags": []
          },
          "execution_count": 8
        }
      ]
    },
    {
      "cell_type": "code",
      "metadata": {
        "id": "7HZ1anQWXQrG"
      },
      "source": [
        "#filtro_precos = da_ml['precos'] < 800"
      ],
      "execution_count": null,
      "outputs": []
    },
    {
      "cell_type": "code",
      "metadata": {
        "id": "b5QtEDCRT54x",
        "colab": {
          "base_uri": "https://localhost:8080/"
        },
        "outputId": "29e9e3b5-12b2-4998-b444-b26ef452287a"
      },
      "source": [
        "da_ml.info()"
      ],
      "execution_count": null,
      "outputs": [
        {
          "output_type": "stream",
          "text": [
            "<class 'pandas.core.frame.DataFrame'>\n",
            "Int64Index: 811 entries, 0 to 915\n",
            "Data columns (total 4 columns):\n",
            " #   Column   Non-Null Count  Dtype  \n",
            "---  ------   --------------  -----  \n",
            " 0   bairro   802 non-null    object \n",
            " 1   precos   811 non-null    float64\n",
            " 2   quartos  789 non-null    float64\n",
            " 3   areas    802 non-null    float64\n",
            "dtypes: float64(3), object(1)\n",
            "memory usage: 31.7+ KB\n"
          ],
          "name": "stdout"
        }
      ]
    },
    {
      "cell_type": "code",
      "metadata": {
        "id": "4YBP90blT9k5",
        "colab": {
          "base_uri": "https://localhost:8080/"
        },
        "outputId": "a267a934-68cf-4635-b97c-5de6962b98a3"
      },
      "source": [
        "da_ml.isnull().sum()"
      ],
      "execution_count": null,
      "outputs": [
        {
          "output_type": "execute_result",
          "data": {
            "text/plain": [
              "bairro      9\n",
              "precos      0\n",
              "quartos    22\n",
              "areas       9\n",
              "dtype: int64"
            ]
          },
          "metadata": {
            "tags": []
          },
          "execution_count": 10
        }
      ]
    },
    {
      "cell_type": "code",
      "metadata": {
        "id": "35nggR6xT-1F",
        "colab": {
          "base_uri": "https://localhost:8080/"
        },
        "outputId": "f2e8dd0c-b150-4dc5-80a6-4805523da265"
      },
      "source": [
        "da_ml['bairro'].value_counts()"
      ],
      "execution_count": null,
      "outputs": [
        {
          "output_type": "execute_result",
          "data": {
            "text/plain": [
              "Reboucas             46\n",
              "Centro               44\n",
              "Cidade-Industrial    41\n",
              "Bigorrilho           39\n",
              "Cristo-Rei           39\n",
              "                     ..\n",
              "Campo-de-Santana      1\n",
              "Bom-Retiro            1\n",
              "Champagnat            1\n",
              "Cachoeira             1\n",
              "Parolin               1\n",
              "Name: bairro, Length: 62, dtype: int64"
            ]
          },
          "metadata": {
            "tags": []
          },
          "execution_count": 11
        }
      ]
    },
    {
      "cell_type": "code",
      "metadata": {
        "id": "wJiVaIEC-VyL",
        "colab": {
          "base_uri": "https://localhost:8080/",
          "height": 450
        },
        "outputId": "6aa71c98-6965-40c5-f011-bd25f9c63ec0"
      },
      "source": [
        "da_ml.groupby(['bairro']).median().sort_values('precos', ascending=False)"
      ],
      "execution_count": null,
      "outputs": [
        {
          "output_type": "execute_result",
          "data": {
            "text/html": [
              "<div>\n",
              "<style scoped>\n",
              "    .dataframe tbody tr th:only-of-type {\n",
              "        vertical-align: middle;\n",
              "    }\n",
              "\n",
              "    .dataframe tbody tr th {\n",
              "        vertical-align: top;\n",
              "    }\n",
              "\n",
              "    .dataframe thead th {\n",
              "        text-align: right;\n",
              "    }\n",
              "</style>\n",
              "<table border=\"1\" class=\"dataframe\">\n",
              "  <thead>\n",
              "    <tr style=\"text-align: right;\">\n",
              "      <th></th>\n",
              "      <th>precos</th>\n",
              "      <th>quartos</th>\n",
              "      <th>areas</th>\n",
              "    </tr>\n",
              "    <tr>\n",
              "      <th>bairro</th>\n",
              "      <th></th>\n",
              "      <th></th>\n",
              "      <th></th>\n",
              "    </tr>\n",
              "  </thead>\n",
              "  <tbody>\n",
              "    <tr>\n",
              "      <th>Champagnat</th>\n",
              "      <td>2800.00</td>\n",
              "      <td>3.00</td>\n",
              "      <td>193.00</td>\n",
              "    </tr>\n",
              "    <tr>\n",
              "      <th>Bigorrilho</th>\n",
              "      <td>2300.00</td>\n",
              "      <td>2.00</td>\n",
              "      <td>67.00</td>\n",
              "    </tr>\n",
              "    <tr>\n",
              "      <th>Capao-da-Imbuia</th>\n",
              "      <td>2137.50</td>\n",
              "      <td>3.50</td>\n",
              "      <td>157.00</td>\n",
              "    </tr>\n",
              "    <tr>\n",
              "      <th>Jardim-das-Americas</th>\n",
              "      <td>1950.00</td>\n",
              "      <td>1.50</td>\n",
              "      <td>86.00</td>\n",
              "    </tr>\n",
              "    <tr>\n",
              "      <th>Batel</th>\n",
              "      <td>1945.00</td>\n",
              "      <td>2.00</td>\n",
              "      <td>89.50</td>\n",
              "    </tr>\n",
              "    <tr>\n",
              "      <th>...</th>\n",
              "      <td>...</td>\n",
              "      <td>...</td>\n",
              "      <td>...</td>\n",
              "    </tr>\n",
              "    <tr>\n",
              "      <th>Cachoeira</th>\n",
              "      <td>750.00</td>\n",
              "      <td>2.00</td>\n",
              "      <td>45.00</td>\n",
              "    </tr>\n",
              "    <tr>\n",
              "      <th>Sao-Lourenco</th>\n",
              "      <td>725.00</td>\n",
              "      <td>1.50</td>\n",
              "      <td>50.00</td>\n",
              "    </tr>\n",
              "    <tr>\n",
              "      <th>Tatuquara</th>\n",
              "      <td>675.00</td>\n",
              "      <td>2.00</td>\n",
              "      <td>47.00</td>\n",
              "    </tr>\n",
              "    <tr>\n",
              "      <th>Sitio-Cercado</th>\n",
              "      <td>616.00</td>\n",
              "      <td>1.00</td>\n",
              "      <td>34.00</td>\n",
              "    </tr>\n",
              "    <tr>\n",
              "      <th>Guabirotuba</th>\n",
              "      <td>450.00</td>\n",
              "      <td>1.00</td>\n",
              "      <td>33.00</td>\n",
              "    </tr>\n",
              "  </tbody>\n",
              "</table>\n",
              "<p>62 rows × 3 columns</p>\n",
              "</div>"
            ],
            "text/plain": [
              "                     precos  quartos  areas\n",
              "bairro                                     \n",
              "Champagnat          2800.00     3.00 193.00\n",
              "Bigorrilho          2300.00     2.00  67.00\n",
              "Capao-da-Imbuia     2137.50     3.50 157.00\n",
              "Jardim-das-Americas 1950.00     1.50  86.00\n",
              "Batel               1945.00     2.00  89.50\n",
              "...                     ...      ...    ...\n",
              "Cachoeira            750.00     2.00  45.00\n",
              "Sao-Lourenco         725.00     1.50  50.00\n",
              "Tatuquara            675.00     2.00  47.00\n",
              "Sitio-Cercado        616.00     1.00  34.00\n",
              "Guabirotuba          450.00     1.00  33.00\n",
              "\n",
              "[62 rows x 3 columns]"
            ]
          },
          "metadata": {
            "tags": []
          },
          "execution_count": 12
        }
      ]
    },
    {
      "cell_type": "code",
      "metadata": {
        "id": "pTcRYGJ8xSCl"
      },
      "source": [
        "da_group = da_ml.groupby(['bairro']).median().sort_values('precos', ascending=False)"
      ],
      "execution_count": null,
      "outputs": []
    },
    {
      "cell_type": "code",
      "metadata": {
        "colab": {
          "base_uri": "https://localhost:8080/",
          "height": 608
        },
        "id": "4CzIvEeeZHrF",
        "outputId": "e1733dda-e008-462b-f007-cf20637cb643"
      },
      "source": [
        "da_ml.hist(bins=30, figsize=(15, 10), color = 'r');"
      ],
      "execution_count": null,
      "outputs": [
        {
          "output_type": "display_data",
          "data": {
            "image/png": "[encoded data removed]",
            "text/plain": [
              "<Figure size 1080x720 with 4 Axes>"
            ]
          },
          "metadata": {
            "tags": [],
            "needs_background": "light"
          }
        }
      ]
    },
    {
      "cell_type": "code",
      "metadata": {
        "id": "UNuD1s6y5cCP",
        "colab": {
          "base_uri": "https://localhost:8080/",
          "height": 567
        },
        "outputId": "e99e38c6-a8dd-45b1-cce9-ea7e59ab8859"
      },
      "source": [
        " sns.pairplot(da_ml)"
      ],
      "execution_count": null,
      "outputs": [
        {
          "output_type": "execute_result",
          "data": {
            "text/plain": [
              "<seaborn.axisgrid.PairGrid at 0x7f472fbcab38>"
            ]
          },
          "metadata": {
            "tags": []
          },
          "execution_count": 15
        },
        {
          "output_type": "display_data",
          "data": {
            "image/png": "[encoded data removed]",
            "text/plain": [
              "<Figure size 540x540 with 12 Axes>"
            ]
          },
          "metadata": {
            "tags": [],
            "needs_background": "light"
          }
        }
      ]
    },
    {
      "cell_type": "code",
      "metadata": {
        "id": "OYlyH7iJoWVm",
        "colab": {
          "base_uri": "https://localhost:8080/"
        },
        "outputId": "65e72c5d-fb5e-4dd0-87df-b3c90da99011"
      },
      "source": [
        "sns.pairplot"
      ],
      "execution_count": null,
      "outputs": [
        {
          "output_type": "execute_result",
          "data": {
            "text/plain": [
              "<function seaborn.axisgrid.pairplot>"
            ]
          },
          "metadata": {
            "tags": []
          },
          "execution_count": 16
        }
      ]
    },
    {
      "cell_type": "code",
      "metadata": {
        "id": "h3dYCdjUUcy1",
        "colab": {
          "base_uri": "https://localhost:8080/",
          "height": 279
        },
        "outputId": "32678c48-ed0b-4773-8eb0-c13ae96bcff6"
      },
      "source": [
        "sns.boxplot(x=\"quartos\", y=\"areas\", data=da_ml, showfliers = False);"
      ],
      "execution_count": null,
      "outputs": [
        {
          "output_type": "display_data",
          "data": {
            "image/png": "[encoded data removed]",
            "text/plain": [
              "<Figure size 432x288 with 1 Axes>"
            ]
          },
          "metadata": {
            "tags": [],
            "needs_background": "light"
          }
        }
      ]
    },
    {
      "cell_type": "code",
      "metadata": {
        "id": "8G5UTx9hVN0r",
        "colab": {
          "base_uri": "https://localhost:8080/",
          "height": 300
        },
        "outputId": "baa789a5-bace-4533-ff06-1f391142c95e"
      },
      "source": [
        "corrMatrix = sns.heatmap(da_ml.corr(), annot=True);\n",
        "corrMatrix.set_title('Correlation', fontsize=15)"
      ],
      "execution_count": null,
      "outputs": [
        {
          "output_type": "execute_result",
          "data": {
            "text/plain": [
              "Text(0.5, 1.0, 'Correlation')"
            ]
          },
          "metadata": {
            "tags": []
          },
          "execution_count": 18
        },
        {
          "output_type": "display_data",
          "data": {
            "image/png": "[encoded data removed]",
            "text/plain": [
              "<Figure size 432x288 with 2 Axes>"
            ]
          },
          "metadata": {
            "tags": [],
            "needs_background": "light"
          }
        }
      ]
    },
    {
      "cell_type": "code",
      "metadata": {
        "id": "K7pczwnfVm9p",
        "colab": {
          "base_uri": "https://localhost:8080/",
          "height": 441
        },
        "outputId": "b09afd90-c3db-4a93-e72b-b367deedfda7"
      },
      "source": [
        "sns.jointplot(x=\"areas\", y=\"precos\", data=da_ml, kind=\"hex\", color=\"r\");"
      ],
      "execution_count": null,
      "outputs": [
        {
          "output_type": "display_data",
          "data": {
            "image/png": "[encoded data removed]",
            "text/plain": [
              "<Figure size 432x432 with 3 Axes>"
            ]
          },
          "metadata": {
            "tags": [],
            "needs_background": "light"
          }
        }
      ]
    },
    {
      "cell_type": "code",
      "metadata": {
        "id": "9cJn3o9IVq_W",
        "colab": {
          "base_uri": "https://localhost:8080/",
          "height": 333
        },
        "outputId": "23a23b64-a2b8-47f1-c6fe-d30f5ed6741b"
      },
      "source": [
        "sns.boxplot(da_ml['areas']);"
      ],
      "execution_count": null,
      "outputs": [
        {
          "output_type": "stream",
          "text": [
            "/usr/local/lib/python3.6/dist-packages/seaborn/_decorators.py:43: FutureWarning: Pass the following variable as a keyword arg: x. From version 0.12, the only valid positional argument will be `data`, and passing other arguments without an explicit keyword will result in an error or misinterpretation.\n",
            "  FutureWarning\n"
          ],
          "name": "stderr"
        },
        {
          "output_type": "display_data",
          "data": {
            "image/png": "[encoded data removed]",
            "text/plain": [
              "<Figure size 432x288 with 1 Axes>"
            ]
          },
          "metadata": {
            "tags": [],
            "needs_background": "light"
          }
        }
      ]
    },
    {
      "cell_type": "code",
      "metadata": {
        "id": "y3JzHdA2WJhG",
        "colab": {
          "base_uri": "https://localhost:8080/",
          "height": 333
        },
        "outputId": "82dae07c-a0ed-4a31-93e0-5f9dcd2a4c77"
      },
      "source": [
        "sns.boxplot(da_ml['precos']);"
      ],
      "execution_count": null,
      "outputs": [
        {
          "output_type": "stream",
          "text": [
            "/usr/local/lib/python3.6/dist-packages/seaborn/_decorators.py:43: FutureWarning: Pass the following variable as a keyword arg: x. From version 0.12, the only valid positional argument will be `data`, and passing other arguments without an explicit keyword will result in an error or misinterpretation.\n",
            "  FutureWarning\n"
          ],
          "name": "stderr"
        },
        {
          "output_type": "display_data",
          "data": {
            "image/png": "[encoded data removed]",
            "text/plain": [
              "<Figure size 432x288 with 1 Axes>"
            ]
          },
          "metadata": {
            "tags": [],
            "needs_background": "light"
          }
        }
      ]
    },
    {
      "cell_type": "code",
      "metadata": {
        "id": "ANmdxpJ8WLyv",
        "colab": {
          "base_uri": "https://localhost:8080/",
          "height": 333
        },
        "outputId": "b1a1b265-73ba-46b8-f0d0-9f557e314be1"
      },
      "source": [
        "sns.boxplot(da_ml['quartos']);"
      ],
      "execution_count": null,
      "outputs": [
        {
          "output_type": "stream",
          "text": [
            "/usr/local/lib/python3.6/dist-packages/seaborn/_decorators.py:43: FutureWarning: Pass the following variable as a keyword arg: x. From version 0.12, the only valid positional argument will be `data`, and passing other arguments without an explicit keyword will result in an error or misinterpretation.\n",
            "  FutureWarning\n"
          ],
          "name": "stderr"
        },
        {
          "output_type": "display_data",
          "data": {
            "image/png": "[encoded data removed]",
            "text/plain": [
              "<Figure size 432x288 with 1 Axes>"
            ]
          },
          "metadata": {
            "tags": [],
            "needs_background": "light"
          }
        }
      ]
    },
    {
      "cell_type": "code",
      "metadata": {
        "colab": {
          "base_uri": "https://localhost:8080/",
          "height": 419
        },
        "id": "gbEPxiYJqvGo",
        "outputId": "4d46cdb5-8384-471e-bba7-8d30c4068185"
      },
      "source": [
        "da_ml"
      ],
      "execution_count": null,
      "outputs": [
        {
          "output_type": "execute_result",
          "data": {
            "text/html": [
              "<div>\n",
              "<style scoped>\n",
              "    .dataframe tbody tr th:only-of-type {\n",
              "        vertical-align: middle;\n",
              "    }\n",
              "\n",
              "    .dataframe tbody tr th {\n",
              "        vertical-align: top;\n",
              "    }\n",
              "\n",
              "    .dataframe thead th {\n",
              "        text-align: right;\n",
              "    }\n",
              "</style>\n",
              "<table border=\"1\" class=\"dataframe\">\n",
              "  <thead>\n",
              "    <tr style=\"text-align: right;\">\n",
              "      <th></th>\n",
              "      <th>bairro</th>\n",
              "      <th>precos</th>\n",
              "      <th>quartos</th>\n",
              "      <th>areas</th>\n",
              "    </tr>\n",
              "  </thead>\n",
              "  <tbody>\n",
              "    <tr>\n",
              "      <th>0</th>\n",
              "      <td>Abranches</td>\n",
              "      <td>2500.00</td>\n",
              "      <td>2.00</td>\n",
              "      <td>80.00</td>\n",
              "    </tr>\n",
              "    <tr>\n",
              "      <th>1</th>\n",
              "      <td>Abranches</td>\n",
              "      <td>2100.00</td>\n",
              "      <td>2.00</td>\n",
              "      <td>65.00</td>\n",
              "    </tr>\n",
              "    <tr>\n",
              "      <th>2</th>\n",
              "      <td>Abranches</td>\n",
              "      <td>2500.00</td>\n",
              "      <td>2.00</td>\n",
              "      <td>80.00</td>\n",
              "    </tr>\n",
              "    <tr>\n",
              "      <th>3</th>\n",
              "      <td>Abranches</td>\n",
              "      <td>2100.00</td>\n",
              "      <td>2.00</td>\n",
              "      <td>65.00</td>\n",
              "    </tr>\n",
              "    <tr>\n",
              "      <th>4</th>\n",
              "      <td>Abranches</td>\n",
              "      <td>600.00</td>\n",
              "      <td>1.00</td>\n",
              "      <td>35.00</td>\n",
              "    </tr>\n",
              "    <tr>\n",
              "      <th>...</th>\n",
              "      <td>...</td>\n",
              "      <td>...</td>\n",
              "      <td>...</td>\n",
              "      <td>...</td>\n",
              "    </tr>\n",
              "    <tr>\n",
              "      <th>911</th>\n",
              "      <td>Agua-Verde</td>\n",
              "      <td>1500.00</td>\n",
              "      <td>1.00</td>\n",
              "      <td>46.00</td>\n",
              "    </tr>\n",
              "    <tr>\n",
              "      <th>912</th>\n",
              "      <td>Agua-Verde</td>\n",
              "      <td>1200.00</td>\n",
              "      <td>1.00</td>\n",
              "      <td>29.00</td>\n",
              "    </tr>\n",
              "    <tr>\n",
              "      <th>913</th>\n",
              "      <td>Agua-Verde</td>\n",
              "      <td>1230.00</td>\n",
              "      <td>1.00</td>\n",
              "      <td>31.00</td>\n",
              "    </tr>\n",
              "    <tr>\n",
              "      <th>914</th>\n",
              "      <td>Agua-Verde</td>\n",
              "      <td>1500.00</td>\n",
              "      <td>1.00</td>\n",
              "      <td>30.00</td>\n",
              "    </tr>\n",
              "    <tr>\n",
              "      <th>915</th>\n",
              "      <td>Agua-Verde</td>\n",
              "      <td>2400.00</td>\n",
              "      <td>4.00</td>\n",
              "      <td>175.00</td>\n",
              "    </tr>\n",
              "  </tbody>\n",
              "</table>\n",
              "<p>811 rows × 4 columns</p>\n",
              "</div>"
            ],
            "text/plain": [
              "         bairro  precos  quartos  areas\n",
              "0     Abranches 2500.00     2.00  80.00\n",
              "1     Abranches 2100.00     2.00  65.00\n",
              "2     Abranches 2500.00     2.00  80.00\n",
              "3     Abranches 2100.00     2.00  65.00\n",
              "4     Abranches  600.00     1.00  35.00\n",
              "..          ...     ...      ...    ...\n",
              "911  Agua-Verde 1500.00     1.00  46.00\n",
              "912  Agua-Verde 1200.00     1.00  29.00\n",
              "913  Agua-Verde 1230.00     1.00  31.00\n",
              "914  Agua-Verde 1500.00     1.00  30.00\n",
              "915  Agua-Verde 2400.00     4.00 175.00\n",
              "\n",
              "[811 rows x 4 columns]"
            ]
          },
          "metadata": {
            "tags": []
          },
          "execution_count": 23
        }
      ]
    },
    {
      "cell_type": "code",
      "metadata": {
        "id": "q9q6ymgjquM0"
      },
      "source": [
        "#da_ml.to_csv('data_rent_ap_curitiba_mercado_livre.csv')"
      ],
      "execution_count": null,
      "outputs": []
    },
    {
      "cell_type": "code",
      "metadata": {
        "id": "10IrEYmpxFJM",
        "colab": {
          "base_uri": "https://localhost:8080/",
          "height": 235
        },
        "outputId": "6e4a1a00-ad49-487a-9ad8-340e3d729c14"
      },
      "source": [
        "da_group.head()"
      ],
      "execution_count": null,
      "outputs": [
        {
          "output_type": "execute_result",
          "data": {
            "text/html": [
              "<div>\n",
              "<style scoped>\n",
              "    .dataframe tbody tr th:only-of-type {\n",
              "        vertical-align: middle;\n",
              "    }\n",
              "\n",
              "    .dataframe tbody tr th {\n",
              "        vertical-align: top;\n",
              "    }\n",
              "\n",
              "    .dataframe thead th {\n",
              "        text-align: right;\n",
              "    }\n",
              "</style>\n",
              "<table border=\"1\" class=\"dataframe\">\n",
              "  <thead>\n",
              "    <tr style=\"text-align: right;\">\n",
              "      <th></th>\n",
              "      <th>precos</th>\n",
              "      <th>quartos</th>\n",
              "      <th>areas</th>\n",
              "    </tr>\n",
              "    <tr>\n",
              "      <th>bairro</th>\n",
              "      <th></th>\n",
              "      <th></th>\n",
              "      <th></th>\n",
              "    </tr>\n",
              "  </thead>\n",
              "  <tbody>\n",
              "    <tr>\n",
              "      <th>Champagnat</th>\n",
              "      <td>2800.00</td>\n",
              "      <td>3.00</td>\n",
              "      <td>193.00</td>\n",
              "    </tr>\n",
              "    <tr>\n",
              "      <th>Bigorrilho</th>\n",
              "      <td>2300.00</td>\n",
              "      <td>2.00</td>\n",
              "      <td>67.00</td>\n",
              "    </tr>\n",
              "    <tr>\n",
              "      <th>Capao-da-Imbuia</th>\n",
              "      <td>2137.50</td>\n",
              "      <td>3.50</td>\n",
              "      <td>157.00</td>\n",
              "    </tr>\n",
              "    <tr>\n",
              "      <th>Jardim-das-Americas</th>\n",
              "      <td>1950.00</td>\n",
              "      <td>1.50</td>\n",
              "      <td>86.00</td>\n",
              "    </tr>\n",
              "    <tr>\n",
              "      <th>Batel</th>\n",
              "      <td>1945.00</td>\n",
              "      <td>2.00</td>\n",
              "      <td>89.50</td>\n",
              "    </tr>\n",
              "  </tbody>\n",
              "</table>\n",
              "</div>"
            ],
            "text/plain": [
              "                     precos  quartos  areas\n",
              "bairro                                     \n",
              "Champagnat          2800.00     3.00 193.00\n",
              "Bigorrilho          2300.00     2.00  67.00\n",
              "Capao-da-Imbuia     2137.50     3.50 157.00\n",
              "Jardim-das-Americas 1950.00     1.50  86.00\n",
              "Batel               1945.00     2.00  89.50"
            ]
          },
          "metadata": {
            "tags": []
          },
          "execution_count": 24
        }
      ]
    },
    {
      "cell_type": "code",
      "metadata": {
        "id": "lvrP4AycWTPn"
      },
      "source": [
        "da_price = da_group.drop('quartos', 1).drop('areas', 1).reset_index()"
      ],
      "execution_count": null,
      "outputs": []
    },
    {
      "cell_type": "code",
      "metadata": {
        "id": "GMlLlNl_Gn_2"
      },
      "source": [
        "da_price['bairro'] = da_price['bairro'].str.capitalize()"
      ],
      "execution_count": null,
      "outputs": []
    },
    {
      "cell_type": "code",
      "metadata": {
        "colab": {
          "base_uri": "https://localhost:8080/",
          "height": 195
        },
        "id": "8PrAWa0iHcQM",
        "outputId": "fc4ace08-b925-4a39-b400-77dee33fc579"
      },
      "source": [
        "da_price.head()"
      ],
      "execution_count": 54,
      "outputs": [
        {
          "output_type": "execute_result",
          "data": {
            "text/html": [
              "<div>\n",
              "<style scoped>\n",
              "    .dataframe tbody tr th:only-of-type {\n",
              "        vertical-align: middle;\n",
              "    }\n",
              "\n",
              "    .dataframe tbody tr th {\n",
              "        vertical-align: top;\n",
              "    }\n",
              "\n",
              "    .dataframe thead th {\n",
              "        text-align: right;\n",
              "    }\n",
              "</style>\n",
              "<table border=\"1\" class=\"dataframe\">\n",
              "  <thead>\n",
              "    <tr style=\"text-align: right;\">\n",
              "      <th></th>\n",
              "      <th>bairro</th>\n",
              "      <th>precos</th>\n",
              "    </tr>\n",
              "  </thead>\n",
              "  <tbody>\n",
              "    <tr>\n",
              "      <th>0</th>\n",
              "      <td>Champagnat</td>\n",
              "      <td>2800.00</td>\n",
              "    </tr>\n",
              "    <tr>\n",
              "      <th>1</th>\n",
              "      <td>Bigorrilho</td>\n",
              "      <td>2300.00</td>\n",
              "    </tr>\n",
              "    <tr>\n",
              "      <th>2</th>\n",
              "      <td>Capao</td>\n",
              "      <td>2137.50</td>\n",
              "    </tr>\n",
              "    <tr>\n",
              "      <th>3</th>\n",
              "      <td>Jardim das americas</td>\n",
              "      <td>1950.00</td>\n",
              "    </tr>\n",
              "    <tr>\n",
              "      <th>4</th>\n",
              "      <td>Batel</td>\n",
              "      <td>1945.00</td>\n",
              "    </tr>\n",
              "  </tbody>\n",
              "</table>\n",
              "</div>"
            ],
            "text/plain": [
              "                bairro  precos\n",
              "0           Champagnat 2800.00\n",
              "1           Bigorrilho 2300.00\n",
              "2                Capao 2137.50\n",
              "3  Jardim das americas 1950.00\n",
              "4                Batel 1945.00"
            ]
          },
          "metadata": {
            "tags": []
          },
          "execution_count": 54
        }
      ]
    },
    {
      "cell_type": "code",
      "metadata": {
        "id": "DLYL6GZeBJz5"
      },
      "source": [
        ""
      ],
      "execution_count": null,
      "outputs": []
    },
    {
      "cell_type": "code",
      "metadata": {
        "id": "uXhexqI_1oQP"
      },
      "source": [
        "db = gpd.read_file('DIVISA_DE_BAIRROS.shp')"
      ],
      "execution_count": null,
      "outputs": []
    },
    {
      "cell_type": "code",
      "metadata": {
        "id": "2kTXMoK42xqX",
        "colab": {
          "base_uri": "https://localhost:8080/",
          "height": 279
        },
        "outputId": "8362dd62-5af7-4a40-db28-bfe1e47cf177"
      },
      "source": [
        "db.head()"
      ],
      "execution_count": null,
      "outputs": [
        {
          "output_type": "execute_result",
          "data": {
            "text/html": [
              "<div>\n",
              "<style scoped>\n",
              "    .dataframe tbody tr th:only-of-type {\n",
              "        vertical-align: middle;\n",
              "    }\n",
              "\n",
              "    .dataframe tbody tr th {\n",
              "        vertical-align: top;\n",
              "    }\n",
              "\n",
              "    .dataframe thead th {\n",
              "        text-align: right;\n",
              "    }\n",
              "</style>\n",
              "<table border=\"1\" class=\"dataframe\">\n",
              "  <thead>\n",
              "    <tr style=\"text-align: right;\">\n",
              "      <th></th>\n",
              "      <th>OBJECTID</th>\n",
              "      <th>CODIGO</th>\n",
              "      <th>TIPO</th>\n",
              "      <th>NOME</th>\n",
              "      <th>FONTE</th>\n",
              "      <th>CD_REGIONA</th>\n",
              "      <th>NM_REGIONA</th>\n",
              "      <th>SHAPE_AREA</th>\n",
              "      <th>SHAPE_LEN</th>\n",
              "      <th>geometry</th>\n",
              "    </tr>\n",
              "  </thead>\n",
              "  <tbody>\n",
              "    <tr>\n",
              "      <th>0</th>\n",
              "      <td>20</td>\n",
              "      <td>9.00</td>\n",
              "      <td>DIVISA DE BAIRROS</td>\n",
              "      <td>ÁGUA VERDE</td>\n",
              "      <td>Decreto Municipal 774 / 1975</td>\n",
              "      <td>7.00</td>\n",
              "      <td>REGIONAL PORTÃO</td>\n",
              "      <td>4773046.30</td>\n",
              "      <td>9760.92</td>\n",
              "      <td>POLYGON ((673879.287 7183803.691, 673907.541 7...</td>\n",
              "    </tr>\n",
              "    <tr>\n",
              "      <th>1</th>\n",
              "      <td>22</td>\n",
              "      <td>18.00</td>\n",
              "      <td>DIVISA DE BAIRROS</td>\n",
              "      <td>JARDIM SOCIAL</td>\n",
              "      <td>Decreto Municipal 774 / 1975</td>\n",
              "      <td>1.00</td>\n",
              "      <td>REGIONAL MATRIZ</td>\n",
              "      <td>1958421.84</td>\n",
              "      <td>6055.95</td>\n",
              "      <td>POLYGON ((678071.018 7187798.489, 678071.550 7...</td>\n",
              "    </tr>\n",
              "    <tr>\n",
              "      <th>2</th>\n",
              "      <td>23</td>\n",
              "      <td>57.00</td>\n",
              "      <td>DIVISA DE BAIRROS</td>\n",
              "      <td>XAXIM</td>\n",
              "      <td>Decreto Municipal 774 / 1975</td>\n",
              "      <td>2.00</td>\n",
              "      <td>REGIONAL BOQUEIRÃO</td>\n",
              "      <td>9085390.75</td>\n",
              "      <td>13783.59</td>\n",
              "      <td>POLYGON ((674448.852 7179898.885, 674532.900 7...</td>\n",
              "    </tr>\n",
              "    <tr>\n",
              "      <th>3</th>\n",
              "      <td>5</td>\n",
              "      <td>22.00</td>\n",
              "      <td>DIVISA DE BAIRROS</td>\n",
              "      <td>JARDIM DAS AMÉRICAS</td>\n",
              "      <td>Decreto Municipal 774 / 1975</td>\n",
              "      <td>3.00</td>\n",
              "      <td>REGIONAL CAJURU</td>\n",
              "      <td>3859033.54</td>\n",
              "      <td>8818.50</td>\n",
              "      <td>POLYGON ((678209.542 7181641.525, 678107.870 7...</td>\n",
              "    </tr>\n",
              "    <tr>\n",
              "      <th>4</th>\n",
              "      <td>9</td>\n",
              "      <td>26.00</td>\n",
              "      <td>DIVISA DE BAIRROS</td>\n",
              "      <td>GUAÍRA</td>\n",
              "      <td>Decreto Municipal 774 / 1975</td>\n",
              "      <td>7.00</td>\n",
              "      <td>REGIONAL PORTÃO</td>\n",
              "      <td>2311397.49</td>\n",
              "      <td>6351.96</td>\n",
              "      <td>POLYGON ((672709.614 7181167.829, 672599.420 7...</td>\n",
              "    </tr>\n",
              "  </tbody>\n",
              "</table>\n",
              "</div>"
            ],
            "text/plain": [
              "   OBJECTID  ...                                           geometry\n",
              "0        20  ...  POLYGON ((673879.287 7183803.691, 673907.541 7...\n",
              "1        22  ...  POLYGON ((678071.018 7187798.489, 678071.550 7...\n",
              "2        23  ...  POLYGON ((674448.852 7179898.885, 674532.900 7...\n",
              "3         5  ...  POLYGON ((678209.542 7181641.525, 678107.870 7...\n",
              "4         9  ...  POLYGON ((672709.614 7181167.829, 672599.420 7...\n",
              "\n",
              "[5 rows x 10 columns]"
            ]
          },
          "metadata": {
            "tags": []
          },
          "execution_count": 28
        }
      ]
    },
    {
      "cell_type": "code",
      "metadata": {
        "id": "Gv-MyMbswP7E"
      },
      "source": [
        "db['bairro'] = db['NOME'].str.capitalize()"
      ],
      "execution_count": null,
      "outputs": []
    },
    {
      "cell_type": "code",
      "metadata": {
        "id": "_4bBBAKBsbN4"
      },
      "source": [
        "db['bairro'] = db['bairro'].replace('Cidade industrial de curitiba', 'Cidade industrial')"
      ],
      "execution_count": null,
      "outputs": []
    },
    {
      "cell_type": "code",
      "metadata": {
        "id": "YdlWmMeGzZrY"
      },
      "source": [
        "merged = db.set_index('bairro').join(da_price.set_index('bairro'))\n",
        "merged = merged.reset_index()\n",
        "#merged = merged.fillna(0)"
      ],
      "execution_count": null,
      "outputs": []
    },
    {
      "cell_type": "code",
      "metadata": {
        "id": "VpxsTB8tC9OK"
      },
      "source": [
        "merged['precos'] = merged['precos'].fillna(merged.groupby('NM_REGIONA')['precos'].transform('median'))"
      ],
      "execution_count": null,
      "outputs": []
    },
    {
      "cell_type": "code",
      "metadata": {
        "id": "rWrrfb_P5pwN",
        "colab": {
          "base_uri": "https://localhost:8080/",
          "height": 279
        },
        "outputId": "4a7aa1ed-ab24-43c0-aad3-c4e2493202ca"
      },
      "source": [
        "merged.head()"
      ],
      "execution_count": null,
      "outputs": [
        {
          "output_type": "execute_result",
          "data": {
            "text/html": [
              "<div>\n",
              "<style scoped>\n",
              "    .dataframe tbody tr th:only-of-type {\n",
              "        vertical-align: middle;\n",
              "    }\n",
              "\n",
              "    .dataframe tbody tr th {\n",
              "        vertical-align: top;\n",
              "    }\n",
              "\n",
              "    .dataframe thead th {\n",
              "        text-align: right;\n",
              "    }\n",
              "</style>\n",
              "<table border=\"1\" class=\"dataframe\">\n",
              "  <thead>\n",
              "    <tr style=\"text-align: right;\">\n",
              "      <th></th>\n",
              "      <th>bairro</th>\n",
              "      <th>OBJECTID</th>\n",
              "      <th>CODIGO</th>\n",
              "      <th>TIPO</th>\n",
              "      <th>NOME</th>\n",
              "      <th>FONTE</th>\n",
              "      <th>CD_REGIONA</th>\n",
              "      <th>NM_REGIONA</th>\n",
              "      <th>SHAPE_AREA</th>\n",
              "      <th>SHAPE_LEN</th>\n",
              "      <th>geometry</th>\n",
              "      <th>precos</th>\n",
              "    </tr>\n",
              "  </thead>\n",
              "  <tbody>\n",
              "    <tr>\n",
              "      <th>0</th>\n",
              "      <td>Água verde</td>\n",
              "      <td>20</td>\n",
              "      <td>9.00</td>\n",
              "      <td>DIVISA DE BAIRROS</td>\n",
              "      <td>ÁGUA VERDE</td>\n",
              "      <td>Decreto Municipal 774 / 1975</td>\n",
              "      <td>7.00</td>\n",
              "      <td>REGIONAL PORTÃO</td>\n",
              "      <td>4773046.30</td>\n",
              "      <td>9760.92</td>\n",
              "      <td>POLYGON ((673879.287 7183803.691, 673907.541 7...</td>\n",
              "      <td>1090.00</td>\n",
              "    </tr>\n",
              "    <tr>\n",
              "      <th>1</th>\n",
              "      <td>Jardim social</td>\n",
              "      <td>22</td>\n",
              "      <td>18.00</td>\n",
              "      <td>DIVISA DE BAIRROS</td>\n",
              "      <td>JARDIM SOCIAL</td>\n",
              "      <td>Decreto Municipal 774 / 1975</td>\n",
              "      <td>1.00</td>\n",
              "      <td>REGIONAL MATRIZ</td>\n",
              "      <td>1958421.84</td>\n",
              "      <td>6055.95</td>\n",
              "      <td>POLYGON ((678071.018 7187798.489, 678071.550 7...</td>\n",
              "      <td>1200.00</td>\n",
              "    </tr>\n",
              "    <tr>\n",
              "      <th>2</th>\n",
              "      <td>Xaxim</td>\n",
              "      <td>23</td>\n",
              "      <td>57.00</td>\n",
              "      <td>DIVISA DE BAIRROS</td>\n",
              "      <td>XAXIM</td>\n",
              "      <td>Decreto Municipal 774 / 1975</td>\n",
              "      <td>2.00</td>\n",
              "      <td>REGIONAL BOQUEIRÃO</td>\n",
              "      <td>9085390.75</td>\n",
              "      <td>13783.59</td>\n",
              "      <td>POLYGON ((674448.852 7179898.885, 674532.900 7...</td>\n",
              "      <td>970.00</td>\n",
              "    </tr>\n",
              "    <tr>\n",
              "      <th>3</th>\n",
              "      <td>Jardim das américas</td>\n",
              "      <td>5</td>\n",
              "      <td>22.00</td>\n",
              "      <td>DIVISA DE BAIRROS</td>\n",
              "      <td>JARDIM DAS AMÉRICAS</td>\n",
              "      <td>Decreto Municipal 774 / 1975</td>\n",
              "      <td>3.00</td>\n",
              "      <td>REGIONAL CAJURU</td>\n",
              "      <td>3859033.54</td>\n",
              "      <td>8818.50</td>\n",
              "      <td>POLYGON ((678209.542 7181641.525, 678107.870 7...</td>\n",
              "      <td>957.50</td>\n",
              "    </tr>\n",
              "    <tr>\n",
              "      <th>4</th>\n",
              "      <td>Guaíra</td>\n",
              "      <td>9</td>\n",
              "      <td>26.00</td>\n",
              "      <td>DIVISA DE BAIRROS</td>\n",
              "      <td>GUAÍRA</td>\n",
              "      <td>Decreto Municipal 774 / 1975</td>\n",
              "      <td>7.00</td>\n",
              "      <td>REGIONAL PORTÃO</td>\n",
              "      <td>2311397.49</td>\n",
              "      <td>6351.96</td>\n",
              "      <td>POLYGON ((672709.614 7181167.829, 672599.420 7...</td>\n",
              "      <td>1090.00</td>\n",
              "    </tr>\n",
              "  </tbody>\n",
              "</table>\n",
              "</div>"
            ],
            "text/plain": [
              "                bairro  ...  precos\n",
              "0           Água verde  ... 1090.00\n",
              "1        Jardim social  ... 1200.00\n",
              "2                Xaxim  ...  970.00\n",
              "3  Jardim das américas  ...  957.50\n",
              "4               Guaíra  ... 1090.00\n",
              "\n",
              "[5 rows x 12 columns]"
            ]
          },
          "metadata": {
            "tags": []
          },
          "execution_count": 36
        }
      ]
    },
    {
      "cell_type": "code",
      "metadata": {
        "colab": {
          "base_uri": "https://localhost:8080/",
          "height": 431
        },
        "id": "-yB8piYVtnE1",
        "outputId": "f957d1c6-b810-4368-f576-2b1980a39315"
      },
      "source": [
        " merged.groupby(['bairro']).median().sort_values('precos', ascending=True)"
      ],
      "execution_count": null,
      "outputs": [
        {
          "output_type": "execute_result",
          "data": {
            "text/html": [
              "<div>\n",
              "<style scoped>\n",
              "    .dataframe tbody tr th:only-of-type {\n",
              "        vertical-align: middle;\n",
              "    }\n",
              "\n",
              "    .dataframe tbody tr th {\n",
              "        vertical-align: top;\n",
              "    }\n",
              "\n",
              "    .dataframe thead th {\n",
              "        text-align: right;\n",
              "    }\n",
              "</style>\n",
              "<table border=\"1\" class=\"dataframe\">\n",
              "  <thead>\n",
              "    <tr style=\"text-align: right;\">\n",
              "      <th></th>\n",
              "      <th>OBJECTID</th>\n",
              "      <th>CODIGO</th>\n",
              "      <th>CD_REGIONA</th>\n",
              "      <th>SHAPE_AREA</th>\n",
              "      <th>SHAPE_LEN</th>\n",
              "      <th>precos</th>\n",
              "    </tr>\n",
              "    <tr>\n",
              "      <th>bairro</th>\n",
              "      <th></th>\n",
              "      <th></th>\n",
              "      <th></th>\n",
              "      <th></th>\n",
              "      <th></th>\n",
              "      <th></th>\n",
              "    </tr>\n",
              "  </thead>\n",
              "  <tbody>\n",
              "    <tr>\n",
              "      <th>Cachoeira</th>\n",
              "      <td>60</td>\n",
              "      <td>51.00</td>\n",
              "      <td>4.00</td>\n",
              "      <td>3221611.22</td>\n",
              "      <td>8921.57</td>\n",
              "      <td>660.00</td>\n",
              "    </tr>\n",
              "    <tr>\n",
              "      <th>Campo de santana</th>\n",
              "      <td>52</td>\n",
              "      <td>71.00</td>\n",
              "      <td>12.00</td>\n",
              "      <td>21579444.88</td>\n",
              "      <td>26635.14</td>\n",
              "      <td>700.00</td>\n",
              "    </tr>\n",
              "    <tr>\n",
              "      <th>Tatuquara</th>\n",
              "      <td>49</td>\n",
              "      <td>74.00</td>\n",
              "      <td>12.00</td>\n",
              "      <td>11234800.38</td>\n",
              "      <td>21895.61</td>\n",
              "      <td>700.00</td>\n",
              "    </tr>\n",
              "    <tr>\n",
              "      <th>Caximba</th>\n",
              "      <td>46</td>\n",
              "      <td>70.00</td>\n",
              "      <td>12.00</td>\n",
              "      <td>8215223.22</td>\n",
              "      <td>16903.13</td>\n",
              "      <td>700.00</td>\n",
              "    </tr>\n",
              "    <tr>\n",
              "      <th>Fazendinha</th>\n",
              "      <td>30</td>\n",
              "      <td>42.00</td>\n",
              "      <td>7.00</td>\n",
              "      <td>3723681.44</td>\n",
              "      <td>8791.17</td>\n",
              "      <td>790.00</td>\n",
              "    </tr>\n",
              "    <tr>\n",
              "      <th>...</th>\n",
              "      <td>...</td>\n",
              "      <td>...</td>\n",
              "      <td>...</td>\n",
              "      <td>...</td>\n",
              "      <td>...</td>\n",
              "      <td>...</td>\n",
              "    </tr>\n",
              "    <tr>\n",
              "      <th>Bigorrilho</th>\n",
              "      <td>66</td>\n",
              "      <td>11.00</td>\n",
              "      <td>1.00</td>\n",
              "      <td>2896537.37</td>\n",
              "      <td>7938.14</td>\n",
              "      <td>1850.00</td>\n",
              "    </tr>\n",
              "    <tr>\n",
              "      <th>Hugo lange</th>\n",
              "      <td>2</td>\n",
              "      <td>17.00</td>\n",
              "      <td>1.00</td>\n",
              "      <td>1184234.49</td>\n",
              "      <td>4676.69</td>\n",
              "      <td>1950.00</td>\n",
              "    </tr>\n",
              "    <tr>\n",
              "      <th>Batel</th>\n",
              "      <td>39</td>\n",
              "      <td>10.00</td>\n",
              "      <td>1.00</td>\n",
              "      <td>1737732.42</td>\n",
              "      <td>5622.22</td>\n",
              "      <td>1990.00</td>\n",
              "    </tr>\n",
              "    <tr>\n",
              "      <th>Mossunguê</th>\n",
              "      <td>35</td>\n",
              "      <td>45.00</td>\n",
              "      <td>5.00</td>\n",
              "      <td>3365440.49</td>\n",
              "      <td>9125.52</td>\n",
              "      <td>2000.00</td>\n",
              "    </tr>\n",
              "    <tr>\n",
              "      <th>Campina do siqueira</th>\n",
              "      <td>12</td>\n",
              "      <td>30.00</td>\n",
              "      <td>5.00</td>\n",
              "      <td>1697521.63</td>\n",
              "      <td>5680.86</td>\n",
              "      <td>2200.00</td>\n",
              "    </tr>\n",
              "  </tbody>\n",
              "</table>\n",
              "<p>75 rows × 6 columns</p>\n",
              "</div>"
            ],
            "text/plain": [
              "                     OBJECTID  CODIGO  ...  SHAPE_LEN  precos\n",
              "bairro                                 ...                   \n",
              "Cachoeira                  60   51.00  ...    8921.57  660.00\n",
              "Campo de santana           52   71.00  ...   26635.14  700.00\n",
              "Tatuquara                  49   74.00  ...   21895.61  700.00\n",
              "Caximba                    46   70.00  ...   16903.13  700.00\n",
              "Fazendinha                 30   42.00  ...    8791.17  790.00\n",
              "...                       ...     ...  ...        ...     ...\n",
              "Bigorrilho                 66   11.00  ...    7938.14 1850.00\n",
              "Hugo lange                  2   17.00  ...    4676.69 1950.00\n",
              "Batel                      39   10.00  ...    5622.22 1990.00\n",
              "Mossunguê                  35   45.00  ...    9125.52 2000.00\n",
              "Campina do siqueira        12   30.00  ...    5680.86 2200.00\n",
              "\n",
              "[75 rows x 6 columns]"
            ]
          },
          "metadata": {
            "tags": []
          },
          "execution_count": 37
        }
      ]
    },
    {
      "cell_type": "code",
      "metadata": {
        "id": "O0adwplf9jW-",
        "colab": {
          "base_uri": "https://localhost:8080/",
          "height": 402
        },
        "outputId": "65827ae4-3547-4da4-ca38-37f7e8008fc2"
      },
      "source": [
        " merged.groupby(['NM_REGIONA']).median().sort_values('precos', ascending=False)"
      ],
      "execution_count": null,
      "outputs": [
        {
          "output_type": "execute_result",
          "data": {
            "text/html": [
              "<div>\n",
              "<style scoped>\n",
              "    .dataframe tbody tr th:only-of-type {\n",
              "        vertical-align: middle;\n",
              "    }\n",
              "\n",
              "    .dataframe tbody tr th {\n",
              "        vertical-align: top;\n",
              "    }\n",
              "\n",
              "    .dataframe thead th {\n",
              "        text-align: right;\n",
              "    }\n",
              "</style>\n",
              "<table border=\"1\" class=\"dataframe\">\n",
              "  <thead>\n",
              "    <tr style=\"text-align: right;\">\n",
              "      <th></th>\n",
              "      <th>OBJECTID</th>\n",
              "      <th>CODIGO</th>\n",
              "      <th>CD_REGIONA</th>\n",
              "      <th>SHAPE_AREA</th>\n",
              "      <th>SHAPE_LEN</th>\n",
              "      <th>precos</th>\n",
              "    </tr>\n",
              "    <tr>\n",
              "      <th>NM_REGIONA</th>\n",
              "      <th></th>\n",
              "      <th></th>\n",
              "      <th></th>\n",
              "      <th></th>\n",
              "      <th></th>\n",
              "      <th></th>\n",
              "    </tr>\n",
              "  </thead>\n",
              "  <tbody>\n",
              "    <tr>\n",
              "      <th>REGIONAL MATRIZ</th>\n",
              "      <td>23.50</td>\n",
              "      <td>10.50</td>\n",
              "      <td>1.00</td>\n",
              "      <td>1876561.14</td>\n",
              "      <td>6225.21</td>\n",
              "      <td>1350.00</td>\n",
              "    </tr>\n",
              "    <tr>\n",
              "      <th>REGIONAL SANTA FELICIDADE</th>\n",
              "      <td>69.00</td>\n",
              "      <td>48.00</td>\n",
              "      <td>5.00</td>\n",
              "      <td>3512540.74</td>\n",
              "      <td>10446.54</td>\n",
              "      <td>1295.00</td>\n",
              "    </tr>\n",
              "    <tr>\n",
              "      <th>REGIONAL PORTÃO</th>\n",
              "      <td>10.50</td>\n",
              "      <td>27.50</td>\n",
              "      <td>7.00</td>\n",
              "      <td>2284859.19</td>\n",
              "      <td>6949.10</td>\n",
              "      <td>1090.00</td>\n",
              "    </tr>\n",
              "    <tr>\n",
              "      <th>REGIONAL CIC</th>\n",
              "      <td>44.50</td>\n",
              "      <td>68.50</td>\n",
              "      <td>11.00</td>\n",
              "      <td>8355042.00</td>\n",
              "      <td>18813.55</td>\n",
              "      <td>1020.00</td>\n",
              "    </tr>\n",
              "    <tr>\n",
              "      <th>REGIONAL BOA VISTA</th>\n",
              "      <td>48.50</td>\n",
              "      <td>49.50</td>\n",
              "      <td>4.00</td>\n",
              "      <td>4237817.97</td>\n",
              "      <td>11098.51</td>\n",
              "      <td>1011.50</td>\n",
              "    </tr>\n",
              "    <tr>\n",
              "      <th>REGIONAL SANTA FELICIDADE / REGIONAL PORTÃO</th>\n",
              "      <td>33.00</td>\n",
              "      <td>44.00</td>\n",
              "      <td>5.00</td>\n",
              "      <td>8569837.61</td>\n",
              "      <td>16637.62</td>\n",
              "      <td>1000.00</td>\n",
              "    </tr>\n",
              "    <tr>\n",
              "      <th>REGIONAL CAJURU</th>\n",
              "      <td>30.00</td>\n",
              "      <td>21.50</td>\n",
              "      <td>3.00</td>\n",
              "      <td>4014396.44</td>\n",
              "      <td>9308.81</td>\n",
              "      <td>957.50</td>\n",
              "    </tr>\n",
              "    <tr>\n",
              "      <th>REGIONAL BOQUEIRÃO</th>\n",
              "      <td>34.00</td>\n",
              "      <td>56.50</td>\n",
              "      <td>2.00</td>\n",
              "      <td>10536322.74</td>\n",
              "      <td>16155.39</td>\n",
              "      <td>910.00</td>\n",
              "    </tr>\n",
              "    <tr>\n",
              "      <th>REGIONAL PINHEIRINHO</th>\n",
              "      <td>28.00</td>\n",
              "      <td>41.00</td>\n",
              "      <td>8.00</td>\n",
              "      <td>5049840.13</td>\n",
              "      <td>11816.64</td>\n",
              "      <td>900.00</td>\n",
              "    </tr>\n",
              "    <tr>\n",
              "      <th>REGIONAL BAIRRO NOVO</th>\n",
              "      <td>51.00</td>\n",
              "      <td>72.00</td>\n",
              "      <td>10.00</td>\n",
              "      <td>11359302.45</td>\n",
              "      <td>22063.15</td>\n",
              "      <td>850.00</td>\n",
              "    </tr>\n",
              "    <tr>\n",
              "      <th>REGIONAL TATUQUARA</th>\n",
              "      <td>49.00</td>\n",
              "      <td>71.00</td>\n",
              "      <td>12.00</td>\n",
              "      <td>11234800.38</td>\n",
              "      <td>21895.61</td>\n",
              "      <td>700.00</td>\n",
              "    </tr>\n",
              "  </tbody>\n",
              "</table>\n",
              "</div>"
            ],
            "text/plain": [
              "                                             OBJECTID  ...  precos\n",
              "NM_REGIONA                                             ...        \n",
              "REGIONAL MATRIZ                                 23.50  ... 1350.00\n",
              "REGIONAL SANTA FELICIDADE                       69.00  ... 1295.00\n",
              "REGIONAL PORTÃO                                 10.50  ... 1090.00\n",
              "REGIONAL CIC                                    44.50  ... 1020.00\n",
              "REGIONAL BOA VISTA                              48.50  ... 1011.50\n",
              "REGIONAL SANTA FELICIDADE / REGIONAL PORTÃO     33.00  ... 1000.00\n",
              "REGIONAL CAJURU                                 30.00  ...  957.50\n",
              "REGIONAL BOQUEIRÃO                              34.00  ...  910.00\n",
              "REGIONAL PINHEIRINHO                            28.00  ...  900.00\n",
              "REGIONAL BAIRRO NOVO                            51.00  ...  850.00\n",
              "REGIONAL TATUQUARA                              49.00  ...  700.00\n",
              "\n",
              "[11 rows x 6 columns]"
            ]
          },
          "metadata": {
            "tags": []
          },
          "execution_count": 38
        }
      ]
    },
    {
      "cell_type": "code",
      "metadata": {
        "colab": {
          "base_uri": "https://localhost:8080/",
          "height": 279
        },
        "id": "oEU1_KgTQC01",
        "outputId": "ba5dc53d-2391-4cd2-fe90-53d752f7bcb4"
      },
      "source": [
        "merged.head()"
      ],
      "execution_count": null,
      "outputs": [
        {
          "output_type": "execute_result",
          "data": {
            "text/html": [
              "<div>\n",
              "<style scoped>\n",
              "    .dataframe tbody tr th:only-of-type {\n",
              "        vertical-align: middle;\n",
              "    }\n",
              "\n",
              "    .dataframe tbody tr th {\n",
              "        vertical-align: top;\n",
              "    }\n",
              "\n",
              "    .dataframe thead th {\n",
              "        text-align: right;\n",
              "    }\n",
              "</style>\n",
              "<table border=\"1\" class=\"dataframe\">\n",
              "  <thead>\n",
              "    <tr style=\"text-align: right;\">\n",
              "      <th></th>\n",
              "      <th>bairro</th>\n",
              "      <th>OBJECTID</th>\n",
              "      <th>CODIGO</th>\n",
              "      <th>TIPO</th>\n",
              "      <th>NOME</th>\n",
              "      <th>FONTE</th>\n",
              "      <th>CD_REGIONA</th>\n",
              "      <th>NM_REGIONA</th>\n",
              "      <th>SHAPE_AREA</th>\n",
              "      <th>SHAPE_LEN</th>\n",
              "      <th>geometry</th>\n",
              "      <th>precos</th>\n",
              "    </tr>\n",
              "  </thead>\n",
              "  <tbody>\n",
              "    <tr>\n",
              "      <th>0</th>\n",
              "      <td>Água verde</td>\n",
              "      <td>20</td>\n",
              "      <td>9.00</td>\n",
              "      <td>DIVISA DE BAIRROS</td>\n",
              "      <td>ÁGUA VERDE</td>\n",
              "      <td>Decreto Municipal 774 / 1975</td>\n",
              "      <td>7.00</td>\n",
              "      <td>REGIONAL PORTÃO</td>\n",
              "      <td>4773046.30</td>\n",
              "      <td>9760.92</td>\n",
              "      <td>POLYGON ((673879.287 7183803.691, 673907.541 7...</td>\n",
              "      <td>1090.00</td>\n",
              "    </tr>\n",
              "    <tr>\n",
              "      <th>1</th>\n",
              "      <td>Jardim social</td>\n",
              "      <td>22</td>\n",
              "      <td>18.00</td>\n",
              "      <td>DIVISA DE BAIRROS</td>\n",
              "      <td>JARDIM SOCIAL</td>\n",
              "      <td>Decreto Municipal 774 / 1975</td>\n",
              "      <td>1.00</td>\n",
              "      <td>REGIONAL MATRIZ</td>\n",
              "      <td>1958421.84</td>\n",
              "      <td>6055.95</td>\n",
              "      <td>POLYGON ((678071.018 7187798.489, 678071.550 7...</td>\n",
              "      <td>1200.00</td>\n",
              "    </tr>\n",
              "    <tr>\n",
              "      <th>2</th>\n",
              "      <td>Xaxim</td>\n",
              "      <td>23</td>\n",
              "      <td>57.00</td>\n",
              "      <td>DIVISA DE BAIRROS</td>\n",
              "      <td>XAXIM</td>\n",
              "      <td>Decreto Municipal 774 / 1975</td>\n",
              "      <td>2.00</td>\n",
              "      <td>REGIONAL BOQUEIRÃO</td>\n",
              "      <td>9085390.75</td>\n",
              "      <td>13783.59</td>\n",
              "      <td>POLYGON ((674448.852 7179898.885, 674532.900 7...</td>\n",
              "      <td>970.00</td>\n",
              "    </tr>\n",
              "    <tr>\n",
              "      <th>3</th>\n",
              "      <td>Jardim das américas</td>\n",
              "      <td>5</td>\n",
              "      <td>22.00</td>\n",
              "      <td>DIVISA DE BAIRROS</td>\n",
              "      <td>JARDIM DAS AMÉRICAS</td>\n",
              "      <td>Decreto Municipal 774 / 1975</td>\n",
              "      <td>3.00</td>\n",
              "      <td>REGIONAL CAJURU</td>\n",
              "      <td>3859033.54</td>\n",
              "      <td>8818.50</td>\n",
              "      <td>POLYGON ((678209.542 7181641.525, 678107.870 7...</td>\n",
              "      <td>957.50</td>\n",
              "    </tr>\n",
              "    <tr>\n",
              "      <th>4</th>\n",
              "      <td>Guaíra</td>\n",
              "      <td>9</td>\n",
              "      <td>26.00</td>\n",
              "      <td>DIVISA DE BAIRROS</td>\n",
              "      <td>GUAÍRA</td>\n",
              "      <td>Decreto Municipal 774 / 1975</td>\n",
              "      <td>7.00</td>\n",
              "      <td>REGIONAL PORTÃO</td>\n",
              "      <td>2311397.49</td>\n",
              "      <td>6351.96</td>\n",
              "      <td>POLYGON ((672709.614 7181167.829, 672599.420 7...</td>\n",
              "      <td>1090.00</td>\n",
              "    </tr>\n",
              "  </tbody>\n",
              "</table>\n",
              "</div>"
            ],
            "text/plain": [
              "                bairro  ...  precos\n",
              "0           Água verde  ... 1090.00\n",
              "1        Jardim social  ... 1200.00\n",
              "2                Xaxim  ...  970.00\n",
              "3  Jardim das américas  ...  957.50\n",
              "4               Guaíra  ... 1090.00\n",
              "\n",
              "[5 rows x 12 columns]"
            ]
          },
          "metadata": {
            "tags": []
          },
          "execution_count": 39
        }
      ]
    },
    {
      "cell_type": "code",
      "metadata": {
        "id": "TlOAiZGt5AqU",
        "colab": {
          "base_uri": "https://localhost:8080/",
          "height": 915
        },
        "outputId": "9fa6cae0-1b84-4337-8962-3e69e1bf77d2"
      },
      "source": [
        "fig, ax = plt.subplots(1, figsize=(20, 15))\n",
        "ax.axis('off')\n",
        "ax.set_title('Apartment Rent prices, Curitiba-PR', fontdict={'fontsize': '40', 'fontweight' : '3'})\n",
        "color = 'Oranges'\n",
        "vmin, vmax = 0, 2200\n",
        "sm = plt.cm.ScalarMappable(cmap=color, norm=plt.Normalize(vmin=vmin, vmax=vmax))\n",
        "sm._A = []\n",
        "cbar = fig.colorbar(sm)\n",
        "cbar.ax.tick_params(labelsize=20)\n",
        "merged.plot('precos', cmap=color, linewidth=0.8, ax=ax, edgecolor='0.8', figsize=(40,20))"
      ],
      "execution_count": null,
      "outputs": [
        {
          "output_type": "execute_result",
          "data": {
            "text/plain": [
              "<matplotlib.axes._subplots.AxesSubplot at 0x7fc5cd2094a8>"
            ]
          },
          "metadata": {
            "tags": []
          },
          "execution_count": 40
        },
        {
          "output_type": "display_data",
          "data": {
            "image/png": "[encoded data removed]",
            "text/plain": [
              "<Figure size 1440x1080 with 2 Axes>"
            ]
          },
          "metadata": {
            "tags": [],
            "needs_background": "light"
          }
        }
      ]
    }
  ]
}